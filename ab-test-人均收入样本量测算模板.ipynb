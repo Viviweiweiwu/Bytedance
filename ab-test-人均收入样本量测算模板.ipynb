{
 "cells": [
  {
   "cell_type": "code",
   "execution_count": 2,
   "metadata": {
    "cell_id": 1
   },
   "outputs": [],
   "source": [
    "price_power_analysis <- \n",
    "    function(prices, conversion_rates, mean_lift, sig_level = .1, power = .8) {\n",
    "    # monte carlo settings\n",
    "    SAMPLE_SIZE = 1000000\n",
    "    price_vector = c(0, prices)\n",
    "    conversion_vector = c(1 - sum(conversion_rates), conversion_rates)\n",
    "    # simulate sales for a population\n",
    "    sales_vector = sample(price_vector, SAMPLE_SIZE, replace=TRUE, prob=conversion_vector)\n",
    "\n",
    "    # assumed mean and standard deviation\n",
    "    sample_mean = mean(sales_vector)\n",
    "    sample_sd = sd(sales_vector)\n",
    "    cat(\"营收平均值:\", sample_mean, '\\n')\n",
    "    cat(\"营收标准差:\", sample_sd, '\\n')\n",
    "    cat(rep('-', 20), '\\n')\n",
    "\n",
    "    # d: cohen's D\n",
    "    power.t.test(d = mean_lift/sample_sd, sig.level = sig_level, power = power, alternative = \"one.sided\")\n",
    "}\n"
   ]
  },
  {
   "cell_type": "markdown",
   "metadata": {
    "cell_id": 20
   },
   "source": [
    "### 音视频课程合并实验"
   ]
  },
  {
   "cell_type": "code",
   "execution_count": 47,
   "metadata": {
    "cell_id": 26
   },
   "outputs": [
    {
     "name": "stdout",
     "output_type": "stream",
     "text": [
      "营收平均值: 125.5135 \n",
      "营收标准差: 311.3801 \n",
      "- - - - - - - - - - - - - - - - - - - - \n"
     ]
    },
    {
     "data": {
      "text/plain": [
       "\n",
       "     Two-sample t test power calculation \n",
       "\n",
       "              n = 2185.768\n",
       "          delta = 0.06423018\n",
       "             sd = 1\n",
       "      sig.level = 0.1\n",
       "          power = 0.8\n",
       "    alternative = one.sided\n",
       "\n",
       "NOTE: n is number in *each* group\n"
      ]
     },
     "metadata": {},
     "output_type": "display_data"
    }
   ],
   "source": [
    "# 只考虑年课\n",
    "\n",
    "# 实验组 1398合并课\n",
    "# 对照组 898 视频课年课\n",
    "\n",
    "# sig_level = .1, power = .8\n",
    "\n",
    "price = c(898)   # 实际营收\n",
    "cr = c(0.14)  # 转化率\n",
    "mde = 20 # 人均收入 MDE\n",
    "\n",
    "price_power_analysis(price, cr, mde)"
   ]
  },
  {
   "cell_type": "code",
   "execution_count": 48,
   "metadata": {
    "cell_id": 19
   },
   "outputs": [
    {
     "name": "stdout",
     "output_type": "stream",
     "text": [
      "营收平均值: 188.2689 \n",
      "营收标准差: 482.9979 \n",
      "- - - - - - - - - - - - - - - - - - - - \n"
     ]
    },
    {
     "data": {
      "text/plain": [
       "\n",
       "     Two-sample t test power calculation \n",
       "\n",
       "              n = 5258.538\n",
       "          delta = 0.04140805\n",
       "             sd = 1\n",
       "      sig.level = 0.1\n",
       "          power = 0.8\n",
       "    alternative = one.sided\n",
       "\n",
       "NOTE: n is number in *each* group\n"
      ]
     },
     "metadata": {},
     "output_type": "display_data"
    }
   ],
   "source": [
    "# 只考虑年课 + 小班课\n",
    "\n",
    "# 实验组 1398合并课\n",
    "# 对照组 898 视频课年课\n",
    "\n",
    "# sig_level = .1, power = .8\n",
    "\n",
    "price = c(2499, 898)   # 实际营收\n",
    "cr = c(0.025, 0.14)  # 转化率, 且假定两个SKU转化独立\n",
    "mde = 20    # 人均收入 MDE\n",
    "\n",
    "price_power_analysis(price, cr, mde)"
   ]
  },
  {
   "cell_type": "markdown",
   "metadata": {
    "cell_id": 33
   },
   "source": [
    "### IM+APP重构"
   ]
  },
  {
   "cell_type": "code",
   "execution_count": 13,
   "metadata": {
    "cell_id": 35
   },
   "outputs": [
    {
     "name": "stdout",
     "output_type": "stream",
     "text": [
      "营收平均值: 10.20455 \n",
      "营收标准差: 130.3573 \n",
      "- - - - - - - - - - - - - - - - - - - - \n"
     ]
    },
    {
     "data": {
      "text/plain": [
       "\n",
       "     Two-sample t test power calculation \n",
       "\n",
       "              n = 153205\n",
       "          delta = 0.007671221\n",
       "             sd = 1\n",
       "      sig.level = 0.1\n",
       "          power = 0.8\n",
       "    alternative = one.sided\n",
       "\n",
       "NOTE: n is number in *each* group\n"
      ]
     },
     "metadata": {},
     "output_type": "display_data"
    }
   ],
   "source": [
    "# 考虑年课 + 小班课\n",
    "\n",
    "# sig_level = .1, power = .8\n",
    "\n",
    "price = c(2499, 1398)   # 实际营收\n",
    "cr = c(0.001040, 0.005397)  # 转化率, 且假定两个SKU转化独立\n",
    "mde = 1    # 人均收入 MDE\n",
    "\n",
    "price_power_analysis(price, cr, mde)"
   ]
  },
  {
   "cell_type": "code",
   "execution_count": null,
   "metadata": {
    "cell_id": 37
   },
   "outputs": [],
   "source": []
  }
 ],
 "metadata": {
  "kernelspec": {
   "display_name": "R",
   "language": "R",
   "name": "ir"
  },
  "language_info": {
   "codemirror_mode": "r",
   "file_extension": ".r",
   "mimetype": "text/x-r-source",
   "name": "R",
   "pygments_lexer": "r",
   "version": "4.0.3"
  },
  "max_cell_id": 38
 },
 "nbformat": 4,
 "nbformat_minor": 4
}
