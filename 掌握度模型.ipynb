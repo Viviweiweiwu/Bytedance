{
 "cells": [
  {
   "cell_type": "code",
   "execution_count": 25,
   "metadata": {
    "cell_id": 1
   },
   "outputs": [],
   "source": [
    "import numpy as np\n",
    "import pandas as pd\n",
    "#import seaborn as sns\n",
    "import scipy.stats as stats\n",
    "import matplotlib.pyplot as plt\n",
    "# from statsmodels.stats.proportion import proportions_ztest\n",
    "# from statsmodels.stats.proportion import proportions_chisquare\n",
    "from IPython.display import display, HTML\n",
    "from scipy.stats import kruskal\n",
    "\n",
    "import sys\n",
    "import logging\n",
    "logging.basicConfig(level=logging.CRITICAL)"
   ]
  },
  {
   "cell_type": "code",
   "execution_count": 26,
   "metadata": {
    "cell_id": 2
   },
   "outputs": [],
   "source": [
    "def two_proprotions_test(success_a, size_a, success_b, size_b):\n",
    "    prop_a = success_a / size_a\n",
    "    prop_b = success_b / size_b\n",
    "    prop_pooled = (success_a + success_b) / (size_a + size_b)\n",
    "    var = prop_pooled * (1 - prop_pooled) * (1 / size_a + 1 / size_b)\n",
    "    zscore = np.abs(prop_b - prop_a) / np.sqrt(var)\n",
    "    one_side = 1 - stats.norm(loc = 0, scale = 1).cdf(zscore)\n",
    "    pvalue = one_side * 2\n",
    "    return zscore, pvalue"
   ]
  },
  {
   "cell_type": "code",
   "execution_count": 27,
   "metadata": {
    "cell_id": 3
   },
   "outputs": [],
   "source": [
    "all_data = pd.read_csv('/home/tiger/archived-data/aeolus-data/20201228/10/34979364-课程实验-掌握度模型实验-查询20.csv', encoding = 'gb18030')\n",
    "# all_data.head()"
   ]
  },
  {
   "cell_type": "code",
   "execution_count": 30,
   "metadata": {
    "cell_id": 28
   },
   "outputs": [],
   "source": [
    "### 预处理数据\n",
    "#1. 填充空值数据\n",
    "#2. 增加新字段\n",
    "\n",
    "all_data = all_data[all_data.answers_kp_video_review >0]\n",
    "\n",
    "review_test_data = all_data\n",
    "\n",
    "review_test_data['fluctuate_kp_ratio'] = review_test_data['answers_fluctuate_kp_video_review'] / review_test_data['answers_kp_video_review']\n",
    "\n",
    "# review_test_data.head()\n"
   ]
  },
  {
   "cell_type": "markdown",
   "metadata": {
    "cell_id": 34
   },
   "source": [
    "#### 全量用户 "
   ]
  },
  {
   "cell_type": "code",
   "execution_count": 33,
   "metadata": {
    "cell_id": 6
   },
   "outputs": [],
   "source": [
    "def ab_summary_data(data):\n",
    "    test_summary = pd.DataFrame(columns = [\"User_Group\", \"Metrics\", \"Control\", \"Test1\", \"Test2\", \"Delta\", \"p_value\",\"Significance\"])\n",
    "    \n",
    "    test1_data = data.loc[data.user_group == '掌握度实验组']\n",
    "    test2_data = data.loc[data.user_group == '推荐实验组']\n",
    "    ctrl_data = data.loc[data.user_group == '对照组']\n",
    "\n",
    "    dnu_t1 = len(test1_data)\n",
    "    dnu_t2 = len(test2_data)\n",
    "    dnu_c = len(ctrl_data)\n",
    "\n",
    "    # 新增用户\n",
    "    test_summary = test_summary.append({\"Metrics\": '实验用户数', \"Control\": '{:,}'.format(dnu_c), \"Test1\": '{:,}'.format(dnu_t1), \"Test2\": '{:,}'.format(dnu_t2), \"Delta\": '-', \"p_value\": '-', \"Significance\": '-'}, ignore_index = True)\n",
    "    \n",
    "    # 掌握度异常波动知识点占比\n",
    "    fl_kp_ratio_t1 = test1_data.fluctuate_kp_ratio.mean()\n",
    "    fl_kp_ratio_t2 = test2_data.fluctuate_kp_ratio.mean()\n",
    "    fl_kp_ratio_c = ctrl_data.fluctuate_kp_ratio.mean()\n",
    "    \n",
    "    fl_kp_ratio_delta = fl_kp_ratio_t1 / fl_kp_ratio_c - 1 if fl_kp_ratio_c >0 else np.nan\n",
    "    fl_kp_ratio_p_value = stats.f_oneway(test1_data.fluctuate_kp_ratio, test2_data.fluctuate_kp_ratio, ctrl_data.fluctuate_kp_ratio).pvalue\n",
    "    \n",
    "    fl_kp_ratio_sig =  \"Significant\" if fl_kp_ratio_p_value < 0.1 else \"Non-significant\"\n",
    "    test_summary = test_summary.append({\"Metrics\": '掌握度异常波动知识点占比', \"Control\": \"{:.2%}\".format(fl_kp_ratio_c), \"Test1\": \"{:.2%}\".format(fl_kp_ratio_t1), \"Test2\": \"{:.2%}\".format(fl_kp_ratio_t2),  \"Delta\": \"{:.2%}\".format(fl_kp_ratio_delta), \"p_value\": round(fl_kp_ratio_p_value, 4), \"Significance\": fl_kp_ratio_sig}, ignore_index = True)\n",
    "\n",
    "    # 复习课学习时长\n",
    "    review_study_t1 = sum(test1_data.study_duration_video_review) / 60\n",
    "    review_study_t2 = sum(test2_data.study_duration_video_review) / 60\n",
    "    review_study_c = sum(ctrl_data.study_duration_video_review) / 60\n",
    "    \n",
    "    review_peru_t1 = round(review_study_t1 / dnu_t1 , 2)\n",
    "    review_peru_t2 = round(review_study_t2 / dnu_t2 , 2)\n",
    "    review_peru_c = round(review_study_c / dnu_c , 2)\n",
    "\n",
    "    review_peru_delta = review_peru_t1 / review_peru_c - 1 if review_peru_c > 0 else np.nan\n",
    "    review_peru_p_value = stats.f_oneway(test1_data.study_duration_video_review, test2_data.study_duration_video_review, ctrl_data.study_duration_video_review).pvalue\n",
    "    review_peru_sig =  \"Significant\" if review_peru_p_value < 0.1 else \"Non-significant\"\n",
    "    test_summary = test_summary.append({\"Metrics\": '复习课学习时长: 分钟', \"Control\": str(round(review_peru_c,2)), \"Test1\": str(round(review_peru_t1,2)), \"Test2\": str(round(review_peru_t2,2)), \"Delta\": \"{:.2%}\".format(review_peru_delta), \"p_value\": round(review_peru_p_value, 4), \"Significance\": review_peru_sig}, ignore_index = True)\n",
    "\n",
    "    # 复习课完课\n",
    "    review_fin_t1 = sum(test1_data.finish_lessons_video_review)\n",
    "    review_fin_t2 = sum(test2_data.finish_lessons_video_review)\n",
    "    review_fin_c = sum(ctrl_data.finish_lessons_video_review)\n",
    "    \n",
    "    review_fin_peru_t1 = round(review_fin_t1 / dnu_t1 , 2)\n",
    "    review_fin_peru_t2 = round(review_fin_t2 / dnu_t2 , 2)\n",
    "    review_fin_peru_c = round(review_fin_c / dnu_c , 2)\n",
    "\n",
    "    review_fin_peru_delta = review_fin_peru_t1 / review_fin_peru_c - 1 if review_fin_peru_c > 0 else np.nan\n",
    "    review_fin_peru_p_value = stats.f_oneway(test1_data.finish_lessons_video_review, test2_data.finish_lessons_video_review, ctrl_data.finish_lessons_video_review).pvalue\n",
    "    review_fin_peru_sig =  \"Significant\" if review_fin_peru_p_value < 0.1 else \"Non-significant\"\n",
    "    test_summary = test_summary.append({\"Metrics\": '复习课完课', \"Control\": str(round(review_fin_peru_c,2)), \"Test1\": str(round(review_fin_peru_t1,2)), \"Test2\": str(round(review_fin_peru_t2,2)), \"Delta\": \"{:.2%}\".format(review_fin_peru_delta), \"p_value\": round(review_fin_peru_p_value, 4), \"Significance\": review_fin_peru_sig}, ignore_index = True)\n",
    "\n",
    "    # 复习课做题数\n",
    "    review_ans_t1 = sum(test1_data.answers_exercise_video_review)\n",
    "    review_ans_t2 = sum(test2_data.answers_exercise_video_review)\n",
    "    review_ans_c = sum(ctrl_data.answers_exercise_video_review)\n",
    "    \n",
    "    review_ans_peru_t1 = round(review_ans_t1 / dnu_t1 , 2)\n",
    "    review_ans_peru_t2 = round(review_ans_t2 / dnu_t2 , 2)\n",
    "    review_ans_peru_c = round(review_ans_c / dnu_c , 2)\n",
    "\n",
    "    review_ans_peru_delta = review_ans_peru_t1 / review_ans_peru_c - 1 if review_ans_peru_c > 0 else np.nan\n",
    "    review_ans_peru_p_value = stats.f_oneway(test1_data.answers_exercise_video_review, test2_data.answers_exercise_video_review, ctrl_data.answers_exercise_video_review).pvalue\n",
    "    review_ans_peru_sig =  \"Significant\" if review_ans_peru_p_value < 0.1 else \"Non-significant\"\n",
    "    test_summary = test_summary.append({\"Metrics\": '复习课答题', \"Control\": str(round(review_ans_peru_c,2)), \"Test1\": str(round(review_ans_peru_t1,2)), \"Test2\": str(round(review_ans_peru_t2,2)), \"Delta\": \"{:.2%}\".format(review_ans_peru_delta), \"p_value\": round(review_ans_peru_p_value, 4), \"Significance\": review_ans_peru_sig}, ignore_index = True)\n",
    "\n",
    "    test_summary['User_Group'] = '全量用户'\n",
    "    \n",
    "    return test_summary"
   ]
  },
  {
   "cell_type": "code",
   "execution_count": 34,
   "metadata": {
    "cell_id": 10
   },
   "outputs": [
    {
     "data": {
      "text/html": [
       "<style  type=\"text/css\" >\n",
       "#T_42b3b9fe_4916_11eb_8245_d6825f6ab1f5row1_col7,#T_42b3b9fe_4916_11eb_8245_d6825f6ab1f5row3_col7{\n",
       "            background:  green;\n",
       "        }</style><table id=\"T_42b3b9fe_4916_11eb_8245_d6825f6ab1f5\" ><thead>    <tr>        <th class=\"col_heading level0 col0\" >User_Group</th>        <th class=\"col_heading level0 col1\" >Metrics</th>        <th class=\"col_heading level0 col2\" >Control</th>        <th class=\"col_heading level0 col3\" >Test1</th>        <th class=\"col_heading level0 col4\" >Test2</th>        <th class=\"col_heading level0 col5\" >Delta</th>        <th class=\"col_heading level0 col6\" >p_value</th>        <th class=\"col_heading level0 col7\" >Significance</th>    </tr></thead><tbody>\n",
       "                <tr>\n",
       "                                <td id=\"T_42b3b9fe_4916_11eb_8245_d6825f6ab1f5row0_col0\" class=\"data row0 col0\" >全量用户</td>\n",
       "                        <td id=\"T_42b3b9fe_4916_11eb_8245_d6825f6ab1f5row0_col1\" class=\"data row0 col1\" >实验用户数</td>\n",
       "                        <td id=\"T_42b3b9fe_4916_11eb_8245_d6825f6ab1f5row0_col2\" class=\"data row0 col2\" >2,302</td>\n",
       "                        <td id=\"T_42b3b9fe_4916_11eb_8245_d6825f6ab1f5row0_col3\" class=\"data row0 col3\" >2,498</td>\n",
       "                        <td id=\"T_42b3b9fe_4916_11eb_8245_d6825f6ab1f5row0_col4\" class=\"data row0 col4\" >2,439</td>\n",
       "                        <td id=\"T_42b3b9fe_4916_11eb_8245_d6825f6ab1f5row0_col5\" class=\"data row0 col5\" >-</td>\n",
       "                        <td id=\"T_42b3b9fe_4916_11eb_8245_d6825f6ab1f5row0_col6\" class=\"data row0 col6\" >-</td>\n",
       "                        <td id=\"T_42b3b9fe_4916_11eb_8245_d6825f6ab1f5row0_col7\" class=\"data row0 col7\" >-</td>\n",
       "            </tr>\n",
       "            <tr>\n",
       "                                <td id=\"T_42b3b9fe_4916_11eb_8245_d6825f6ab1f5row1_col0\" class=\"data row1 col0\" >全量用户</td>\n",
       "                        <td id=\"T_42b3b9fe_4916_11eb_8245_d6825f6ab1f5row1_col1\" class=\"data row1 col1\" >掌握度异常波动知识点占比</td>\n",
       "                        <td id=\"T_42b3b9fe_4916_11eb_8245_d6825f6ab1f5row1_col2\" class=\"data row1 col2\" >8.32%</td>\n",
       "                        <td id=\"T_42b3b9fe_4916_11eb_8245_d6825f6ab1f5row1_col3\" class=\"data row1 col3\" >3.96%</td>\n",
       "                        <td id=\"T_42b3b9fe_4916_11eb_8245_d6825f6ab1f5row1_col4\" class=\"data row1 col4\" >8.55%</td>\n",
       "                        <td id=\"T_42b3b9fe_4916_11eb_8245_d6825f6ab1f5row1_col5\" class=\"data row1 col5\" >-52.38%</td>\n",
       "                        <td id=\"T_42b3b9fe_4916_11eb_8245_d6825f6ab1f5row1_col6\" class=\"data row1 col6\" >0.000000</td>\n",
       "                        <td id=\"T_42b3b9fe_4916_11eb_8245_d6825f6ab1f5row1_col7\" class=\"data row1 col7\" >Significant</td>\n",
       "            </tr>\n",
       "            <tr>\n",
       "                                <td id=\"T_42b3b9fe_4916_11eb_8245_d6825f6ab1f5row2_col0\" class=\"data row2 col0\" >全量用户</td>\n",
       "                        <td id=\"T_42b3b9fe_4916_11eb_8245_d6825f6ab1f5row2_col1\" class=\"data row2 col1\" >复习课学习时长: 分钟</td>\n",
       "                        <td id=\"T_42b3b9fe_4916_11eb_8245_d6825f6ab1f5row2_col2\" class=\"data row2 col2\" >9.26</td>\n",
       "                        <td id=\"T_42b3b9fe_4916_11eb_8245_d6825f6ab1f5row2_col3\" class=\"data row2 col3\" >9.3</td>\n",
       "                        <td id=\"T_42b3b9fe_4916_11eb_8245_d6825f6ab1f5row2_col4\" class=\"data row2 col4\" >9.07</td>\n",
       "                        <td id=\"T_42b3b9fe_4916_11eb_8245_d6825f6ab1f5row2_col5\" class=\"data row2 col5\" >0.43%</td>\n",
       "                        <td id=\"T_42b3b9fe_4916_11eb_8245_d6825f6ab1f5row2_col6\" class=\"data row2 col6\" >0.536000</td>\n",
       "                        <td id=\"T_42b3b9fe_4916_11eb_8245_d6825f6ab1f5row2_col7\" class=\"data row2 col7\" >Non-significant</td>\n",
       "            </tr>\n",
       "            <tr>\n",
       "                                <td id=\"T_42b3b9fe_4916_11eb_8245_d6825f6ab1f5row3_col0\" class=\"data row3 col0\" >全量用户</td>\n",
       "                        <td id=\"T_42b3b9fe_4916_11eb_8245_d6825f6ab1f5row3_col1\" class=\"data row3 col1\" >复习课完课</td>\n",
       "                        <td id=\"T_42b3b9fe_4916_11eb_8245_d6825f6ab1f5row3_col2\" class=\"data row3 col2\" >1.38</td>\n",
       "                        <td id=\"T_42b3b9fe_4916_11eb_8245_d6825f6ab1f5row3_col3\" class=\"data row3 col3\" >1.43</td>\n",
       "                        <td id=\"T_42b3b9fe_4916_11eb_8245_d6825f6ab1f5row3_col4\" class=\"data row3 col4\" >1.36</td>\n",
       "                        <td id=\"T_42b3b9fe_4916_11eb_8245_d6825f6ab1f5row3_col5\" class=\"data row3 col5\" >3.62%</td>\n",
       "                        <td id=\"T_42b3b9fe_4916_11eb_8245_d6825f6ab1f5row3_col6\" class=\"data row3 col6\" >0.002700</td>\n",
       "                        <td id=\"T_42b3b9fe_4916_11eb_8245_d6825f6ab1f5row3_col7\" class=\"data row3 col7\" >Significant</td>\n",
       "            </tr>\n",
       "            <tr>\n",
       "                                <td id=\"T_42b3b9fe_4916_11eb_8245_d6825f6ab1f5row4_col0\" class=\"data row4 col0\" >全量用户</td>\n",
       "                        <td id=\"T_42b3b9fe_4916_11eb_8245_d6825f6ab1f5row4_col1\" class=\"data row4 col1\" >复习课答题</td>\n",
       "                        <td id=\"T_42b3b9fe_4916_11eb_8245_d6825f6ab1f5row4_col2\" class=\"data row4 col2\" >32.42</td>\n",
       "                        <td id=\"T_42b3b9fe_4916_11eb_8245_d6825f6ab1f5row4_col3\" class=\"data row4 col3\" >33.72</td>\n",
       "                        <td id=\"T_42b3b9fe_4916_11eb_8245_d6825f6ab1f5row4_col4\" class=\"data row4 col4\" >32.68</td>\n",
       "                        <td id=\"T_42b3b9fe_4916_11eb_8245_d6825f6ab1f5row4_col5\" class=\"data row4 col5\" >4.01%</td>\n",
       "                        <td id=\"T_42b3b9fe_4916_11eb_8245_d6825f6ab1f5row4_col6\" class=\"data row4 col6\" >0.149800</td>\n",
       "                        <td id=\"T_42b3b9fe_4916_11eb_8245_d6825f6ab1f5row4_col7\" class=\"data row4 col7\" >Non-significant</td>\n",
       "            </tr>\n",
       "    </tbody></table>"
      ],
      "text/plain": [
       "<pandas.io.formats.style.Styler at 0x7fe1e526e710>"
      ]
     },
     "execution_count": 34,
     "metadata": {},
     "output_type": "execute_result"
    }
   ],
   "source": [
    "output = ab_summary_data(review_test_data)\n",
    "output.style.apply(lambda x: [\"background: green\" if v == 'Significant' else \"\" for v in x], axis = 1).hide_index()"
   ]
  },
  {
   "cell_type": "code",
   "execution_count": null,
   "metadata": {
    "cell_id": 89
   },
   "outputs": [],
   "source": []
  }
 ],
 "metadata": {
  "kernelspec": {
   "display_name": "Python 3",
   "language": "python",
   "name": "python3"
  },
  "language_info": {
   "codemirror_mode": {
    "name": "ipython",
    "version": 3
   },
   "file_extension": ".py",
   "mimetype": "text/x-python",
   "name": "python",
   "nbconvert_exporter": "python",
   "pygments_lexer": "ipython3",
   "version": "3.7.9"
  },
  "max_cell_id": 90,
  "serving": {
   "http": {
    "cache": {
     "period": "2400"
    },
    "enable": false,
    "mode": "cache"
   },
   "timer": {
    "enable": false,
    "expression": "0 0 1 * *"
   }
  }
 },
 "nbformat": 4,
 "nbformat_minor": 4
}
