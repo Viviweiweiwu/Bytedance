{
 "cells": [
  {
   "cell_type": "code",
   "execution_count": 10,
   "metadata": {
    "cell_id": 1
   },
   "outputs": [
    {
     "name": "stdout",
     "output_type": "stream",
     "text": [
      "/bin/bash: jupip3：未找到命令\r\n"
     ]
    }
   ],
   "source": [
    "# ! jupip3 install --user seaborn --upgrade --force-reinstall --no-cache-dir"
   ]
  },
  {
   "cell_type": "code",
   "execution_count": 1,
   "metadata": {
    "cell_id": 2
   },
   "outputs": [],
   "source": [
    "import numpy as np\n",
    "import pandas as pd\n",
    "#import seaborn as sns\n",
    "import scipy.stats as stats\n",
    "import matplotlib.pyplot as plt\n",
    "# from statsmodels.stats.proportion import proportions_ztest\n",
    "# from statsmodels.stats.proportion import proportions_chisquare"
   ]
  },
  {
   "cell_type": "code",
   "execution_count": 2,
   "metadata": {
    "cell_id": 3
   },
   "outputs": [],
   "source": [
    "def two_proprotions_test(success_a, size_a, success_b, size_b):\n",
    "    \"\"\"\n",
    "    A/B test for two proportions;\n",
    "    given a success a trial size of group A and B compute\n",
    "    its zscore and pvalue\n",
    "    \n",
    "    Parameters\n",
    "    ----------\n",
    "    success_a, success_b : int\n",
    "        Number of successes in each group\n",
    "        \n",
    "    size_a, size_b : int\n",
    "        Size, or number of observations in each group\n",
    "    \n",
    "    Returns\n",
    "    -------\n",
    "    zscore : float\n",
    "        test statistic for the two proportion z-test\n",
    "\n",
    "    pvalue : float\n",
    "        p-value for the two proportion z-test\n",
    "    \"\"\"\n",
    "    prop_a = success_a / size_a\n",
    "    prop_b = success_b / size_b\n",
    "    prop_pooled = (success_a + success_b) / (size_a + size_b)\n",
    "    var = prop_pooled * (1 - prop_pooled) * (1 / size_a + 1 / size_b)\n",
    "    zscore = np.abs(prop_b - prop_a) / np.sqrt(var)\n",
    "    one_side = 1 - stats.norm(loc = 0, scale = 1).cdf(zscore)\n",
    "    pvalue = one_side * 2\n",
    "    return zscore, pvalue"
   ]
  },
  {
   "cell_type": "code",
   "execution_count": 14,
   "metadata": {
    "cell_id": 4
   },
   "outputs": [
    {
     "name": "stdout",
     "output_type": "stream",
     "text": [
      "zscore = 2.205, pvalue = 0.027\n"
     ]
    }
   ],
   "source": [
    "success_a = 0.0152*15570\n",
    "size_a = 15570\n",
    "success_b = 0.0123*15780\n",
    "size_b = 15780\n",
    "\n",
    "zscore, pvalue = two_proprotions_test(success_a, size_a, success_b, size_b)\n",
    "print('zscore = {:.3f}, pvalue = {:.3f}'.format(zscore, pvalue))"
   ]
  },
  {
   "cell_type": "code",
   "execution_count": 15,
   "metadata": {
    "cell_id": 5
   },
   "outputs": [
    {
     "name": "stdout",
     "output_type": "stream",
     "text": [
      "zscore = 2.511, pvalue = 0.012\n"
     ]
    }
   ],
   "source": [
    "success_a = 0.0419*15570\n",
    "size_a = 15570\n",
    "success_b = 0.0364*15780\n",
    "size_b = 15780\n",
    "\n",
    "zscore, pvalue = two_proprotions_test(success_a, size_a, success_b, size_b)\n",
    "print('zscore = {:.3f}, pvalue = {:.3f}'.format(zscore, pvalue))"
   ]
  },
  {
   "cell_type": "code",
   "execution_count": 17,
   "metadata": {
    "cell_id": 6
   },
   "outputs": [
    {
     "name": "stdout",
     "output_type": "stream",
     "text": [
      "zscore = 1.243, pvalue = 0.214\n"
     ]
    }
   ],
   "source": [
    "success_a = 0.5805*236\n",
    "size_a = 236\n",
    "success_b = 0.5206*194\n",
    "size_b = 194\n",
    "\n",
    "zscore, pvalue = two_proprotions_test(success_a, size_a, success_b, size_b)\n",
    "print('zscore = {:.3f}, pvalue = {:.3f}'.format(zscore, pvalue))"
   ]
  },
  {
   "cell_type": "code",
   "execution_count": 3,
   "metadata": {
    "cell_id": 7
   },
   "outputs": [
    {
     "name": "stdout",
     "output_type": "stream",
     "text": [
      "zscore = 1.933, pvalue = 0.053\n"
     ]
    }
   ],
   "source": [
    "success_a = 0.4855*379\n",
    "size_a = 379\n",
    "success_b = 0.5571*350\n",
    "size_b = 350\n",
    "\n",
    "zscore, pvalue = two_proprotions_test(success_a, size_a, success_b, size_b)\n",
    "print('zscore = {:.3f}, pvalue = {:.3f}'.format(zscore, pvalue))"
   ]
  },
  {
   "cell_type": "code",
   "execution_count": 4,
   "metadata": {
    "cell_id": 8
   },
   "outputs": [
    {
     "name": "stdout",
     "output_type": "stream",
     "text": [
      "zscore = 1.298, pvalue = 0.194\n"
     ]
    }
   ],
   "source": [
    "success_a = 0.4406*379\n",
    "size_a = 379\n",
    "success_b = 0.4886*350\n",
    "size_b = 350\n",
    "\n",
    "zscore, pvalue = two_proprotions_test(success_a, size_a, success_b, size_b)\n",
    "print('zscore = {:.3f}, pvalue = {:.3f}'.format(zscore, pvalue))"
   ]
  },
  {
   "cell_type": "code",
   "execution_count": 7,
   "metadata": {
    "cell_id": 9
   },
   "outputs": [
    {
     "name": "stdout",
     "output_type": "stream",
     "text": [
      "zscore = 0.390, pvalue = 0.697\n"
     ]
    }
   ],
   "source": [
    "size_a = 368\n",
    "success_a = 0.5734*379\n",
    "size_b = 352\n",
    "success_b = 0.5795*350\n",
    "\n",
    "zscore, pvalue = two_proprotions_test(success_a, size_a, success_b, size_b)\n",
    "print('zscore = {:.3f}, pvalue = {:.3f}'.format(zscore, pvalue))"
   ]
  },
  {
   "cell_type": "code",
   "execution_count": 8,
   "metadata": {
    "cell_id": 10
   },
   "outputs": [
    {
     "name": "stdout",
     "output_type": "stream",
     "text": [
      "zscore = 0.695, pvalue = 0.487\n"
     ]
    }
   ],
   "source": [
    "size_a = 368\n",
    "success_a = 0.5462*379\n",
    "size_b = 352\n",
    "success_b = 0.5398*350\n",
    "\n",
    "zscore, pvalue = two_proprotions_test(success_a, size_a, success_b, size_b)\n",
    "print('zscore = {:.3f}, pvalue = {:.3f}'.format(zscore, pvalue))"
   ]
  },
  {
   "cell_type": "code",
   "execution_count": 9,
   "metadata": {
    "cell_id": 11
   },
   "outputs": [
    {
     "name": "stdout",
     "output_type": "stream",
     "text": [
      "zscore = 0.704, pvalue = 0.482\n"
     ]
    }
   ],
   "source": [
    "size_a = 222\n",
    "success_a = 0.9009*size_a\n",
    "size_b = 234\n",
    "success_b = 0.8803*size_b\n",
    "\n",
    "zscore, pvalue = two_proprotions_test(success_a, size_a, success_b, size_b)\n",
    "print('zscore = {:.3f}, pvalue = {:.3f}'.format(zscore, pvalue))"
   ]
  },
  {
   "cell_type": "code",
   "execution_count": 5,
   "metadata": {
    "cell_id": 12
   },
   "outputs": [
    {
     "name": "stdout",
     "output_type": "stream",
     "text": [
      "zscore = 2.458, pvalue = 0.014\n"
     ]
    }
   ],
   "source": [
    "size_a = 29011\n",
    "success_a = 0.2700*size_a\n",
    "size_b = 29103\n",
    "success_b = 0.2791*size_b\n",
    "\n",
    "zscore, pvalue = two_proprotions_test(success_a, size_a, success_b, size_b)\n",
    "print('zscore = {:.3f}, pvalue = {:.3f}'.format(zscore, pvalue))"
   ]
  },
  {
   "cell_type": "code",
   "execution_count": 4,
   "metadata": {
    "cell_id": 13
   },
   "outputs": [
    {
     "name": "stdout",
     "output_type": "stream",
     "text": [
      "zscore = 8.107, pvalue = 0.000\n"
     ]
    }
   ],
   "source": [
    "size_a = 15099\n",
    "success_a = 1430\n",
    "size_b = 20688\n",
    "success_b = 2522\n",
    "\n",
    "zscore, pvalue = two_proprotions_test(success_a, size_a, success_b, size_b)\n",
    "print('zscore = {:.3f}, pvalue = {:.3f}'.format(zscore, pvalue))"
   ]
  },
  {
   "cell_type": "code",
   "execution_count": null,
   "metadata": {
    "cell_id": 14
   },
   "outputs": [],
   "source": []
  }
 ],
 "metadata": {
  "kernelspec": {
   "display_name": "Python 3",
   "language": "python",
   "name": "python3"
  },
  "language_info": {
   "codemirror_mode": {
    "name": "ipython",
    "version": 3
   },
   "file_extension": ".py",
   "mimetype": "text/x-python",
   "name": "python",
   "nbconvert_exporter": "python",
   "pygments_lexer": "ipython3",
   "version": "3.7.9"
  },
  "max_cell_id": 15
 },
 "nbformat": 4,
 "nbformat_minor": 4
}
