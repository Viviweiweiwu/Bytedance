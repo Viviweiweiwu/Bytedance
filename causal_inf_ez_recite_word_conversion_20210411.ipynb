{
 "cells": [
  {
   "cell_type": "code",
   "execution_count": 20,
   "id": "continental-bottom",
   "metadata": {
    "cell_id": 1
   },
   "outputs": [],
   "source": [
    "# !pip install lightgbm\n",
    "import pandas as pd\n",
    "import numpy as np\n",
    "import scipy as sp\n",
    "import matplotlib as mpl\n",
    "import matplotlib.pyplot as plt\n",
    "import seaborn as sns\n",
    "import statsmodels.api as sm\n",
    "from lightgbm import LGBMClassifier\n",
    "from sklearn.linear_model import LogisticRegression\n",
    "from sklearn.preprocessing import OneHotEncoder, LabelEncoder\n",
    "from sklearn.metrics import accuracy_score\n",
    "\n",
    "mpl.rcParams['figure.dpi'] = 300\n",
    "sns.set_style(\"whitegrid\")\n",
    "pd.options.display.max_columns = None\n",
    "%config Completer.use_jedi = False"
   ]
  },
  {
   "cell_type": "markdown",
   "id": "intellectual-charleston",
   "metadata": {
    "cell_id": 42
   },
   "source": [
    "## Data Cleaning"
   ]
  },
  {
   "cell_type": "code",
   "execution_count": 21,
   "id": "turkish-studio",
   "metadata": {
    "cell_id": 3
   },
   "outputs": [],
   "source": [
    "# read data\n",
    "df_raw = pd.read_csv(\n",
    "    '/home/tiger/archived-data/aeolus-data/20210413/19/42189423-开言背单词-提升效果-查询17.csv',\n",
    "    encoding='gbk'\n",
    ")"
   ]
  },
  {
   "cell_type": "code",
   "execution_count": 22,
   "id": "seeing-valentine",
   "metadata": {
    "cell_id": 51
   },
   "outputs": [
    {
     "data": {
      "text/html": [
       "<div>\n",
       "<style scoped>\n",
       "    .dataframe tbody tr th:only-of-type {\n",
       "        vertical-align: middle;\n",
       "    }\n",
       "\n",
       "    .dataframe tbody tr th {\n",
       "        vertical-align: top;\n",
       "    }\n",
       "\n",
       "    .dataframe thead th {\n",
       "        text-align: right;\n",
       "    }\n",
       "</style>\n",
       "<table border=\"1\" class=\"dataframe\">\n",
       "  <thead>\n",
       "    <tr style=\"text-align: right;\">\n",
       "      <th></th>\n",
       "      <th>user_id</th>\n",
       "      <th>install_date</th>\n",
       "      <th>enter_group</th>\n",
       "      <th>occupation</th>\n",
       "      <th>first_milestone_name</th>\n",
       "      <th>city_level</th>\n",
       "      <th>age</th>\n",
       "      <th>edu</th>\n",
       "      <th>gender</th>\n",
       "      <th>channel_group</th>\n",
       "      <th>study_mins</th>\n",
       "      <th>order_yn</th>\n",
       "      <th>aim_module_user</th>\n",
       "    </tr>\n",
       "  </thead>\n",
       "  <tbody>\n",
       "    <tr>\n",
       "      <th>0</th>\n",
       "      <td>2850371729103624</td>\n",
       "      <td>2021-03-27</td>\n",
       "      <td>1</td>\n",
       "      <td>白领上班族</td>\n",
       "      <td>A1高</td>\n",
       "      <td>一线</td>\n",
       "      <td>18-23</td>\n",
       "      <td>high</td>\n",
       "      <td>male</td>\n",
       "      <td>OV</td>\n",
       "      <td>2</td>\n",
       "      <td>0</td>\n",
       "      <td>1</td>\n",
       "    </tr>\n",
       "    <tr>\n",
       "      <th>1</th>\n",
       "      <td>3237397476679687</td>\n",
       "      <td>2021-03-20</td>\n",
       "      <td>0</td>\n",
       "      <td>unknown</td>\n",
       "      <td>NaN</td>\n",
       "      <td>四线</td>\n",
       "      <td>31-40</td>\n",
       "      <td>high</td>\n",
       "      <td>female</td>\n",
       "      <td>华为小米</td>\n",
       "      <td>0</td>\n",
       "      <td>0</td>\n",
       "      <td>0</td>\n",
       "    </tr>\n",
       "    <tr>\n",
       "      <th>2</th>\n",
       "      <td>88396189668840</td>\n",
       "      <td>2021-03-20</td>\n",
       "      <td>0</td>\n",
       "      <td>白领上班族</td>\n",
       "      <td>A1高</td>\n",
       "      <td>四线</td>\n",
       "      <td>41-50</td>\n",
       "      <td>high</td>\n",
       "      <td>male</td>\n",
       "      <td>华为小米</td>\n",
       "      <td>0</td>\n",
       "      <td>0</td>\n",
       "      <td>0</td>\n",
       "    </tr>\n",
       "    <tr>\n",
       "      <th>3</th>\n",
       "      <td>1249480583421064</td>\n",
       "      <td>2021-03-20</td>\n",
       "      <td>0</td>\n",
       "      <td>中小学生</td>\n",
       "      <td>A1中</td>\n",
       "      <td>三线</td>\n",
       "      <td>41-50</td>\n",
       "      <td>high</td>\n",
       "      <td>female</td>\n",
       "      <td>其他</td>\n",
       "      <td>0</td>\n",
       "      <td>0</td>\n",
       "      <td>0</td>\n",
       "    </tr>\n",
       "    <tr>\n",
       "      <th>4</th>\n",
       "      <td>1953174379308254</td>\n",
       "      <td>2021-04-07</td>\n",
       "      <td>1</td>\n",
       "      <td>白领上班族</td>\n",
       "      <td>NaN</td>\n",
       "      <td>NaN</td>\n",
       "      <td>24-30</td>\n",
       "      <td>high</td>\n",
       "      <td>male</td>\n",
       "      <td>Apple Store</td>\n",
       "      <td>6</td>\n",
       "      <td>0</td>\n",
       "      <td>0</td>\n",
       "    </tr>\n",
       "  </tbody>\n",
       "</table>\n",
       "</div>"
      ],
      "text/plain": [
       "            user_id install_date  enter_group occupation first_milestone_name  \\\n",
       "0  2850371729103624   2021-03-27            1      白领上班族                  A1高   \n",
       "1  3237397476679687   2021-03-20            0    unknown                  NaN   \n",
       "2    88396189668840   2021-03-20            0      白领上班族                  A1高   \n",
       "3  1249480583421064   2021-03-20            0       中小学生                  A1中   \n",
       "4  1953174379308254   2021-04-07            1      白领上班族                  NaN   \n",
       "\n",
       "  city_level    age   edu  gender channel_group  study_mins  order_yn  \\\n",
       "0         一线  18-23  high    male            OV           2         0   \n",
       "1         四线  31-40  high  female          华为小米           0         0   \n",
       "2         四线  41-50  high    male          华为小米           0         0   \n",
       "3         三线  41-50  high  female            其他           0         0   \n",
       "4        NaN  24-30  high    male   Apple Store           6         0   \n",
       "\n",
       "   aim_module_user  \n",
       "0                1  \n",
       "1                0  \n",
       "2                0  \n",
       "3                0  \n",
       "4                0  "
      ]
     },
     "execution_count": 22,
     "metadata": {},
     "output_type": "execute_result"
    }
   ],
   "source": [
    "df_raw.head()"
   ]
  },
  {
   "cell_type": "code",
   "execution_count": 23,
   "id": "outside-motor",
   "metadata": {
    "cell_id": 8
   },
   "outputs": [],
   "source": [
    "# fill na\n",
    "category_cols = []\n",
    "\n",
    "for c in df_raw.columns:\n",
    "    if df_raw[c].dtype=='O':\n",
    "        df_raw[c] = df_raw[c].fillna('unknown')\n",
    "        category_cols.append(c)\n",
    "    else:\n",
    "        df_raw[c] = df_raw[c].fillna(0)"
   ]
  },
  {
   "cell_type": "code",
   "execution_count": 24,
   "id": "personalized-maria",
   "metadata": {
    "cell_id": 4
   },
   "outputs": [],
   "source": [
    "# add cum status\n",
    "# df_sorted = df_raw\\\n",
    "#     .sort_values(by=['user_id', 'gap_days'])\n",
    "# df_sorted['cum_finish'] = np.where(df_sorted\\\n",
    "#     .groupby(['user_id'])['advise_finish_yn'].cumsum() > 0, 1, 0)\n",
    "df_sorted = df_raw[df_raw.study_mins > 0]"
   ]
  },
  {
   "cell_type": "code",
   "execution_count": 25,
   "id": "ongoing-surfing",
   "metadata": {
    "cell_id": 45
   },
   "outputs": [
    {
     "data": {
      "text/plain": [
       "aim_module_user\n",
       "0    65681\n",
       "1    28281\n",
       "dtype: int64"
      ]
     },
     "execution_count": 25,
     "metadata": {},
     "output_type": "execute_result"
    }
   ],
   "source": [
    "df_sorted.groupby(['aim_module_user']).size()"
   ]
  },
  {
   "cell_type": "code",
   "execution_count": 42,
   "id": "satellite-updating",
   "metadata": {
    "cell_id": 6
   },
   "outputs": [],
   "source": [
    "# select training data\n",
    "# _gap_days = 3\n",
    "_x = [\n",
    "    'occupation',\n",
    "    'first_milestone_name',\n",
    "    'edu',\n",
    "    'channel_group',\n",
    "    'gender',\n",
    "    'age',\n",
    "    'city_level',\n",
    "    'aim_module_user',\n",
    "    'study_mins',\n",
    "    'enter_group'\n",
    "]\n",
    "categorial_x = [\n",
    "    'age',\n",
    "    'first_milestone_name',\n",
    "    'edu',\n",
    "    'occupation',\n",
    "    'city_level',\n",
    "    'gender',\n",
    "    'channel_group',\n",
    "]\n",
    "_y = 'order_yn'\n",
    "\n",
    "df_train = df_sorted[lambda x: (x['enter_group']==0)].reset_index()\n",
    "# df_train = df_sorted.reset_index()"
   ]
  },
  {
   "cell_type": "code",
   "execution_count": 43,
   "id": "composite-theta",
   "metadata": {
    "cell_id": 49
   },
   "outputs": [
    {
     "data": {
      "text/html": [
       "<div>\n",
       "<style scoped>\n",
       "    .dataframe tbody tr th:only-of-type {\n",
       "        vertical-align: middle;\n",
       "    }\n",
       "\n",
       "    .dataframe tbody tr th {\n",
       "        vertical-align: top;\n",
       "    }\n",
       "\n",
       "    .dataframe thead th {\n",
       "        text-align: right;\n",
       "    }\n",
       "</style>\n",
       "<table border=\"1\" class=\"dataframe\">\n",
       "  <thead>\n",
       "    <tr style=\"text-align: right;\">\n",
       "      <th></th>\n",
       "      <th>index</th>\n",
       "      <th>user_id</th>\n",
       "      <th>install_date</th>\n",
       "      <th>enter_group</th>\n",
       "      <th>occupation</th>\n",
       "      <th>first_milestone_name</th>\n",
       "      <th>city_level</th>\n",
       "      <th>age</th>\n",
       "      <th>edu</th>\n",
       "      <th>gender</th>\n",
       "      <th>channel_group</th>\n",
       "      <th>study_mins</th>\n",
       "      <th>order_yn</th>\n",
       "      <th>aim_module_user</th>\n",
       "    </tr>\n",
       "  </thead>\n",
       "  <tbody>\n",
       "    <tr>\n",
       "      <th>0</th>\n",
       "      <td>11</td>\n",
       "      <td>3765168084888824</td>\n",
       "      <td>2021-04-03</td>\n",
       "      <td>0</td>\n",
       "      <td>中小学生</td>\n",
       "      <td>unknown</td>\n",
       "      <td>五线</td>\n",
       "      <td>18-23</td>\n",
       "      <td>high</td>\n",
       "      <td>male</td>\n",
       "      <td>其他</td>\n",
       "      <td>1</td>\n",
       "      <td>0</td>\n",
       "      <td>1</td>\n",
       "    </tr>\n",
       "    <tr>\n",
       "      <th>1</th>\n",
       "      <td>27</td>\n",
       "      <td>2955928128461463</td>\n",
       "      <td>2021-04-05</td>\n",
       "      <td>0</td>\n",
       "      <td>白领上班族</td>\n",
       "      <td>unknown</td>\n",
       "      <td>unknown</td>\n",
       "      <td>18-23</td>\n",
       "      <td>college</td>\n",
       "      <td>male</td>\n",
       "      <td>Apple Store</td>\n",
       "      <td>4</td>\n",
       "      <td>0</td>\n",
       "      <td>0</td>\n",
       "    </tr>\n",
       "    <tr>\n",
       "      <th>2</th>\n",
       "      <td>33</td>\n",
       "      <td>4416077646530990</td>\n",
       "      <td>2021-03-30</td>\n",
       "      <td>0</td>\n",
       "      <td>中小学生</td>\n",
       "      <td>A1初</td>\n",
       "      <td>四线</td>\n",
       "      <td>31-40</td>\n",
       "      <td>high</td>\n",
       "      <td>female</td>\n",
       "      <td>OV</td>\n",
       "      <td>2</td>\n",
       "      <td>0</td>\n",
       "      <td>1</td>\n",
       "    </tr>\n",
       "    <tr>\n",
       "      <th>3</th>\n",
       "      <td>36</td>\n",
       "      <td>2129091693127591</td>\n",
       "      <td>2021-03-25</td>\n",
       "      <td>0</td>\n",
       "      <td>中小学生</td>\n",
       "      <td>A2中</td>\n",
       "      <td>四线</td>\n",
       "      <td>50-</td>\n",
       "      <td>high</td>\n",
       "      <td>female</td>\n",
       "      <td>华为小米</td>\n",
       "      <td>56</td>\n",
       "      <td>0</td>\n",
       "      <td>1</td>\n",
       "    </tr>\n",
       "    <tr>\n",
       "      <th>4</th>\n",
       "      <td>37</td>\n",
       "      <td>3554056924052248</td>\n",
       "      <td>2021-03-20</td>\n",
       "      <td>0</td>\n",
       "      <td>白领上班族</td>\n",
       "      <td>unknown</td>\n",
       "      <td>unknown</td>\n",
       "      <td>24-30</td>\n",
       "      <td>high</td>\n",
       "      <td>male</td>\n",
       "      <td>Google-FB</td>\n",
       "      <td>7</td>\n",
       "      <td>0</td>\n",
       "      <td>0</td>\n",
       "    </tr>\n",
       "  </tbody>\n",
       "</table>\n",
       "</div>"
      ],
      "text/plain": [
       "   index           user_id install_date  enter_group occupation  \\\n",
       "0     11  3765168084888824   2021-04-03            0       中小学生   \n",
       "1     27  2955928128461463   2021-04-05            0      白领上班族   \n",
       "2     33  4416077646530990   2021-03-30            0       中小学生   \n",
       "3     36  2129091693127591   2021-03-25            0       中小学生   \n",
       "4     37  3554056924052248   2021-03-20            0      白领上班族   \n",
       "\n",
       "  first_milestone_name city_level    age      edu  gender channel_group  \\\n",
       "0              unknown         五线  18-23     high    male            其他   \n",
       "1              unknown    unknown  18-23  college    male   Apple Store   \n",
       "2                  A1初         四线  31-40     high  female            OV   \n",
       "3                  A2中         四线    50-     high  female          华为小米   \n",
       "4              unknown    unknown  24-30     high    male     Google-FB   \n",
       "\n",
       "   study_mins  order_yn  aim_module_user  \n",
       "0           1         0                1  \n",
       "1           4         0                0  \n",
       "2           2         0                1  \n",
       "3          56         0                1  \n",
       "4           7         0                0  "
      ]
     },
     "execution_count": 43,
     "metadata": {},
     "output_type": "execute_result"
    }
   ],
   "source": [
    "df_train.head()"
   ]
  },
  {
   "cell_type": "markdown",
   "id": "closing-editor",
   "metadata": {
    "cell_id": 33
   },
   "source": [
    "## Standardizing"
   ]
  },
  {
   "cell_type": "code",
   "execution_count": 44,
   "id": "international-wildlife",
   "metadata": {
    "cell_id": 44
   },
   "outputs": [
    {
     "name": "stderr",
     "output_type": "stream",
     "text": [
      "/opt/conda/lib/python3.7/site-packages/ipykernel_launcher.py:10: SettingWithCopyWarning: \n",
      "A value is trying to be set on a copy of a slice from a DataFrame.\n",
      "Try using .loc[row_indexer,col_indexer] = value instead\n",
      "\n",
      "See the caveats in the documentation: https://pandas.pydata.org/pandas-docs/stable/user_guide/indexing.html#returning-a-view-versus-a-copy\n",
      "  # Remove the CWD from sys.path while we load stuff.\n"
     ]
    }
   ],
   "source": [
    "# x & y\n",
    "train_x = df_train[_x]\n",
    "train_y = df_train[_y]\n",
    "\n",
    "# --------------- SEP ---------------\n",
    "# label encoding\n",
    "label_encoders = {}\n",
    "for c in categorial_x:\n",
    "    encoder = LabelEncoder()\n",
    "    train_x[c] = encoder.fit_transform(df_train[c].values)\n",
    "    label_encoders[c] = encoder\n",
    "\n",
    "# --------------- SEP ---------------\n",
    "# counter-factual data\n",
    "train_x_cf_treated = train_x.assign(aim_module_user=lambda x: 1)\n",
    "train_x_cf_untreated = train_x.assign(aim_module_user=lambda x: 0)"
   ]
  },
  {
   "cell_type": "code",
   "execution_count": 45,
   "id": "narrow-punch",
   "metadata": {
    "cell_id": 7
   },
   "outputs": [
    {
     "data": {
      "text/plain": [
       "LGBMClassifier()"
      ]
     },
     "execution_count": 45,
     "metadata": {},
     "output_type": "execute_result"
    }
   ],
   "source": [
    "# training classifier\n",
    "mod = LGBMClassifier()\n",
    "mod.fit(train_x, train_y)"
   ]
  },
  {
   "cell_type": "code",
   "execution_count": 46,
   "id": "recorded-gossip",
   "metadata": {
    "cell_id": 52
   },
   "outputs": [
    {
     "name": "stdout",
     "output_type": "stream",
     "text": [
      "Training-set accuracy score: 0.9943\n"
     ]
    }
   ],
   "source": [
    "y_pred_train = mod.predict(train_x)\n",
    "print('Training-set accuracy score: {0:0.4f}'. format(accuracy_score(train_y, y_pred_train)))"
   ]
  },
  {
   "cell_type": "code",
   "execution_count": 47,
   "id": "responsible-israeli",
   "metadata": {
    "cell_id": 24
   },
   "outputs": [],
   "source": [
    "# predict counter-factual results\n",
    "pred_cf_treated = mod.predict_proba(train_x_cf_treated)[:,1]\n",
    "pred_cf_untreated = mod.predict_proba(train_x_cf_untreated)[:,1]"
   ]
  },
  {
   "cell_type": "code",
   "execution_count": 48,
   "id": "acquired-harvey",
   "metadata": {
    "cell_id": 25
   },
   "outputs": [
    {
     "name": "stdout",
     "output_type": "stream",
     "text": [
      "Counter-factual treated: 0.0086, untreated: 0.0072, lift: 0.0014\n"
     ]
    }
   ],
   "source": [
    "# counter-factual mean diff\n",
    "mean_t = pred_cf_treated.mean()\n",
    "mean_u = pred_cf_untreated.mean()\n",
    "print(f\"Counter-factual treated: {mean_t:.4f}, untreated: {mean_u:.4f}, lift: {mean_t - mean_u:.4f}\")"
   ]
  },
  {
   "cell_type": "markdown",
   "id": "little-letters",
   "metadata": {
    "cell_id": 50
   },
   "source": []
  },
  {
   "cell_type": "code",
   "execution_count": 49,
   "id": "southwest-topic",
   "metadata": {
    "cell_id": 27
   },
   "outputs": [
    {
     "data": {
      "text/html": [
       "<div>\n",
       "<style scoped>\n",
       "    .dataframe tbody tr th:only-of-type {\n",
       "        vertical-align: middle;\n",
       "    }\n",
       "\n",
       "    .dataframe tbody tr th {\n",
       "        vertical-align: top;\n",
       "    }\n",
       "\n",
       "    .dataframe thead th {\n",
       "        text-align: right;\n",
       "    }\n",
       "</style>\n",
       "<table border=\"1\" class=\"dataframe\">\n",
       "  <thead>\n",
       "    <tr style=\"text-align: right;\">\n",
       "      <th></th>\n",
       "      <th>aim_module_user</th>\n",
       "      <th>user_cnt</th>\n",
       "      <th>conversion_rate</th>\n",
       "    </tr>\n",
       "  </thead>\n",
       "  <tbody>\n",
       "    <tr>\n",
       "      <th>0</th>\n",
       "      <td>0</td>\n",
       "      <td>43820.0</td>\n",
       "      <td>0.006732</td>\n",
       "    </tr>\n",
       "    <tr>\n",
       "      <th>1</th>\n",
       "      <td>1</td>\n",
       "      <td>18275.0</td>\n",
       "      <td>0.010342</td>\n",
       "    </tr>\n",
       "  </tbody>\n",
       "</table>\n",
       "</div>"
      ],
      "text/plain": [
       "   aim_module_user  user_cnt  conversion_rate\n",
       "0                0   43820.0         0.006732\n",
       "1                1   18275.0         0.010342"
      ]
     },
     "execution_count": 49,
     "metadata": {},
     "output_type": "execute_result"
    }
   ],
   "source": [
    "# actual mean diff\n",
    "df_train.groupby(['aim_module_user']).apply(lambda x: pd.Series({\n",
    "    'user_cnt': x.shape[0],\n",
    "    'conversion_rate': (x['order_yn']).mean()\n",
    "})).reset_index()"
   ]
  },
  {
   "cell_type": "markdown",
   "id": "signed-sampling",
   "metadata": {
    "cell_id": 31
   },
   "source": [
    "## IP Weighting"
   ]
  },
  {
   "cell_type": "code",
   "execution_count": 16,
   "id": "golden-remove",
   "metadata": {
    "cell_id": 41
   },
   "outputs": [],
   "source": [
    "# x & y\n",
    "train_x = df_train[_x]\n",
    "train_y = df_train[_y]\n",
    "\n",
    "# --------------- SEP ---------------\n",
    "# one-hot encoding\n",
    "encoder = OneHotEncoder(sparse=False)  \n",
    "\n",
    "encoded_df = pd.DataFrame(\n",
    "    encoder.fit_transform(train_x[categorial_x]), \n",
    "    columns=encoder.get_feature_names(categorial_x)\n",
    ")\n",
    "\n",
    "# combine onehot features\n",
    "train_x = pd.concat([\n",
    "        train_x.drop(columns=categorial_x),\n",
    "        encoded_df\n",
    "    ],\n",
    "    axis=1,\n",
    ")"
   ]
  },
  {
   "cell_type": "code",
   "execution_count": 17,
   "id": "annual-environment",
   "metadata": {
    "cell_id": 34
   },
   "outputs": [
    {
     "name": "stderr",
     "output_type": "stream",
     "text": [
      "/opt/conda/lib/python3.7/site-packages/sklearn/linear_model/_logistic.py:764: ConvergenceWarning: lbfgs failed to converge (status=1):\n",
      "STOP: TOTAL NO. of ITERATIONS REACHED LIMIT.\n",
      "\n",
      "Increase the number of iterations (max_iter) or scale the data as shown in:\n",
      "    https://scikit-learn.org/stable/modules/preprocessing.html\n",
      "Please also refer to the documentation for alternative solver options:\n",
      "    https://scikit-learn.org/stable/modules/linear_model.html#logistic-regression\n",
      "  extra_warning_msg=_LOGISTIC_SOLVER_CONVERGENCE_MSG)\n"
     ]
    }
   ],
   "source": [
    "def ip(y, X):\n",
    "    mod = LogisticRegression(fit_intercept=True, C=5)\n",
    "    mod.fit(X, y)\n",
    "    weights = np.zeros(X.shape[0])\n",
    "    weights[y == 1] = \\\n",
    "        mod.predict_proba(X.loc[y == 1])[:,1]\n",
    "    weights[y == 0] = \\\n",
    "        mod.predict_proba(X.loc[y == 0])[:,0]\n",
    "    return weights\n",
    "\n",
    "# standardized weights\n",
    "denoms = ip(\n",
    "    train_x['aim_module_user'], \n",
    "    train_x.drop(columns=['aim_module_user'])\n",
    ")"
   ]
  },
  {
   "cell_type": "code",
   "execution_count": 18,
   "id": "united-terminal",
   "metadata": {
    "cell_id": 36
   },
   "outputs": [],
   "source": [
    "weights = 1 / denoms\n",
    "\n",
    "treat_mask = (train_x['aim_module_user']==1)\n",
    "s_weights = np.zeros(train_x.shape[0])\n",
    "s_weights[treat_mask] = \\\n",
    "    treat_mask.mean() * weights[treat_mask]\n",
    "s_weights[~treat_mask] = \\\n",
    "    (1 - treat_mask).mean() * weights[~treat_mask]"
   ]
  },
  {
   "cell_type": "code",
   "execution_count": 19,
   "id": "pregnant-repeat",
   "metadata": {
    "cell_id": 35
   },
   "outputs": [
    {
     "data": {
      "text/html": [
       "<table class=\"simpletable\">\n",
       "<tr>\n",
       "   <td></td>      <th>coef</th>     <th>std err</th>      <th>z</th>      <th>P>|z|</th>  <th>[0.025</th>    <th>0.975]</th>  \n",
       "</tr>\n",
       "<tr>\n",
       "  <th>a</th>   <td>    0.0415</td> <td>    0.003</td> <td>   12.447</td> <td> 0.000</td> <td>    0.035</td> <td>    0.048</td>\n",
       "</tr>\n",
       "<tr>\n",
       "  <th>one</th> <td>    0.0031</td> <td>    0.003</td> <td>    1.044</td> <td> 0.296</td> <td>   -0.003</td> <td>    0.009</td>\n",
       "</tr>\n",
       "</table>"
      ],
      "text/plain": [
       "<class 'statsmodels.iolib.table.SimpleTable'>"
      ]
     },
     "execution_count": 19,
     "metadata": {},
     "output_type": "execute_result"
    }
   ],
   "source": [
    "# fit gee model\n",
    "train_x_a_1 = pd.DataFrame({\n",
    "        'a':train_x['aim_module_user'], \n",
    "        'one':np.ones(train_x.shape[0])\n",
    "    })\n",
    "gee = sm.GEE(\n",
    "    train_y,\n",
    "    train_x_a_1,\n",
    "    groups=train_x_a_1.index.tolist(),\n",
    "    weights=s_weights\n",
    ")\n",
    "\n",
    "gee.fit().summary().tables[1]"
   ]
  },
  {
   "cell_type": "code",
   "execution_count": null,
   "id": "changed-tribe",
   "metadata": {
    "cell_id": 38
   },
   "outputs": [],
   "source": []
  }
 ],
 "metadata": {
  "kernelspec": {
   "display_name": "Python 3",
   "language": "python",
   "name": "python3"
  },
  "language_info": {
   "codemirror_mode": {
    "name": "ipython",
    "version": 3
   },
   "file_extension": ".py",
   "mimetype": "text/x-python",
   "name": "python",
   "nbconvert_exporter": "python",
   "pygments_lexer": "ipython3",
   "version": "3.7.9"
  },
  "max_cell_id": 59
 },
 "nbformat": 4,
 "nbformat_minor": 5
}
