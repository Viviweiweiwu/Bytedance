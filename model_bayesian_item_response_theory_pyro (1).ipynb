{
 "cells": [
  {
   "cell_type": "markdown",
   "metadata": {
    "cell_id": 1,
    "colab_type": "text",
    "id": "zBexp9CXzH-j"
   },
   "source": [
    "IRT with probabilistic programming in Pyro. R package [TAM](https://cran.r-project.org/web/packages/TAM/index.html) with spartial matrices is an alternative.\n",
    "\n",
    "Inspired by: https://github.com/jplalor/py-irt"
   ]
  },
  {
   "cell_type": "code",
   "execution_count": null,
   "metadata": {
    "cell_id": 2,
    "colab": {},
    "colab_type": "code",
    "id": "LG_KbMZPGrdE"
   },
   "outputs": [],
   "source": [
    "# !pip install pyro-ppl "
   ]
  },
  {
   "cell_type": "code",
   "execution_count": 28,
   "metadata": {
    "cell_id": 3,
    "colab": {},
    "colab_type": "code",
    "id": "sMrVtdNAG75Z"
   },
   "outputs": [],
   "source": [
    "import numpy as np\n",
    "import pandas as pd\n",
    "import matplotlib\n",
    "import matplotlib.pyplot as plt\n",
    "import seaborn as sns\n",
    "import pyro\n",
    "import pyro.distributions as dist\n",
    "import torch\n",
    "import torch.distributions.constraints as constraints\n",
    "\n",
    "from pyro.infer import SVI, Trace_ELBO, EmpiricalMarginal, TraceEnum_ELBO\n",
    "from pyro.infer.mcmc import MCMC, NUTS\n",
    "from pyro.optim import Adam, SGD \n",
    "\n",
    "import pyro.contrib.autoguide as autoguide "
   ]
  },
  {
   "cell_type": "markdown",
   "metadata": {
    "cell_id": 4,
    "colab_type": "text",
    "id": "B7IQmliBwMxk"
   },
   "source": [
    "## Reading Input\n",
    "\n",
    "data source: [sqlbuffet](https://sql.llsapp.com/query/query_result/query_id/9971e4c0-c750-11ea-bf84-0286059f4ff3)"
   ]
  },
  {
   "cell_type": "code",
   "execution_count": 31,
   "metadata": {
    "cell_id": 5,
    "colab": {},
    "colab_type": "code",
    "id": "VMG_uJ3iHJDa"
   },
   "outputs": [],
   "source": [
    "\"# reading input\n",
    "df_input = pd.read_excel('9971e4c0-c750-11ea-bf84-0286059f4ff3.0.xlsx')"
   ]
  },
  {
   "cell_type": "code",
   "execution_count": 68,
   "metadata": {
    "cell_id": 6,
    "colab": {},
    "colab_type": "code",
    "id": "aOE0_KbWHTpV"
   },
   "outputs": [],
   "source": [
    "# sorting before building mapping\n",
    "# mapping is for post analysis purpose\n",
    "df_input.sort_values(by=['user_id', 'activity_id_u64'], inplace=True)\n",
    "# mapping: position → user\n",
    "pos_user = df_input['user_id'].unique()\n",
    "pos_item = df_input['activity_id_u64'].unique()\n",
    "# mapping: user → position\n",
    "user_pos = {j: i for i, j in enumerate(pos_user)}\n",
    "item_pos = {j: i for i, j in enumerate(pos_item)}\n",
    "# encoding users with positions\n",
    "user_idx = [user_pos[x] for x in df_input['user_id']]\n",
    "item_idx = [item_pos[x] for x in df_input['activity_id_u64']]\n",
    "scores = df_input['score'].values"
   ]
  },
  {
   "cell_type": "code",
   "execution_count": 69,
   "metadata": {
    "cell_id": 7,
    "colab": {},
    "colab_type": "code",
    "id": "ooVLykvWHWH4"
   },
   "outputs": [],
   "source": [
    "# why?\n",
    "user_idx = torch.tensor(user_idx, dtype=torch.long)\n",
    "item_idx = torch.tensor(item_idx, dtype=torch.long)\n",
    "scores = torch.tensor(scores, dtype=torch.float)"
   ]
  },
  {
   "cell_type": "markdown",
   "metadata": {
    "cell_id": 8,
    "colab_type": "text",
    "id": "tyPXiz81ugPk"
   },
   "source": [
    "## Fitting IRT\n",
    "\n",
    "2 parameter model\n",
    "\n",
    "$$Pr(x_{im}=1 | z_m; \\theta) = \\frac{1}{1+\\exp\\{{-\\alpha_i(z_m - \\beta_i)}\\}}$$"
   ]
  },
  {
   "cell_type": "code",
   "execution_count": 67,
   "metadata": {
    "cell_id": 9,
    "colab": {},
    "colab_type": "code",
    "id": "FljWsqzSHaTR"
   },
   "outputs": [],
   "source": [
    "# model with Pyro\n",
    "def model(user_idx, item_idx, scores):\n",
    "    user_num, item_num = len(user_idx.unique()), len(item_idx.unique())\n",
    "    with pyro.plate('ability', user_num):\n",
    "        ability = pyro.sample('z', dist.Normal(0, 1)) \n",
    "\n",
    "    with pyro.plate('diff', item_num):\n",
    "        diff = pyro.sample('beta', dist.Normal(0, 1.e3))\n",
    "        \n",
    "    with pyro.plate('discr', item_num):\n",
    "        discr = pyro.sample('alpha', dist.LogNormal(0, 8))\n",
    "\n",
    "    with pyro.plate('scores', len(scores)):\n",
    "        pyro.sample(\n",
    "            \"obs\", \n",
    "            dist.Bernoulli(\n",
    "                logits=(ability[user_idx]-diff[item_idx])*discr[item_idx]\n",
    "            ), \n",
    "            obs=scores,\n",
    "        )\n",
    "\n",
    "\n",
    "def guide(user_idx, item_idx, scores):        \n",
    "    user_num, item_num = len(user_idx.unique()), len(item_idx.unique())\n",
    "    # register prams\n",
    "    loc_z = pyro.param(\"loc_z\", torch.zeros(user_num))\n",
    "    scale_z = pyro.param(\n",
    "        \"scale_z\",\n",
    "        torch.ones(user_num),\n",
    "        constraint=constraints.positive,\n",
    "    )\n",
    "    loc_beta = pyro.param(\"loc_beta\", torch.zeros(item_num))\n",
    "    scale_beta = pyro.param(\n",
    "        \"scale_beta\",\n",
    "        torch.empty(item_num).fill_(1.e2),\n",
    "        constraint=constraints.positive,\n",
    "    )\n",
    "    loc_alpha = pyro.param(\n",
    "        \"loc_alpha\", \n",
    "        torch.zeros(item_num),\n",
    "        constraint=constraints.positive,\n",
    "    )\n",
    "    scale_alpha = pyro.param(\n",
    "        \"scale_alpha\",\n",
    "        torch.empty(item_num).fill_(1.e1),\n",
    "        constraint=constraints.positive,\n",
    "    )\n",
    "    # guide distributions\n",
    "    with pyro.plate('ability', user_num):\n",
    "        dist_z = dist.Normal(loc_z, scale_z)\n",
    "        pyro.sample('z', dist_z)\n",
    "    with pyro.plate('diff', item_num):\n",
    "        dist_beta = dist.Normal(loc_beta, scale_beta)\n",
    "        pyro.sample('beta', dist_beta)\n",
    "    with pyro.plate('discr', item_num):\n",
    "        dist_discr = dist.LogNormal(loc_alpha, scale_alpha)\n",
    "        pyro.sample('alpha', dist_discr)"
   ]
  },
  {
   "cell_type": "markdown",
   "metadata": {
    "cell_id": 10,
    "colab_type": "text",
    "id": "38cboRSKZ9RA"
   },
   "source": [
    "## Training\n",
    "\n",
    "training with SVI"
   ]
  },
  {
   "cell_type": "code",
   "execution_count": 92,
   "metadata": {
    "cell_id": 11,
    "colab": {
     "base_uri": "https://localhost:8080/",
     "height": 306
    },
    "colab_type": "code",
    "id": "da7RTTCbHcUj",
    "outputId": "32a1fb03-81d7-45d1-d2b6-bc8d8dc57e3d"
   },
   "outputs": [
    {
     "name": "stdout",
     "output_type": "stream",
     "text": [
      "[epoch 0001] loss: 170424117756353.4688\n",
      "[epoch 0501] loss: 33877269664.6725\n",
      "[epoch 1001] loss: 89425786163.1597\n",
      "[epoch 1501] loss: 826642165.5739\n",
      "[epoch 2001] loss: 1060441819.8144\n",
      "[epoch 2501] loss: 30362874292.0188\n",
      "[epoch 3001] loss: 128563987.7487\n",
      "[epoch 3501] loss: 17932045.3304\n",
      "[epoch 4001] loss: 27539792.8029\n",
      "[epoch 4501] loss: 25106094.3694\n",
      "[epoch 5001] loss: 376549885.4208\n",
      "[epoch 5501] loss: 759877555.1970\n",
      "[epoch 6001] loss: 41219781.1773\n",
      "[epoch 6501] loss: 262253018.1539\n",
      "[epoch 7001] loss: 81201172.5425\n",
      "[epoch 7501] loss: 3432631.6552\n",
      "[epoch 8000] loss: 39550888.3387\n"
     ]
    }
   ],
   "source": [
    "num_epochs = 8_000\n",
    "adam_params = {\"lr\": 0.05, \"betas\": (0.90, 0.999)}\n",
    "optimizer = Adam(adam_params)\n",
    "svi = SVI(model, guide, optimizer, loss=Trace_ELBO())\n",
    "\n",
    "pyro.clear_param_store()\n",
    "for j in range(num_epochs):\n",
    "        loss = svi.step(user_idx, item_idx, scores)\n",
    "        if j % 500 == 0:\n",
    "            print(\"[epoch %04d] loss: %.4f\" % (j + 1, loss))\n",
    "\n",
    "print(\"[epoch %04d] loss: %.4f\" % (j + 1, loss))"
   ]
  },
  {
   "cell_type": "markdown",
   "metadata": {
    "cell_id": 12,
    "colab_type": "text",
    "id": "ZzPJ_AzRZ_5L"
   },
   "source": [
    "training with MCMC, too slow..."
   ]
  },
  {
   "cell_type": "code",
   "execution_count": null,
   "metadata": {
    "cell_id": 13,
    "colab": {},
    "colab_type": "code",
    "id": "pA3ARIcgHeY1"
   },
   "outputs": [],
   "source": [
    "# pyro.clear_param_store()\n",
    "# nuts_kernel = NUTS(model, adapt_step_size=True)\n",
    "# mcmc = MCMC(nuts_kernel, num_samples=1000, warmup_steps=100)\n",
    "# mcmc.run(user_idx, item_idx, scores) "
   ]
  },
  {
   "cell_type": "markdown",
   "metadata": {
    "cell_id": 14,
    "colab_type": "text",
    "id": "XEJDyrHeb7Q8"
   },
   "source": [
    "## Result Analysis"
   ]
  },
  {
   "cell_type": "code",
   "execution_count": 93,
   "metadata": {
    "cell_id": 15,
    "colab": {},
    "colab_type": "code",
    "id": "ytS4jl0os9Mv"
   },
   "outputs": [],
   "source": [
    "loc_beta = pyro.param(\"loc_beta\").detach().numpy()\n",
    "loc_z = pyro.param(\"loc_z\").detach().numpy()\n",
    "item_diff = {i:j for i, j in zip(pos_item, loc_beta)}\n",
    "user_ability = {i:j for i, j in zip(pos_user, loc_z)}"
   ]
  },
  {
   "cell_type": "code",
   "execution_count": 94,
   "metadata": {
    "cell_id": 16,
    "colab": {
     "base_uri": "https://localhost:8080/",
     "height": 282
    },
    "colab_type": "code",
    "id": "zKDJJD2Z06sd",
    "outputId": "01b52fc6-27ba-4af8-aa24-5dfc0d93b01a"
   },
   "outputs": [
    {
     "data": {
      "text/plain": [
       "<matplotlib.axes._subplots.AxesSubplot at 0x7f5360c6de48>"
      ]
     },
     "execution_count": 94,
     "metadata": {
      "tags": []
     },
     "output_type": "execute_result"
    },
    {
     "data": {
      "image/png": "[encoded data removed]",
      "text/plain": [
       "<Figure size 432x288 with 1 Axes>"
      ]
     },
     "metadata": {
      "needs_background": "light",
      "tags": []
     },
     "output_type": "display_data"
    }
   ],
   "source": [
    "sns.distplot(loc_z)"
   ]
  },
  {
   "cell_type": "code",
   "execution_count": 96,
   "metadata": {
    "cell_id": 17,
    "colab": {
     "base_uri": "https://localhost:8080/",
     "height": 282
    },
    "colab_type": "code",
    "id": "QpHavSeQbw20",
    "outputId": "fc82b977-e191-4392-8d5a-6d4355ef9b49"
   },
   "outputs": [
    {
     "data": {
      "text/plain": [
       "<matplotlib.axes._subplots.AxesSubplot at 0x7f53610e1908>"
      ]
     },
     "execution_count": 96,
     "metadata": {
      "tags": []
     },
     "output_type": "execute_result"
    },
    {
     "data": {
      "image/png": "[encoded data removed]",
      "text/plain": [
       "<Figure size 432x288 with 1 Axes>"
      ]
     },
     "metadata": {
      "needs_background": "light",
      "tags": []
     },
     "output_type": "display_data"
    }
   ],
   "source": [
    "sns.distplot(loc_beta)"
   ]
  },
  {
   "cell_type": "code",
   "execution_count": 95,
   "metadata": {
    "cell_id": 18,
    "colab": {
     "base_uri": "https://localhost:8080/",
     "height": 282
    },
    "colab_type": "code",
    "id": "16zDtin22Igj",
    "outputId": "ac59f8fa-0c31-46ed-cf66-1b0307df3ead"
   },
   "outputs": [
    {
     "data": {
      "text/plain": [
       "<matplotlib.axes._subplots.AxesSubplot at 0x7f53610e5eb8>"
      ]
     },
     "execution_count": 95,
     "metadata": {
      "tags": []
     },
     "output_type": "execute_result"
    },
    {
     "data": {
      "image/png": "[encoded data removed]",
      "text/plain": [
       "<Figure size 432x288 with 1 Axes>"
      ]
     },
     "metadata": {
      "needs_background": "light",
      "tags": []
     },
     "output_type": "display_data"
    }
   ],
   "source": [
    "# latent variables v.s. test result levels\n",
    "levels = df_input[['user_id','level']].drop_duplicates()['level'].values\n",
    "sns.boxplot(x=levels, y=loc_z)"
   ]
  },
  {
   "cell_type": "code",
   "execution_count": 108,
   "metadata": {
    "cell_id": 19,
    "colab": {},
    "colab_type": "code",
    "id": "6EYTS7m5VtzB"
   },
   "outputs": [],
   "source": [
    "# add difficulty column\n",
    "df_input['diff'] = df_input['activity_id_u64'].map(item_diff)\n",
    "# add timestamp rank per user\n",
    "df_input['rank'] = df_input.groupby('user_id')['timestamp_usec'].rank('dense').astype(int)"
   ]
  },
  {
   "cell_type": "code",
   "execution_count": 113,
   "metadata": {
    "cell_id": 20,
    "colab": {
     "base_uri": "https://localhost:8080/",
     "height": 424
    },
    "colab_type": "code",
    "id": "xfAwy_EtcYDx",
    "outputId": "ee136b35-3da4-4b0d-d67a-49913203bde1"
   },
   "outputs": [
    {
     "data": {
      "text/plain": [
       "(array([ 0,  1,  2,  3,  4,  5,  6,  7,  8,  9, 10, 11, 12, 13, 14, 15, 16,\n",
       "        17, 18, 19, 20, 21, 22, 23, 24, 25, 26, 27, 28, 29, 30, 31, 32, 33,\n",
       "        34, 35, 36, 37, 38, 39, 40, 41, 42, 43, 44, 45, 46, 47, 48, 49, 50,\n",
       "        51, 52, 53, 54, 55, 56, 57, 58, 59]),\n",
       " <a list of 60 Text major ticklabel objects>)"
      ]
     },
     "execution_count": 113,
     "metadata": {
      "tags": []
     },
     "output_type": "execute_result"
    },
    {
     "data": {
      "image/png": "[encoded data removed]",
      "text/plain": [
       "<Figure size 1152x432 with 1 Axes>"
      ]
     },
     "metadata": {
      "tags": []
     },
     "output_type": "display_data"
    }
   ],
   "source": [
    "# plot beta v.s. order of questions\n",
    "sns.set_style(\"whitegrid\")\n",
    "fig, ax = plt.subplots()\n",
    "fig.set_size_inches(16, 6)\n",
    "g = sns.boxplot(x='rank', y='diff', data=df_input)\n",
    "plt.xticks(rotation=45)"
   ]
  },
  {
   "cell_type": "code",
   "execution_count": null,
   "metadata": {
    "cell_id": 21,
    "colab": {},
    "colab_type": "code",
    "id": "s_Jo-Q9-cpTv"
   },
   "outputs": [],
   "source": []
  }
 ],
 "metadata": {
  "colab": {
   "collapsed_sections": [],
   "name": "model_bayesian_item_response_theory_pyro.ipynb",
   "provenance": []
  },
  "kernelspec": {
   "display_name": "Python 3",
   "language": "python",
   "name": "python3"
  },
  "language_info": {
   "codemirror_mode": {
    "name": "ipython",
    "version": 3
   },
   "file_extension": ".py",
   "mimetype": "text/x-python",
   "name": "python",
   "nbconvert_exporter": "python",
   "pygments_lexer": "ipython3",
   "version": "3.7.8"
  },
  "max_cell_id": 22
 },
 "nbformat": 4,
 "nbformat_minor": 1
}
