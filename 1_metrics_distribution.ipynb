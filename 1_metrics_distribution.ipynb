{
 "cells": [
  {
   "cell_type": "code",
   "execution_count": 2,
   "id": "9a178432",
   "metadata": {
    "cell_id": 1
   },
   "outputs": [
    {
     "name": "stderr",
     "output_type": "stream",
     "text": [
      "Duplicate key in file PosixPath('/opt/conda/lib/python3.7/site-packages/matplotlib/mpl-data/matplotlibrc'), line 767 ('font.family  : sans-serif')\n",
      "Duplicate key in file PosixPath('/opt/conda/lib/python3.7/site-packages/matplotlib/mpl-data/matplotlibrc'), line 768 ('font.sans-serif : SimHei, DejaVu Sans, Bitstream Vera Sans, Computer Modern Sans Serif, Lucida Grande, Verdana, Geneva, Lucid, Arial, Helvetica, Avant Garde, sans-serif')\n",
      "Duplicate key in file PosixPath('/opt/conda/lib/python3.7/site-packages/matplotlib/mpl-data/matplotlibrc'), line 769 ('axes.unicode_minus : False')\n"
     ]
    }
   ],
   "source": [
    "import pandas as pd\n",
    "import numpy as np\n",
    "import random\n",
    "import matplotlib\n",
    "import matplotlib.pyplot\n",
    "import copy\n",
    "from itertools import combinations\n",
    "from scipy.special import factorial, comb\n",
    "from IPython.display import display, HTML\n",
    "from datetime import date, timedelta\n",
    "from typing import List\n",
    "from collections.abc import Callable\n",
    "from pprint import pprint\n",
    "from scipy import stats\n",
    "from scipy.stats import shapiro\n",
    "\n",
    "from pyspark import SparkConf, SparkContext\n",
    "from pyspark.sql import SparkSession\n",
    "\n",
    "conf = SparkConf()\n",
    "conf.setMaster('yarn')\n",
    "conf.setAppName('hive_sql_query')\n",
    "\n",
    "# set cluster name and queue that you have permission to access\n",
    "conf.set(\"spark.hadoop.yarn.cluster.name\", \"default\")\n",
    "conf.set(\"spark.yarn.queue\", \"root.mouse_tiktok_ug_data\")\n",
    "\n",
    "spark = SparkSession.builder.config(conf=conf).getOrCreate()"
   ]
  },
  {
   "cell_type": "code",
   "execution_count": 4,
   "id": "14d37d30",
   "metadata": {
    "cell_id": 3
   },
   "outputs": [],
   "source": [
    "start_date = '20211201'\n",
    "end_date = '20211214'"
   ]
  },
  {
   "cell_type": "code",
   "execution_count": 5,
   "id": "14af987d",
   "metadata": {
    "cell_id": 4
   },
   "outputs": [],
   "source": [
    "# sql for raw data\n",
    "sql = \"\"\"\n",
    "with user_list as \n",
    "(\n",
    "    select \n",
    "        device_id\n",
    "    from ug_dw_int.dw_ug_device_retention_daily\n",
    "    where date = '{start_date}'\n",
    "    and is_active = 1\n",
    "    and app_id in (1180, 1233, 1339, 1340)\n",
    "    limit 100000\n",
    "),\n",
    "user_vv as \n",
    "(\n",
    "    select \n",
    "        device_id,\n",
    "        sum(is_active) as active_day,\n",
    "        sum(vv) as sum_vv\n",
    "    from ug_dw_int.dw_ug_device_retention_daily\n",
    "    where date between '{start_date}' and '{end_date}'\n",
    "    and app_id in (1180, 1233, 1339, 1340)\n",
    "    group by \n",
    "        device_id\n",
    ")\n",
    "\n",
    "select \n",
    "    ul.device_id,\n",
    "    active_day,\n",
    "    sum_vv\n",
    "from user_list ul \n",
    "left join user_vv uv on ul.device_id = uv.device_id\n",
    "\"\"\""
   ]
  },
  {
   "cell_type": "code",
   "execution_count": 6,
   "id": "46e6fe21",
   "metadata": {
    "cell_id": 2
   },
   "outputs": [],
   "source": [
    "sql_w_param = sql.format(**{'start_date': start_date, 'end_date': end_date})\n",
    "# run spark sql\n",
    "df_raw_spark = spark.sql(sql_w_param)\n",
    "# create pandas df\n",
    "df_raw = df_raw_spark.toPandas()"
   ]
  },
  {
   "cell_type": "code",
   "execution_count": 7,
   "id": "879aae01",
   "metadata": {
    "cell_id": 5
   },
   "outputs": [
    {
     "data": {
      "text/html": [
       "<div>\n",
       "<style scoped>\n",
       "    .dataframe tbody tr th:only-of-type {\n",
       "        vertical-align: middle;\n",
       "    }\n",
       "\n",
       "    .dataframe tbody tr th {\n",
       "        vertical-align: top;\n",
       "    }\n",
       "\n",
       "    .dataframe thead th {\n",
       "        text-align: right;\n",
       "    }\n",
       "</style>\n",
       "<table border=\"1\" class=\"dataframe\">\n",
       "  <thead>\n",
       "    <tr style=\"text-align: right;\">\n",
       "      <th></th>\n",
       "      <th>device_id</th>\n",
       "      <th>active_day</th>\n",
       "      <th>sum_vv</th>\n",
       "    </tr>\n",
       "  </thead>\n",
       "  <tbody>\n",
       "    <tr>\n",
       "      <th>0</th>\n",
       "      <td>6749075313764369926</td>\n",
       "      <td>13</td>\n",
       "      <td>5250</td>\n",
       "    </tr>\n",
       "    <tr>\n",
       "      <th>1</th>\n",
       "      <td>6749078303405278726</td>\n",
       "      <td>14</td>\n",
       "      <td>4651</td>\n",
       "    </tr>\n",
       "    <tr>\n",
       "      <th>2</th>\n",
       "      <td>6749128076226381313</td>\n",
       "      <td>14</td>\n",
       "      <td>6433</td>\n",
       "    </tr>\n",
       "    <tr>\n",
       "      <th>3</th>\n",
       "      <td>6749148190337828358</td>\n",
       "      <td>14</td>\n",
       "      <td>2253</td>\n",
       "    </tr>\n",
       "    <tr>\n",
       "      <th>4</th>\n",
       "      <td>6749165924533700101</td>\n",
       "      <td>5</td>\n",
       "      <td>724</td>\n",
       "    </tr>\n",
       "  </tbody>\n",
       "</table>\n",
       "</div>"
      ],
      "text/plain": [
       "             device_id  active_day  sum_vv\n",
       "0  6749075313764369926          13    5250\n",
       "1  6749078303405278726          14    4651\n",
       "2  6749128076226381313          14    6433\n",
       "3  6749148190337828358          14    2253\n",
       "4  6749165924533700101           5     724"
      ]
     },
     "execution_count": 7,
     "metadata": {},
     "output_type": "execute_result"
    }
   ],
   "source": [
    "df_raw.head()"
   ]
  },
  {
   "cell_type": "code",
   "execution_count": 8,
   "id": "4e82b1db",
   "metadata": {
    "cell_id": 6
   },
   "outputs": [
    {
     "data": {
      "text/html": [
       "<div>\n",
       "<style scoped>\n",
       "    .dataframe tbody tr th:only-of-type {\n",
       "        vertical-align: middle;\n",
       "    }\n",
       "\n",
       "    .dataframe tbody tr th {\n",
       "        vertical-align: top;\n",
       "    }\n",
       "\n",
       "    .dataframe thead th {\n",
       "        text-align: right;\n",
       "    }\n",
       "</style>\n",
       "<table border=\"1\" class=\"dataframe\">\n",
       "  <thead>\n",
       "    <tr style=\"text-align: right;\">\n",
       "      <th></th>\n",
       "      <th>device_id</th>\n",
       "      <th>active_day</th>\n",
       "      <th>sum_vv</th>\n",
       "      <th>vv_per_active_day</th>\n",
       "    </tr>\n",
       "  </thead>\n",
       "  <tbody>\n",
       "    <tr>\n",
       "      <th>0</th>\n",
       "      <td>6749075313764369926</td>\n",
       "      <td>13</td>\n",
       "      <td>5250</td>\n",
       "      <td>403.846154</td>\n",
       "    </tr>\n",
       "    <tr>\n",
       "      <th>1</th>\n",
       "      <td>6749078303405278726</td>\n",
       "      <td>14</td>\n",
       "      <td>4651</td>\n",
       "      <td>332.214286</td>\n",
       "    </tr>\n",
       "    <tr>\n",
       "      <th>2</th>\n",
       "      <td>6749128076226381313</td>\n",
       "      <td>14</td>\n",
       "      <td>6433</td>\n",
       "      <td>459.500000</td>\n",
       "    </tr>\n",
       "    <tr>\n",
       "      <th>3</th>\n",
       "      <td>6749148190337828358</td>\n",
       "      <td>14</td>\n",
       "      <td>2253</td>\n",
       "      <td>160.928571</td>\n",
       "    </tr>\n",
       "    <tr>\n",
       "      <th>4</th>\n",
       "      <td>6749165924533700101</td>\n",
       "      <td>5</td>\n",
       "      <td>724</td>\n",
       "      <td>144.800000</td>\n",
       "    </tr>\n",
       "  </tbody>\n",
       "</table>\n",
       "</div>"
      ],
      "text/plain": [
       "             device_id  active_day  sum_vv  vv_per_active_day\n",
       "0  6749075313764369926          13    5250         403.846154\n",
       "1  6749078303405278726          14    4651         332.214286\n",
       "2  6749128076226381313          14    6433         459.500000\n",
       "3  6749148190337828358          14    2253         160.928571\n",
       "4  6749165924533700101           5     724         144.800000"
      ]
     },
     "execution_count": 8,
     "metadata": {},
     "output_type": "execute_result"
    }
   ],
   "source": [
    "df = df_raw\n",
    "df['vv_per_active_day'] = df['sum_vv'] / df['active_day']\n",
    "\n",
    "df.head()"
   ]
  },
  {
   "cell_type": "markdown",
   "id": "ea7b481a",
   "metadata": {
    "cell_id": 8
   },
   "source": []
  },
  {
   "cell_type": "code",
   "execution_count": 9,
   "id": "89609fe3",
   "metadata": {
    "cell_id": 7
   },
   "outputs": [],
   "source": [
    "# matplotlib.pyplot.hist(df['vv_per_active_day'].to_numpy())"
   ]
  },
  {
   "cell_type": "code",
   "execution_count": 10,
   "id": "2b4c31ce",
   "metadata": {
    "cell_id": 9
   },
   "outputs": [],
   "source": [
    "# matplotlib.pyplot.hist(df['sum_vv'].to_numpy())"
   ]
  },
  {
   "cell_type": "code",
   "execution_count": 22,
   "id": "1e531605",
   "metadata": {
    "cell_id": 22
   },
   "outputs": [
    {
     "name": "stdout",
     "output_type": "stream",
     "text": [
      "0.8314646482467651\n"
     ]
    },
    {
     "data": {
      "image/png": "[encoded data removed]",
      "text/plain": [
       "<Figure size 432x288 with 1 Axes>"
      ]
     },
     "metadata": {
      "needs_background": "light"
     },
     "output_type": "display_data"
    }
   ],
   "source": [
    "to_be_test = df.vv_per_active_day\n",
    "\n",
    "sample_time = 10000\n",
    "\n",
    "sample_mean_list = [None] * sample_time\n",
    "\n",
    "for i in range(sample_time):\n",
    "    random_sample = np.random.choice(to_be_test, 10000 , replace = True)\n",
    "    sample_mean = random_sample.mean()\n",
    "    sample_mean_list[i] = sample_mean\n",
    "\n",
    "matplotlib.pyplot.hist(sample_mean_list)\n",
    "\n",
    "stat, p = shapiro(sample_mean_list)\n",
    "\n",
    "print(p)"
   ]
  },
  {
   "cell_type": "code",
   "execution_count": 23,
   "id": "68898af7",
   "metadata": {
    "cell_id": 23
   },
   "outputs": [
    {
     "name": "stdout",
     "output_type": "stream",
     "text": [
      "0.7361829280853271\n"
     ]
    },
    {
     "data": {
      "image/png": "[encoded data removed]",
      "text/plain": [
       "<Figure size 432x288 with 1 Axes>"
      ]
     },
     "metadata": {
      "needs_background": "light"
     },
     "output_type": "display_data"
    }
   ],
   "source": [
    "to_be_test = df.sum_vv\n",
    "\n",
    "sample_time = 10000\n",
    "\n",
    "sample_mean_list = [None] * sample_time\n",
    "\n",
    "for i in range(sample_time):\n",
    "    random_sample = np.random.choice(to_be_test, 10000 , replace = True)\n",
    "    sample_mean = random_sample.mean()\n",
    "    sample_mean_list[i] = sample_mean\n",
    "\n",
    "matplotlib.pyplot.hist(sample_mean_list)\n",
    "\n",
    "stat, p = shapiro(sample_mean_list)\n",
    "\n",
    "print(p)"
   ]
  },
  {
   "cell_type": "code",
   "execution_count": 11,
   "id": "e8a582fb",
   "metadata": {
    "cell_id": 12
   },
   "outputs": [
    {
     "name": "stdout",
     "output_type": "stream",
     "text": [
      "0.0\n"
     ]
    },
    {
     "name": "stderr",
     "output_type": "stream",
     "text": [
      "/opt/conda/lib/python3.7/site-packages/scipy/stats/morestats.py:1681: UserWarning: p-value may not be accurate for N > 5000.\n",
      "  warnings.warn(\"p-value may not be accurate for N > 5000.\")\n"
     ]
    }
   ],
   "source": [
    "stat, p = shapiro(df.vv_per_active_day)\n",
    "\n",
    "print(p)"
   ]
  },
  {
   "cell_type": "code",
   "execution_count": 5,
   "id": "cbb50b32",
   "metadata": {
    "cell_id": 20
   },
   "outputs": [
    {
     "data": {
      "text/plain": [
       "Power_divergenceResult(statistic=1.7521210406497578, pvalue=0.18561031006034256)"
      ]
     },
     "execution_count": 5,
     "metadata": {},
     "output_type": "execute_result"
    }
   ],
   "source": [
    "stats.chisquare([ 951626 , 953453]) "
   ]
  },
  {
   "cell_type": "code",
   "execution_count": null,
   "id": "66b93f8b",
   "metadata": {
    "cell_id": 24
   },
   "outputs": [],
   "source": []
  }
 ],
 "metadata": {
  "kernelspec": {
   "display_name": "Python 3",
   "language": "python",
   "name": "python3"
  },
  "language_info": {
   "codemirror_mode": {
    "name": "ipython",
    "version": 3
   },
   "file_extension": ".py",
   "mimetype": "text/x-python",
   "name": "python",
   "nbconvert_exporter": "python",
   "pygments_lexer": "ipython3",
   "version": "3.7.12"
  },
  "max_cell_id": 25
 },
 "nbformat": 4,
 "nbformat_minor": 5
}
