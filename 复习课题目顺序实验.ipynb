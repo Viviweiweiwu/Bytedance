{
 "cells": [
  {
   "cell_type": "code",
   "execution_count": 10,
   "metadata": {
    "cell_id": 1
   },
   "outputs": [],
   "source": [
    "import numpy as np\n",
    "import pandas as pd\n",
    "#import seaborn as sns\n",
    "import scipy.stats as stats\n",
    "import matplotlib.pyplot as plt\n",
    "# from statsmodels.stats.proportion import proportions_ztest\n",
    "# from statsmodels.stats.proportion import proportions_chisquare\n",
    "from IPython.display import display, HTML\n",
    "from scipy.stats import kruskal\n",
    "\n",
    "import sys\n",
    "import logging\n",
    "logging.basicConfig(level=logging.CRITICAL)\n",
    "\n",
    "from pytqs import tqs\n",
    "import bytedtqs"
   ]
  },
  {
   "cell_type": "code",
   "execution_count": 11,
   "metadata": {
    "cell_id": 90
   },
   "outputs": [],
   "source": [
    "# appId = \"eL38NWjpAMXlC0ifCoo71wk27zE6CS9YQismEcwVH5oNKbJf\"\n",
    "# appKey = \"VeeOKtXLxjGWE2OyIGkuqWRT33isyxtHH1xlxakeFzId6SMB\"\n",
    "# user_id = 'wuweiwei.1012'"
   ]
  },
  {
   "cell_type": "code",
   "execution_count": 12,
   "metadata": {
    "cell_id": 2
   },
   "outputs": [],
   "source": [
    "def two_proprotions_test(success_a, size_a, success_b, size_b):\n",
    "    prop_a = success_a / size_a\n",
    "    prop_b = success_b / size_b\n",
    "    prop_pooled = (success_a + success_b) / (size_a + size_b)\n",
    "    var = prop_pooled * (1 - prop_pooled) * (1 / size_a + 1 / size_b)\n",
    "    zscore = np.abs(prop_b - prop_a) / np.sqrt(var)\n",
    "    one_side = 1 - stats.norm(loc = 0, scale = 1).cdf(zscore)\n",
    "    pvalue = one_side * 2\n",
    "    return zscore, pvalue"
   ]
  },
  {
   "cell_type": "markdown",
   "metadata": {
    "cell_id": 91
   },
   "source": [
    "### 获取实验数据"
   ]
  },
  {
   "cell_type": "code",
   "execution_count": 13,
   "metadata": {
    "cell_id": 3
   },
   "outputs": [],
   "source": [
    "all_data = pd.read_csv('/home/tiger/archived-data/aeolus-data/20210310/13/39648599-课程实验-复习课题目顺序-查询60.csv', encoding = 'gb18030')"
   ]
  },
  {
   "cell_type": "code",
   "execution_count": 14,
   "metadata": {
    "cell_id": 94
   },
   "outputs": [
    {
     "data": {
      "text/html": [
       "<div>\n",
       "<style scoped>\n",
       "    .dataframe tbody tr th:only-of-type {\n",
       "        vertical-align: middle;\n",
       "    }\n",
       "\n",
       "    .dataframe tbody tr th {\n",
       "        vertical-align: top;\n",
       "    }\n",
       "\n",
       "    .dataframe thead th {\n",
       "        text-align: right;\n",
       "    }\n",
       "</style>\n",
       "<table border=\"1\" class=\"dataframe\">\n",
       "  <thead>\n",
       "    <tr style=\"text-align: right;\">\n",
       "      <th></th>\n",
       "      <th>abtest_dt</th>\n",
       "      <th>user_group</th>\n",
       "      <th>user_id</th>\n",
       "      <th>milestone_name</th>\n",
       "      <th>finish_review_yn</th>\n",
       "      <th>finish_review_2nd_yn</th>\n",
       "      <th>ttl_ruler_exe</th>\n",
       "      <th>correct_exe</th>\n",
       "      <th>ttl_mastery_degree_d1</th>\n",
       "      <th>ttl_kp_num_d1</th>\n",
       "      <th>...</th>\n",
       "      <th>ttl_mastery_degree_d10</th>\n",
       "      <th>ttl_kp_num_d10</th>\n",
       "      <th>ttl_mastery_degree_d11</th>\n",
       "      <th>ttl_kp_num_d11</th>\n",
       "      <th>ttl_mastery_degree_d12</th>\n",
       "      <th>ttl_kp_num_d12</th>\n",
       "      <th>ttl_mastery_degree_d13</th>\n",
       "      <th>ttl_kp_num_d13</th>\n",
       "      <th>ttl_mastery_degree_d14</th>\n",
       "      <th>ttl_kp_num_d14</th>\n",
       "    </tr>\n",
       "  </thead>\n",
       "  <tbody>\n",
       "    <tr>\n",
       "      <th>0</th>\n",
       "      <td>2021-02-27</td>\n",
       "      <td>实验组</td>\n",
       "      <td>3223108</td>\n",
       "      <td>B1中</td>\n",
       "      <td>0</td>\n",
       "      <td>0</td>\n",
       "      <td>0</td>\n",
       "      <td>0</td>\n",
       "      <td>0.0</td>\n",
       "      <td>0</td>\n",
       "      <td>...</td>\n",
       "      <td>0.0</td>\n",
       "      <td>0</td>\n",
       "      <td>0.0</td>\n",
       "      <td>0</td>\n",
       "      <td>0.0</td>\n",
       "      <td>0</td>\n",
       "      <td>0.0</td>\n",
       "      <td>0</td>\n",
       "      <td>0.0</td>\n",
       "      <td>0</td>\n",
       "    </tr>\n",
       "    <tr>\n",
       "      <th>1</th>\n",
       "      <td>2021-02-09</td>\n",
       "      <td>实验组</td>\n",
       "      <td>2455666821</td>\n",
       "      <td>A2初</td>\n",
       "      <td>0</td>\n",
       "      <td>0</td>\n",
       "      <td>0</td>\n",
       "      <td>0</td>\n",
       "      <td>0.0</td>\n",
       "      <td>0</td>\n",
       "      <td>...</td>\n",
       "      <td>0.0</td>\n",
       "      <td>0</td>\n",
       "      <td>0.0</td>\n",
       "      <td>0</td>\n",
       "      <td>0.0</td>\n",
       "      <td>0</td>\n",
       "      <td>0.0</td>\n",
       "      <td>0</td>\n",
       "      <td>0.0</td>\n",
       "      <td>0</td>\n",
       "    </tr>\n",
       "    <tr>\n",
       "      <th>2</th>\n",
       "      <td>2021-02-01</td>\n",
       "      <td>实验组</td>\n",
       "      <td>3101112775</td>\n",
       "      <td>未定级</td>\n",
       "      <td>0</td>\n",
       "      <td>0</td>\n",
       "      <td>0</td>\n",
       "      <td>0</td>\n",
       "      <td>0.0</td>\n",
       "      <td>0</td>\n",
       "      <td>...</td>\n",
       "      <td>0.0</td>\n",
       "      <td>0</td>\n",
       "      <td>0.0</td>\n",
       "      <td>0</td>\n",
       "      <td>0.0</td>\n",
       "      <td>0</td>\n",
       "      <td>0.0</td>\n",
       "      <td>0</td>\n",
       "      <td>0.0</td>\n",
       "      <td>0</td>\n",
       "    </tr>\n",
       "    <tr>\n",
       "      <th>3</th>\n",
       "      <td>2021-02-11</td>\n",
       "      <td>实验组</td>\n",
       "      <td>3102346712</td>\n",
       "      <td>未定级</td>\n",
       "      <td>0</td>\n",
       "      <td>0</td>\n",
       "      <td>0</td>\n",
       "      <td>0</td>\n",
       "      <td>0.0</td>\n",
       "      <td>0</td>\n",
       "      <td>...</td>\n",
       "      <td>0.0</td>\n",
       "      <td>0</td>\n",
       "      <td>0.0</td>\n",
       "      <td>0</td>\n",
       "      <td>0.0</td>\n",
       "      <td>0</td>\n",
       "      <td>0.0</td>\n",
       "      <td>0</td>\n",
       "      <td>0.0</td>\n",
       "      <td>0</td>\n",
       "    </tr>\n",
       "    <tr>\n",
       "      <th>4</th>\n",
       "      <td>2021-01-22</td>\n",
       "      <td>对照组</td>\n",
       "      <td>3141714654</td>\n",
       "      <td>C2</td>\n",
       "      <td>0</td>\n",
       "      <td>0</td>\n",
       "      <td>0</td>\n",
       "      <td>0</td>\n",
       "      <td>0.0</td>\n",
       "      <td>0</td>\n",
       "      <td>...</td>\n",
       "      <td>0.0</td>\n",
       "      <td>0</td>\n",
       "      <td>0.0</td>\n",
       "      <td>0</td>\n",
       "      <td>0.0</td>\n",
       "      <td>0</td>\n",
       "      <td>0.0</td>\n",
       "      <td>0</td>\n",
       "      <td>0.0</td>\n",
       "      <td>0</td>\n",
       "    </tr>\n",
       "  </tbody>\n",
       "</table>\n",
       "<p>5 rows × 36 columns</p>\n",
       "</div>"
      ],
      "text/plain": [
       "    abtest_dt user_group     user_id milestone_name  finish_review_yn  \\\n",
       "0  2021-02-27        实验组     3223108            B1中                 0   \n",
       "1  2021-02-09        实验组  2455666821            A2初                 0   \n",
       "2  2021-02-01        实验组  3101112775            未定级                 0   \n",
       "3  2021-02-11        实验组  3102346712            未定级                 0   \n",
       "4  2021-01-22        对照组  3141714654             C2                 0   \n",
       "\n",
       "   finish_review_2nd_yn  ttl_ruler_exe  correct_exe  ttl_mastery_degree_d1  \\\n",
       "0                     0              0            0                    0.0   \n",
       "1                     0              0            0                    0.0   \n",
       "2                     0              0            0                    0.0   \n",
       "3                     0              0            0                    0.0   \n",
       "4                     0              0            0                    0.0   \n",
       "\n",
       "   ttl_kp_num_d1  ...  ttl_mastery_degree_d10  ttl_kp_num_d10  \\\n",
       "0              0  ...                     0.0               0   \n",
       "1              0  ...                     0.0               0   \n",
       "2              0  ...                     0.0               0   \n",
       "3              0  ...                     0.0               0   \n",
       "4              0  ...                     0.0               0   \n",
       "\n",
       "   ttl_mastery_degree_d11  ttl_kp_num_d11  ttl_mastery_degree_d12  \\\n",
       "0                     0.0               0                     0.0   \n",
       "1                     0.0               0                     0.0   \n",
       "2                     0.0               0                     0.0   \n",
       "3                     0.0               0                     0.0   \n",
       "4                     0.0               0                     0.0   \n",
       "\n",
       "   ttl_kp_num_d12  ttl_mastery_degree_d13  ttl_kp_num_d13  \\\n",
       "0               0                     0.0               0   \n",
       "1               0                     0.0               0   \n",
       "2               0                     0.0               0   \n",
       "3               0                     0.0               0   \n",
       "4               0                     0.0               0   \n",
       "\n",
       "   ttl_mastery_degree_d14  ttl_kp_num_d14  \n",
       "0                     0.0               0  \n",
       "1                     0.0               0  \n",
       "2                     0.0               0  \n",
       "3                     0.0               0  \n",
       "4                     0.0               0  \n",
       "\n",
       "[5 rows x 36 columns]"
      ]
     },
     "execution_count": 14,
     "metadata": {},
     "output_type": "execute_result"
    }
   ],
   "source": [
    "all_data.head()"
   ]
  },
  {
   "cell_type": "code",
   "execution_count": 15,
   "metadata": {
    "cell_id": 95
   },
   "outputs": [
    {
     "data": {
      "text/plain": [
       "1242425"
      ]
     },
     "execution_count": 15,
     "metadata": {},
     "output_type": "execute_result"
    }
   ],
   "source": [
    "len(all_data)"
   ]
  },
  {
   "cell_type": "code",
   "execution_count": 16,
   "metadata": {
    "cell_id": 99
   },
   "outputs": [
    {
     "data": {
      "text/plain": [
       "Index(['abtest_dt', 'user_group', 'user_id', 'milestone_name',\n",
       "       'finish_review_yn', 'finish_review_2nd_yn', 'ttl_ruler_exe',\n",
       "       'correct_exe', 'ttl_mastery_degree_d1', 'ttl_kp_num_d1',\n",
       "       'ttl_mastery_degree_d2', 'ttl_kp_num_d2', 'ttl_mastery_degree_d3',\n",
       "       'ttl_kp_num_d3', 'ttl_mastery_degree_d4', 'ttl_kp_num_d4',\n",
       "       'ttl_mastery_degree_d5', 'ttl_kp_num_d5', 'ttl_mastery_degree_d6',\n",
       "       'ttl_kp_num_d6', 'ttl_mastery_degree_d7', 'ttl_kp_num_d7',\n",
       "       'ttl_mastery_degree_d8', 'ttl_kp_num_d8', 'ttl_mastery_degree_d9',\n",
       "       'ttl_kp_num_d9', 'ttl_mastery_degree_d10', 'ttl_kp_num_d10',\n",
       "       'ttl_mastery_degree_d11', 'ttl_kp_num_d11', 'ttl_mastery_degree_d12',\n",
       "       'ttl_kp_num_d12', 'ttl_mastery_degree_d13', 'ttl_kp_num_d13',\n",
       "       'ttl_mastery_degree_d14', 'ttl_kp_num_d14'],\n",
       "      dtype='object')"
      ]
     },
     "execution_count": 16,
     "metadata": {},
     "output_type": "execute_result"
    }
   ],
   "source": [
    "all_data.columns"
   ]
  },
  {
   "cell_type": "code",
   "execution_count": 24,
   "metadata": {
    "cell_id": 28
   },
   "outputs": [],
   "source": [
    "### 预处理数据\n",
    "#1. 填充空值数据\n",
    "#2. 增加新字段\n",
    "\n",
    "# all_data = all_data[~all_data.milestone_name.isin(['未定级'])]\n",
    "\n",
    "# review_test_data.head()\n"
   ]
  },
  {
   "cell_type": "markdown",
   "metadata": {
    "cell_id": 34
   },
   "source": [
    "#### 全量用户 "
   ]
  },
  {
   "cell_type": "code",
   "execution_count": 24,
   "metadata": {
    "cell_id": 6
   },
   "outputs": [],
   "source": [
    "def ab_summary_data(data, user_group):\n",
    "    test_summary = pd.DataFrame(columns = [\"User_Group\", \"Metrics\", \"Control\", \"Test\", \"Delta\", \"p_value\",\"Significance\"])\n",
    "    \n",
    "    test_data = data.loc[data.user_group == '实验组']\n",
    "    ctrl_data = data.loc[data.user_group == '对照组']\n",
    "\n",
    "    dnu_t = len(test_data)\n",
    "    dnu_c = len(ctrl_data)\n",
    "\n",
    "    # 新增用户\n",
    "    test_summary = test_summary.append({\"Metrics\": '实验用户', \"Control\": '{:,}'.format(dnu_c), \"Test\": '{:,}'.format(dnu_t), \"Delta\": '-', \"p_value\": '-', \"Significance\": '-'}, ignore_index = True)\n",
    "\n",
    "    # 复习课首课完课\n",
    "    fst_fin_t = sum(test_data.finish_review_yn)\n",
    "    fst_fin_c = sum(ctrl_data.finish_review_yn)\n",
    "    \n",
    "    fst_fin_rate_t = round(fst_fin_t / dnu_t, 4)\n",
    "    fst_fin_rate_c = round(fst_fin_c / dnu_c, 4)\n",
    "    fst_fin_rate_delta = fst_fin_rate_t / fst_fin_rate_c - 1 if fst_fin_rate_c >0 else np.nan\n",
    "    \n",
    "    fst_fin_rate_p_value = two_proprotions_test(fst_fin_t, dnu_t, fst_fin_c, dnu_c)[1]\n",
    "    \n",
    "    fst_fin_rate_sig =  \"Significant\" if fst_fin_rate_p_value < 0.1 else \"Non-significant\"\n",
    "    test_summary = test_summary.append({\"Metrics\": '首次复习课推送->完课', \"Control\": \"{:.2%}\".format(fst_fin_rate_c), \"Test\": \"{:.2%}\".format(fst_fin_rate_t), \"Delta\": \"{:.2%}\".format(fst_fin_rate_delta), \"p_value\": round(fst_fin_rate_p_value, 4), \"Significance\": fst_fin_rate_sig}, ignore_index = True)\n",
    "\n",
    "    # 复习课次课完课\n",
    "    fst_fin_t = sum(test_data.finish_review_2nd_yn)\n",
    "    fst_fin_c = sum(ctrl_data.finish_review_2nd_yn)\n",
    "    \n",
    "    fst_fin_rate_t = round(fst_fin_t / dnu_t, 4)\n",
    "    fst_fin_rate_c = round(fst_fin_c / dnu_c, 4)\n",
    "    fst_fin_rate_delta = fst_fin_rate_t / fst_fin_rate_c - 1 if fst_fin_rate_c >0 else np.nan\n",
    "    \n",
    "    fst_fin_rate_p_value = two_proprotions_test(fst_fin_t, dnu_t, fst_fin_c, dnu_c)[1]\n",
    "    \n",
    "    fst_fin_rate_sig =  \"Significant\" if fst_fin_rate_p_value < 0.1 else \"Non-significant\"\n",
    "    test_summary = test_summary.append({\"Metrics\": '次课复习课推送->完课', \"Control\": \"{:.2%}\".format(fst_fin_rate_c), \"Test\": \"{:.2%}\".format(fst_fin_rate_t), \"Delta\": \"{:.2%}\".format(fst_fin_rate_delta), \"p_value\": round(fst_fin_rate_p_value, 4), \"Significance\": fst_fin_rate_sig}, ignore_index = True)\n",
    "\n",
    "    \n",
    "    # 新增用户\n",
    "    ttl_ruler_t = sum(test_data.ttl_ruler_exe)\n",
    "    ttl_ruler_c = sum(ctrl_data.ttl_ruler_exe)\n",
    "    \n",
    "    test_summary = test_summary.append({\"Metrics\": '标尺题总数', \"Control\": '{:,}'.format(ttl_ruler_c), \"Test\": '{:,}'.format(ttl_ruler_t), \"Delta\": '-', \"p_value\": '-', \"Significance\": '-'}, ignore_index = True)\n",
    "\n",
    "    # 标尺题答题正确率\n",
    "\n",
    "    correct_ruler_t = sum(test_data.correct_exe)\n",
    "    correct_ruler_c = sum(ctrl_data.correct_exe)\n",
    "    \n",
    "    ruler_corr_rate_t = round(correct_ruler_t / ttl_ruler_t, 4)\n",
    "    ruler_corr_rate_c = round(correct_ruler_c / ttl_ruler_c, 4)\n",
    "    ruler_corr_rate_delta = ruler_corr_rate_t / ruler_corr_rate_c - 1 if ruler_corr_rate_c >0 else np.nan\n",
    "    \n",
    "    ruler_corr_rate_p_value = two_proprotions_test(correct_ruler_t, ttl_ruler_t, correct_ruler_c, ttl_ruler_c)[1]\n",
    "    \n",
    "    ruler_corr_rate_sig =  \"Significant\" if ruler_corr_rate_p_value < 0.1 else \"Non-significant\"\n",
    "    test_summary = test_summary.append({\"Metrics\": '标尺题正确率', \"Control\": \"{:.2%}\".format(ruler_corr_rate_c), \"Test\": \"{:.2%}\".format(ruler_corr_rate_t), \"Delta\": \"{:.2%}\".format(ruler_corr_rate_delta), \"p_value\": round(ruler_corr_rate_p_value, 4), \"Significance\":ruler_corr_rate_sig}, ignore_index = True)\n",
    "\n",
    "    # \n",
    "#     fst_dur_sum_t = sum(test_data.duration_1st_lesson) / 60\n",
    "#     fst_dur_sum_c = sum(ctrl_data.duration_1st_lesson) / 60\n",
    "    \n",
    "#     fst_duration_t = round(fst_dur_sum_t / dnu_t, 4)\n",
    "#     fst_duration_c = round(fst_dur_sum_c / dnu_c, 4)\n",
    "#     fst_duration_delta = fst_duration_t / fst_duration_c - 1 if fst_duration_c >0 else np.nan\n",
    "    \n",
    "#     fst_duration_p_value = stats.ttest_ind(test_data.duration_1st_lesson/60, ctrl_data.duration_1st_lesson/60, equal_var = False).pvalue\n",
    "    \n",
    "#     fst_duration_sig =  \"Significant\" if fst_duration_p_value < 0.1 else \"Non-significant\"\n",
    "#     test_summary = test_summary.append({\"Metrics\": '首课学习时长：mins', \"Control\": str(round(fst_duration_c,2)), \"Test\": str(round(fst_duration_t,2)), \"Delta\": \"{:.2%}\".format(fst_duration_delta), \"p_value\": round(fst_duration_p_value, 4), \"Significance\": fst_duration_sig}, ignore_index = True)\n",
    "   \n",
    "    test_summary['User_Group'] = user_group\n",
    "    \n",
    "    return test_summary"
   ]
  },
  {
   "cell_type": "code",
   "execution_count": 25,
   "metadata": {
    "cell_id": 10
   },
   "outputs": [
    {
     "data": {
      "text/html": [
       "<style  type=\"text/css\" >\n",
       "#T_aa2d3cc8_8164_11eb_8f56_3a495a71ac36row4_col6{\n",
       "            background:  green;\n",
       "        }</style><table id=\"T_aa2d3cc8_8164_11eb_8f56_3a495a71ac36\" ><thead>    <tr>        <th class=\"col_heading level0 col0\" >User_Group</th>        <th class=\"col_heading level0 col1\" >Metrics</th>        <th class=\"col_heading level0 col2\" >Control</th>        <th class=\"col_heading level0 col3\" >Test</th>        <th class=\"col_heading level0 col4\" >Delta</th>        <th class=\"col_heading level0 col5\" >p_value</th>        <th class=\"col_heading level0 col6\" >Significance</th>    </tr></thead><tbody>\n",
       "                <tr>\n",
       "                                <td id=\"T_aa2d3cc8_8164_11eb_8f56_3a495a71ac36row0_col0\" class=\"data row0 col0\" >全量用户</td>\n",
       "                        <td id=\"T_aa2d3cc8_8164_11eb_8f56_3a495a71ac36row0_col1\" class=\"data row0 col1\" >实验用户</td>\n",
       "                        <td id=\"T_aa2d3cc8_8164_11eb_8f56_3a495a71ac36row0_col2\" class=\"data row0 col2\" >621,113</td>\n",
       "                        <td id=\"T_aa2d3cc8_8164_11eb_8f56_3a495a71ac36row0_col3\" class=\"data row0 col3\" >621,312</td>\n",
       "                        <td id=\"T_aa2d3cc8_8164_11eb_8f56_3a495a71ac36row0_col4\" class=\"data row0 col4\" >-</td>\n",
       "                        <td id=\"T_aa2d3cc8_8164_11eb_8f56_3a495a71ac36row0_col5\" class=\"data row0 col5\" >-</td>\n",
       "                        <td id=\"T_aa2d3cc8_8164_11eb_8f56_3a495a71ac36row0_col6\" class=\"data row0 col6\" >-</td>\n",
       "            </tr>\n",
       "            <tr>\n",
       "                                <td id=\"T_aa2d3cc8_8164_11eb_8f56_3a495a71ac36row1_col0\" class=\"data row1 col0\" >全量用户</td>\n",
       "                        <td id=\"T_aa2d3cc8_8164_11eb_8f56_3a495a71ac36row1_col1\" class=\"data row1 col1\" >首次复习课推送->完课</td>\n",
       "                        <td id=\"T_aa2d3cc8_8164_11eb_8f56_3a495a71ac36row1_col2\" class=\"data row1 col2\" >0.94%</td>\n",
       "                        <td id=\"T_aa2d3cc8_8164_11eb_8f56_3a495a71ac36row1_col3\" class=\"data row1 col3\" >0.96%</td>\n",
       "                        <td id=\"T_aa2d3cc8_8164_11eb_8f56_3a495a71ac36row1_col4\" class=\"data row1 col4\" >2.13%</td>\n",
       "                        <td id=\"T_aa2d3cc8_8164_11eb_8f56_3a495a71ac36row1_col5\" class=\"data row1 col5\" >0.299600</td>\n",
       "                        <td id=\"T_aa2d3cc8_8164_11eb_8f56_3a495a71ac36row1_col6\" class=\"data row1 col6\" >Non-significant</td>\n",
       "            </tr>\n",
       "            <tr>\n",
       "                                <td id=\"T_aa2d3cc8_8164_11eb_8f56_3a495a71ac36row2_col0\" class=\"data row2 col0\" >全量用户</td>\n",
       "                        <td id=\"T_aa2d3cc8_8164_11eb_8f56_3a495a71ac36row2_col1\" class=\"data row2 col1\" >次课复习课推送->完课</td>\n",
       "                        <td id=\"T_aa2d3cc8_8164_11eb_8f56_3a495a71ac36row2_col2\" class=\"data row2 col2\" >1.42%</td>\n",
       "                        <td id=\"T_aa2d3cc8_8164_11eb_8f56_3a495a71ac36row2_col3\" class=\"data row2 col3\" >1.46%</td>\n",
       "                        <td id=\"T_aa2d3cc8_8164_11eb_8f56_3a495a71ac36row2_col4\" class=\"data row2 col4\" >2.82%</td>\n",
       "                        <td id=\"T_aa2d3cc8_8164_11eb_8f56_3a495a71ac36row2_col5\" class=\"data row2 col5\" >0.103500</td>\n",
       "                        <td id=\"T_aa2d3cc8_8164_11eb_8f56_3a495a71ac36row2_col6\" class=\"data row2 col6\" >Non-significant</td>\n",
       "            </tr>\n",
       "            <tr>\n",
       "                                <td id=\"T_aa2d3cc8_8164_11eb_8f56_3a495a71ac36row3_col0\" class=\"data row3 col0\" >全量用户</td>\n",
       "                        <td id=\"T_aa2d3cc8_8164_11eb_8f56_3a495a71ac36row3_col1\" class=\"data row3 col1\" >标尺题总数</td>\n",
       "                        <td id=\"T_aa2d3cc8_8164_11eb_8f56_3a495a71ac36row3_col2\" class=\"data row3 col2\" >47,336</td>\n",
       "                        <td id=\"T_aa2d3cc8_8164_11eb_8f56_3a495a71ac36row3_col3\" class=\"data row3 col3\" >48,412</td>\n",
       "                        <td id=\"T_aa2d3cc8_8164_11eb_8f56_3a495a71ac36row3_col4\" class=\"data row3 col4\" >-</td>\n",
       "                        <td id=\"T_aa2d3cc8_8164_11eb_8f56_3a495a71ac36row3_col5\" class=\"data row3 col5\" >-</td>\n",
       "                        <td id=\"T_aa2d3cc8_8164_11eb_8f56_3a495a71ac36row3_col6\" class=\"data row3 col6\" >-</td>\n",
       "            </tr>\n",
       "            <tr>\n",
       "                                <td id=\"T_aa2d3cc8_8164_11eb_8f56_3a495a71ac36row4_col0\" class=\"data row4 col0\" >全量用户</td>\n",
       "                        <td id=\"T_aa2d3cc8_8164_11eb_8f56_3a495a71ac36row4_col1\" class=\"data row4 col1\" >标尺题正确率</td>\n",
       "                        <td id=\"T_aa2d3cc8_8164_11eb_8f56_3a495a71ac36row4_col2\" class=\"data row4 col2\" >74.32%</td>\n",
       "                        <td id=\"T_aa2d3cc8_8164_11eb_8f56_3a495a71ac36row4_col3\" class=\"data row4 col3\" >74.81%</td>\n",
       "                        <td id=\"T_aa2d3cc8_8164_11eb_8f56_3a495a71ac36row4_col4\" class=\"data row4 col4\" >0.66%</td>\n",
       "                        <td id=\"T_aa2d3cc8_8164_11eb_8f56_3a495a71ac36row4_col5\" class=\"data row4 col5\" >0.084200</td>\n",
       "                        <td id=\"T_aa2d3cc8_8164_11eb_8f56_3a495a71ac36row4_col6\" class=\"data row4 col6\" >Significant</td>\n",
       "            </tr>\n",
       "    </tbody></table>"
      ],
      "text/plain": [
       "<pandas.io.formats.style.Styler at 0x7f29801ec6d0>"
      ]
     },
     "execution_count": 25,
     "metadata": {},
     "output_type": "execute_result"
    }
   ],
   "source": [
    "output = ab_summary_data(all_data, '全量用户')\n",
    "output.style.apply(lambda x: [\"background: green\" if v == 'Significant' else \"\" for v in x], axis = 1).hide_index()"
   ]
  },
  {
   "cell_type": "markdown",
   "metadata": {
    "cell_id": 96
   },
   "source": [
    "##### 分等级"
   ]
  },
  {
   "cell_type": "code",
   "execution_count": 27,
   "metadata": {
    "cell_id": 89
   },
   "outputs": [
    {
     "data": {
      "text/html": [
       "<style  type=\"text/css\" >\n",
       "#T_0d9cbb12_8165_11eb_8f56_3a495a71ac36row2_col6,#T_0d9cbb12_8165_11eb_8f56_3a495a71ac36row9_col6{\n",
       "            background:  green;\n",
       "        }</style><table id=\"T_0d9cbb12_8165_11eb_8f56_3a495a71ac36\" ><thead>    <tr>        <th class=\"col_heading level0 col0\" >User_Group</th>        <th class=\"col_heading level0 col1\" >Metrics</th>        <th class=\"col_heading level0 col2\" >Control</th>        <th class=\"col_heading level0 col3\" >Test</th>        <th class=\"col_heading level0 col4\" >Delta</th>        <th class=\"col_heading level0 col5\" >p_value</th>        <th class=\"col_heading level0 col6\" >Significance</th>    </tr></thead><tbody>\n",
       "                <tr>\n",
       "                                <td id=\"T_0d9cbb12_8165_11eb_8f56_3a495a71ac36row0_col0\" class=\"data row0 col0\" >A1初</td>\n",
       "                        <td id=\"T_0d9cbb12_8165_11eb_8f56_3a495a71ac36row0_col1\" class=\"data row0 col1\" >实验用户</td>\n",
       "                        <td id=\"T_0d9cbb12_8165_11eb_8f56_3a495a71ac36row0_col2\" class=\"data row0 col2\" >97,245</td>\n",
       "                        <td id=\"T_0d9cbb12_8165_11eb_8f56_3a495a71ac36row0_col3\" class=\"data row0 col3\" >97,806</td>\n",
       "                        <td id=\"T_0d9cbb12_8165_11eb_8f56_3a495a71ac36row0_col4\" class=\"data row0 col4\" >-</td>\n",
       "                        <td id=\"T_0d9cbb12_8165_11eb_8f56_3a495a71ac36row0_col5\" class=\"data row0 col5\" >-</td>\n",
       "                        <td id=\"T_0d9cbb12_8165_11eb_8f56_3a495a71ac36row0_col6\" class=\"data row0 col6\" >-</td>\n",
       "            </tr>\n",
       "            <tr>\n",
       "                                <td id=\"T_0d9cbb12_8165_11eb_8f56_3a495a71ac36row1_col0\" class=\"data row1 col0\" >A1初</td>\n",
       "                        <td id=\"T_0d9cbb12_8165_11eb_8f56_3a495a71ac36row1_col1\" class=\"data row1 col1\" >首次复习课推送->完课</td>\n",
       "                        <td id=\"T_0d9cbb12_8165_11eb_8f56_3a495a71ac36row1_col2\" class=\"data row1 col2\" >0.37%</td>\n",
       "                        <td id=\"T_0d9cbb12_8165_11eb_8f56_3a495a71ac36row1_col3\" class=\"data row1 col3\" >0.39%</td>\n",
       "                        <td id=\"T_0d9cbb12_8165_11eb_8f56_3a495a71ac36row1_col4\" class=\"data row1 col4\" >5.41%</td>\n",
       "                        <td id=\"T_0d9cbb12_8165_11eb_8f56_3a495a71ac36row1_col5\" class=\"data row1 col5\" >0.322700</td>\n",
       "                        <td id=\"T_0d9cbb12_8165_11eb_8f56_3a495a71ac36row1_col6\" class=\"data row1 col6\" >Non-significant</td>\n",
       "            </tr>\n",
       "            <tr>\n",
       "                                <td id=\"T_0d9cbb12_8165_11eb_8f56_3a495a71ac36row2_col0\" class=\"data row2 col0\" >A1初</td>\n",
       "                        <td id=\"T_0d9cbb12_8165_11eb_8f56_3a495a71ac36row2_col1\" class=\"data row2 col1\" >次课复习课推送->完课</td>\n",
       "                        <td id=\"T_0d9cbb12_8165_11eb_8f56_3a495a71ac36row2_col2\" class=\"data row2 col2\" >0.70%</td>\n",
       "                        <td id=\"T_0d9cbb12_8165_11eb_8f56_3a495a71ac36row2_col3\" class=\"data row2 col3\" >0.76%</td>\n",
       "                        <td id=\"T_0d9cbb12_8165_11eb_8f56_3a495a71ac36row2_col4\" class=\"data row2 col4\" >8.57%</td>\n",
       "                        <td id=\"T_0d9cbb12_8165_11eb_8f56_3a495a71ac36row2_col5\" class=\"data row2 col5\" >0.084700</td>\n",
       "                        <td id=\"T_0d9cbb12_8165_11eb_8f56_3a495a71ac36row2_col6\" class=\"data row2 col6\" >Significant</td>\n",
       "            </tr>\n",
       "            <tr>\n",
       "                                <td id=\"T_0d9cbb12_8165_11eb_8f56_3a495a71ac36row3_col0\" class=\"data row3 col0\" >A1初</td>\n",
       "                        <td id=\"T_0d9cbb12_8165_11eb_8f56_3a495a71ac36row3_col1\" class=\"data row3 col1\" >标尺题总数</td>\n",
       "                        <td id=\"T_0d9cbb12_8165_11eb_8f56_3a495a71ac36row3_col2\" class=\"data row3 col2\" >9,049</td>\n",
       "                        <td id=\"T_0d9cbb12_8165_11eb_8f56_3a495a71ac36row3_col3\" class=\"data row3 col3\" >9,248</td>\n",
       "                        <td id=\"T_0d9cbb12_8165_11eb_8f56_3a495a71ac36row3_col4\" class=\"data row3 col4\" >-</td>\n",
       "                        <td id=\"T_0d9cbb12_8165_11eb_8f56_3a495a71ac36row3_col5\" class=\"data row3 col5\" >-</td>\n",
       "                        <td id=\"T_0d9cbb12_8165_11eb_8f56_3a495a71ac36row3_col6\" class=\"data row3 col6\" >-</td>\n",
       "            </tr>\n",
       "            <tr>\n",
       "                                <td id=\"T_0d9cbb12_8165_11eb_8f56_3a495a71ac36row4_col0\" class=\"data row4 col0\" >A1初</td>\n",
       "                        <td id=\"T_0d9cbb12_8165_11eb_8f56_3a495a71ac36row4_col1\" class=\"data row4 col1\" >标尺题正确率</td>\n",
       "                        <td id=\"T_0d9cbb12_8165_11eb_8f56_3a495a71ac36row4_col2\" class=\"data row4 col2\" >70.85%</td>\n",
       "                        <td id=\"T_0d9cbb12_8165_11eb_8f56_3a495a71ac36row4_col3\" class=\"data row4 col3\" >71.12%</td>\n",
       "                        <td id=\"T_0d9cbb12_8165_11eb_8f56_3a495a71ac36row4_col4\" class=\"data row4 col4\" >0.38%</td>\n",
       "                        <td id=\"T_0d9cbb12_8165_11eb_8f56_3a495a71ac36row4_col5\" class=\"data row4 col5\" >0.686900</td>\n",
       "                        <td id=\"T_0d9cbb12_8165_11eb_8f56_3a495a71ac36row4_col6\" class=\"data row4 col6\" >Non-significant</td>\n",
       "            </tr>\n",
       "            <tr>\n",
       "                                <td id=\"T_0d9cbb12_8165_11eb_8f56_3a495a71ac36row5_col0\" class=\"data row5 col0\" >A2初</td>\n",
       "                        <td id=\"T_0d9cbb12_8165_11eb_8f56_3a495a71ac36row5_col1\" class=\"data row5 col1\" >实验用户</td>\n",
       "                        <td id=\"T_0d9cbb12_8165_11eb_8f56_3a495a71ac36row5_col2\" class=\"data row5 col2\" >49,005</td>\n",
       "                        <td id=\"T_0d9cbb12_8165_11eb_8f56_3a495a71ac36row5_col3\" class=\"data row5 col3\" >49,501</td>\n",
       "                        <td id=\"T_0d9cbb12_8165_11eb_8f56_3a495a71ac36row5_col4\" class=\"data row5 col4\" >-</td>\n",
       "                        <td id=\"T_0d9cbb12_8165_11eb_8f56_3a495a71ac36row5_col5\" class=\"data row5 col5\" >-</td>\n",
       "                        <td id=\"T_0d9cbb12_8165_11eb_8f56_3a495a71ac36row5_col6\" class=\"data row5 col6\" >-</td>\n",
       "            </tr>\n",
       "            <tr>\n",
       "                                <td id=\"T_0d9cbb12_8165_11eb_8f56_3a495a71ac36row6_col0\" class=\"data row6 col0\" >A2初</td>\n",
       "                        <td id=\"T_0d9cbb12_8165_11eb_8f56_3a495a71ac36row6_col1\" class=\"data row6 col1\" >首次复习课推送->完课</td>\n",
       "                        <td id=\"T_0d9cbb12_8165_11eb_8f56_3a495a71ac36row6_col2\" class=\"data row6 col2\" >1.34%</td>\n",
       "                        <td id=\"T_0d9cbb12_8165_11eb_8f56_3a495a71ac36row6_col3\" class=\"data row6 col3\" >1.24%</td>\n",
       "                        <td id=\"T_0d9cbb12_8165_11eb_8f56_3a495a71ac36row6_col4\" class=\"data row6 col4\" >-7.46%</td>\n",
       "                        <td id=\"T_0d9cbb12_8165_11eb_8f56_3a495a71ac36row6_col5\" class=\"data row6 col5\" >0.146700</td>\n",
       "                        <td id=\"T_0d9cbb12_8165_11eb_8f56_3a495a71ac36row6_col6\" class=\"data row6 col6\" >Non-significant</td>\n",
       "            </tr>\n",
       "            <tr>\n",
       "                                <td id=\"T_0d9cbb12_8165_11eb_8f56_3a495a71ac36row7_col0\" class=\"data row7 col0\" >A2初</td>\n",
       "                        <td id=\"T_0d9cbb12_8165_11eb_8f56_3a495a71ac36row7_col1\" class=\"data row7 col1\" >次课复习课推送->完课</td>\n",
       "                        <td id=\"T_0d9cbb12_8165_11eb_8f56_3a495a71ac36row7_col2\" class=\"data row7 col2\" >2.33%</td>\n",
       "                        <td id=\"T_0d9cbb12_8165_11eb_8f56_3a495a71ac36row7_col3\" class=\"data row7 col3\" >2.27%</td>\n",
       "                        <td id=\"T_0d9cbb12_8165_11eb_8f56_3a495a71ac36row7_col4\" class=\"data row7 col4\" >-2.58%</td>\n",
       "                        <td id=\"T_0d9cbb12_8165_11eb_8f56_3a495a71ac36row7_col5\" class=\"data row7 col5\" >0.531900</td>\n",
       "                        <td id=\"T_0d9cbb12_8165_11eb_8f56_3a495a71ac36row7_col6\" class=\"data row7 col6\" >Non-significant</td>\n",
       "            </tr>\n",
       "            <tr>\n",
       "                                <td id=\"T_0d9cbb12_8165_11eb_8f56_3a495a71ac36row8_col0\" class=\"data row8 col0\" >A2初</td>\n",
       "                        <td id=\"T_0d9cbb12_8165_11eb_8f56_3a495a71ac36row8_col1\" class=\"data row8 col1\" >标尺题总数</td>\n",
       "                        <td id=\"T_0d9cbb12_8165_11eb_8f56_3a495a71ac36row8_col2\" class=\"data row8 col2\" >22,715</td>\n",
       "                        <td id=\"T_0d9cbb12_8165_11eb_8f56_3a495a71ac36row8_col3\" class=\"data row8 col3\" >22,674</td>\n",
       "                        <td id=\"T_0d9cbb12_8165_11eb_8f56_3a495a71ac36row8_col4\" class=\"data row8 col4\" >-</td>\n",
       "                        <td id=\"T_0d9cbb12_8165_11eb_8f56_3a495a71ac36row8_col5\" class=\"data row8 col5\" >-</td>\n",
       "                        <td id=\"T_0d9cbb12_8165_11eb_8f56_3a495a71ac36row8_col6\" class=\"data row8 col6\" >-</td>\n",
       "            </tr>\n",
       "            <tr>\n",
       "                                <td id=\"T_0d9cbb12_8165_11eb_8f56_3a495a71ac36row9_col0\" class=\"data row9 col0\" >A2初</td>\n",
       "                        <td id=\"T_0d9cbb12_8165_11eb_8f56_3a495a71ac36row9_col1\" class=\"data row9 col1\" >标尺题正确率</td>\n",
       "                        <td id=\"T_0d9cbb12_8165_11eb_8f56_3a495a71ac36row9_col2\" class=\"data row9 col2\" >75.20%</td>\n",
       "                        <td id=\"T_0d9cbb12_8165_11eb_8f56_3a495a71ac36row9_col3\" class=\"data row9 col3\" >76.86%</td>\n",
       "                        <td id=\"T_0d9cbb12_8165_11eb_8f56_3a495a71ac36row9_col4\" class=\"data row9 col4\" >2.21%</td>\n",
       "                        <td id=\"T_0d9cbb12_8165_11eb_8f56_3a495a71ac36row9_col5\" class=\"data row9 col5\" >0.000000</td>\n",
       "                        <td id=\"T_0d9cbb12_8165_11eb_8f56_3a495a71ac36row9_col6\" class=\"data row9 col6\" >Significant</td>\n",
       "            </tr>\n",
       "    </tbody></table>"
      ],
      "text/plain": [
       "<pandas.io.formats.style.Styler at 0x7f29801ad350>"
      ]
     },
     "execution_count": 27,
     "metadata": {},
     "output_type": "execute_result"
    }
   ],
   "source": [
    "group_list = ['A1初', 'A2初']\n",
    "output = pd.DataFrame(columns = [\"User_Group\", \"Metrics\", \"Control\", \"Test\", \"Delta\", \"p_value\",\"Significance\"])\n",
    "\n",
    "for i in range(0,len(group_list)):\n",
    "    user_group = group_list[i]\n",
    "    group_data = all_data[all_data.milestone_name == user_group]\n",
    "    output = output.append(ab_summary_data(group_data, user_group))\n",
    "\n",
    "output.reset_index(drop=True).style.apply(lambda x: [\"background: green\" if v == 'Significant' else \"\" for v in x], axis = 1).hide_index()"
   ]
  },
  {
   "cell_type": "code",
   "execution_count": null,
   "metadata": {
    "cell_id": 98
   },
   "outputs": [],
   "source": []
  }
 ],
 "metadata": {
  "kernelspec": {
   "display_name": "Python 3",
   "language": "python",
   "name": "python3"
  },
  "language_info": {
   "codemirror_mode": {
    "name": "ipython",
    "version": 3
   },
   "file_extension": ".py",
   "mimetype": "text/x-python",
   "name": "python",
   "nbconvert_exporter": "python",
   "pygments_lexer": "ipython3",
   "version": "3.7.9"
  },
  "max_cell_id": 100,
  "serving": {
   "http": {
    "cache": {
     "period": "2400"
    },
    "enable": false,
    "mode": "cache"
   },
   "timer": {
    "enable": false,
    "expression": "0 0 1 * *"
   }
  }
 },
 "nbformat": 4,
 "nbformat_minor": 4
}
