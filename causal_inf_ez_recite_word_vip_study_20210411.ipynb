{
 "cells": [
  {
   "cell_type": "code",
   "execution_count": 1,
   "id": "61cb5c82",
   "metadata": {
    "cell_id": 1
   },
   "outputs": [],
   "source": [
    "# !pip install lightgbm\n",
    "import pandas as pd\n",
    "import numpy as np\n",
    "import scipy as sp\n",
    "import matplotlib as mpl\n",
    "import matplotlib.pyplot as plt\n",
    "import seaborn as sns\n",
    "import statsmodels.api as sm\n",
    "from lightgbm import LGBMClassifier\n",
    "from sklearn.linear_model import LogisticRegression\n",
    "from sklearn.preprocessing import OneHotEncoder, LabelEncoder\n",
    "from sklearn.metrics import accuracy_score\n",
    "\n",
    "import bytedtqs\n",
    "from pytqs import tqs\n",
    "\n",
    "mpl.rcParams['figure.dpi'] = 300\n",
    "sns.set_style(\"whitegrid\")\n",
    "pd.options.display.max_columns = None\n",
    "%config Completer.use_jedi = False"
   ]
  },
  {
   "cell_type": "markdown",
   "id": "a5779d49",
   "metadata": {
    "cell_id": 42
   },
   "source": [
    "## Data Cleaning"
   ]
  },
  {
   "cell_type": "code",
   "execution_count": 2,
   "id": "bb0e4564",
   "metadata": {
    "cell_id": 58
   },
   "outputs": [],
   "source": [
    "appId = \"eL38NWjpAMXlC0ifCoo71wk27zE6CS9YQismEcwVH5oNKbJf\"\n",
    "appKey = \"VeeOKtXLxjGWE2OyIGkuqWRT33isyxtHH1xlxakeFzId6SMB\"\n",
    "user_id = 'wuweiwei.1012'"
   ]
  },
  {
   "cell_type": "code",
   "execution_count": 3,
   "id": "c4030102",
   "metadata": {
    "cell_id": 59
   },
   "outputs": [
    {
     "name": "stderr",
     "output_type": "stream",
     "text": [
      "[2021-04-13 21:23:01,469] - [INFO] - tqs_task_id: 246377698, engine: Hive, status: Created, progress : Submitting\n",
      "[2021-04-13 21:23:03,500] - [INFO] - tqs_task_id: 246377698, execute id: tqs_246377698-1618320181857\n",
      "[2021-04-13 21:23:03,501] - [INFO] - application tracking url: http://presto-history.byted.org/proxy/20210413_132301_14671_default\n",
      "[2021-04-13 21:23:03,501] - [INFO] - tqs_task_id: 246377698, engine: Presto, status: Processing, progress : Accepted\n",
      "[2021-04-13 21:23:05,539] - [INFO] - tqs_task_id: 246377698, engine: Presto, status: Processing, progress : Accepted\n",
      "[2021-04-13 21:23:07,575] - [INFO] - tqs_task_id: 246377698, engine: Presto, status: Processing, progress : Accepted\n",
      "[2021-04-13 21:23:09,600] - [INFO] - tqs_task_id: 246377698, engine: Presto, status: Processing, progress : Accepted\n",
      "[2021-04-13 21:23:11,634] - [INFO] - tqs_task_id: 246377698, engine: Presto, status: Processing, progress : Accepted\n",
      "[2021-04-13 21:23:13,663] - [INFO] - tqs_task_id: 246377698, engine: Presto, status: Processing, progress : Accepted\n",
      "[2021-04-13 21:23:15,696] - [INFO] - tqs_task_id: 246377698, engine: Presto, status: Processing, progress : Accepted\n",
      "[2021-04-13 21:23:17,841] - [INFO] - tqs_task_id: 246377698, engine: Presto, status: Processing, progress : Accepted\n",
      "[2021-04-13 21:23:19,861] - [INFO] - tqs_task_id: 246377698, engine: Presto, status: Processing, progress : Accepted\n",
      "[2021-04-13 21:23:21,896] - [INFO] - tqs_task_id: 246377698, engine: Presto, status: Processing, progress : Accepted\n",
      "[2021-04-13 21:23:23,922] - [INFO] - tqs_task_id: 246377698, engine: Presto, status: Processing, progress : Accepted\n",
      "[2021-04-13 21:23:25,949] - [INFO] - tqs_task_id: 246377698, engine: Presto, status: Processing, progress : Accepted\n",
      "[2021-04-13 21:23:27,970] - [INFO] - tqs_task_id: 246377698, engine: Presto, status: Processing, progress : Accepted\n",
      "[2021-04-13 21:23:30,025] - [INFO] - tqs_task_id: 246377698, engine: Presto, status: Processing, progress : Accepted\n",
      "[2021-04-13 21:23:32,063] - [INFO] - tqs_task_id: 246377698, engine: Presto, status: Processing, progress : Accepted\n",
      "[2021-04-13 21:23:34,101] - [INFO] - tqs_task_id: 246377698, engine: Presto, status: Processing, progress : Accepted\n",
      "[2021-04-13 21:23:36,129] - [INFO] - tqs_task_id: 246377698, engine: Presto, status: Processing, progress : Accepted\n",
      "[2021-04-13 21:23:38,156] - [INFO] - tqs_task_id: 246377698, engine: Presto, status: Processing, progress : Accepted\n",
      "[2021-04-13 21:23:40,194] - [INFO] - tqs_task_id: 246377698, engine: Presto, status: Processing, progress : Accepted\n",
      "[2021-04-13 21:23:42,253] - [INFO] - tqs_task_id: 246377698, engine: Presto, status: Processing, progress : Accepted\n",
      "[2021-04-13 21:23:44,310] - [INFO] - tqs_task_id: 246377698, engine: Presto, status: Processing, progress : Accepted\n",
      "[2021-04-13 21:23:46,335] - [INFO] - tqs_task_id: 246377698, engine: Presto, status: Processing, progress : Accepted\n",
      "[2021-04-13 21:23:48,366] - [INFO] - tqs_task_id: 246377698, engine: Presto, status: Processing, progress : Accepted\n",
      "[2021-04-13 21:23:50,399] - [INFO] - tqs_task_id: 246377698, engine: Presto, status: Processing, progress : Accepted\n",
      "[2021-04-13 21:23:52,434] - [INFO] - tqs_task_id: 246377698, engine: Presto, status: Processing, progress : Accepted\n",
      "[2021-04-13 21:23:54,467] - [INFO] - tqs_task_id: 246377698, engine: Presto, status: Processing, progress : Accepted\n",
      "[2021-04-13 21:23:56,491] - [INFO] - tqs_task_id: 246377698, engine: Presto, status: Processing, progress : Accepted\n",
      "[2021-04-13 21:23:58,524] - [INFO] - tqs_task_id: 246377698, engine: Presto, status: Processing, progress : Accepted\n",
      "[2021-04-13 21:24:00,546] - [INFO] - tqs_task_id: 246377698, engine: Presto, status: Processing, progress : Accepted\n",
      "[2021-04-13 21:24:02,569] - [INFO] - tqs_task_id: 246377698, engine: Presto, status: Processing, progress : Accepted\n",
      "[2021-04-13 21:24:07,606] - [INFO] - tqs_task_id: 246377698, engine: Presto, status: Processing, progress : Accepted\n",
      "[2021-04-13 21:24:12,639] - [INFO] - tqs_task_id: 246377698, engine: Presto, status: Processing, progress : Accepted\n",
      "[2021-04-13 21:24:17,678] - [INFO] - tqs_task_id: 246377698, engine: Presto, status: Processing, progress : Accepted\n",
      "[2021-04-13 21:24:22,709] - [INFO] - tqs_task_id: 246377698, engine: Presto, status: Processing, progress : Accepted\n",
      "[2021-04-13 21:24:27,732] - [INFO] - tqs_task_id: 246377698, engine: Presto, status: Processing, progress : Accepted\n",
      "[2021-04-13 21:24:32,770] - [INFO] - tqs_task_id: 246377698, engine: Presto, status: Processing, progress : Accepted\n",
      "[2021-04-13 21:24:37,811] - [INFO] - tqs_task_id: 246377698, engine: Presto, status: Processing, progress : Accepted\n",
      "[2021-04-13 21:24:42,845] - [INFO] - tqs_task_id: 246377698, engine: Presto, status: Processing, progress : Accepted\n",
      "[2021-04-13 21:24:47,921] - [INFO] - tqs_task_id: 246377698, engine: Presto, status: Completed, progress : Accepted\n"
     ]
    }
   ],
   "source": [
    "sql_txt = \"\"\" \n",
    "\n",
    "set tqs.query.result.max.lines = 1000000000;\n",
    "\n",
    "select * from dm_eo_test.recite_word_vip limit 1000000000\n",
    "\"\"\"\n",
    "\n",
    "client = tqs.TQSClient(appId=appId, appKey=appKey)\n",
    "job = client.execute_query(username = user_id , sql = sql_txt)\n",
    "data = pd.read_csv(job['resultUrl'])"
   ]
  },
  {
   "cell_type": "code",
   "execution_count": 4,
   "id": "89030d78",
   "metadata": {
    "cell_id": 3
   },
   "outputs": [],
   "source": [
    "# read data\n",
    "df_raw = data"
   ]
  },
  {
   "cell_type": "code",
   "execution_count": 5,
   "id": "a1075642",
   "metadata": {
    "cell_id": 51
   },
   "outputs": [
    {
     "data": {
      "text/html": [
       "<div>\n",
       "<style scoped>\n",
       "    .dataframe tbody tr th:only-of-type {\n",
       "        vertical-align: middle;\n",
       "    }\n",
       "\n",
       "    .dataframe tbody tr th {\n",
       "        vertical-align: top;\n",
       "    }\n",
       "\n",
       "    .dataframe thead th {\n",
       "        text-align: right;\n",
       "    }\n",
       "</style>\n",
       "<table border=\"1\" class=\"dataframe\">\n",
       "  <thead>\n",
       "    <tr style=\"text-align: right;\">\n",
       "      <th></th>\n",
       "      <th>user_id</th>\n",
       "      <th>study_dt</th>\n",
       "      <th>first_milestone_name</th>\n",
       "      <th>occupation</th>\n",
       "      <th>vip_lfc_video</th>\n",
       "      <th>vip_lfc_audio</th>\n",
       "      <th>gambling_count</th>\n",
       "      <th>gambling_status_audio</th>\n",
       "      <th>gambling_status_video</th>\n",
       "      <th>team_count</th>\n",
       "      <th>team_status_audio</th>\n",
       "      <th>team_status_video</th>\n",
       "      <th>scholarship_status_video</th>\n",
       "      <th>scholarship_status_audio</th>\n",
       "      <th>scholarship_succeeded_audio</th>\n",
       "      <th>scholarship_succeeded_video</th>\n",
       "      <th>wemeet_count_all</th>\n",
       "      <th>finish_dubbing_lesson_cnt</th>\n",
       "      <th>words_review_count_all</th>\n",
       "      <th>study_duration_pre</th>\n",
       "      <th>aim_module_user</th>\n",
       "      <th>study_2w5d_yn</th>\n",
       "    </tr>\n",
       "  </thead>\n",
       "  <tbody>\n",
       "    <tr>\n",
       "      <th>0</th>\n",
       "      <td>2422855878</td>\n",
       "      <td>2021-03-16</td>\n",
       "      <td>未定级</td>\n",
       "      <td>office_worker</td>\n",
       "      <td>-1</td>\n",
       "      <td>131</td>\n",
       "      <td>0</td>\n",
       "      <td>0</td>\n",
       "      <td>0</td>\n",
       "      <td>22</td>\n",
       "      <td>1</td>\n",
       "      <td>0</td>\n",
       "      <td>0</td>\n",
       "      <td>1</td>\n",
       "      <td>0</td>\n",
       "      <td>0</td>\n",
       "      <td>0</td>\n",
       "      <td>0</td>\n",
       "      <td>50</td>\n",
       "      <td>0</td>\n",
       "      <td>0</td>\n",
       "      <td>1</td>\n",
       "    </tr>\n",
       "    <tr>\n",
       "      <th>1</th>\n",
       "      <td>2422855878</td>\n",
       "      <td>2021-03-17</td>\n",
       "      <td>未定级</td>\n",
       "      <td>office_worker</td>\n",
       "      <td>-1</td>\n",
       "      <td>132</td>\n",
       "      <td>0</td>\n",
       "      <td>0</td>\n",
       "      <td>0</td>\n",
       "      <td>22</td>\n",
       "      <td>1</td>\n",
       "      <td>0</td>\n",
       "      <td>0</td>\n",
       "      <td>1</td>\n",
       "      <td>0</td>\n",
       "      <td>0</td>\n",
       "      <td>0</td>\n",
       "      <td>0</td>\n",
       "      <td>50</td>\n",
       "      <td>2211</td>\n",
       "      <td>0</td>\n",
       "      <td>1</td>\n",
       "    </tr>\n",
       "    <tr>\n",
       "      <th>2</th>\n",
       "      <td>2422855878</td>\n",
       "      <td>2021-03-18</td>\n",
       "      <td>未定级</td>\n",
       "      <td>office_worker</td>\n",
       "      <td>-1</td>\n",
       "      <td>133</td>\n",
       "      <td>0</td>\n",
       "      <td>0</td>\n",
       "      <td>0</td>\n",
       "      <td>22</td>\n",
       "      <td>1</td>\n",
       "      <td>0</td>\n",
       "      <td>0</td>\n",
       "      <td>1</td>\n",
       "      <td>0</td>\n",
       "      <td>0</td>\n",
       "      <td>0</td>\n",
       "      <td>0</td>\n",
       "      <td>50</td>\n",
       "      <td>3407</td>\n",
       "      <td>0</td>\n",
       "      <td>1</td>\n",
       "    </tr>\n",
       "    <tr>\n",
       "      <th>3</th>\n",
       "      <td>2422855878</td>\n",
       "      <td>2021-03-19</td>\n",
       "      <td>未定级</td>\n",
       "      <td>office_worker</td>\n",
       "      <td>-1</td>\n",
       "      <td>134</td>\n",
       "      <td>0</td>\n",
       "      <td>0</td>\n",
       "      <td>0</td>\n",
       "      <td>22</td>\n",
       "      <td>1</td>\n",
       "      <td>0</td>\n",
       "      <td>0</td>\n",
       "      <td>1</td>\n",
       "      <td>0</td>\n",
       "      <td>0</td>\n",
       "      <td>0</td>\n",
       "      <td>0</td>\n",
       "      <td>50</td>\n",
       "      <td>3407</td>\n",
       "      <td>0</td>\n",
       "      <td>1</td>\n",
       "    </tr>\n",
       "    <tr>\n",
       "      <th>4</th>\n",
       "      <td>2422855878</td>\n",
       "      <td>2021-03-20</td>\n",
       "      <td>未定级</td>\n",
       "      <td>office_worker</td>\n",
       "      <td>-1</td>\n",
       "      <td>135</td>\n",
       "      <td>0</td>\n",
       "      <td>0</td>\n",
       "      <td>0</td>\n",
       "      <td>22</td>\n",
       "      <td>1</td>\n",
       "      <td>0</td>\n",
       "      <td>0</td>\n",
       "      <td>1</td>\n",
       "      <td>0</td>\n",
       "      <td>0</td>\n",
       "      <td>0</td>\n",
       "      <td>0</td>\n",
       "      <td>50</td>\n",
       "      <td>7016</td>\n",
       "      <td>0</td>\n",
       "      <td>1</td>\n",
       "    </tr>\n",
       "  </tbody>\n",
       "</table>\n",
       "</div>"
      ],
      "text/plain": [
       "      user_id    study_dt first_milestone_name     occupation  vip_lfc_video  \\\n",
       "0  2422855878  2021-03-16                  未定级  office_worker             -1   \n",
       "1  2422855878  2021-03-17                  未定级  office_worker             -1   \n",
       "2  2422855878  2021-03-18                  未定级  office_worker             -1   \n",
       "3  2422855878  2021-03-19                  未定级  office_worker             -1   \n",
       "4  2422855878  2021-03-20                  未定级  office_worker             -1   \n",
       "\n",
       "   vip_lfc_audio  gambling_count  gambling_status_audio  \\\n",
       "0            131               0                      0   \n",
       "1            132               0                      0   \n",
       "2            133               0                      0   \n",
       "3            134               0                      0   \n",
       "4            135               0                      0   \n",
       "\n",
       "   gambling_status_video  team_count  team_status_audio  team_status_video  \\\n",
       "0                      0          22                  1                  0   \n",
       "1                      0          22                  1                  0   \n",
       "2                      0          22                  1                  0   \n",
       "3                      0          22                  1                  0   \n",
       "4                      0          22                  1                  0   \n",
       "\n",
       "   scholarship_status_video  scholarship_status_audio  \\\n",
       "0                         0                         1   \n",
       "1                         0                         1   \n",
       "2                         0                         1   \n",
       "3                         0                         1   \n",
       "4                         0                         1   \n",
       "\n",
       "   scholarship_succeeded_audio  scholarship_succeeded_video  wemeet_count_all  \\\n",
       "0                            0                            0                 0   \n",
       "1                            0                            0                 0   \n",
       "2                            0                            0                 0   \n",
       "3                            0                            0                 0   \n",
       "4                            0                            0                 0   \n",
       "\n",
       "   finish_dubbing_lesson_cnt  words_review_count_all  study_duration_pre  \\\n",
       "0                          0                      50                   0   \n",
       "1                          0                      50                2211   \n",
       "2                          0                      50                3407   \n",
       "3                          0                      50                3407   \n",
       "4                          0                      50                7016   \n",
       "\n",
       "   aim_module_user  study_2w5d_yn  \n",
       "0                0              1  \n",
       "1                0              1  \n",
       "2                0              1  \n",
       "3                0              1  \n",
       "4                0              1  "
      ]
     },
     "execution_count": 5,
     "metadata": {},
     "output_type": "execute_result"
    }
   ],
   "source": [
    "df_raw.head()"
   ]
  },
  {
   "cell_type": "code",
   "execution_count": 6,
   "id": "a360a5fd",
   "metadata": {
    "cell_id": 8
   },
   "outputs": [],
   "source": [
    "# fill na\n",
    "category_cols = []\n",
    "\n",
    "for c in df_raw.columns:\n",
    "    if df_raw[c].dtype=='O':\n",
    "        df_raw[c] = df_raw[c].fillna('unknown')\n",
    "        category_cols.append(c)\n",
    "    else:\n",
    "        df_raw[c] = df_raw[c].fillna(0)"
   ]
  },
  {
   "cell_type": "code",
   "execution_count": 7,
   "id": "f9b8b0da",
   "metadata": {
    "cell_id": 4
   },
   "outputs": [],
   "source": [
    "# add cum status\n",
    "# df_sorted = df_raw\\\n",
    "#     .sort_values(by=['user_id', 'gap_days'])\n",
    "# df_sorted['cum_finish'] = np.where(df_sorted\\\n",
    "#     .groupby(['user_id'])['advise_finish_yn'].cumsum() > 0, 1, 0)\n",
    "df_sorted = df_raw[df_raw.study_duration_pre > 30]"
   ]
  },
  {
   "cell_type": "code",
   "execution_count": 8,
   "id": "71b916bd",
   "metadata": {
    "cell_id": 45
   },
   "outputs": [
    {
     "data": {
      "text/plain": [
       "aim_module_user\n",
       "0    7630195\n",
       "1      32912\n",
       "dtype: int64"
      ]
     },
     "execution_count": 8,
     "metadata": {},
     "output_type": "execute_result"
    }
   ],
   "source": [
    "df_raw.groupby(['aim_module_user']).size()"
   ]
  },
  {
   "cell_type": "code",
   "execution_count": 9,
   "id": "2d1869a7",
   "metadata": {
    "cell_id": 6
   },
   "outputs": [],
   "source": [
    "# select training data\n",
    "# _gap_days = 3\n",
    "_x = [\n",
    "    'occupation',\n",
    "    'first_milestone_name',\n",
    "    'vip_lfc_video',\n",
    "    'vip_lfc_audio',\n",
    "    'study_duration_pre',\n",
    "    'aim_module_user',\n",
    "    'gambling_count',\n",
    "    'gambling_status_audio',\n",
    "    'gambling_status_video',\n",
    "    'team_count',\n",
    "    'team_status_audio',\n",
    "    'team_status_video',\n",
    "    'scholarship_status_video',\n",
    "    'scholarship_status_audio',\n",
    "    'scholarship_succeeded_audio',\n",
    "    'scholarship_succeeded_video',\n",
    "    'wemeet_count_all',\n",
    "    'finish_dubbing_lesson_cnt',\n",
    "    'words_review_count_all',\n",
    "]\n",
    "categorial_x = [\n",
    "    'first_milestone_name',\n",
    "    'occupation',\n",
    "]\n",
    "_y = 'study_2w5d_yn'\n",
    "\n",
    "# df_train = df_sorted[lambda x: (x['enter_group_yn']==1)].reset_index()\n",
    "df_train = df_sorted.reset_index()"
   ]
  },
  {
   "cell_type": "code",
   "execution_count": 10,
   "id": "532cdc91",
   "metadata": {
    "cell_id": 49
   },
   "outputs": [],
   "source": [
    "df_train_0 = df_train[df_train.aim_module_user == 0].sample(frac = 0.01, replace = False, random_state = 1)\n",
    "df_train_1 = df_train[df_train.aim_module_user == 1]\n",
    "\n",
    "df_train = df_train_0.append(df_train_1)"
   ]
  },
  {
   "cell_type": "code",
   "execution_count": 11,
   "id": "46d6d8c1",
   "metadata": {
    "cell_id": 60
   },
   "outputs": [
    {
     "data": {
      "text/plain": [
       "aim_module_user\n",
       "0    33137\n",
       "1    23063\n",
       "dtype: int64"
      ]
     },
     "execution_count": 11,
     "metadata": {},
     "output_type": "execute_result"
    }
   ],
   "source": [
    "df_train.groupby(['aim_module_user']).size()"
   ]
  },
  {
   "cell_type": "markdown",
   "id": "4bd8e695",
   "metadata": {
    "cell_id": 33
   },
   "source": [
    "## Standardizing"
   ]
  },
  {
   "cell_type": "code",
   "execution_count": 12,
   "id": "d1766fab",
   "metadata": {
    "cell_id": 44
   },
   "outputs": [
    {
     "name": "stderr",
     "output_type": "stream",
     "text": [
      "/opt/conda/lib/python3.7/site-packages/ipykernel_launcher.py:10: SettingWithCopyWarning: \n",
      "A value is trying to be set on a copy of a slice from a DataFrame.\n",
      "Try using .loc[row_indexer,col_indexer] = value instead\n",
      "\n",
      "See the caveats in the documentation: https://pandas.pydata.org/pandas-docs/stable/user_guide/indexing.html#returning-a-view-versus-a-copy\n",
      "  # Remove the CWD from sys.path while we load stuff.\n"
     ]
    }
   ],
   "source": [
    "# x & y\n",
    "train_x = df_train[_x]\n",
    "train_y = df_train[_y]\n",
    "\n",
    "# --------------- SEP ---------------\n",
    "# label encoding\n",
    "label_encoders = {}\n",
    "for c in categorial_x:\n",
    "    encoder = LabelEncoder()\n",
    "    train_x[c] = encoder.fit_transform(df_train[c].values)\n",
    "    label_encoders[c] = encoder\n",
    "\n",
    "# --------------- SEP ---------------\n",
    "# counter-factual data\n",
    "train_x_cf_treated = train_x.assign(aim_module_user=lambda x: 1)\n",
    "train_x_cf_untreated = train_x.assign(aim_module_user=lambda x: 0)"
   ]
  },
  {
   "cell_type": "code",
   "execution_count": 13,
   "id": "d70dcf0e",
   "metadata": {
    "cell_id": 7
   },
   "outputs": [
    {
     "data": {
      "text/plain": [
       "LGBMClassifier()"
      ]
     },
     "execution_count": 13,
     "metadata": {},
     "output_type": "execute_result"
    }
   ],
   "source": [
    "# training classifier\n",
    "mod = LGBMClassifier()\n",
    "mod.fit(train_x, train_y)"
   ]
  },
  {
   "cell_type": "code",
   "execution_count": 14,
   "id": "aa9dfeb7",
   "metadata": {
    "cell_id": 52
   },
   "outputs": [
    {
     "name": "stdout",
     "output_type": "stream",
     "text": [
      "Training-set accuracy score: 0.7822\n"
     ]
    }
   ],
   "source": [
    "y_pred_train = mod.predict(train_x)\n",
    "print('Training-set accuracy score: {0:0.4f}'. format(accuracy_score(train_y, y_pred_train)))"
   ]
  },
  {
   "cell_type": "code",
   "execution_count": 15,
   "id": "1cb97ad2",
   "metadata": {
    "cell_id": 24
   },
   "outputs": [],
   "source": [
    "# predict counter-factual results\n",
    "pred_cf_treated = mod.predict_proba(train_x_cf_treated)[:,1]\n",
    "pred_cf_untreated = mod.predict_proba(train_x_cf_untreated)[:,1]"
   ]
  },
  {
   "cell_type": "code",
   "execution_count": 16,
   "id": "5dc417a0",
   "metadata": {
    "cell_id": 25
   },
   "outputs": [
    {
     "name": "stdout",
     "output_type": "stream",
     "text": [
      "Counter-factual treated: 0.7698, untreated: 0.5006, lift: 0.2692\n"
     ]
    }
   ],
   "source": [
    "# counter-factual mean diff\n",
    "mean_t = pred_cf_treated.mean()\n",
    "mean_u = pred_cf_untreated.mean()\n",
    "print(f\"Counter-factual treated: {mean_t:.4f}, untreated: {mean_u:.4f}, lift: {mean_t - mean_u:.4f}\")"
   ]
  },
  {
   "cell_type": "markdown",
   "id": "b6fbff6a",
   "metadata": {
    "cell_id": 50
   },
   "source": []
  },
  {
   "cell_type": "code",
   "execution_count": 17,
   "id": "39a7d3e1",
   "metadata": {
    "cell_id": 27
   },
   "outputs": [
    {
     "data": {
      "text/html": [
       "<div>\n",
       "<style scoped>\n",
       "    .dataframe tbody tr th:only-of-type {\n",
       "        vertical-align: middle;\n",
       "    }\n",
       "\n",
       "    .dataframe tbody tr th {\n",
       "        vertical-align: top;\n",
       "    }\n",
       "\n",
       "    .dataframe thead th {\n",
       "        text-align: right;\n",
       "    }\n",
       "</style>\n",
       "<table border=\"1\" class=\"dataframe\">\n",
       "  <thead>\n",
       "    <tr style=\"text-align: right;\">\n",
       "      <th></th>\n",
       "      <th>aim_module_user</th>\n",
       "      <th>user_cnt</th>\n",
       "      <th>study_rate</th>\n",
       "    </tr>\n",
       "  </thead>\n",
       "  <tbody>\n",
       "    <tr>\n",
       "      <th>0</th>\n",
       "      <td>0</td>\n",
       "      <td>33137.0</td>\n",
       "      <td>0.443553</td>\n",
       "    </tr>\n",
       "    <tr>\n",
       "      <th>1</th>\n",
       "      <td>1</td>\n",
       "      <td>23063.0</td>\n",
       "      <td>0.827603</td>\n",
       "    </tr>\n",
       "  </tbody>\n",
       "</table>\n",
       "</div>"
      ],
      "text/plain": [
       "   aim_module_user  user_cnt  study_rate\n",
       "0                0   33137.0    0.443553\n",
       "1                1   23063.0    0.827603"
      ]
     },
     "execution_count": 17,
     "metadata": {},
     "output_type": "execute_result"
    }
   ],
   "source": [
    "# actual mean diff\n",
    "df_train.groupby(['aim_module_user']).apply(lambda x: pd.Series({\n",
    "    'user_cnt': x.shape[0],\n",
    "    'study_rate': (x['study_2w5d_yn']).mean()\n",
    "})).reset_index()"
   ]
  },
  {
   "cell_type": "markdown",
   "id": "376c38b6",
   "metadata": {
    "cell_id": 31
   },
   "source": [
    "## IP Weighting"
   ]
  },
  {
   "cell_type": "code",
   "execution_count": 24,
   "id": "b79be17a",
   "metadata": {
    "cell_id": 41
   },
   "outputs": [],
   "source": [
    "# x & y\n",
    "train_x = df_train[_x]\n",
    "train_y = df_train[_y]\n",
    "\n",
    "# --------------- SEP ---------------\n",
    "# one-hot encoding\n",
    "encoder = OneHotEncoder(sparse=False)  \n",
    "\n",
    "encoded_df = pd.DataFrame(\n",
    "    encoder.fit_transform(train_x[categorial_x]), \n",
    "    columns=encoder.get_feature_names(categorial_x)\n",
    ")\n",
    "\n",
    "# combine onehot features\n",
    "train_x = pd.concat([\n",
    "        train_x.drop(columns=categorial_x),\n",
    "        encoded_df\n",
    "    ],\n",
    "    axis=1,\n",
    ")"
   ]
  },
  {
   "cell_type": "code",
   "execution_count": 25,
   "id": "c560ae10",
   "metadata": {
    "cell_id": 34
   },
   "outputs": [],
   "source": [
    "def ip(y, X):\n",
    "    mod = LogisticRegression(fit_intercept=True, C=5)\n",
    "    mod.fit(X, y)\n",
    "    weights = np.zeros(X.shape[0])\n",
    "    weights[y == 1] = \\\n",
    "        mod.predict_proba(X.loc[y == 1])[:,1]\n",
    "    weights[y == 0] = \\\n",
    "        mod.predict_proba(X.loc[y == 0])[:,0]\n",
    "    return weights\n",
    "\n",
    "# standardized weights\n",
    "denoms = ip(\n",
    "    train_x['aim_module_user'], \n",
    "    train_x.drop(columns=['aim_module_user'])\n",
    ")"
   ]
  },
  {
   "cell_type": "code",
   "execution_count": 26,
   "id": "2e4880b2",
   "metadata": {
    "cell_id": 36
   },
   "outputs": [],
   "source": [
    "weights = 1 / denoms\n",
    "\n",
    "treat_mask = (train_x['aim_module_user']==1)\n",
    "s_weights = np.zeros(train_x.shape[0])\n",
    "s_weights[treat_mask] = \\\n",
    "    treat_mask.mean() * weights[treat_mask]\n",
    "s_weights[~treat_mask] = \\\n",
    "    (1 - treat_mask).mean() * weights[~treat_mask]"
   ]
  },
  {
   "cell_type": "code",
   "execution_count": 27,
   "id": "e126c3a6",
   "metadata": {
    "cell_id": 35
   },
   "outputs": [
    {
     "data": {
      "text/html": [
       "<table class=\"simpletable\">\n",
       "<tr>\n",
       "   <td></td>      <th>coef</th>     <th>std err</th>      <th>z</th>      <th>P>|z|</th>  <th>[0.025</th>    <th>0.975]</th>  \n",
       "</tr>\n",
       "<tr>\n",
       "  <th>a</th>   <td>    0.5058</td> <td>    0.003</td> <td>  168.436</td> <td> 0.000</td> <td>    0.500</td> <td>    0.512</td>\n",
       "</tr>\n",
       "<tr>\n",
       "  <th>one</th> <td>    0.2022</td> <td>    0.000</td> <td> 1342.444</td> <td> 0.000</td> <td>    0.202</td> <td>    0.202</td>\n",
       "</tr>\n",
       "</table>"
      ],
      "text/plain": [
       "<class 'statsmodels.iolib.table.SimpleTable'>"
      ]
     },
     "execution_count": 27,
     "metadata": {},
     "output_type": "execute_result"
    }
   ],
   "source": [
    "# fit gee model\n",
    "train_x_a_1 = pd.DataFrame({\n",
    "        'a':train_x['aim_module_user'], \n",
    "        'one':np.ones(train_x.shape[0])\n",
    "    })\n",
    "gee = sm.GEE(\n",
    "    train_y,\n",
    "    train_x_a_1,\n",
    "    groups=train_x_a_1.index.tolist(),\n",
    "    weights=s_weights\n",
    ")\n",
    "\n",
    "gee.fit().summary().tables[1]"
   ]
  },
  {
   "cell_type": "code",
   "execution_count": null,
   "id": "ee54231e",
   "metadata": {
    "cell_id": 38
   },
   "outputs": [],
   "source": []
  }
 ],
 "metadata": {
  "kernelspec": {
   "display_name": "Python 3",
   "language": "python",
   "name": "python3"
  },
  "language_info": {
   "codemirror_mode": {
    "name": "ipython",
    "version": 3
   },
   "file_extension": ".py",
   "mimetype": "text/x-python",
   "name": "python",
   "nbconvert_exporter": "python",
   "pygments_lexer": "ipython3",
   "version": "3.7.12"
  },
  "max_cell_id": 62
 },
 "nbformat": 4,
 "nbformat_minor": 5
}
