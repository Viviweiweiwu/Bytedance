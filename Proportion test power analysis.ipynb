{
 "cells": [
  {
   "cell_type": "code",
   "execution_count": 37,
   "metadata": {
    "cell_id": 1
   },
   "outputs": [],
   "source": [
    "bl = 0.0147\n",
    "mde <- seq(from=0.001, to = 0.005, by = 0.001)"
   ]
  },
  {
   "cell_type": "code",
   "execution_count": 38,
   "metadata": {
    "cell_id": 2
   },
   "outputs": [],
   "source": [
    "sample = sapply(mde, function(d){power.prop.test(p1 = bl,\n",
    "                                                p2 = bl + d,\n",
    "                                                sig.level = 0.1,\n",
    "                                                power = 0.8,\n",
    "                                                alternative = c(\"one.sided\")\n",
    "                                                )$n})"
   ]
  },
  {
   "cell_type": "code",
   "execution_count": 39,
   "metadata": {
    "cell_id": 3
   },
   "outputs": [
    {
     "data": {
      "text/html": [
       "<style>\n",
       ".list-inline {list-style: none; margin:0; padding: 0}\n",
       ".list-inline>li {display: inline-block}\n",
       ".list-inline>li:not(:last-child)::after {content: \"\\00b7\"; padding: 0 .5ex}\n",
       "</style>\n",
       "<ol class=list-inline><li>0.001</li><li>0.002</li><li>0.003</li><li>0.004</li><li>0.005</li></ol>\n"
      ],
      "text/latex": [
       "\\begin{enumerate*}\n",
       "\\item 0.001\n",
       "\\item 0.002\n",
       "\\item 0.003\n",
       "\\item 0.004\n",
       "\\item 0.005\n",
       "\\end{enumerate*}\n"
      ],
      "text/markdown": [
       "1. 0.001\n",
       "2. 0.002\n",
       "3. 0.003\n",
       "4. 0.004\n",
       "5. 0.005\n",
       "\n",
       "\n"
      ],
      "text/plain": [
       "[1] 0.001 0.002 0.003 0.004 0.005"
      ]
     },
     "metadata": {},
     "output_type": "display_data"
    }
   ],
   "source": [
    "mde"
   ]
  },
  {
   "cell_type": "code",
   "execution_count": 40,
   "metadata": {
    "cell_id": 4
   },
   "outputs": [
    {
     "data": {
      "text/html": [
       "<style>\n",
       ".list-inline {list-style: none; margin:0; padding: 0}\n",
       ".list-inline>li {display: inline-block}\n",
       ".list-inline>li:not(:last-child)::after {content: \"\\00b7\"; padding: 0 .5ex}\n",
       "</style>\n",
       "<ol class=list-inline><li>134955.140472999</li><li>34830.2574641361</li><li>15964.5138419139</li><li>9252.12024347804</li><li>6095.23713080728</li></ol>\n"
      ],
      "text/latex": [
       "\\begin{enumerate*}\n",
       "\\item 134955.140472999\n",
       "\\item 34830.2574641361\n",
       "\\item 15964.5138419139\n",
       "\\item 9252.12024347804\n",
       "\\item 6095.23713080728\n",
       "\\end{enumerate*}\n"
      ],
      "text/markdown": [
       "1. 134955.140472999\n",
       "2. 34830.2574641361\n",
       "3. 15964.5138419139\n",
       "4. 9252.12024347804\n",
       "5. 6095.23713080728\n",
       "\n",
       "\n"
      ],
      "text/plain": [
       "[1] 134955.140  34830.257  15964.514   9252.120   6095.237"
      ]
     },
     "metadata": {},
     "output_type": "display_data"
    }
   ],
   "source": [
    "sample"
   ]
  },
  {
   "cell_type": "code",
   "execution_count": 41,
   "metadata": {
    "cell_id": 7
   },
   "outputs": [
    {
     "data": {
      "text/html": [
       "<table>\n",
       "<caption>A data.frame: 5 × 2</caption>\n",
       "<thead>\n",
       "\t<tr><th scope=col>mde</th><th scope=col>sample</th></tr>\n",
       "\t<tr><th scope=col>&lt;dbl&gt;</th><th scope=col>&lt;dbl&gt;</th></tr>\n",
       "</thead>\n",
       "<tbody>\n",
       "\t<tr><td>0.001</td><td>134955.140</td></tr>\n",
       "\t<tr><td>0.002</td><td> 34830.257</td></tr>\n",
       "\t<tr><td>0.003</td><td> 15964.514</td></tr>\n",
       "\t<tr><td>0.004</td><td>  9252.120</td></tr>\n",
       "\t<tr><td>0.005</td><td>  6095.237</td></tr>\n",
       "</tbody>\n",
       "</table>\n"
      ],
      "text/latex": [
       "A data.frame: 5 × 2\n",
       "\\begin{tabular}{ll}\n",
       " mde & sample\\\\\n",
       " <dbl> & <dbl>\\\\\n",
       "\\hline\n",
       "\t 0.001 & 134955.140\\\\\n",
       "\t 0.002 &  34830.257\\\\\n",
       "\t 0.003 &  15964.514\\\\\n",
       "\t 0.004 &   9252.120\\\\\n",
       "\t 0.005 &   6095.237\\\\\n",
       "\\end{tabular}\n"
      ],
      "text/markdown": [
       "\n",
       "A data.frame: 5 × 2\n",
       "\n",
       "| mde &lt;dbl&gt; | sample &lt;dbl&gt; |\n",
       "|---|---|\n",
       "| 0.001 | 134955.140 |\n",
       "| 0.002 |  34830.257 |\n",
       "| 0.003 |  15964.514 |\n",
       "| 0.004 |   9252.120 |\n",
       "| 0.005 |   6095.237 |\n",
       "\n"
      ],
      "text/plain": [
       "  mde   sample    \n",
       "1 0.001 134955.140\n",
       "2 0.002  34830.257\n",
       "3 0.003  15964.514\n",
       "4 0.004   9252.120\n",
       "5 0.005   6095.237"
      ]
     },
     "metadata": {},
     "output_type": "display_data"
    }
   ],
   "source": [
    "data.frame(mde, sample)"
   ]
  },
  {
   "cell_type": "code",
   "execution_count": 36,
   "metadata": {
    "cell_id": 5
   },
   "outputs": [
    {
     "data": {
      "image/png": "[encoded data removed]",
      "text/plain": [
       "plot without title"
      ]
     },
     "metadata": {
      "image/png": {
       "height": 420,
       "width": 420
      }
     },
     "output_type": "display_data"
    }
   ],
   "source": [
    "plot(mde, sample, type = 'l', xlab = \"转化率最小期望提升\", ylab = \"实验组/对照组各组需要的最小样本量\")"
   ]
  },
  {
   "cell_type": "code",
   "execution_count": 35,
   "metadata": {
    "cell_id": 6
   },
   "outputs": [
    {
     "ename": "ERROR",
     "evalue": "Error in parse(text = x, srcfile = src): <text>:1:44: unexpected input\n1: plot(mde, sample, type = 'l', xlab = \"MDE\" ，\n                                               ^\n",
     "output_type": "error",
     "traceback": [
      "Error in parse(text = x, srcfile = src): <text>:1:44: unexpected input\n1: plot(mde, sample, type = 'l', xlab = \"MDE\" ，\n                                               ^\nTraceback:\n"
     ]
    }
   ],
   "source": [
    "plot(mde, sample, type = 'l', xlab = \"MDE\" ， ylab = \"Sample\")"
   ]
  },
  {
   "cell_type": "code",
   "execution_count": null,
   "metadata": {
    "cell_id": 8
   },
   "outputs": [],
   "source": []
  }
 ],
 "metadata": {
  "kernelspec": {
   "display_name": "R",
   "language": "R",
   "name": "ir"
  },
  "language_info": {
   "codemirror_mode": "r",
   "file_extension": ".r",
   "mimetype": "text/x-r-source",
   "name": "R",
   "pygments_lexer": "r",
   "version": "4.0.3"
  },
  "max_cell_id": 9
 },
 "nbformat": 4,
 "nbformat_minor": 4
}
