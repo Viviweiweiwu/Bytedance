{
 "cells": [
  {
   "cell_type": "code",
   "execution_count": 83,
   "metadata": {
    "cell_id": 1
   },
   "outputs": [],
   "source": [
    "import pandas as pd\n",
    "import numpy as np\n",
    "import matplotlib.pyplot as plt\n",
    "from scipy import stats\n",
    "from scipy.stats import kruskal\n",
    "from scipy.stats import mannwhitneyu\n",
    "\n",
    "np.set_printoptions(suppress=True)"
   ]
  },
  {
   "cell_type": "markdown",
   "metadata": {
    "cell_id": 9
   },
   "source": [
    "# 分知识点看相关性"
   ]
  },
  {
   "cell_type": "code",
   "execution_count": 62,
   "metadata": {
    "cell_id": 10
   },
   "outputs": [
    {
     "data": {
      "text/html": [
       "<div>\n",
       "<style scoped>\n",
       "    .dataframe tbody tr th:only-of-type {\n",
       "        vertical-align: middle;\n",
       "    }\n",
       "\n",
       "    .dataframe tbody tr th {\n",
       "        vertical-align: top;\n",
       "    }\n",
       "\n",
       "    .dataframe thead th {\n",
       "        text-align: right;\n",
       "    }\n",
       "</style>\n",
       "<table border=\"1\" class=\"dataframe\">\n",
       "  <thead>\n",
       "    <tr style=\"text-align: right;\">\n",
       "      <th></th>\n",
       "      <th>user_id</th>\n",
       "      <th>kp_id</th>\n",
       "      <th>point_name</th>\n",
       "      <th>correct_num</th>\n",
       "      <th>mastery_degree</th>\n",
       "      <th>mastery_degree_gt80</th>\n",
       "    </tr>\n",
       "  </thead>\n",
       "  <tbody>\n",
       "    <tr>\n",
       "      <th>0</th>\n",
       "      <td>70016326174621</td>\n",
       "      <td>6811362936011882759</td>\n",
       "      <td>感官动词的用法</td>\n",
       "      <td>2</td>\n",
       "      <td>92.0</td>\n",
       "      <td>1.0</td>\n",
       "    </tr>\n",
       "    <tr>\n",
       "      <th>1</th>\n",
       "      <td>4001861800831800</td>\n",
       "      <td>6811363085840826632</td>\n",
       "      <td>询问是谁</td>\n",
       "      <td>1</td>\n",
       "      <td>60.0</td>\n",
       "      <td>0.0</td>\n",
       "    </tr>\n",
       "    <tr>\n",
       "      <th>2</th>\n",
       "      <td>3378112817023000</td>\n",
       "      <td>6811316311600136455</td>\n",
       "      <td>start</td>\n",
       "      <td>1</td>\n",
       "      <td>81.0</td>\n",
       "      <td>1.0</td>\n",
       "    </tr>\n",
       "    <tr>\n",
       "      <th>3</th>\n",
       "      <td>880021667334055</td>\n",
       "      <td>6811316269623542024</td>\n",
       "      <td>wash up</td>\n",
       "      <td>0</td>\n",
       "      <td>96.0</td>\n",
       "      <td>1.0</td>\n",
       "    </tr>\n",
       "    <tr>\n",
       "      <th>4</th>\n",
       "      <td>70016326174621</td>\n",
       "      <td>6838445552577839374</td>\n",
       "      <td>assistant</td>\n",
       "      <td>1</td>\n",
       "      <td>93.0</td>\n",
       "      <td>1.0</td>\n",
       "    </tr>\n",
       "  </tbody>\n",
       "</table>\n",
       "</div>"
      ],
      "text/plain": [
       "            user_id                kp_id point_name  correct_num  \\\n",
       "0    70016326174621  6811362936011882759    感官动词的用法            2   \n",
       "1  4001861800831800  6811363085840826632       询问是谁            1   \n",
       "2  3378112817023000  6811316311600136455      start            1   \n",
       "3   880021667334055  6811316269623542024    wash up            0   \n",
       "4    70016326174621  6838445552577839374  assistant            1   \n",
       "\n",
       "   mastery_degree  mastery_degree_gt80  \n",
       "0            92.0                  1.0  \n",
       "1            60.0                  0.0  \n",
       "2            81.0                  1.0  \n",
       "3            96.0                  1.0  \n",
       "4            93.0                  1.0  "
      ]
     },
     "execution_count": 62,
     "metadata": {},
     "output_type": "execute_result"
    }
   ],
   "source": [
    "kp_data = pd.read_csv('/home/tiger/archived-data/aeolus-data/20210224/11/38586485-课程实验-标尺题-查询19.csv', encoding = 'gb18030')\n",
    "kp_data.loc[(kp_data['mastery_degree'] >= 80), 'mastery_degree_gt80'] = 1\n",
    "kp_data.loc[(kp_data['mastery_degree'] < 80), 'mastery_degree_gt80'] = 0\n",
    "\n",
    "kp_data = kp_data.rename(columns = {\"point2_id\": \"kp_id\"})\n",
    "\n",
    "kp_data.head()"
   ]
  },
  {
   "cell_type": "code",
   "execution_count": 63,
   "metadata": {
    "cell_id": 37
   },
   "outputs": [
    {
     "data": {
      "text/plain": [
       "mastery_degree_gt80\n",
       "0.0     4748\n",
       "1.0    24110\n",
       "dtype: int64"
      ]
     },
     "execution_count": 63,
     "metadata": {},
     "output_type": "execute_result"
    }
   ],
   "source": [
    "kp_data.groupby(['mastery_degree_gt80']).size()"
   ]
  },
  {
   "cell_type": "code",
   "execution_count": 64,
   "metadata": {
    "cell_id": 11
   },
   "outputs": [],
   "source": [
    "kp_list = kp_data.kp_id.unique()\n",
    "kp_summary = pd.DataFrame(columns = [\"kp_id\", \"kp_name\",\"md_correct2\", \"md_correct1\", \"md_wrong\", \"min_sample\", \"p_value\", \"mastery_degree_gt80_perc\"])"
   ]
  },
  {
   "cell_type": "code",
   "execution_count": 65,
   "metadata": {
    "cell_id": 46
   },
   "outputs": [
    {
     "data": {
      "text/plain": [
       "116"
      ]
     },
     "execution_count": 65,
     "metadata": {},
     "output_type": "execute_result"
    }
   ],
   "source": [
    "len(kp_list)"
   ]
  },
  {
   "cell_type": "markdown",
   "metadata": {
    "cell_id": 47
   },
   "source": [
    "## 答对2题 vs 答对1题答错1题 vs 答错2题"
   ]
  },
  {
   "cell_type": "markdown",
   "metadata": {
    "cell_id": 62
   },
   "source": [
    "### Kruskal-Wallis H Test (ANOVA: for more than two independent samples)\n",
    "\n",
    "The Kruskal-Wallis test is a nonparametric version of the one-way analysis of variance test or ANOVA for short. It is named for the developers of the method, William Kruskal and Wilson Wallis. This test can be used to determine whether more than two independent samples have a different distribution. It can be thought of as the generalization of the Mann-Whitney U test.\n",
    "\n",
    "When the Kruskal-Wallis H-test leads to significant results, then at least one of the samples is different from the other samples. However, the test does not identify where the difference(s) occur. Moreover, it does not identify how many differences occur. To identify the particular differences between sample pairs, a researcher might use sample contrasts, or post hoc tests, to analyze the specific sample pairs for significant difference(s). The Mann-Whitney U-test is a useful method for performing sample contrasts between individual sample sets.\n",
    "\n",
    "##### Fail to Reject H0: All sample distributions are equal.\n",
    "##### Reject H0: One or more sample distributions are not equal."
   ]
  },
  {
   "cell_type": "code",
   "execution_count": 67,
   "metadata": {
    "cell_id": 12
   },
   "outputs": [
    {
     "data": {
      "text/html": [
       "<div>\n",
       "<style scoped>\n",
       "    .dataframe tbody tr th:only-of-type {\n",
       "        vertical-align: middle;\n",
       "    }\n",
       "\n",
       "    .dataframe tbody tr th {\n",
       "        vertical-align: top;\n",
       "    }\n",
       "\n",
       "    .dataframe thead th {\n",
       "        text-align: right;\n",
       "    }\n",
       "</style>\n",
       "<table border=\"1\" class=\"dataframe\">\n",
       "  <thead>\n",
       "    <tr style=\"text-align: right;\">\n",
       "      <th></th>\n",
       "      <th>kp_id</th>\n",
       "      <th>kp_name</th>\n",
       "      <th>md_correct2</th>\n",
       "      <th>md_correct1</th>\n",
       "      <th>md_wrong</th>\n",
       "      <th>min_sample</th>\n",
       "      <th>p_value</th>\n",
       "      <th>mastery_degree_gt80_perc</th>\n",
       "    </tr>\n",
       "  </thead>\n",
       "  <tbody>\n",
       "    <tr>\n",
       "      <th>0</th>\n",
       "      <td>6811362936011882759</td>\n",
       "      <td>[感官动词的用法]</td>\n",
       "      <td>90.826667</td>\n",
       "      <td>89.311688</td>\n",
       "      <td>88.285714</td>\n",
       "      <td>21</td>\n",
       "      <td>0.046270</td>\n",
       "      <td>0.963710</td>\n",
       "    </tr>\n",
       "    <tr>\n",
       "      <th>1</th>\n",
       "      <td>6811363085840826632</td>\n",
       "      <td>[询问是谁]</td>\n",
       "      <td>91.989583</td>\n",
       "      <td>91.116071</td>\n",
       "      <td>84.933333</td>\n",
       "      <td>45</td>\n",
       "      <td>0.000016</td>\n",
       "      <td>0.889328</td>\n",
       "    </tr>\n",
       "    <tr>\n",
       "      <th>2</th>\n",
       "      <td>6811316311600136455</td>\n",
       "      <td>[start]</td>\n",
       "      <td>89.274611</td>\n",
       "      <td>87.040404</td>\n",
       "      <td>86.937500</td>\n",
       "      <td>16</td>\n",
       "      <td>0.045352</td>\n",
       "      <td>0.863636</td>\n",
       "    </tr>\n",
       "    <tr>\n",
       "      <th>3</th>\n",
       "      <td>6811316269623542024</td>\n",
       "      <td>[wash up]</td>\n",
       "      <td>91.632911</td>\n",
       "      <td>92.328467</td>\n",
       "      <td>90.788732</td>\n",
       "      <td>71</td>\n",
       "      <td>0.195147</td>\n",
       "      <td>0.972125</td>\n",
       "    </tr>\n",
       "    <tr>\n",
       "      <th>4</th>\n",
       "      <td>6838445552577839374</td>\n",
       "      <td>[assistant]</td>\n",
       "      <td>88.104167</td>\n",
       "      <td>88.240000</td>\n",
       "      <td>84.884615</td>\n",
       "      <td>26</td>\n",
       "      <td>0.070510</td>\n",
       "      <td>0.824121</td>\n",
       "    </tr>\n",
       "    <tr>\n",
       "      <th>...</th>\n",
       "      <td>...</td>\n",
       "      <td>...</td>\n",
       "      <td>...</td>\n",
       "      <td>...</td>\n",
       "      <td>...</td>\n",
       "      <td>...</td>\n",
       "      <td>...</td>\n",
       "      <td>...</td>\n",
       "    </tr>\n",
       "    <tr>\n",
       "      <th>111</th>\n",
       "      <td>6815459061853602061</td>\n",
       "      <td>[what引导的特殊疑问句-A1高]</td>\n",
       "      <td>90.487179</td>\n",
       "      <td>88.447619</td>\n",
       "      <td>87.727273</td>\n",
       "      <td>11</td>\n",
       "      <td>0.444803</td>\n",
       "      <td>0.860825</td>\n",
       "    </tr>\n",
       "    <tr>\n",
       "      <th>112</th>\n",
       "      <td>6811316276800045320</td>\n",
       "      <td>[daughter]</td>\n",
       "      <td>89.473684</td>\n",
       "      <td>85.138462</td>\n",
       "      <td>77.416667</td>\n",
       "      <td>12</td>\n",
       "      <td>0.000352</td>\n",
       "      <td>0.771242</td>\n",
       "    </tr>\n",
       "    <tr>\n",
       "      <th>113</th>\n",
       "      <td>6811316272375005454</td>\n",
       "      <td>[family]</td>\n",
       "      <td>89.000000</td>\n",
       "      <td>86.645833</td>\n",
       "      <td>84.333333</td>\n",
       "      <td>6</td>\n",
       "      <td>0.405955</td>\n",
       "      <td>0.823899</td>\n",
       "    </tr>\n",
       "    <tr>\n",
       "      <th>114</th>\n",
       "      <td>6926826050169078029</td>\n",
       "      <td>[without表示没有]</td>\n",
       "      <td>NaN</td>\n",
       "      <td>88.142857</td>\n",
       "      <td>82.000000</td>\n",
       "      <td>0</td>\n",
       "      <td>NaN</td>\n",
       "      <td>0.800000</td>\n",
       "    </tr>\n",
       "    <tr>\n",
       "      <th>115</th>\n",
       "      <td>6846168946467406093</td>\n",
       "      <td>[by + doing 表示做某事的方法]</td>\n",
       "      <td>88.250000</td>\n",
       "      <td>87.500000</td>\n",
       "      <td>90.000000</td>\n",
       "      <td>1</td>\n",
       "      <td>0.963942</td>\n",
       "      <td>0.857143</td>\n",
       "    </tr>\n",
       "  </tbody>\n",
       "</table>\n",
       "<p>116 rows × 8 columns</p>\n",
       "</div>"
      ],
      "text/plain": [
       "                   kp_id                kp_name  md_correct2  md_correct1  \\\n",
       "0    6811362936011882759              [感官动词的用法]    90.826667    89.311688   \n",
       "1    6811363085840826632                 [询问是谁]    91.989583    91.116071   \n",
       "2    6811316311600136455                [start]    89.274611    87.040404   \n",
       "3    6811316269623542024              [wash up]    91.632911    92.328467   \n",
       "4    6838445552577839374            [assistant]    88.104167    88.240000   \n",
       "..                   ...                    ...          ...          ...   \n",
       "111  6815459061853602061     [what引导的特殊疑问句-A1高]    90.487179    88.447619   \n",
       "112  6811316276800045320             [daughter]    89.473684    85.138462   \n",
       "113  6811316272375005454               [family]    89.000000    86.645833   \n",
       "114  6926826050169078029          [without表示没有]          NaN    88.142857   \n",
       "115  6846168946467406093  [by + doing 表示做某事的方法]    88.250000    87.500000   \n",
       "\n",
       "      md_wrong min_sample   p_value  mastery_degree_gt80_perc  \n",
       "0    88.285714         21  0.046270                  0.963710  \n",
       "1    84.933333         45  0.000016                  0.889328  \n",
       "2    86.937500         16  0.045352                  0.863636  \n",
       "3    90.788732         71  0.195147                  0.972125  \n",
       "4    84.884615         26  0.070510                  0.824121  \n",
       "..         ...        ...       ...                       ...  \n",
       "111  87.727273         11  0.444803                  0.860825  \n",
       "112  77.416667         12  0.000352                  0.771242  \n",
       "113  84.333333          6  0.405955                  0.823899  \n",
       "114  82.000000          0       NaN                  0.800000  \n",
       "115  90.000000          1  0.963942                  0.857143  \n",
       "\n",
       "[116 rows x 8 columns]"
      ]
     },
     "execution_count": 67,
     "metadata": {},
     "output_type": "execute_result"
    }
   ],
   "source": [
    "for i in range(0,len(kp_list)):\n",
    "    kp_id = kp_list[i]\n",
    "    kp_data_s = kp_data[kp_data.kp_id == kp_id]\n",
    "    kp_correct2 = kp_data_s[kp_data_s.correct_num == 2].mastery_degree\n",
    "    kp_correct1 = kp_data_s[kp_data_s.correct_num == 1].mastery_degree\n",
    "    kp_wrong = kp_data_s[kp_data_s.correct_num == 0].mastery_degree\n",
    "    \n",
    "    kp_name = kp_data_s.point_name.unique()\n",
    "    correct2_user_cnt = len(kp_correct2)\n",
    "    correct1_user_cnt = len(kp_correct1)\n",
    "    wrong_user_cnt = len(kp_wrong)\n",
    " \n",
    "    min_sample = min(len(kp_correct2), len(kp_correct1), len(kp_wrong))\n",
    "    \n",
    "    p_value = kruskal(kp_correct2, kp_correct1, kp_wrong).pvalue\n",
    "    \n",
    "    md_gt_80 = sum(kp_data_s.mastery_degree_gt80)/len(kp_data_s)\n",
    "    kp_summary = kp_summary.append({'kp_id': kp_id, 'kp_name': kp_name, 'md_correct2': kp_correct2.mean(), 'md_correct1': kp_correct1.mean(), 'md_wrong': kp_wrong.mean(), 'min_sample':min_sample, 'p_value': p_value, 'mastery_degree_gt80_perc' : md_gt_80}, ignore_index = True)\n",
    "\n",
    "kp_summary"
   ]
  },
  {
   "cell_type": "code",
   "execution_count": 72,
   "metadata": {
    "cell_id": 13
   },
   "outputs": [],
   "source": [
    "kp_summary.loc[(kp_summary['min_sample'] >= 30), 'enough_sample_yn'] = 'Y'\n",
    "kp_summary.loc[(kp_summary['min_sample'] < 30), 'enough_sample_yn'] = 'N'\n",
    "\n",
    "kp_summary.loc[(kp_summary['p_value'] <= 0.05), 'sig_diff_yn'] = 'Y'\n",
    "kp_summary.loc[(kp_summary['p_value'] > 0.05), 'sig_diff_yn'] = 'N'\n",
    "\n",
    "kp_summary.loc[(kp_summary['mastery_degree_gt80_perc'] >= 0.9), 'mastery_degree_gt80_perc_flag'] = 'High_gt_90p'\n",
    "kp_summary.loc[(kp_summary['mastery_degree_gt80_perc'] < 0.9) & (kp_summary['mastery_degree_gt80_perc'] > 0.7), 'mastery_degree_gt80_perc_flag'] = 'Mid_70p_90p'\n",
    "kp_summary.loc[(kp_summary['mastery_degree_gt80_perc'] <= 0.7), 'mastery_degree_gt80_perc_flag'] = 'Low_lt_70p'"
   ]
  },
  {
   "cell_type": "code",
   "execution_count": 73,
   "metadata": {
    "cell_id": 15
   },
   "outputs": [
    {
     "data": {
      "text/plain": [
       "sig_diff_yn\n",
       "N    64\n",
       "Y    51\n",
       "dtype: int64"
      ]
     },
     "execution_count": 73,
     "metadata": {},
     "output_type": "execute_result"
    }
   ],
   "source": [
    "kp_summary.groupby(['sig_diff_yn']).size()"
   ]
  },
  {
   "cell_type": "code",
   "execution_count": 22,
   "metadata": {
    "cell_id": 45
   },
   "outputs": [
    {
     "data": {
      "text/plain": [
       "0.4434782608695652"
      ]
     },
     "execution_count": 22,
     "metadata": {},
     "output_type": "execute_result"
    }
   ],
   "source": [
    "51/(51+64)"
   ]
  },
  {
   "cell_type": "code",
   "execution_count": 39,
   "metadata": {
    "cell_id": 53
   },
   "outputs": [
    {
     "data": {
      "text/plain": [
       "0.4634146341463415"
      ]
     },
     "execution_count": 39,
     "metadata": {},
     "output_type": "execute_result"
    }
   ],
   "source": [
    "19/(19+22)"
   ]
  },
  {
   "cell_type": "code",
   "execution_count": 74,
   "metadata": {
    "cell_id": 16
   },
   "outputs": [
    {
     "data": {
      "text/plain": [
       "mastery_degree_gt80_perc_flag  sig_diff_yn\n",
       "High_gt_90p                    N              28\n",
       "                               Y               9\n",
       "Low_lt_70p                     N               7\n",
       "                               Y               8\n",
       "Mid_70p_90p                    N              29\n",
       "                               Y              34\n",
       "dtype: int64"
      ]
     },
     "execution_count": 74,
     "metadata": {},
     "output_type": "execute_result"
    }
   ],
   "source": [
    "kp_summary.groupby(['mastery_degree_gt80_perc_flag', 'sig_diff_yn']).size()"
   ]
  },
  {
   "cell_type": "code",
   "execution_count": 27,
   "metadata": {
    "cell_id": 17
   },
   "outputs": [],
   "source": [
    "kp_summary['kp_id2'] = kp_summary['kp_id'].apply(str) + '\\t'"
   ]
  },
  {
   "cell_type": "code",
   "execution_count": 28,
   "metadata": {
    "cell_id": 18
   },
   "outputs": [
    {
     "data": {
      "text/html": [
       "<div>\n",
       "<style scoped>\n",
       "    .dataframe tbody tr th:only-of-type {\n",
       "        vertical-align: middle;\n",
       "    }\n",
       "\n",
       "    .dataframe tbody tr th {\n",
       "        vertical-align: top;\n",
       "    }\n",
       "\n",
       "    .dataframe thead th {\n",
       "        text-align: right;\n",
       "    }\n",
       "</style>\n",
       "<table border=\"1\" class=\"dataframe\">\n",
       "  <thead>\n",
       "    <tr style=\"text-align: right;\">\n",
       "      <th></th>\n",
       "      <th>kp_id</th>\n",
       "      <th>kp_name</th>\n",
       "      <th>md_correct2</th>\n",
       "      <th>md_correct1</th>\n",
       "      <th>md_wrong</th>\n",
       "      <th>min_sample</th>\n",
       "      <th>p_value</th>\n",
       "      <th>mastery_degree_gt80_perc</th>\n",
       "      <th>enough_sample_yn</th>\n",
       "      <th>sig_diff_yn</th>\n",
       "      <th>mastery_degree_gt80_perc_flag</th>\n",
       "      <th>kp_id2</th>\n",
       "    </tr>\n",
       "  </thead>\n",
       "  <tbody>\n",
       "    <tr>\n",
       "      <th>36</th>\n",
       "      <td>6811363090156781832</td>\n",
       "      <td>[姓氏名字]</td>\n",
       "      <td>84.567797</td>\n",
       "      <td>75.252381</td>\n",
       "      <td>67.992424</td>\n",
       "      <td>66</td>\n",
       "      <td>3.441933e-19</td>\n",
       "      <td>0.475309</td>\n",
       "      <td>Y</td>\n",
       "      <td>Y</td>\n",
       "      <td>NaN</td>\n",
       "      <td>6811363090156781832\\t</td>\n",
       "    </tr>\n",
       "    <tr>\n",
       "      <th>34</th>\n",
       "      <td>6838445552577855758</td>\n",
       "      <td>[instruction]</td>\n",
       "      <td>82.550000</td>\n",
       "      <td>81.824561</td>\n",
       "      <td>77.571429</td>\n",
       "      <td>20</td>\n",
       "      <td>8.172501e-02</td>\n",
       "      <td>0.500000</td>\n",
       "      <td>N</td>\n",
       "      <td>N</td>\n",
       "      <td>NaN</td>\n",
       "      <td>6838445552577855758\\t</td>\n",
       "    </tr>\n",
       "    <tr>\n",
       "      <th>88</th>\n",
       "      <td>6838448264082161933</td>\n",
       "      <td>[weird]</td>\n",
       "      <td>83.875000</td>\n",
       "      <td>82.407407</td>\n",
       "      <td>80.335878</td>\n",
       "      <td>36</td>\n",
       "      <td>1.160316e-01</td>\n",
       "      <td>0.574468</td>\n",
       "      <td>Y</td>\n",
       "      <td>N</td>\n",
       "      <td>NaN</td>\n",
       "      <td>6838448264082161933\\t</td>\n",
       "    </tr>\n",
       "    <tr>\n",
       "      <th>69</th>\n",
       "      <td>6838444416491897096</td>\n",
       "      <td>[... is a big hit.]</td>\n",
       "      <td>84.332278</td>\n",
       "      <td>78.508065</td>\n",
       "      <td>82.250000</td>\n",
       "      <td>8</td>\n",
       "      <td>6.387055e-03</td>\n",
       "      <td>0.578947</td>\n",
       "      <td>N</td>\n",
       "      <td>Y</td>\n",
       "      <td>NaN</td>\n",
       "      <td>6838444416491897096\\t</td>\n",
       "    </tr>\n",
       "    <tr>\n",
       "      <th>93</th>\n",
       "      <td>6811363085840843016</td>\n",
       "      <td>[称谓]</td>\n",
       "      <td>83.007353</td>\n",
       "      <td>80.325000</td>\n",
       "      <td>76.751244</td>\n",
       "      <td>67</td>\n",
       "      <td>2.272149e-02</td>\n",
       "      <td>0.601190</td>\n",
       "      <td>Y</td>\n",
       "      <td>Y</td>\n",
       "      <td>NaN</td>\n",
       "      <td>6811363085840843016\\t</td>\n",
       "    </tr>\n",
       "    <tr>\n",
       "      <th>...</th>\n",
       "      <td>...</td>\n",
       "      <td>...</td>\n",
       "      <td>...</td>\n",
       "      <td>...</td>\n",
       "      <td>...</td>\n",
       "      <td>...</td>\n",
       "      <td>...</td>\n",
       "      <td>...</td>\n",
       "      <td>...</td>\n",
       "      <td>...</td>\n",
       "      <td>...</td>\n",
       "      <td>...</td>\n",
       "    </tr>\n",
       "    <tr>\n",
       "      <th>3</th>\n",
       "      <td>6811316269623542024</td>\n",
       "      <td>[wash up]</td>\n",
       "      <td>91.632911</td>\n",
       "      <td>92.328467</td>\n",
       "      <td>90.788732</td>\n",
       "      <td>71</td>\n",
       "      <td>1.951472e-01</td>\n",
       "      <td>0.972125</td>\n",
       "      <td>Y</td>\n",
       "      <td>N</td>\n",
       "      <td>High_gt_90p</td>\n",
       "      <td>6811316269623542024\\t</td>\n",
       "    </tr>\n",
       "    <tr>\n",
       "      <th>61</th>\n",
       "      <td>6838448369749246221</td>\n",
       "      <td>[感官动词表示好的感受]</td>\n",
       "      <td>90.511111</td>\n",
       "      <td>89.225806</td>\n",
       "      <td>86.727273</td>\n",
       "      <td>11</td>\n",
       "      <td>8.114489e-03</td>\n",
       "      <td>0.975962</td>\n",
       "      <td>N</td>\n",
       "      <td>Y</td>\n",
       "      <td>High_gt_90p</td>\n",
       "      <td>6838448369749246221\\t</td>\n",
       "    </tr>\n",
       "    <tr>\n",
       "      <th>23</th>\n",
       "      <td>6811316278272213262</td>\n",
       "      <td>[garden]</td>\n",
       "      <td>90.533333</td>\n",
       "      <td>89.819048</td>\n",
       "      <td>90.142857</td>\n",
       "      <td>7</td>\n",
       "      <td>3.956875e-03</td>\n",
       "      <td>0.982072</td>\n",
       "      <td>N</td>\n",
       "      <td>Y</td>\n",
       "      <td>High_gt_90p</td>\n",
       "      <td>6811316278272213262\\t</td>\n",
       "    </tr>\n",
       "    <tr>\n",
       "      <th>94</th>\n",
       "      <td>6815459061853585677</td>\n",
       "      <td>[who引导的特殊疑问句-A1高]</td>\n",
       "      <td>93.100000</td>\n",
       "      <td>93.178571</td>\n",
       "      <td>88.888889</td>\n",
       "      <td>18</td>\n",
       "      <td>6.081217e-01</td>\n",
       "      <td>0.983516</td>\n",
       "      <td>N</td>\n",
       "      <td>N</td>\n",
       "      <td>High_gt_90p</td>\n",
       "      <td>6815459061853585677\\t</td>\n",
       "    </tr>\n",
       "    <tr>\n",
       "      <th>30</th>\n",
       "      <td>6811316259620159757</td>\n",
       "      <td>[chair]</td>\n",
       "      <td>93.987261</td>\n",
       "      <td>94.194030</td>\n",
       "      <td>93.714286</td>\n",
       "      <td>7</td>\n",
       "      <td>8.737148e-01</td>\n",
       "      <td>0.987113</td>\n",
       "      <td>N</td>\n",
       "      <td>N</td>\n",
       "      <td>High_gt_90p</td>\n",
       "      <td>6811316259620159757\\t</td>\n",
       "    </tr>\n",
       "  </tbody>\n",
       "</table>\n",
       "<p>116 rows × 12 columns</p>\n",
       "</div>"
      ],
      "text/plain": [
       "                  kp_id              kp_name  md_correct2  md_correct1  \\\n",
       "36  6811363090156781832               [姓氏名字]    84.567797    75.252381   \n",
       "34  6838445552577855758        [instruction]    82.550000    81.824561   \n",
       "88  6838448264082161933              [weird]    83.875000    82.407407   \n",
       "69  6838444416491897096  [... is a big hit.]    84.332278    78.508065   \n",
       "93  6811363085840843016                 [称谓]    83.007353    80.325000   \n",
       "..                  ...                  ...          ...          ...   \n",
       "3   6811316269623542024            [wash up]    91.632911    92.328467   \n",
       "61  6838448369749246221         [感官动词表示好的感受]    90.511111    89.225806   \n",
       "23  6811316278272213262             [garden]    90.533333    89.819048   \n",
       "94  6815459061853585677    [who引导的特殊疑问句-A1高]    93.100000    93.178571   \n",
       "30  6811316259620159757              [chair]    93.987261    94.194030   \n",
       "\n",
       "     md_wrong min_sample       p_value  mastery_degree_gt80_perc  \\\n",
       "36  67.992424         66  3.441933e-19                  0.475309   \n",
       "34  77.571429         20  8.172501e-02                  0.500000   \n",
       "88  80.335878         36  1.160316e-01                  0.574468   \n",
       "69  82.250000          8  6.387055e-03                  0.578947   \n",
       "93  76.751244         67  2.272149e-02                  0.601190   \n",
       "..        ...        ...           ...                       ...   \n",
       "3   90.788732         71  1.951472e-01                  0.972125   \n",
       "61  86.727273         11  8.114489e-03                  0.975962   \n",
       "23  90.142857          7  3.956875e-03                  0.982072   \n",
       "94  88.888889         18  6.081217e-01                  0.983516   \n",
       "30  93.714286          7  8.737148e-01                  0.987113   \n",
       "\n",
       "   enough_sample_yn sig_diff_yn mastery_degree_gt80_perc_flag  \\\n",
       "36                Y           Y                           NaN   \n",
       "34                N           N                           NaN   \n",
       "88                Y           N                           NaN   \n",
       "69                N           Y                           NaN   \n",
       "93                Y           Y                           NaN   \n",
       "..              ...         ...                           ...   \n",
       "3                 Y           N                   High_gt_90p   \n",
       "61                N           Y                   High_gt_90p   \n",
       "23                N           Y                   High_gt_90p   \n",
       "94                N           N                   High_gt_90p   \n",
       "30                N           N                   High_gt_90p   \n",
       "\n",
       "                   kp_id2  \n",
       "36  6811363090156781832\\t  \n",
       "34  6838445552577855758\\t  \n",
       "88  6838448264082161933\\t  \n",
       "69  6838444416491897096\\t  \n",
       "93  6811363085840843016\\t  \n",
       "..                    ...  \n",
       "3   6811316269623542024\\t  \n",
       "61  6838448369749246221\\t  \n",
       "23  6811316278272213262\\t  \n",
       "94  6815459061853585677\\t  \n",
       "30  6811316259620159757\\t  \n",
       "\n",
       "[116 rows x 12 columns]"
      ]
     },
     "execution_count": 28,
     "metadata": {},
     "output_type": "execute_result"
    }
   ],
   "source": [
    "kp_summary.sort_values(by=['mastery_degree_gt80_perc'])"
   ]
  },
  {
   "cell_type": "code",
   "execution_count": 29,
   "metadata": {
    "cell_id": 19
   },
   "outputs": [],
   "source": [
    "kp_summary.to_csv(r'./mastery_dist.csv', encoding='utf_8_sig')"
   ]
  },
  {
   "cell_type": "markdown",
   "metadata": {
    "cell_id": 20
   },
   "source": [
    "## 至少答对1题 vs 答错2题"
   ]
  },
  {
   "cell_type": "markdown",
   "metadata": {
    "cell_id": 63
   },
   "source": [
    "### The Mann-Whitney U test (for two independent samples)\n",
    "\n",
    "The Mann-Whitney U test is a nonparametric statistical significance test for determining whether two independent samples were drawn from a population with the same distribution.\n",
    "More specifically, the test determines whether it is equally likely that any randomly selected observation from one sample will be greater or less than a sample in the other distribution. If violated, it suggests differing distributions.\n",
    "\n",
    "##### Fail to Reject H0: Sample distributions are equal.\n",
    "##### Reject H0: Sample distributions are not equal."
   ]
  },
  {
   "cell_type": "code",
   "execution_count": 75,
   "metadata": {
    "cell_id": 49
   },
   "outputs": [],
   "source": [
    "kp_summary = pd.DataFrame(columns = [\"kp_id\", \"kp_name\",\"md_correct\", \"md_wrong\", \"min_sample\", \"p_value\", \"mastery_degree_gt80_perc\"])"
   ]
  },
  {
   "cell_type": "code",
   "execution_count": 76,
   "metadata": {
    "cell_id": 48
   },
   "outputs": [
    {
     "name": "stderr",
     "output_type": "stream",
     "text": [
      "/opt/conda/lib/python3.7/site-packages/scipy/stats/stats.py:7028: RuntimeWarning: divide by zero encountered in double_scalars\n",
      "  z = (bigu - meanrank) / sd\n"
     ]
    },
    {
     "data": {
      "text/html": [
       "<div>\n",
       "<style scoped>\n",
       "    .dataframe tbody tr th:only-of-type {\n",
       "        vertical-align: middle;\n",
       "    }\n",
       "\n",
       "    .dataframe tbody tr th {\n",
       "        vertical-align: top;\n",
       "    }\n",
       "\n",
       "    .dataframe thead th {\n",
       "        text-align: right;\n",
       "    }\n",
       "</style>\n",
       "<table border=\"1\" class=\"dataframe\">\n",
       "  <thead>\n",
       "    <tr style=\"text-align: right;\">\n",
       "      <th></th>\n",
       "      <th>kp_id</th>\n",
       "      <th>kp_name</th>\n",
       "      <th>md_correct</th>\n",
       "      <th>md_wrong</th>\n",
       "      <th>min_sample</th>\n",
       "      <th>p_value</th>\n",
       "      <th>mastery_degree_gt80_perc</th>\n",
       "    </tr>\n",
       "  </thead>\n",
       "  <tbody>\n",
       "    <tr>\n",
       "      <th>0</th>\n",
       "      <td>6811362936011882759</td>\n",
       "      <td>[感官动词的用法]</td>\n",
       "      <td>90.826667</td>\n",
       "      <td>89.091837</td>\n",
       "      <td>98</td>\n",
       "      <td>0.006700</td>\n",
       "      <td>0.963710</td>\n",
       "    </tr>\n",
       "    <tr>\n",
       "      <th>1</th>\n",
       "      <td>6811363085840826632</td>\n",
       "      <td>[询问是谁]</td>\n",
       "      <td>91.989583</td>\n",
       "      <td>89.343949</td>\n",
       "      <td>96</td>\n",
       "      <td>0.000721</td>\n",
       "      <td>0.889328</td>\n",
       "    </tr>\n",
       "    <tr>\n",
       "      <th>2</th>\n",
       "      <td>6811316311600136455</td>\n",
       "      <td>[start]</td>\n",
       "      <td>89.274611</td>\n",
       "      <td>87.026087</td>\n",
       "      <td>115</td>\n",
       "      <td>0.009957</td>\n",
       "      <td>0.863636</td>\n",
       "    </tr>\n",
       "    <tr>\n",
       "      <th>3</th>\n",
       "      <td>6811316269623542024</td>\n",
       "      <td>[wash up]</td>\n",
       "      <td>91.632911</td>\n",
       "      <td>91.802885</td>\n",
       "      <td>79</td>\n",
       "      <td>0.354177</td>\n",
       "      <td>0.972125</td>\n",
       "    </tr>\n",
       "    <tr>\n",
       "      <th>4</th>\n",
       "      <td>6838445552577839374</td>\n",
       "      <td>[assistant]</td>\n",
       "      <td>88.104167</td>\n",
       "      <td>87.662252</td>\n",
       "      <td>48</td>\n",
       "      <td>0.223077</td>\n",
       "      <td>0.824121</td>\n",
       "    </tr>\n",
       "    <tr>\n",
       "      <th>...</th>\n",
       "      <td>...</td>\n",
       "      <td>...</td>\n",
       "      <td>...</td>\n",
       "      <td>...</td>\n",
       "      <td>...</td>\n",
       "      <td>...</td>\n",
       "      <td>...</td>\n",
       "    </tr>\n",
       "    <tr>\n",
       "      <th>111</th>\n",
       "      <td>6815459061853602061</td>\n",
       "      <td>[what引导的特殊疑问句-A1高]</td>\n",
       "      <td>90.487179</td>\n",
       "      <td>88.379310</td>\n",
       "      <td>78</td>\n",
       "      <td>0.136342</td>\n",
       "      <td>0.860825</td>\n",
       "    </tr>\n",
       "    <tr>\n",
       "      <th>112</th>\n",
       "      <td>6811316276800045320</td>\n",
       "      <td>[daughter]</td>\n",
       "      <td>89.473684</td>\n",
       "      <td>83.935065</td>\n",
       "      <td>76</td>\n",
       "      <td>0.001259</td>\n",
       "      <td>0.771242</td>\n",
       "    </tr>\n",
       "    <tr>\n",
       "      <th>113</th>\n",
       "      <td>6811316272375005454</td>\n",
       "      <td>[family]</td>\n",
       "      <td>89.000000</td>\n",
       "      <td>86.388889</td>\n",
       "      <td>54</td>\n",
       "      <td>0.137554</td>\n",
       "      <td>0.823899</td>\n",
       "    </tr>\n",
       "    <tr>\n",
       "      <th>114</th>\n",
       "      <td>6926826050169078029</td>\n",
       "      <td>[without表示没有]</td>\n",
       "      <td>NaN</td>\n",
       "      <td>86.300000</td>\n",
       "      <td>0</td>\n",
       "      <td>0.000000</td>\n",
       "      <td>0.800000</td>\n",
       "    </tr>\n",
       "    <tr>\n",
       "      <th>115</th>\n",
       "      <td>6846168946467406093</td>\n",
       "      <td>[by + doing 表示做某事的方法]</td>\n",
       "      <td>88.250000</td>\n",
       "      <td>87.692308</td>\n",
       "      <td>8</td>\n",
       "      <td>0.442156</td>\n",
       "      <td>0.857143</td>\n",
       "    </tr>\n",
       "  </tbody>\n",
       "</table>\n",
       "<p>116 rows × 7 columns</p>\n",
       "</div>"
      ],
      "text/plain": [
       "                   kp_id                kp_name  md_correct   md_wrong  \\\n",
       "0    6811362936011882759              [感官动词的用法]   90.826667  89.091837   \n",
       "1    6811363085840826632                 [询问是谁]   91.989583  89.343949   \n",
       "2    6811316311600136455                [start]   89.274611  87.026087   \n",
       "3    6811316269623542024              [wash up]   91.632911  91.802885   \n",
       "4    6838445552577839374            [assistant]   88.104167  87.662252   \n",
       "..                   ...                    ...         ...        ...   \n",
       "111  6815459061853602061     [what引导的特殊疑问句-A1高]   90.487179  88.379310   \n",
       "112  6811316276800045320             [daughter]   89.473684  83.935065   \n",
       "113  6811316272375005454               [family]   89.000000  86.388889   \n",
       "114  6926826050169078029          [without表示没有]         NaN  86.300000   \n",
       "115  6846168946467406093  [by + doing 表示做某事的方法]   88.250000  87.692308   \n",
       "\n",
       "    min_sample   p_value  mastery_degree_gt80_perc  \n",
       "0           98  0.006700                  0.963710  \n",
       "1           96  0.000721                  0.889328  \n",
       "2          115  0.009957                  0.863636  \n",
       "3           79  0.354177                  0.972125  \n",
       "4           48  0.223077                  0.824121  \n",
       "..         ...       ...                       ...  \n",
       "111         78  0.136342                  0.860825  \n",
       "112         76  0.001259                  0.771242  \n",
       "113         54  0.137554                  0.823899  \n",
       "114          0  0.000000                  0.800000  \n",
       "115          8  0.442156                  0.857143  \n",
       "\n",
       "[116 rows x 7 columns]"
      ]
     },
     "execution_count": 76,
     "metadata": {},
     "output_type": "execute_result"
    }
   ],
   "source": [
    "for i in range(0,len(kp_list)):\n",
    "    kp_id = kp_list[i]\n",
    "    kp_data_s = kp_data[kp_data.kp_id == kp_id]\n",
    "    kp_correct = kp_data_s[kp_data_s.correct_num == 2].mastery_degree\n",
    "    kp_wrong = kp_data_s[kp_data_s.correct_num <= 1].mastery_degree\n",
    "    \n",
    "    kp_name = kp_data_s.point_name.unique()\n",
    "    correct_user_cnt = len(kp_correct)\n",
    "    wrong_user_cnt = len(kp_wrong)\n",
    " \n",
    "    min_sample = min(len(kp_correct), len(kp_wrong))\n",
    "    \n",
    "    p_value = mannwhitneyu(kp_correct, kp_wrong).pvalue\n",
    "    \n",
    "    md_gt_80 = sum(kp_data_s.mastery_degree_gt80)/len(kp_data_s)\n",
    "    kp_summary = kp_summary.append({'kp_id': kp_id, 'kp_name': kp_name, 'md_correct': kp_correct.mean(), 'md_wrong': kp_wrong.mean(), 'min_sample':min_sample, 'p_value': p_value, 'mastery_degree_gt80_perc' : md_gt_80}, ignore_index = True)\n",
    "\n",
    "kp_summary"
   ]
  },
  {
   "cell_type": "code",
   "execution_count": 77,
   "metadata": {
    "cell_id": 50
   },
   "outputs": [
    {
     "data": {
      "text/plain": [
       "sig_diff_yn\n",
       "N    52\n",
       "Y    64\n",
       "dtype: int64"
      ]
     },
     "execution_count": 77,
     "metadata": {},
     "output_type": "execute_result"
    }
   ],
   "source": [
    "kp_summary.loc[(kp_summary['min_sample'] >= 30), 'enough_sample_yn'] = 'Y'\n",
    "kp_summary.loc[(kp_summary['min_sample'] < 30), 'enough_sample_yn'] = 'N'\n",
    "\n",
    "kp_summary.loc[(kp_summary['p_value'] <= 0.05), 'sig_diff_yn'] = 'Y'\n",
    "kp_summary.loc[(kp_summary['p_value'] > 0.05), 'sig_diff_yn'] = 'N'\n",
    "\n",
    "kp_summary.loc[(kp_summary['mastery_degree_gt80_perc'] >= 0.9), 'mastery_degree_gt80_perc_flag'] = 'High_gt_90p'\n",
    "kp_summary.loc[(kp_summary['mastery_degree_gt80_perc'] < 0.9) & (kp_summary['mastery_degree_gt80_perc'] > 0.7), 'mastery_degree_gt80_perc_flag'] = 'Mid_70p_90p'\n",
    "kp_summary.loc[(kp_summary['mastery_degree_gt80_perc'] <= 0.7), 'mastery_degree_gt80_perc_flag'] = 'Low_lt_70p'\n",
    "\n",
    "kp_summary.groupby(['sig_diff_yn']).size()"
   ]
  },
  {
   "cell_type": "code",
   "execution_count": 45,
   "metadata": {
    "cell_id": 51
   },
   "outputs": [
    {
     "data": {
      "text/plain": [
       "enough_sample_yn  sig_diff_yn\n",
       "N                 N               3\n",
       "                  Y               1\n",
       "Y                 N              51\n",
       "                  Y              60\n",
       "dtype: int64"
      ]
     },
     "execution_count": 45,
     "metadata": {},
     "output_type": "execute_result"
    }
   ],
   "source": [
    "kp_summary.groupby(['enough_sample_yn', 'sig_diff_yn']).size()"
   ]
  },
  {
   "cell_type": "code",
   "execution_count": 78,
   "metadata": {
    "cell_id": 56
   },
   "outputs": [
    {
     "data": {
      "text/plain": [
       "mastery_degree_gt80_perc_flag  sig_diff_yn\n",
       "High_gt_90p                    N              20\n",
       "                               Y              17\n",
       "Low_lt_70p                     N               7\n",
       "                               Y               8\n",
       "Mid_70p_90p                    N              25\n",
       "                               Y              39\n",
       "dtype: int64"
      ]
     },
     "execution_count": 78,
     "metadata": {},
     "output_type": "execute_result"
    }
   ],
   "source": [
    "kp_summary.groupby(['mastery_degree_gt80_perc_flag', 'sig_diff_yn']).size()"
   ]
  },
  {
   "cell_type": "code",
   "execution_count": 60,
   "metadata": {
    "cell_id": 52
   },
   "outputs": [
    {
     "data": {
      "text/plain": [
       "0.5517241379310345"
      ]
     },
     "execution_count": 60,
     "metadata": {},
     "output_type": "execute_result"
    }
   ],
   "source": [
    "64/116"
   ]
  },
  {
   "cell_type": "code",
   "execution_count": 54,
   "metadata": {
    "cell_id": 57
   },
   "outputs": [
    {
     "data": {
      "text/plain": [
       "0.6190476190476191"
      ]
     },
     "execution_count": 54,
     "metadata": {},
     "output_type": "execute_result"
    }
   ],
   "source": [
    "39/(39+24)"
   ]
  },
  {
   "cell_type": "code",
   "execution_count": 49,
   "metadata": {
    "cell_id": 54
   },
   "outputs": [],
   "source": [
    "kp_summary['kp_id2'] = kp_summary['kp_id'].apply(str) + '\\t'\n",
    "kp_summary.sort_values(by=['mastery_degree_gt80_perc'])\n",
    "kp_summary.to_csv(r'./mastery_dist.csv', encoding='utf_8_sig')"
   ]
  },
  {
   "cell_type": "markdown",
   "metadata": {
    "cell_id": 55
   },
   "source": [
    "## 至少答对1题 vs 答错2题"
   ]
  },
  {
   "cell_type": "code",
   "execution_count": 80,
   "metadata": {
    "cell_id": 58
   },
   "outputs": [
    {
     "data": {
      "text/html": [
       "<div>\n",
       "<style scoped>\n",
       "    .dataframe tbody tr th:only-of-type {\n",
       "        vertical-align: middle;\n",
       "    }\n",
       "\n",
       "    .dataframe tbody tr th {\n",
       "        vertical-align: top;\n",
       "    }\n",
       "\n",
       "    .dataframe thead th {\n",
       "        text-align: right;\n",
       "    }\n",
       "</style>\n",
       "<table border=\"1\" class=\"dataframe\">\n",
       "  <thead>\n",
       "    <tr style=\"text-align: right;\">\n",
       "      <th></th>\n",
       "      <th>kp_id</th>\n",
       "      <th>kp_name</th>\n",
       "      <th>md_correct</th>\n",
       "      <th>md_wrong</th>\n",
       "      <th>min_sample</th>\n",
       "      <th>p_value</th>\n",
       "      <th>mastery_degree_gt80_perc</th>\n",
       "    </tr>\n",
       "  </thead>\n",
       "  <tbody>\n",
       "    <tr>\n",
       "      <th>0</th>\n",
       "      <td>6811362936011882759</td>\n",
       "      <td>[感官动词的用法]</td>\n",
       "      <td>90.312775</td>\n",
       "      <td>88.285714</td>\n",
       "      <td>21</td>\n",
       "      <td>0.139972</td>\n",
       "      <td>0.963710</td>\n",
       "    </tr>\n",
       "    <tr>\n",
       "      <th>1</th>\n",
       "      <td>6811363085840826632</td>\n",
       "      <td>[询问是谁]</td>\n",
       "      <td>91.519231</td>\n",
       "      <td>84.933333</td>\n",
       "      <td>45</td>\n",
       "      <td>0.000006</td>\n",
       "      <td>0.889328</td>\n",
       "    </tr>\n",
       "    <tr>\n",
       "      <th>2</th>\n",
       "      <td>6811316311600136455</td>\n",
       "      <td>[start]</td>\n",
       "      <td>88.517123</td>\n",
       "      <td>86.937500</td>\n",
       "      <td>16</td>\n",
       "      <td>0.062065</td>\n",
       "      <td>0.863636</td>\n",
       "    </tr>\n",
       "    <tr>\n",
       "      <th>3</th>\n",
       "      <td>6811316269623542024</td>\n",
       "      <td>[wash up]</td>\n",
       "      <td>92.074074</td>\n",
       "      <td>90.788732</td>\n",
       "      <td>71</td>\n",
       "      <td>0.064118</td>\n",
       "      <td>0.972125</td>\n",
       "    </tr>\n",
       "    <tr>\n",
       "      <th>4</th>\n",
       "      <td>6838445552577839374</td>\n",
       "      <td>[assistant]</td>\n",
       "      <td>88.202312</td>\n",
       "      <td>84.884615</td>\n",
       "      <td>26</td>\n",
       "      <td>0.011147</td>\n",
       "      <td>0.824121</td>\n",
       "    </tr>\n",
       "    <tr>\n",
       "      <th>...</th>\n",
       "      <td>...</td>\n",
       "      <td>...</td>\n",
       "      <td>...</td>\n",
       "      <td>...</td>\n",
       "      <td>...</td>\n",
       "      <td>...</td>\n",
       "      <td>...</td>\n",
       "    </tr>\n",
       "    <tr>\n",
       "      <th>111</th>\n",
       "      <td>6815459061853602061</td>\n",
       "      <td>[what引导的特殊疑问句-A1高]</td>\n",
       "      <td>89.316940</td>\n",
       "      <td>87.727273</td>\n",
       "      <td>11</td>\n",
       "      <td>0.198099</td>\n",
       "      <td>0.860825</td>\n",
       "    </tr>\n",
       "    <tr>\n",
       "      <th>112</th>\n",
       "      <td>6811316276800045320</td>\n",
       "      <td>[daughter]</td>\n",
       "      <td>87.475177</td>\n",
       "      <td>77.416667</td>\n",
       "      <td>12</td>\n",
       "      <td>0.000386</td>\n",
       "      <td>0.771242</td>\n",
       "    </tr>\n",
       "    <tr>\n",
       "      <th>113</th>\n",
       "      <td>6811316272375005454</td>\n",
       "      <td>[family]</td>\n",
       "      <td>88.261438</td>\n",
       "      <td>84.333333</td>\n",
       "      <td>6</td>\n",
       "      <td>0.147617</td>\n",
       "      <td>0.823899</td>\n",
       "    </tr>\n",
       "    <tr>\n",
       "      <th>114</th>\n",
       "      <td>6926826050169078029</td>\n",
       "      <td>[without表示没有]</td>\n",
       "      <td>88.142857</td>\n",
       "      <td>82.000000</td>\n",
       "      <td>3</td>\n",
       "      <td>0.244404</td>\n",
       "      <td>0.800000</td>\n",
       "    </tr>\n",
       "    <tr>\n",
       "      <th>115</th>\n",
       "      <td>6846168946467406093</td>\n",
       "      <td>[by + doing 表示做某事的方法]</td>\n",
       "      <td>87.800000</td>\n",
       "      <td>90.000000</td>\n",
       "      <td>1</td>\n",
       "      <td>0.466946</td>\n",
       "      <td>0.857143</td>\n",
       "    </tr>\n",
       "  </tbody>\n",
       "</table>\n",
       "<p>116 rows × 7 columns</p>\n",
       "</div>"
      ],
      "text/plain": [
       "                   kp_id                kp_name  md_correct   md_wrong  \\\n",
       "0    6811362936011882759              [感官动词的用法]   90.312775  88.285714   \n",
       "1    6811363085840826632                 [询问是谁]   91.519231  84.933333   \n",
       "2    6811316311600136455                [start]   88.517123  86.937500   \n",
       "3    6811316269623542024              [wash up]   92.074074  90.788732   \n",
       "4    6838445552577839374            [assistant]   88.202312  84.884615   \n",
       "..                   ...                    ...         ...        ...   \n",
       "111  6815459061853602061     [what引导的特殊疑问句-A1高]   89.316940  87.727273   \n",
       "112  6811316276800045320             [daughter]   87.475177  77.416667   \n",
       "113  6811316272375005454               [family]   88.261438  84.333333   \n",
       "114  6926826050169078029          [without表示没有]   88.142857  82.000000   \n",
       "115  6846168946467406093  [by + doing 表示做某事的方法]   87.800000  90.000000   \n",
       "\n",
       "    min_sample   p_value  mastery_degree_gt80_perc  \n",
       "0           21  0.139972                  0.963710  \n",
       "1           45  0.000006                  0.889328  \n",
       "2           16  0.062065                  0.863636  \n",
       "3           71  0.064118                  0.972125  \n",
       "4           26  0.011147                  0.824121  \n",
       "..         ...       ...                       ...  \n",
       "111         11  0.198099                  0.860825  \n",
       "112         12  0.000386                  0.771242  \n",
       "113          6  0.147617                  0.823899  \n",
       "114          3  0.244404                  0.800000  \n",
       "115          1  0.466946                  0.857143  \n",
       "\n",
       "[116 rows x 7 columns]"
      ]
     },
     "execution_count": 80,
     "metadata": {},
     "output_type": "execute_result"
    }
   ],
   "source": [
    "kp_summary = pd.DataFrame(columns = [\"kp_id\", \"kp_name\",\"md_correct\", \"md_wrong\", \"min_sample\", \"p_value\", \"mastery_degree_gt80_perc\"])\n",
    "\n",
    "for i in range(0,len(kp_list)):\n",
    "    kp_id = kp_list[i]\n",
    "    kp_data_s = kp_data[kp_data.kp_id == kp_id]\n",
    "    kp_correct = kp_data_s[kp_data_s.correct_num >= 1].mastery_degree\n",
    "    kp_wrong = kp_data_s[kp_data_s.correct_num == 0].mastery_degree\n",
    "    \n",
    "    kp_name = kp_data_s.point_name.unique()\n",
    "    correct_user_cnt = len(kp_correct)\n",
    "    wrong_user_cnt = len(kp_wrong)\n",
    " \n",
    "    min_sample = min(len(kp_correct), len(kp_wrong))\n",
    "    \n",
    "    p_value = mannwhitneyu(kp_correct, kp_wrong).pvalue\n",
    "    \n",
    "    md_gt_80 = sum(kp_data_s.mastery_degree_gt80)/len(kp_data_s)\n",
    "    kp_summary = kp_summary.append({'kp_id': kp_id, 'kp_name': kp_name, 'md_correct': kp_correct.mean(), 'md_wrong': kp_wrong.mean(), 'min_sample':min_sample, 'p_value': p_value, 'mastery_degree_gt80_perc' : md_gt_80}, ignore_index = True)\n",
    "\n",
    "kp_summary"
   ]
  },
  {
   "cell_type": "code",
   "execution_count": 81,
   "metadata": {
    "cell_id": 59
   },
   "outputs": [
    {
     "data": {
      "text/plain": [
       "sig_diff_yn\n",
       "N    64\n",
       "Y    52\n",
       "dtype: int64"
      ]
     },
     "execution_count": 81,
     "metadata": {},
     "output_type": "execute_result"
    }
   ],
   "source": [
    "kp_summary.loc[(kp_summary['min_sample'] >= 30), 'enough_sample_yn'] = 'Y'\n",
    "kp_summary.loc[(kp_summary['min_sample'] < 30), 'enough_sample_yn'] = 'N'\n",
    "\n",
    "kp_summary.loc[(kp_summary['p_value'] <= 0.05), 'sig_diff_yn'] = 'Y'\n",
    "kp_summary.loc[(kp_summary['p_value'] > 0.05), 'sig_diff_yn'] = 'N'\n",
    "\n",
    "kp_summary.loc[(kp_summary['mastery_degree_gt80_perc'] >= 0.9), 'mastery_degree_gt80_perc_flag'] = 'High_gt_90p'\n",
    "kp_summary.loc[(kp_summary['mastery_degree_gt80_perc'] < 0.9) & (kp_summary['mastery_degree_gt80_perc'] > 0.7), 'mastery_degree_gt80_perc_flag'] = 'Mid_70p_90p'\n",
    "kp_summary.loc[(kp_summary['mastery_degree_gt80_perc'] <= 0.7), 'mastery_degree_gt80_perc_flag'] = 'Low_lt_70p'\n",
    "\n",
    "kp_summary.groupby(['sig_diff_yn']).size()"
   ]
  },
  {
   "cell_type": "code",
   "execution_count": 82,
   "metadata": {
    "cell_id": 60
   },
   "outputs": [
    {
     "data": {
      "text/plain": [
       "mastery_degree_gt80_perc_flag  sig_diff_yn\n",
       "High_gt_90p                    N              29\n",
       "                               Y               8\n",
       "Low_lt_70p                     N               6\n",
       "                               Y               9\n",
       "Mid_70p_90p                    N              29\n",
       "                               Y              35\n",
       "dtype: int64"
      ]
     },
     "execution_count": 82,
     "metadata": {},
     "output_type": "execute_result"
    }
   ],
   "source": [
    "kp_summary.groupby(['mastery_degree_gt80_perc_flag', 'sig_diff_yn']).size()"
   ]
  },
  {
   "cell_type": "markdown",
   "metadata": {
    "cell_id": 61
   },
   "source": [
    "## 答对2题 vs 仅答对1听力 vs 仅答对1口语 vs 答错2题"
   ]
  },
  {
   "cell_type": "code",
   "execution_count": 89,
   "metadata": {
    "cell_id": 73
   },
   "outputs": [
    {
     "data": {
      "text/html": [
       "<div>\n",
       "<style scoped>\n",
       "    .dataframe tbody tr th:only-of-type {\n",
       "        vertical-align: middle;\n",
       "    }\n",
       "\n",
       "    .dataframe tbody tr th {\n",
       "        vertical-align: top;\n",
       "    }\n",
       "\n",
       "    .dataframe thead th {\n",
       "        text-align: right;\n",
       "    }\n",
       "</style>\n",
       "<table border=\"1\" class=\"dataframe\">\n",
       "  <thead>\n",
       "    <tr style=\"text-align: right;\">\n",
       "      <th></th>\n",
       "      <th>user_id</th>\n",
       "      <th>kp_id</th>\n",
       "      <th>point_name</th>\n",
       "      <th>listing_correct_num</th>\n",
       "      <th>oral_correct_num</th>\n",
       "      <th>mastery_degree</th>\n",
       "      <th>mastery_degree_gt80</th>\n",
       "    </tr>\n",
       "  </thead>\n",
       "  <tbody>\n",
       "    <tr>\n",
       "      <th>0</th>\n",
       "      <td>4204188787545512</td>\n",
       "      <td>6811316258944893192</td>\n",
       "      <td>sink</td>\n",
       "      <td>1.0</td>\n",
       "      <td>1.0</td>\n",
       "      <td>90.0</td>\n",
       "      <td>1.0</td>\n",
       "    </tr>\n",
       "    <tr>\n",
       "      <th>1</th>\n",
       "      <td>264298928275959</td>\n",
       "      <td>6811316298425860365</td>\n",
       "      <td>close</td>\n",
       "      <td>0.0</td>\n",
       "      <td>1.0</td>\n",
       "      <td>96.0</td>\n",
       "      <td>1.0</td>\n",
       "    </tr>\n",
       "    <tr>\n",
       "      <th>2</th>\n",
       "      <td>4283335322378600</td>\n",
       "      <td>6811362996351156493</td>\n",
       "      <td>形容词性物主代词</td>\n",
       "      <td>0.0</td>\n",
       "      <td>0.0</td>\n",
       "      <td>94.0</td>\n",
       "      <td>1.0</td>\n",
       "    </tr>\n",
       "    <tr>\n",
       "      <th>3</th>\n",
       "      <td>1468536862543371</td>\n",
       "      <td>6811316268851790094</td>\n",
       "      <td>put away</td>\n",
       "      <td>1.0</td>\n",
       "      <td>1.0</td>\n",
       "      <td>88.0</td>\n",
       "      <td>1.0</td>\n",
       "    </tr>\n",
       "    <tr>\n",
       "      <th>4</th>\n",
       "      <td>4152174745490791</td>\n",
       "      <td>6811316255199346952</td>\n",
       "      <td>garage</td>\n",
       "      <td>1.0</td>\n",
       "      <td>1.0</td>\n",
       "      <td>86.0</td>\n",
       "      <td>1.0</td>\n",
       "    </tr>\n",
       "  </tbody>\n",
       "</table>\n",
       "</div>"
      ],
      "text/plain": [
       "            user_id                kp_id point_name  listing_correct_num  \\\n",
       "0  4204188787545512  6811316258944893192       sink                  1.0   \n",
       "1   264298928275959  6811316298425860365      close                  0.0   \n",
       "2  4283335322378600  6811362996351156493   形容词性物主代词                  0.0   \n",
       "3  1468536862543371  6811316268851790094   put away                  1.0   \n",
       "4  4152174745490791  6811316255199346952     garage                  1.0   \n",
       "\n",
       "   oral_correct_num  mastery_degree  mastery_degree_gt80  \n",
       "0               1.0            90.0                  1.0  \n",
       "1               1.0            96.0                  1.0  \n",
       "2               0.0            94.0                  1.0  \n",
       "3               1.0            88.0                  1.0  \n",
       "4               1.0            86.0                  1.0  "
      ]
     },
     "execution_count": 89,
     "metadata": {},
     "output_type": "execute_result"
    }
   ],
   "source": [
    "kp_data = pd.read_csv('/home/tiger/archived-data/aeolus-data/20210225/11/38699050-课程实验-标尺题-加题目类型.csv', encoding = 'gb18030')\n",
    "kp_data.loc[(kp_data['mastery_degree'] >= 80), 'mastery_degree_gt80'] = 1\n",
    "kp_data.loc[(kp_data['mastery_degree'] < 80), 'mastery_degree_gt80'] = 0\n",
    "\n",
    "kp_data = kp_data.rename(columns = {\"point2_id\": \"kp_id\"})\n",
    "\n",
    "kp_data = kp_data.fillna(0)\n",
    "\n",
    "kp_data.head()"
   ]
  },
  {
   "cell_type": "code",
   "execution_count": 90,
   "metadata": {
    "cell_id": 74
   },
   "outputs": [],
   "source": [
    "kp_list = kp_data.kp_id.unique()\n",
    "kp_summary = pd.DataFrame(columns = [\"kp_id\", \"kp_name\",\"md_correct2\", \"md_correct_l\", \"md_correct_o\", \"md_wrong\", \"min_sample\", \"p_value\", \"mastery_degree_gt80_perc\"])"
   ]
  },
  {
   "cell_type": "code",
   "execution_count": 98,
   "metadata": {
    "cell_id": 75
   },
   "outputs": [
    {
     "data": {
      "text/html": [
       "<div>\n",
       "<style scoped>\n",
       "    .dataframe tbody tr th:only-of-type {\n",
       "        vertical-align: middle;\n",
       "    }\n",
       "\n",
       "    .dataframe tbody tr th {\n",
       "        vertical-align: top;\n",
       "    }\n",
       "\n",
       "    .dataframe thead th {\n",
       "        text-align: right;\n",
       "    }\n",
       "</style>\n",
       "<table border=\"1\" class=\"dataframe\">\n",
       "  <thead>\n",
       "    <tr style=\"text-align: right;\">\n",
       "      <th></th>\n",
       "      <th>kp_id</th>\n",
       "      <th>kp_name</th>\n",
       "      <th>md_correct2</th>\n",
       "      <th>md_correct_l</th>\n",
       "      <th>md_correct_o</th>\n",
       "      <th>md_wrong</th>\n",
       "      <th>min_sample</th>\n",
       "      <th>p_value</th>\n",
       "      <th>mastery_degree_gt80_perc</th>\n",
       "    </tr>\n",
       "  </thead>\n",
       "  <tbody>\n",
       "    <tr>\n",
       "      <th>0</th>\n",
       "      <td>6811316258944893192</td>\n",
       "      <td>[sink]</td>\n",
       "      <td>92.201794</td>\n",
       "      <td>90.688889</td>\n",
       "      <td>92.269231</td>\n",
       "      <td>89.750000</td>\n",
       "      <td>32</td>\n",
       "      <td>1.927241e-01</td>\n",
       "      <td>0.943069</td>\n",
       "    </tr>\n",
       "    <tr>\n",
       "      <th>1</th>\n",
       "      <td>6811316298425860365</td>\n",
       "      <td>[close]</td>\n",
       "      <td>92.786765</td>\n",
       "      <td>90.105263</td>\n",
       "      <td>91.720238</td>\n",
       "      <td>87.862069</td>\n",
       "      <td>19</td>\n",
       "      <td>1.997586e-01</td>\n",
       "      <td>0.900568</td>\n",
       "    </tr>\n",
       "    <tr>\n",
       "      <th>2</th>\n",
       "      <td>6811362996351156493</td>\n",
       "      <td>[形容词性物主代词]</td>\n",
       "      <td>83.000000</td>\n",
       "      <td>73.214286</td>\n",
       "      <td>84.643275</td>\n",
       "      <td>79.438596</td>\n",
       "      <td>28</td>\n",
       "      <td>2.176173e-08</td>\n",
       "      <td>0.650970</td>\n",
       "    </tr>\n",
       "    <tr>\n",
       "      <th>3</th>\n",
       "      <td>6811316268851790094</td>\n",
       "      <td>[put away]</td>\n",
       "      <td>86.980952</td>\n",
       "      <td>83.434783</td>\n",
       "      <td>86.848101</td>\n",
       "      <td>85.097561</td>\n",
       "      <td>46</td>\n",
       "      <td>2.107008e-02</td>\n",
       "      <td>0.769231</td>\n",
       "    </tr>\n",
       "    <tr>\n",
       "      <th>4</th>\n",
       "      <td>6811316255199346952</td>\n",
       "      <td>[garage]</td>\n",
       "      <td>84.986014</td>\n",
       "      <td>83.500000</td>\n",
       "      <td>84.000000</td>\n",
       "      <td>83.625000</td>\n",
       "      <td>40</td>\n",
       "      <td>5.712101e-01</td>\n",
       "      <td>0.672289</td>\n",
       "    </tr>\n",
       "    <tr>\n",
       "      <th>...</th>\n",
       "      <td>...</td>\n",
       "      <td>...</td>\n",
       "      <td>...</td>\n",
       "      <td>...</td>\n",
       "      <td>...</td>\n",
       "      <td>...</td>\n",
       "      <td>...</td>\n",
       "      <td>...</td>\n",
       "      <td>...</td>\n",
       "    </tr>\n",
       "    <tr>\n",
       "      <th>111</th>\n",
       "      <td>6867340182308307208</td>\n",
       "      <td>[这是/那是……]</td>\n",
       "      <td>87.383333</td>\n",
       "      <td>83.578947</td>\n",
       "      <td>86.444444</td>\n",
       "      <td>78.916667</td>\n",
       "      <td>12</td>\n",
       "      <td>8.717499e-03</td>\n",
       "      <td>0.771186</td>\n",
       "    </tr>\n",
       "    <tr>\n",
       "      <th>112</th>\n",
       "      <td>6926826050169078029</td>\n",
       "      <td>[without表示没有]</td>\n",
       "      <td>NaN</td>\n",
       "      <td>82.000000</td>\n",
       "      <td>90.600000</td>\n",
       "      <td>82.000000</td>\n",
       "      <td>0</td>\n",
       "      <td>NaN</td>\n",
       "      <td>0.800000</td>\n",
       "    </tr>\n",
       "    <tr>\n",
       "      <th>113</th>\n",
       "      <td>6811316329224634638</td>\n",
       "      <td>[interested]</td>\n",
       "      <td>83.444444</td>\n",
       "      <td>84.300000</td>\n",
       "      <td>85.205882</td>\n",
       "      <td>78.666667</td>\n",
       "      <td>9</td>\n",
       "      <td>4.837786e-01</td>\n",
       "      <td>0.672222</td>\n",
       "    </tr>\n",
       "    <tr>\n",
       "      <th>114</th>\n",
       "      <td>6867341843286212878</td>\n",
       "      <td>[是/不是我的类型]</td>\n",
       "      <td>87.096386</td>\n",
       "      <td>83.000000</td>\n",
       "      <td>83.037037</td>\n",
       "      <td>89.600000</td>\n",
       "      <td>5</td>\n",
       "      <td>1.293156e-01</td>\n",
       "      <td>0.755396</td>\n",
       "    </tr>\n",
       "    <tr>\n",
       "      <th>115</th>\n",
       "      <td>6811316297033384206</td>\n",
       "      <td>[pen]</td>\n",
       "      <td>89.897727</td>\n",
       "      <td>88.400000</td>\n",
       "      <td>89.600000</td>\n",
       "      <td>93.333333</td>\n",
       "      <td>3</td>\n",
       "      <td>3.772745e-01</td>\n",
       "      <td>0.933884</td>\n",
       "    </tr>\n",
       "  </tbody>\n",
       "</table>\n",
       "<p>116 rows × 9 columns</p>\n",
       "</div>"
      ],
      "text/plain": [
       "                   kp_id        kp_name  md_correct2  md_correct_l  \\\n",
       "0    6811316258944893192         [sink]    92.201794     90.688889   \n",
       "1    6811316298425860365        [close]    92.786765     90.105263   \n",
       "2    6811362996351156493     [形容词性物主代词]    83.000000     73.214286   \n",
       "3    6811316268851790094     [put away]    86.980952     83.434783   \n",
       "4    6811316255199346952       [garage]    84.986014     83.500000   \n",
       "..                   ...            ...          ...           ...   \n",
       "111  6867340182308307208      [这是/那是……]    87.383333     83.578947   \n",
       "112  6926826050169078029  [without表示没有]          NaN     82.000000   \n",
       "113  6811316329224634638   [interested]    83.444444     84.300000   \n",
       "114  6867341843286212878     [是/不是我的类型]    87.096386     83.000000   \n",
       "115  6811316297033384206          [pen]    89.897727     88.400000   \n",
       "\n",
       "     md_correct_o   md_wrong min_sample       p_value  \\\n",
       "0       92.269231  89.750000         32  1.927241e-01   \n",
       "1       91.720238  87.862069         19  1.997586e-01   \n",
       "2       84.643275  79.438596         28  2.176173e-08   \n",
       "3       86.848101  85.097561         46  2.107008e-02   \n",
       "4       84.000000  83.625000         40  5.712101e-01   \n",
       "..            ...        ...        ...           ...   \n",
       "111     86.444444  78.916667         12  8.717499e-03   \n",
       "112     90.600000  82.000000          0           NaN   \n",
       "113     85.205882  78.666667          9  4.837786e-01   \n",
       "114     83.037037  89.600000          5  1.293156e-01   \n",
       "115     89.600000  93.333333          3  3.772745e-01   \n",
       "\n",
       "     mastery_degree_gt80_perc  \n",
       "0                    0.943069  \n",
       "1                    0.900568  \n",
       "2                    0.650970  \n",
       "3                    0.769231  \n",
       "4                    0.672289  \n",
       "..                        ...  \n",
       "111                  0.771186  \n",
       "112                  0.800000  \n",
       "113                  0.672222  \n",
       "114                  0.755396  \n",
       "115                  0.933884  \n",
       "\n",
       "[116 rows x 9 columns]"
      ]
     },
     "execution_count": 98,
     "metadata": {},
     "output_type": "execute_result"
    }
   ],
   "source": [
    "for i in range(0,len(kp_list)):\n",
    "    kp_id = kp_list[i]\n",
    "    kp_data_s = kp_data[kp_data.kp_id == kp_id]\n",
    "    kp_correct2 = kp_data_s[(kp_data_s.listing_correct_num == 1) & (kp_data_s.oral_correct_num == 1)].mastery_degree\n",
    "    kp_correct_l = kp_data_s[(kp_data_s.listing_correct_num == 1) & (kp_data_s.oral_correct_num == 0)].mastery_degree\n",
    "    kp_correct_o = kp_data_s[(kp_data_s.listing_correct_num == 0) & (kp_data_s.oral_correct_num == 1)].mastery_degree\n",
    "    kp_wrong = kp_data_s[(kp_data_s.listing_correct_num == 0) & (kp_data_s.oral_correct_num == 0)].mastery_degree\n",
    "    \n",
    "    kp_name = kp_data_s.point_name.unique()\n",
    "    correct2_user_cnt = len(kp_correct2)\n",
    "    correct_l_user_cnt = len(kp_correct_l)\n",
    "    correct_o_user_cnt = len(kp_correct_o)\n",
    "    wrong_user_cnt = len(kp_wrong)\n",
    " \n",
    "    min_sample = min(len(kp_correct2), len(kp_correct_l), len(kp_correct_o), len(kp_wrong))\n",
    "    \n",
    "    p_value = kruskal(kp_correct2, kp_correct_l, kp_correct_o, kp_wrong).pvalue\n",
    "    \n",
    "    md_gt_80 = sum(kp_data_s.mastery_degree_gt80)/len(kp_data_s)\n",
    "    kp_summary = kp_summary.append({'kp_id': kp_id, 'kp_name': kp_name, 'md_correct2': kp_correct2.mean(), 'md_correct_l': kp_correct_l.mean(), 'md_correct_o': kp_correct_o.mean(), 'md_wrong': kp_wrong.mean(), 'min_sample':min_sample, 'p_value': p_value, 'mastery_degree_gt80_perc' : md_gt_80}, ignore_index = True)\n",
    "\n",
    "kp_summary"
   ]
  },
  {
   "cell_type": "code",
   "execution_count": 99,
   "metadata": {
    "cell_id": 76
   },
   "outputs": [
    {
     "data": {
      "text/plain": [
       "sig_diff_yn\n",
       "N    61\n",
       "Y    53\n",
       "dtype: int64"
      ]
     },
     "execution_count": 99,
     "metadata": {},
     "output_type": "execute_result"
    }
   ],
   "source": [
    "kp_summary.loc[(kp_summary['min_sample'] >= 30), 'enough_sample_yn'] = 'Y'\n",
    "kp_summary.loc[(kp_summary['min_sample'] < 30), 'enough_sample_yn'] = 'N'\n",
    "\n",
    "kp_summary.loc[(kp_summary['p_value'] <= 0.05), 'sig_diff_yn'] = 'Y'\n",
    "kp_summary.loc[(kp_summary['p_value'] > 0.05), 'sig_diff_yn'] = 'N'\n",
    "\n",
    "kp_summary.loc[(kp_summary['mastery_degree_gt80_perc'] >= 0.9), 'mastery_degree_gt80_perc_flag'] = 'High_gt_90p'\n",
    "kp_summary.loc[(kp_summary['mastery_degree_gt80_perc'] < 0.9) & (kp_summary['mastery_degree_gt80_perc'] > 0.7), 'mastery_degree_gt80_perc_flag'] = 'Mid_70p_90p'\n",
    "kp_summary.loc[(kp_summary['mastery_degree_gt80_perc'] <= 0.7), 'mastery_degree_gt80_perc_flag'] = 'Low_lt_70p'\n",
    "\n",
    "kp_summary.groupby(['sig_diff_yn']).size()"
   ]
  },
  {
   "cell_type": "code",
   "execution_count": 100,
   "metadata": {
    "cell_id": 77
   },
   "outputs": [
    {
     "data": {
      "text/plain": [
       "mastery_degree_gt80_perc_flag  sig_diff_yn\n",
       "High_gt_90p                    N              26\n",
       "                               Y              11\n",
       "Low_lt_70p                     N               7\n",
       "                               Y               8\n",
       "Mid_70p_90p                    N              28\n",
       "                               Y              34\n",
       "dtype: int64"
      ]
     },
     "execution_count": 100,
     "metadata": {},
     "output_type": "execute_result"
    }
   ],
   "source": [
    "kp_summary.groupby(['mastery_degree_gt80_perc_flag', 'sig_diff_yn']).size()"
   ]
  },
  {
   "cell_type": "markdown",
   "metadata": {
    "cell_id": 78
   },
   "source": [
    "## 仅答对1听力 vs 仅答对1口语"
   ]
  },
  {
   "cell_type": "code",
   "execution_count": 102,
   "metadata": {
    "cell_id": 80
   },
   "outputs": [
    {
     "name": "stderr",
     "output_type": "stream",
     "text": [
      "/opt/conda/lib/python3.7/site-packages/scipy/stats/stats.py:7028: RuntimeWarning: divide by zero encountered in double_scalars\n",
      "  z = (bigu - meanrank) / sd\n"
     ]
    },
    {
     "data": {
      "text/html": [
       "<div>\n",
       "<style scoped>\n",
       "    .dataframe tbody tr th:only-of-type {\n",
       "        vertical-align: middle;\n",
       "    }\n",
       "\n",
       "    .dataframe tbody tr th {\n",
       "        vertical-align: top;\n",
       "    }\n",
       "\n",
       "    .dataframe thead th {\n",
       "        text-align: right;\n",
       "    }\n",
       "</style>\n",
       "<table border=\"1\" class=\"dataframe\">\n",
       "  <thead>\n",
       "    <tr style=\"text-align: right;\">\n",
       "      <th></th>\n",
       "      <th>kp_id</th>\n",
       "      <th>kp_name</th>\n",
       "      <th>md_correct_l</th>\n",
       "      <th>md_correct_o</th>\n",
       "      <th>min_sample</th>\n",
       "      <th>p_value</th>\n",
       "      <th>mastery_degree_gt80_perc</th>\n",
       "    </tr>\n",
       "  </thead>\n",
       "  <tbody>\n",
       "    <tr>\n",
       "      <th>0</th>\n",
       "      <td>6811316258944893192</td>\n",
       "      <td>[sink]</td>\n",
       "      <td>90.688889</td>\n",
       "      <td>92.269231</td>\n",
       "      <td>45</td>\n",
       "      <td>5.209460e-02</td>\n",
       "      <td>0.943069</td>\n",
       "    </tr>\n",
       "    <tr>\n",
       "      <th>1</th>\n",
       "      <td>6811316298425860365</td>\n",
       "      <td>[close]</td>\n",
       "      <td>90.105263</td>\n",
       "      <td>91.720238</td>\n",
       "      <td>19</td>\n",
       "      <td>2.047753e-01</td>\n",
       "      <td>0.900568</td>\n",
       "    </tr>\n",
       "    <tr>\n",
       "      <th>2</th>\n",
       "      <td>6811362996351156493</td>\n",
       "      <td>[形容词性物主代词]</td>\n",
       "      <td>73.214286</td>\n",
       "      <td>84.643275</td>\n",
       "      <td>28</td>\n",
       "      <td>8.523397e-08</td>\n",
       "      <td>0.650970</td>\n",
       "    </tr>\n",
       "    <tr>\n",
       "      <th>3</th>\n",
       "      <td>6811316268851790094</td>\n",
       "      <td>[put away]</td>\n",
       "      <td>83.434783</td>\n",
       "      <td>86.848101</td>\n",
       "      <td>46</td>\n",
       "      <td>3.418999e-03</td>\n",
       "      <td>0.769231</td>\n",
       "    </tr>\n",
       "    <tr>\n",
       "      <th>4</th>\n",
       "      <td>6811316255199346952</td>\n",
       "      <td>[garage]</td>\n",
       "      <td>83.500000</td>\n",
       "      <td>84.000000</td>\n",
       "      <td>40</td>\n",
       "      <td>2.064850e-01</td>\n",
       "      <td>0.672289</td>\n",
       "    </tr>\n",
       "    <tr>\n",
       "      <th>...</th>\n",
       "      <td>...</td>\n",
       "      <td>...</td>\n",
       "      <td>...</td>\n",
       "      <td>...</td>\n",
       "      <td>...</td>\n",
       "      <td>...</td>\n",
       "      <td>...</td>\n",
       "    </tr>\n",
       "    <tr>\n",
       "      <th>111</th>\n",
       "      <td>6867340182308307208</td>\n",
       "      <td>[这是/那是……]</td>\n",
       "      <td>83.578947</td>\n",
       "      <td>86.444444</td>\n",
       "      <td>19</td>\n",
       "      <td>1.597558e-01</td>\n",
       "      <td>0.771186</td>\n",
       "    </tr>\n",
       "    <tr>\n",
       "      <th>112</th>\n",
       "      <td>6926826050169078029</td>\n",
       "      <td>[without表示没有]</td>\n",
       "      <td>82.000000</td>\n",
       "      <td>90.600000</td>\n",
       "      <td>2</td>\n",
       "      <td>8.762212e-02</td>\n",
       "      <td>0.800000</td>\n",
       "    </tr>\n",
       "    <tr>\n",
       "      <th>113</th>\n",
       "      <td>6811316329224634638</td>\n",
       "      <td>[interested]</td>\n",
       "      <td>84.300000</td>\n",
       "      <td>85.205882</td>\n",
       "      <td>20</td>\n",
       "      <td>3.563373e-01</td>\n",
       "      <td>0.672222</td>\n",
       "    </tr>\n",
       "    <tr>\n",
       "      <th>114</th>\n",
       "      <td>6867341843286212878</td>\n",
       "      <td>[是/不是我的类型]</td>\n",
       "      <td>83.000000</td>\n",
       "      <td>83.037037</td>\n",
       "      <td>24</td>\n",
       "      <td>3.114261e-01</td>\n",
       "      <td>0.755396</td>\n",
       "    </tr>\n",
       "    <tr>\n",
       "      <th>115</th>\n",
       "      <td>6811316297033384206</td>\n",
       "      <td>[pen]</td>\n",
       "      <td>88.400000</td>\n",
       "      <td>89.600000</td>\n",
       "      <td>5</td>\n",
       "      <td>3.987316e-01</td>\n",
       "      <td>0.933884</td>\n",
       "    </tr>\n",
       "  </tbody>\n",
       "</table>\n",
       "<p>116 rows × 7 columns</p>\n",
       "</div>"
      ],
      "text/plain": [
       "                   kp_id        kp_name  md_correct_l  md_correct_o  \\\n",
       "0    6811316258944893192         [sink]     90.688889     92.269231   \n",
       "1    6811316298425860365        [close]     90.105263     91.720238   \n",
       "2    6811362996351156493     [形容词性物主代词]     73.214286     84.643275   \n",
       "3    6811316268851790094     [put away]     83.434783     86.848101   \n",
       "4    6811316255199346952       [garage]     83.500000     84.000000   \n",
       "..                   ...            ...           ...           ...   \n",
       "111  6867340182308307208      [这是/那是……]     83.578947     86.444444   \n",
       "112  6926826050169078029  [without表示没有]     82.000000     90.600000   \n",
       "113  6811316329224634638   [interested]     84.300000     85.205882   \n",
       "114  6867341843286212878     [是/不是我的类型]     83.000000     83.037037   \n",
       "115  6811316297033384206          [pen]     88.400000     89.600000   \n",
       "\n",
       "    min_sample       p_value  mastery_degree_gt80_perc  \n",
       "0           45  5.209460e-02                  0.943069  \n",
       "1           19  2.047753e-01                  0.900568  \n",
       "2           28  8.523397e-08                  0.650970  \n",
       "3           46  3.418999e-03                  0.769231  \n",
       "4           40  2.064850e-01                  0.672289  \n",
       "..         ...           ...                       ...  \n",
       "111         19  1.597558e-01                  0.771186  \n",
       "112          2  8.762212e-02                  0.800000  \n",
       "113         20  3.563373e-01                  0.672222  \n",
       "114         24  3.114261e-01                  0.755396  \n",
       "115          5  3.987316e-01                  0.933884  \n",
       "\n",
       "[116 rows x 7 columns]"
      ]
     },
     "execution_count": 102,
     "metadata": {},
     "output_type": "execute_result"
    }
   ],
   "source": [
    "kp_summary = pd.DataFrame(columns = [\"kp_id\", \"kp_name\",\"md_correct_l\", \"md_correct_o\", \"min_sample\", \"p_value\", \"mastery_degree_gt80_perc\"])\n",
    "\n",
    "for i in range(0,len(kp_list)):\n",
    "    kp_id = kp_list[i]\n",
    "    kp_data_s = kp_data[kp_data.kp_id == kp_id]\n",
    "    kp_correct_l = kp_data_s[(kp_data_s.listing_correct_num == 1) & (kp_data_s.oral_correct_num == 0)].mastery_degree\n",
    "    kp_correct_o = kp_data_s[(kp_data_s.listing_correct_num == 0) & (kp_data_s.oral_correct_num == 1)].mastery_degree\n",
    "    \n",
    "    kp_name = kp_data_s.point_name.unique()\n",
    "    correct_l_user_cnt = len(kp_correct_l)\n",
    "    correct_o_user_cnt = len(kp_correct_o)\n",
    " \n",
    "    min_sample = min(len(kp_correct_l), len(kp_correct_o))\n",
    "    \n",
    "    p_value = mannwhitneyu(kp_correct_l, kp_correct_o).pvalue\n",
    "    \n",
    "    md_gt_80 = sum(kp_data_s.mastery_degree_gt80)/len(kp_data_s)\n",
    "    kp_summary = kp_summary.append({'kp_id': kp_id, 'kp_name': kp_name, 'md_correct_l': kp_correct_l.mean(), 'md_correct_o': kp_correct_o.mean(), 'min_sample':min_sample, 'p_value': p_value, 'mastery_degree_gt80_perc' : md_gt_80}, ignore_index = True)\n",
    "\n",
    "kp_summary"
   ]
  },
  {
   "cell_type": "code",
   "execution_count": 103,
   "metadata": {
    "cell_id": 81
   },
   "outputs": [
    {
     "data": {
      "text/plain": [
       "sig_diff_yn\n",
       "N    95\n",
       "Y    21\n",
       "dtype: int64"
      ]
     },
     "execution_count": 103,
     "metadata": {},
     "output_type": "execute_result"
    }
   ],
   "source": [
    "kp_summary.loc[(kp_summary['min_sample'] >= 30), 'enough_sample_yn'] = 'Y'\n",
    "kp_summary.loc[(kp_summary['min_sample'] < 30), 'enough_sample_yn'] = 'N'\n",
    "\n",
    "kp_summary.loc[(kp_summary['p_value'] <= 0.05), 'sig_diff_yn'] = 'Y'\n",
    "kp_summary.loc[(kp_summary['p_value'] > 0.05), 'sig_diff_yn'] = 'N'\n",
    "\n",
    "kp_summary.loc[(kp_summary['mastery_degree_gt80_perc'] >= 0.9), 'mastery_degree_gt80_perc_flag'] = 'High_gt_90p'\n",
    "kp_summary.loc[(kp_summary['mastery_degree_gt80_perc'] < 0.9) & (kp_summary['mastery_degree_gt80_perc'] > 0.7), 'mastery_degree_gt80_perc_flag'] = 'Mid_70p_90p'\n",
    "kp_summary.loc[(kp_summary['mastery_degree_gt80_perc'] <= 0.7), 'mastery_degree_gt80_perc_flag'] = 'Low_lt_70p'\n",
    "\n",
    "kp_summary.groupby(['sig_diff_yn']).size()"
   ]
  },
  {
   "cell_type": "code",
   "execution_count": 104,
   "metadata": {
    "cell_id": 82
   },
   "outputs": [
    {
     "data": {
      "text/plain": [
       "mastery_degree_gt80_perc_flag  sig_diff_yn\n",
       "High_gt_90p                    N              32\n",
       "                               Y               5\n",
       "Low_lt_70p                     N              10\n",
       "                               Y               5\n",
       "Mid_70p_90p                    N              53\n",
       "                               Y              11\n",
       "dtype: int64"
      ]
     },
     "execution_count": 104,
     "metadata": {},
     "output_type": "execute_result"
    }
   ],
   "source": [
    "kp_summary.groupby(['mastery_degree_gt80_perc_flag', 'sig_diff_yn']).size()"
   ]
  },
  {
   "cell_type": "code",
   "execution_count": 105,
   "metadata": {
    "cell_id": 83
   },
   "outputs": [
    {
     "data": {
      "text/plain": [
       "0.1275902695959526"
      ]
     },
     "execution_count": 105,
     "metadata": {},
     "output_type": "execute_result"
    }
   ],
   "source": [
    "3682/28858"
   ]
  },
  {
   "cell_type": "code",
   "execution_count": null,
   "metadata": {
    "cell_id": 84
   },
   "outputs": [],
   "source": []
  }
 ],
 "metadata": {
  "kernelspec": {
   "display_name": "Python 3",
   "language": "python",
   "name": "python3"
  },
  "language_info": {
   "codemirror_mode": {
    "name": "ipython",
    "version": 3
   },
   "file_extension": ".py",
   "mimetype": "text/x-python",
   "name": "python",
   "nbconvert_exporter": "python",
   "pygments_lexer": "ipython3",
   "version": "3.7.9"
  },
  "max_cell_id": 85
 },
 "nbformat": 4,
 "nbformat_minor": 4
}
