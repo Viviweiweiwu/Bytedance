{
 "cells": [
  {
   "cell_type": "code",
   "execution_count": null,
   "id": "lined-springer",
   "metadata": {
    "cell_id": 82
   },
   "outputs": [],
   "source": [
    "# pip install xgboost"
   ]
  },
  {
   "cell_type": "code",
   "execution_count": 184,
   "id": "willing-director",
   "metadata": {
    "cell_id": 1
   },
   "outputs": [],
   "source": [
    "from pytqs import tqs\n",
    "import pandas as pd\n",
    "import numpy as np\n",
    "import matplotlib.pyplot as plt\n",
    "\n",
    "from datetime import date, timedelta\n",
    "import datetime; \n",
    "\n",
    "from sklearn import neighbors\n",
    "from sklearn.neighbors import NearestNeighbors\n",
    "from sklearn.neighbors import KDTree\n",
    "\n",
    "from sklearn.metrics import precision_recall_curve\n",
    "from sklearn.metrics import classification_report\n",
    "from sklearn.linear_model import LogisticRegression\n",
    "import statsmodels.api as sm\n",
    "from sklearn.datasets import make_regression\n",
    "from sklearn.ensemble import RandomForestRegressor\n",
    "from matplotlib import pyplot\n",
    "from xgboost import XGBRegressor\n",
    "\n",
    "import bytedtqs"
   ]
  },
  {
   "cell_type": "code",
   "execution_count": 150,
   "id": "dressed-minority",
   "metadata": {
    "cell_id": 2
   },
   "outputs": [],
   "source": [
    "# appId = \"eL38NWjpAMXlC0ifCoo71wk27zE6CS9YQismEcwVH5oNKbJf\"\n",
    "# appKey = \"VeeOKtXLxjGWE2OyIGkuqWRT33isyxtHH1xlxakeFzId6SMB\"\n",
    "# user_id = 'wuweiwei.1012'"
   ]
  },
  {
   "cell_type": "markdown",
   "id": "wrapped-policy",
   "metadata": {
    "cell_id": 11
   },
   "source": [
    "## 获取原始数据"
   ]
  },
  {
   "cell_type": "code",
   "execution_count": 174,
   "id": "satisfactory-thumb",
   "metadata": {
    "cell_id": 10
   },
   "outputs": [
    {
     "data": {
      "text/html": [
       "<div>\n",
       "<style scoped>\n",
       "    .dataframe tbody tr th:only-of-type {\n",
       "        vertical-align: middle;\n",
       "    }\n",
       "\n",
       "    .dataframe tbody tr th {\n",
       "        vertical-align: top;\n",
       "    }\n",
       "\n",
       "    .dataframe thead th {\n",
       "        text-align: right;\n",
       "    }\n",
       "</style>\n",
       "<table border=\"1\" class=\"dataframe\">\n",
       "  <thead>\n",
       "    <tr style=\"text-align: right;\">\n",
       "      <th></th>\n",
       "      <th>user_id</th>\n",
       "      <th>item_id</th>\n",
       "      <th>date</th>\n",
       "      <th>start_flag</th>\n",
       "      <th>finish_flag</th>\n",
       "      <th>score</th>\n",
       "      <th>user_level_id</th>\n",
       "      <th>vip_flag</th>\n",
       "      <th>new_user_flag</th>\n",
       "      <th>lesson_level_id</th>\n",
       "      <th>type</th>\n",
       "      <th>lesson_name</th>\n",
       "      <th>lesson_duration</th>\n",
       "      <th>lesson_words</th>\n",
       "    </tr>\n",
       "  </thead>\n",
       "  <tbody>\n",
       "    <tr>\n",
       "      <th>0</th>\n",
       "      <td>14404904910</td>\n",
       "      <td>6916410888987656455</td>\n",
       "      <td>20210220</td>\n",
       "      <td>1</td>\n",
       "      <td>0</td>\n",
       "      <td>NaN</td>\n",
       "      <td>5.0</td>\n",
       "      <td>1.0</td>\n",
       "      <td>0.0</td>\n",
       "      <td>5.0</td>\n",
       "      <td>欧美剧集</td>\n",
       "      <td>谢耳朵的日记</td>\n",
       "      <td>28166.0</td>\n",
       "      <td>48.0</td>\n",
       "    </tr>\n",
       "    <tr>\n",
       "      <th>1</th>\n",
       "      <td>93241095354</td>\n",
       "      <td>6916102435383591176</td>\n",
       "      <td>20210211</td>\n",
       "      <td>0</td>\n",
       "      <td>0</td>\n",
       "      <td>NaN</td>\n",
       "      <td>3.0</td>\n",
       "      <td>1.0</td>\n",
       "      <td>0.0</td>\n",
       "      <td>3.0</td>\n",
       "      <td>欧美剧集</td>\n",
       "      <td>为约会漂白牙齿</td>\n",
       "      <td>58724.0</td>\n",
       "      <td>110.0</td>\n",
       "    </tr>\n",
       "    <tr>\n",
       "      <th>2</th>\n",
       "      <td>93241095354</td>\n",
       "      <td>6917068156628369671</td>\n",
       "      <td>20210211</td>\n",
       "      <td>0</td>\n",
       "      <td>0</td>\n",
       "      <td>NaN</td>\n",
       "      <td>3.0</td>\n",
       "      <td>1.0</td>\n",
       "      <td>0.0</td>\n",
       "      <td>1.0</td>\n",
       "      <td>经典动画</td>\n",
       "      <td>早安呀我的好朋友</td>\n",
       "      <td>12314.0</td>\n",
       "      <td>26.0</td>\n",
       "    </tr>\n",
       "    <tr>\n",
       "      <th>3</th>\n",
       "      <td>93241095354</td>\n",
       "      <td>6916453168800907533</td>\n",
       "      <td>20210211</td>\n",
       "      <td>1</td>\n",
       "      <td>0</td>\n",
       "      <td>NaN</td>\n",
       "      <td>3.0</td>\n",
       "      <td>1.0</td>\n",
       "      <td>0.0</td>\n",
       "      <td>3.0</td>\n",
       "      <td>经典动画</td>\n",
       "      <td>一起堆雪人</td>\n",
       "      <td>48321.0</td>\n",
       "      <td>51.0</td>\n",
       "    </tr>\n",
       "    <tr>\n",
       "      <th>4</th>\n",
       "      <td>93241095354</td>\n",
       "      <td>6917087207845019918</td>\n",
       "      <td>20210211</td>\n",
       "      <td>0</td>\n",
       "      <td>0</td>\n",
       "      <td>NaN</td>\n",
       "      <td>3.0</td>\n",
       "      <td>1.0</td>\n",
       "      <td>0.0</td>\n",
       "      <td>3.0</td>\n",
       "      <td>名人演讲</td>\n",
       "      <td>爱是耐心 爱是善良</td>\n",
       "      <td>30106.0</td>\n",
       "      <td>44.0</td>\n",
       "    </tr>\n",
       "  </tbody>\n",
       "</table>\n",
       "</div>"
      ],
      "text/plain": [
       "       user_id              item_id      date  start_flag  finish_flag  score  \\\n",
       "0  14404904910  6916410888987656455  20210220           1            0    NaN   \n",
       "1  93241095354  6916102435383591176  20210211           0            0    NaN   \n",
       "2  93241095354  6917068156628369671  20210211           0            0    NaN   \n",
       "3  93241095354  6916453168800907533  20210211           1            0    NaN   \n",
       "4  93241095354  6917087207845019918  20210211           0            0    NaN   \n",
       "\n",
       "   user_level_id  vip_flag  new_user_flag  lesson_level_id  type lesson_name  \\\n",
       "0            5.0       1.0            0.0              5.0  欧美剧集      谢耳朵的日记   \n",
       "1            3.0       1.0            0.0              3.0  欧美剧集     为约会漂白牙齿   \n",
       "2            3.0       1.0            0.0              1.0  经典动画    早安呀我的好朋友   \n",
       "3            3.0       1.0            0.0              3.0  经典动画       一起堆雪人   \n",
       "4            3.0       1.0            0.0              3.0  名人演讲   爱是耐心 爱是善良   \n",
       "\n",
       "   lesson_duration  lesson_words  \n",
       "0          28166.0          48.0  \n",
       "1          58724.0         110.0  \n",
       "2          12314.0          26.0  \n",
       "3          48321.0          51.0  \n",
       "4          30106.0          44.0  "
      ]
     },
     "execution_count": 174,
     "metadata": {},
     "output_type": "execute_result"
    }
   ],
   "source": [
    "all_data = pd.read_csv('/home/tiger/archived-data/aeolus-data/20210318/17/40347479-配音-内容质量研究-查询15.csv', encoding = 'gb18030')\n",
    "all_data.head()"
   ]
  },
  {
   "cell_type": "code",
   "execution_count": 175,
   "id": "caring-david",
   "metadata": {
    "cell_id": 49
   },
   "outputs": [
    {
     "data": {
      "text/plain": [
       "897176"
      ]
     },
     "execution_count": 175,
     "metadata": {},
     "output_type": "execute_result"
    }
   ],
   "source": [
    "len(all_data)"
   ]
  },
  {
   "cell_type": "markdown",
   "id": "personalized-boulder",
   "metadata": {
    "cell_id": 91
   },
   "source": [
    "### 数据预处理"
   ]
  },
  {
   "cell_type": "code",
   "execution_count": 176,
   "id": "legal-corrections",
   "metadata": {
    "cell_id": 6
   },
   "outputs": [
    {
     "data": {
      "text/html": [
       "<div>\n",
       "<style scoped>\n",
       "    .dataframe tbody tr th:only-of-type {\n",
       "        vertical-align: middle;\n",
       "    }\n",
       "\n",
       "    .dataframe tbody tr th {\n",
       "        vertical-align: top;\n",
       "    }\n",
       "\n",
       "    .dataframe thead th {\n",
       "        text-align: right;\n",
       "    }\n",
       "</style>\n",
       "<table border=\"1\" class=\"dataframe\">\n",
       "  <thead>\n",
       "    <tr style=\"text-align: right;\">\n",
       "      <th></th>\n",
       "      <th>user_id</th>\n",
       "      <th>item_id</th>\n",
       "      <th>date</th>\n",
       "      <th>start_flag</th>\n",
       "      <th>finish_flag</th>\n",
       "      <th>score</th>\n",
       "      <th>user_level_id</th>\n",
       "      <th>vip_flag</th>\n",
       "      <th>new_user_flag</th>\n",
       "      <th>lesson_level_id</th>\n",
       "      <th>type</th>\n",
       "      <th>lesson_name</th>\n",
       "      <th>lesson_duration</th>\n",
       "      <th>lesson_words</th>\n",
       "      <th>level_match</th>\n",
       "      <th>density</th>\n",
       "    </tr>\n",
       "  </thead>\n",
       "  <tbody>\n",
       "    <tr>\n",
       "      <th>0</th>\n",
       "      <td>14404904910</td>\n",
       "      <td>6916410888987656455</td>\n",
       "      <td>20210220</td>\n",
       "      <td>1</td>\n",
       "      <td>0</td>\n",
       "      <td>NaN</td>\n",
       "      <td>5.0</td>\n",
       "      <td>1.0</td>\n",
       "      <td>0.0</td>\n",
       "      <td>5.0</td>\n",
       "      <td>欧美剧集</td>\n",
       "      <td>谢耳朵的日记</td>\n",
       "      <td>28166.0</td>\n",
       "      <td>48.0</td>\n",
       "      <td>1.0</td>\n",
       "      <td>1.704182</td>\n",
       "    </tr>\n",
       "    <tr>\n",
       "      <th>1</th>\n",
       "      <td>93241095354</td>\n",
       "      <td>6916102435383591176</td>\n",
       "      <td>20210211</td>\n",
       "      <td>0</td>\n",
       "      <td>0</td>\n",
       "      <td>NaN</td>\n",
       "      <td>3.0</td>\n",
       "      <td>1.0</td>\n",
       "      <td>0.0</td>\n",
       "      <td>3.0</td>\n",
       "      <td>欧美剧集</td>\n",
       "      <td>为约会漂白牙齿</td>\n",
       "      <td>58724.0</td>\n",
       "      <td>110.0</td>\n",
       "      <td>1.0</td>\n",
       "      <td>1.873169</td>\n",
       "    </tr>\n",
       "    <tr>\n",
       "      <th>2</th>\n",
       "      <td>93241095354</td>\n",
       "      <td>6917068156628369671</td>\n",
       "      <td>20210211</td>\n",
       "      <td>0</td>\n",
       "      <td>0</td>\n",
       "      <td>NaN</td>\n",
       "      <td>3.0</td>\n",
       "      <td>1.0</td>\n",
       "      <td>0.0</td>\n",
       "      <td>1.0</td>\n",
       "      <td>经典动画</td>\n",
       "      <td>早安呀我的好朋友</td>\n",
       "      <td>12314.0</td>\n",
       "      <td>26.0</td>\n",
       "      <td>0.0</td>\n",
       "      <td>2.111418</td>\n",
       "    </tr>\n",
       "    <tr>\n",
       "      <th>3</th>\n",
       "      <td>93241095354</td>\n",
       "      <td>6916453168800907533</td>\n",
       "      <td>20210211</td>\n",
       "      <td>1</td>\n",
       "      <td>0</td>\n",
       "      <td>NaN</td>\n",
       "      <td>3.0</td>\n",
       "      <td>1.0</td>\n",
       "      <td>0.0</td>\n",
       "      <td>3.0</td>\n",
       "      <td>经典动画</td>\n",
       "      <td>一起堆雪人</td>\n",
       "      <td>48321.0</td>\n",
       "      <td>51.0</td>\n",
       "      <td>1.0</td>\n",
       "      <td>1.055442</td>\n",
       "    </tr>\n",
       "    <tr>\n",
       "      <th>4</th>\n",
       "      <td>93241095354</td>\n",
       "      <td>6917087207845019918</td>\n",
       "      <td>20210211</td>\n",
       "      <td>0</td>\n",
       "      <td>0</td>\n",
       "      <td>NaN</td>\n",
       "      <td>3.0</td>\n",
       "      <td>1.0</td>\n",
       "      <td>0.0</td>\n",
       "      <td>3.0</td>\n",
       "      <td>名人演讲</td>\n",
       "      <td>爱是耐心 爱是善良</td>\n",
       "      <td>30106.0</td>\n",
       "      <td>44.0</td>\n",
       "      <td>1.0</td>\n",
       "      <td>1.461503</td>\n",
       "    </tr>\n",
       "  </tbody>\n",
       "</table>\n",
       "</div>"
      ],
      "text/plain": [
       "       user_id              item_id      date  start_flag  finish_flag  score  \\\n",
       "0  14404904910  6916410888987656455  20210220           1            0    NaN   \n",
       "1  93241095354  6916102435383591176  20210211           0            0    NaN   \n",
       "2  93241095354  6917068156628369671  20210211           0            0    NaN   \n",
       "3  93241095354  6916453168800907533  20210211           1            0    NaN   \n",
       "4  93241095354  6917087207845019918  20210211           0            0    NaN   \n",
       "\n",
       "   user_level_id  vip_flag  new_user_flag  lesson_level_id  type lesson_name  \\\n",
       "0            5.0       1.0            0.0              5.0  欧美剧集      谢耳朵的日记   \n",
       "1            3.0       1.0            0.0              3.0  欧美剧集     为约会漂白牙齿   \n",
       "2            3.0       1.0            0.0              1.0  经典动画    早安呀我的好朋友   \n",
       "3            3.0       1.0            0.0              3.0  经典动画       一起堆雪人   \n",
       "4            3.0       1.0            0.0              3.0  名人演讲   爱是耐心 爱是善良   \n",
       "\n",
       "   lesson_duration  lesson_words  level_match   density  \n",
       "0          28166.0          48.0          1.0  1.704182  \n",
       "1          58724.0         110.0          1.0  1.873169  \n",
       "2          12314.0          26.0          0.0  2.111418  \n",
       "3          48321.0          51.0          1.0  1.055442  \n",
       "4          30106.0          44.0          1.0  1.461503  "
      ]
     },
     "execution_count": 176,
     "metadata": {},
     "output_type": "execute_result"
    }
   ],
   "source": [
    "# str fill \n",
    "str_var = ['type']\n",
    "all_data[str_var] = all_data[str_var].fillna('未知')\n",
    "\n",
    "# number fill\n",
    "num_var = ['user_level_id', 'vip_flag', 'new_user_flag', 'lesson_level_id', 'lesson_duration', 'lesson_words']\n",
    "all_data[num_var] = all_data[num_var].fillna(-1)\n",
    "\n",
    "all_data.loc[(all_data['user_level_id'] == all_data['lesson_level_id']), 'level_match'] = 1\n",
    "all_data.loc[(all_data['user_level_id'] != all_data['lesson_level_id']), 'level_match'] = 0\n",
    "\n",
    "all_data['density'] = all_data['lesson_words'] / all_data['lesson_duration'] * 1000\n",
    "\n",
    "all_data.head()"
   ]
  },
  {
   "cell_type": "code",
   "execution_count": 154,
   "id": "checked-survivor",
   "metadata": {
    "cell_id": 50
   },
   "outputs": [
    {
     "data": {
      "text/plain": [
       "finish_flag\n",
       "0    816065\n",
       "1     81111\n",
       "dtype: int64"
      ]
     },
     "execution_count": 154,
     "metadata": {},
     "output_type": "execute_result"
    }
   ],
   "source": [
    "all_data.groupby(['finish_flag']).size()"
   ]
  },
  {
   "cell_type": "code",
   "execution_count": 155,
   "id": "manufactured-romantic",
   "metadata": {
    "cell_id": 65
   },
   "outputs": [
    {
     "data": {
      "text/plain": [
       "start_flag\n",
       "0    567456\n",
       "1    329720\n",
       "dtype: int64"
      ]
     },
     "execution_count": 155,
     "metadata": {},
     "output_type": "execute_result"
    }
   ],
   "source": [
    "all_data.groupby(['start_flag']).size()"
   ]
  },
  {
   "cell_type": "markdown",
   "id": "black-avenue",
   "metadata": {
    "cell_id": 8
   },
   "source": [
    "## 可解释性模型 - 逻辑回归"
   ]
  },
  {
   "cell_type": "code",
   "execution_count": 177,
   "id": "numerous-brunswick",
   "metadata": {
    "cell_id": 51
   },
   "outputs": [
    {
     "data": {
      "text/html": [
       "<div>\n",
       "<style scoped>\n",
       "    .dataframe tbody tr th:only-of-type {\n",
       "        vertical-align: middle;\n",
       "    }\n",
       "\n",
       "    .dataframe tbody tr th {\n",
       "        vertical-align: top;\n",
       "    }\n",
       "\n",
       "    .dataframe thead th {\n",
       "        text-align: right;\n",
       "    }\n",
       "</style>\n",
       "<table border=\"1\" class=\"dataframe\">\n",
       "  <thead>\n",
       "    <tr style=\"text-align: right;\">\n",
       "      <th></th>\n",
       "      <th>user_id</th>\n",
       "      <th>item_id</th>\n",
       "      <th>date</th>\n",
       "      <th>start_flag</th>\n",
       "      <th>finish_flag</th>\n",
       "      <th>score</th>\n",
       "      <th>user_level_id</th>\n",
       "      <th>vip_flag</th>\n",
       "      <th>new_user_flag</th>\n",
       "      <th>lesson_level_id</th>\n",
       "      <th>...</th>\n",
       "      <th>lesson_name</th>\n",
       "      <th>lesson_duration</th>\n",
       "      <th>lesson_words</th>\n",
       "      <th>level_match</th>\n",
       "      <th>density</th>\n",
       "      <th>名人演讲</th>\n",
       "      <th>未知</th>\n",
       "      <th>欧美剧集</th>\n",
       "      <th>海外电影</th>\n",
       "      <th>经典动画</th>\n",
       "    </tr>\n",
       "  </thead>\n",
       "  <tbody>\n",
       "    <tr>\n",
       "      <th>0</th>\n",
       "      <td>14404904910</td>\n",
       "      <td>6916410888987656455</td>\n",
       "      <td>20210220</td>\n",
       "      <td>1</td>\n",
       "      <td>0</td>\n",
       "      <td>NaN</td>\n",
       "      <td>5.0</td>\n",
       "      <td>1.0</td>\n",
       "      <td>0.0</td>\n",
       "      <td>5.0</td>\n",
       "      <td>...</td>\n",
       "      <td>谢耳朵的日记</td>\n",
       "      <td>28166.0</td>\n",
       "      <td>48.0</td>\n",
       "      <td>1.0</td>\n",
       "      <td>1.704182</td>\n",
       "      <td>0</td>\n",
       "      <td>0</td>\n",
       "      <td>1</td>\n",
       "      <td>0</td>\n",
       "      <td>0</td>\n",
       "    </tr>\n",
       "    <tr>\n",
       "      <th>1</th>\n",
       "      <td>93241095354</td>\n",
       "      <td>6916102435383591176</td>\n",
       "      <td>20210211</td>\n",
       "      <td>0</td>\n",
       "      <td>0</td>\n",
       "      <td>NaN</td>\n",
       "      <td>3.0</td>\n",
       "      <td>1.0</td>\n",
       "      <td>0.0</td>\n",
       "      <td>3.0</td>\n",
       "      <td>...</td>\n",
       "      <td>为约会漂白牙齿</td>\n",
       "      <td>58724.0</td>\n",
       "      <td>110.0</td>\n",
       "      <td>1.0</td>\n",
       "      <td>1.873169</td>\n",
       "      <td>0</td>\n",
       "      <td>0</td>\n",
       "      <td>1</td>\n",
       "      <td>0</td>\n",
       "      <td>0</td>\n",
       "    </tr>\n",
       "    <tr>\n",
       "      <th>2</th>\n",
       "      <td>93241095354</td>\n",
       "      <td>6917068156628369671</td>\n",
       "      <td>20210211</td>\n",
       "      <td>0</td>\n",
       "      <td>0</td>\n",
       "      <td>NaN</td>\n",
       "      <td>3.0</td>\n",
       "      <td>1.0</td>\n",
       "      <td>0.0</td>\n",
       "      <td>1.0</td>\n",
       "      <td>...</td>\n",
       "      <td>早安呀我的好朋友</td>\n",
       "      <td>12314.0</td>\n",
       "      <td>26.0</td>\n",
       "      <td>0.0</td>\n",
       "      <td>2.111418</td>\n",
       "      <td>0</td>\n",
       "      <td>0</td>\n",
       "      <td>0</td>\n",
       "      <td>0</td>\n",
       "      <td>1</td>\n",
       "    </tr>\n",
       "    <tr>\n",
       "      <th>3</th>\n",
       "      <td>93241095354</td>\n",
       "      <td>6916453168800907533</td>\n",
       "      <td>20210211</td>\n",
       "      <td>1</td>\n",
       "      <td>0</td>\n",
       "      <td>NaN</td>\n",
       "      <td>3.0</td>\n",
       "      <td>1.0</td>\n",
       "      <td>0.0</td>\n",
       "      <td>3.0</td>\n",
       "      <td>...</td>\n",
       "      <td>一起堆雪人</td>\n",
       "      <td>48321.0</td>\n",
       "      <td>51.0</td>\n",
       "      <td>1.0</td>\n",
       "      <td>1.055442</td>\n",
       "      <td>0</td>\n",
       "      <td>0</td>\n",
       "      <td>0</td>\n",
       "      <td>0</td>\n",
       "      <td>1</td>\n",
       "    </tr>\n",
       "    <tr>\n",
       "      <th>4</th>\n",
       "      <td>93241095354</td>\n",
       "      <td>6917087207845019918</td>\n",
       "      <td>20210211</td>\n",
       "      <td>0</td>\n",
       "      <td>0</td>\n",
       "      <td>NaN</td>\n",
       "      <td>3.0</td>\n",
       "      <td>1.0</td>\n",
       "      <td>0.0</td>\n",
       "      <td>3.0</td>\n",
       "      <td>...</td>\n",
       "      <td>爱是耐心 爱是善良</td>\n",
       "      <td>30106.0</td>\n",
       "      <td>44.0</td>\n",
       "      <td>1.0</td>\n",
       "      <td>1.461503</td>\n",
       "      <td>1</td>\n",
       "      <td>0</td>\n",
       "      <td>0</td>\n",
       "      <td>0</td>\n",
       "      <td>0</td>\n",
       "    </tr>\n",
       "  </tbody>\n",
       "</table>\n",
       "<p>5 rows × 21 columns</p>\n",
       "</div>"
      ],
      "text/plain": [
       "       user_id              item_id      date  start_flag  finish_flag  score  \\\n",
       "0  14404904910  6916410888987656455  20210220           1            0    NaN   \n",
       "1  93241095354  6916102435383591176  20210211           0            0    NaN   \n",
       "2  93241095354  6917068156628369671  20210211           0            0    NaN   \n",
       "3  93241095354  6916453168800907533  20210211           1            0    NaN   \n",
       "4  93241095354  6917087207845019918  20210211           0            0    NaN   \n",
       "\n",
       "   user_level_id  vip_flag  new_user_flag  lesson_level_id  ... lesson_name  \\\n",
       "0            5.0       1.0            0.0              5.0  ...      谢耳朵的日记   \n",
       "1            3.0       1.0            0.0              3.0  ...     为约会漂白牙齿   \n",
       "2            3.0       1.0            0.0              1.0  ...    早安呀我的好朋友   \n",
       "3            3.0       1.0            0.0              3.0  ...       一起堆雪人   \n",
       "4            3.0       1.0            0.0              3.0  ...   爱是耐心 爱是善良   \n",
       "\n",
       "  lesson_duration  lesson_words  level_match   density  名人演讲  未知  欧美剧集  海外电影  \\\n",
       "0         28166.0          48.0          1.0  1.704182     0   0     1     0   \n",
       "1         58724.0         110.0          1.0  1.873169     0   0     1     0   \n",
       "2         12314.0          26.0          0.0  2.111418     0   0     0     0   \n",
       "3         48321.0          51.0          1.0  1.055442     0   0     0     0   \n",
       "4         30106.0          44.0          1.0  1.461503     1   0     0     0   \n",
       "\n",
       "   经典动画  \n",
       "0     0  \n",
       "1     0  \n",
       "2     1  \n",
       "3     1  \n",
       "4     0  \n",
       "\n",
       "[5 rows x 21 columns]"
      ]
     },
     "execution_count": 177,
     "metadata": {},
     "output_type": "execute_result"
    }
   ],
   "source": [
    "dummy = pd.get_dummies(all_data.iloc[:, 10])\n",
    "new_data = pd.concat([all_data, dummy], axis = 1)\n",
    "new_data.head()"
   ]
  },
  {
   "cell_type": "markdown",
   "id": "parliamentary-matthew",
   "metadata": {
    "cell_id": 62
   },
   "source": [
    "#### 难度探究  \n",
    "##### 作品预览 -> 完成"
   ]
  },
  {
   "cell_type": "code",
   "execution_count": 178,
   "id": "sound-fishing",
   "metadata": {
    "cell_id": 66
   },
   "outputs": [],
   "source": [
    "dummy_var = list(all_data.type.unique())\n",
    "x_var = ['user_level_id', 'vip_flag', 'new_user_flag', 'lesson_duration', 'level_match', 'density'] \n",
    "y_var = 'finish_flag'"
   ]
  },
  {
   "cell_type": "code",
   "execution_count": 163,
   "id": "coated-austin",
   "metadata": {
    "cell_id": 68
   },
   "outputs": [],
   "source": [
    "# def plot_stat_data(var_name):\n",
    "    \n",
    "#     stat_data = new_data.groupby([var_name]).apply(lambda x: pd.Series({\n",
    "#     'dubbing_cnt': x.shape[0],\n",
    "#     'finish_rate': (x[y_var] == 1).mean()\n",
    "#     })).reset_index() \n",
    "    \n",
    "#     stat_data[['dubbing_cnt']].plot(kind='bar')\n",
    "#     plt.ylabel('dubbing preview cnt')  \n",
    "    \n",
    "#     stat_data['finish_rate'].plot(secondary_y=True)\n",
    "\n",
    "#     ax = plt.gca()\n",
    "\n",
    "#     ax.set_xticklabels(tuple(stat_data[[var_name]].squeeze().unique()))\n",
    "#     plt.title(var_name)\n",
    "\n",
    "#     plt.show()\n",
    "\n"
   ]
  },
  {
   "cell_type": "code",
   "execution_count": 160,
   "id": "embedded-secret",
   "metadata": {
    "cell_id": 61
   },
   "outputs": [
    {
     "name": "stdout",
     "output_type": "stream",
     "text": [
      "Optimization terminated successfully.\n",
      "         Current function value: 0.296705\n",
      "         Iterations 29\n"
     ]
    },
    {
     "data": {
      "text/html": [
       "<table class=\"simpletable\">\n",
       "<caption>Logit Regression Results</caption>\n",
       "<tr>\n",
       "  <th>Dep. Variable:</th>      <td>finish_flag</td>   <th>  No. Observations:  </th>   <td>897176</td>   \n",
       "</tr>\n",
       "<tr>\n",
       "  <th>Model:</th>                 <td>Logit</td>      <th>  Df Residuals:      </th>   <td>897165</td>   \n",
       "</tr>\n",
       "<tr>\n",
       "  <th>Method:</th>                 <td>MLE</td>       <th>  Df Model:          </th>   <td>    10</td>   \n",
       "</tr>\n",
       "<tr>\n",
       "  <th>Date:</th>            <td>Thu, 18 Mar 2021</td> <th>  Pseudo R-squ.:     </th>   <td>0.02232</td>  \n",
       "</tr>\n",
       "<tr>\n",
       "  <th>Time:</th>                <td>17:58:32</td>     <th>  Log-Likelihood:    </th> <td>-2.6620e+05</td>\n",
       "</tr>\n",
       "<tr>\n",
       "  <th>converged:</th>             <td>True</td>       <th>  LL-Null:           </th> <td>-2.7227e+05</td>\n",
       "</tr>\n",
       "<tr>\n",
       "  <th>Covariance Type:</th>     <td>nonrobust</td>    <th>  LLR p-value:       </th>   <td> 0.000</td>   \n",
       "</tr>\n",
       "</table>\n",
       "<table class=\"simpletable\">\n",
       "<tr>\n",
       "         <td></td>            <th>coef</th>     <th>std err</th>      <th>z</th>      <th>P>|z|</th>  <th>[0.025</th>    <th>0.975]</th>  \n",
       "</tr>\n",
       "<tr>\n",
       "  <th>user_level_id</th>   <td>    0.2526</td> <td>    0.003</td> <td>   81.642</td> <td> 0.000</td> <td>    0.247</td> <td>    0.259</td>\n",
       "</tr>\n",
       "<tr>\n",
       "  <th>vip_flag</th>        <td>    0.0818</td> <td>    0.009</td> <td>    9.152</td> <td> 0.000</td> <td>    0.064</td> <td>    0.099</td>\n",
       "</tr>\n",
       "<tr>\n",
       "  <th>new_user_flag</th>   <td>   -0.2406</td> <td>    0.014</td> <td>  -16.888</td> <td> 0.000</td> <td>   -0.268</td> <td>   -0.213</td>\n",
       "</tr>\n",
       "<tr>\n",
       "  <th>lesson_duration</th> <td>-1.393e-05</td> <td> 3.66e-07</td> <td>  -38.057</td> <td> 0.000</td> <td>-1.47e-05</td> <td>-1.32e-05</td>\n",
       "</tr>\n",
       "<tr>\n",
       "  <th>level_match</th>     <td>    0.1055</td> <td>    0.008</td> <td>   13.791</td> <td> 0.000</td> <td>    0.090</td> <td>    0.120</td>\n",
       "</tr>\n",
       "<tr>\n",
       "  <th>density</th>         <td>   -0.3670</td> <td>    0.010</td> <td>  -38.298</td> <td> 0.000</td> <td>   -0.386</td> <td>   -0.348</td>\n",
       "</tr>\n",
       "<tr>\n",
       "  <th>欧美剧集</th>            <td>   -2.0941</td> <td>    0.027</td> <td>  -77.791</td> <td> 0.000</td> <td>   -2.147</td> <td>   -2.041</td>\n",
       "</tr>\n",
       "<tr>\n",
       "  <th>名人演讲</th>            <td>   -1.9464</td> <td>    0.022</td> <td>  -87.271</td> <td> 0.000</td> <td>   -1.990</td> <td>   -1.903</td>\n",
       "</tr>\n",
       "<tr>\n",
       "  <th>海外电影</th>            <td>   -2.0241</td> <td>    0.028</td> <td>  -71.369</td> <td> 0.000</td> <td>   -2.080</td> <td>   -1.969</td>\n",
       "</tr>\n",
       "<tr>\n",
       "  <th>经典动画</th>            <td>   -1.9427</td> <td>    0.021</td> <td>  -92.395</td> <td> 0.000</td> <td>   -1.984</td> <td>   -1.901</td>\n",
       "</tr>\n",
       "<tr>\n",
       "  <th>未知</th>              <td>  327.2218</td> <td>  1.3e+08</td> <td> 2.52e-06</td> <td> 1.000</td> <td>-2.55e+08</td> <td> 2.55e+08</td>\n",
       "</tr>\n",
       "</table>"
      ],
      "text/plain": [
       "<class 'statsmodels.iolib.summary.Summary'>\n",
       "\"\"\"\n",
       "                           Logit Regression Results                           \n",
       "==============================================================================\n",
       "Dep. Variable:            finish_flag   No. Observations:               897176\n",
       "Model:                          Logit   Df Residuals:                   897165\n",
       "Method:                           MLE   Df Model:                           10\n",
       "Date:                Thu, 18 Mar 2021   Pseudo R-squ.:                 0.02232\n",
       "Time:                        17:58:32   Log-Likelihood:            -2.6620e+05\n",
       "converged:                       True   LL-Null:                   -2.7227e+05\n",
       "Covariance Type:            nonrobust   LLR p-value:                     0.000\n",
       "===================================================================================\n",
       "                      coef    std err          z      P>|z|      [0.025      0.975]\n",
       "-----------------------------------------------------------------------------------\n",
       "user_level_id       0.2526      0.003     81.642      0.000       0.247       0.259\n",
       "vip_flag            0.0818      0.009      9.152      0.000       0.064       0.099\n",
       "new_user_flag      -0.2406      0.014    -16.888      0.000      -0.268      -0.213\n",
       "lesson_duration -1.393e-05   3.66e-07    -38.057      0.000   -1.47e-05   -1.32e-05\n",
       "level_match         0.1055      0.008     13.791      0.000       0.090       0.120\n",
       "density            -0.3670      0.010    -38.298      0.000      -0.386      -0.348\n",
       "欧美剧集               -2.0941      0.027    -77.791      0.000      -2.147      -2.041\n",
       "名人演讲               -1.9464      0.022    -87.271      0.000      -1.990      -1.903\n",
       "海外电影               -2.0241      0.028    -71.369      0.000      -2.080      -1.969\n",
       "经典动画               -1.9427      0.021    -92.395      0.000      -1.984      -1.901\n",
       "未知                327.2218    1.3e+08   2.52e-06      1.000   -2.55e+08    2.55e+08\n",
       "===================================================================================\n",
       "\"\"\""
      ]
     },
     "execution_count": 160,
     "metadata": {},
     "output_type": "execute_result"
    }
   ],
   "source": [
    "x = new_data[x_var + dummy_var]\n",
    "y = new_data[y_var]\n",
    "\n",
    "# model_difficulty = LogisticRegression(solver='liblinear', random_state=0).fit(x, y)\n",
    "model = sm.Logit(y, x)\n",
    "result_difficulty =  model.fit(method='newton')\n",
    "result_difficulty.summary()\n",
    "\n",
    "# model_difficulty.score(x,y)\n",
    "# model_difficulty.coef_\n",
    "\n",
    "# print(model_difficulty.pvalues)"
   ]
  },
  {
   "cell_type": "markdown",
   "id": "closing-brunei",
   "metadata": {
    "cell_id": 55
   },
   "source": [
    "#### 吸引力探究\n",
    "##### 作品预览 -> 开始配音"
   ]
  },
  {
   "cell_type": "code",
   "execution_count": 210,
   "id": "acquired-screening",
   "metadata": {
    "cell_id": 75
   },
   "outputs": [],
   "source": [
    "dummy_var = list(all_data.type.unique())\n",
    "x_var = ['user_level_id', 'vip_flag', 'new_user_flag', 'lesson_duration', 'level_match'] \n",
    "y_var = 'start_flag'\n",
    "\n",
    "# def plot_stat_data(var_name):\n",
    "    \n",
    "#     stat_data = new_data.groupby([var_name]).apply(lambda x: pd.Series({\n",
    "#     'dubbing_cnt': x.shape[0],\n",
    "#     'start_rate': (x[y_var] == 1).mean()\n",
    "#     })).reset_index() \n",
    "    \n",
    "#     stat_data[['dubbing_cnt']].plot(kind='bar')\n",
    "#     plt.ylabel('dubbing preview cnt')  \n",
    "    \n",
    "#     stat_data['start_rate'].plot(secondary_y=True)\n",
    "\n",
    "#     ax = plt.gca()\n",
    "\n",
    "#     ax.set_xticklabels(tuple(stat_data[[var_name]].squeeze().unique()))\n",
    "#     plt.title(var_name)\n",
    "\n",
    "#     plt.show()"
   ]
  },
  {
   "cell_type": "code",
   "execution_count": 166,
   "id": "ruled-workstation",
   "metadata": {
    "cell_id": 52
   },
   "outputs": [
    {
     "name": "stdout",
     "output_type": "stream",
     "text": [
      "Optimization terminated successfully.\n",
      "         Current function value: 0.647677\n",
      "         Iterations 5\n"
     ]
    },
    {
     "data": {
      "text/html": [
       "<table class=\"simpletable\">\n",
       "<caption>Logit Regression Results</caption>\n",
       "<tr>\n",
       "  <th>Dep. Variable:</th>      <td>start_flag</td>    <th>  No. Observations:  </th>   <td>897176</td>   \n",
       "</tr>\n",
       "<tr>\n",
       "  <th>Model:</th>                 <td>Logit</td>      <th>  Df Residuals:      </th>   <td>897166</td>   \n",
       "</tr>\n",
       "<tr>\n",
       "  <th>Method:</th>                 <td>MLE</td>       <th>  Df Model:          </th>   <td>     9</td>   \n",
       "</tr>\n",
       "<tr>\n",
       "  <th>Date:</th>            <td>Thu, 18 Mar 2021</td> <th>  Pseudo R-squ.:     </th>   <td>0.01511</td>  \n",
       "</tr>\n",
       "<tr>\n",
       "  <th>Time:</th>                <td>19:07:28</td>     <th>  Log-Likelihood:    </th> <td>-5.8108e+05</td>\n",
       "</tr>\n",
       "<tr>\n",
       "  <th>converged:</th>             <td>True</td>       <th>  LL-Null:           </th> <td>-5.9000e+05</td>\n",
       "</tr>\n",
       "<tr>\n",
       "  <th>Covariance Type:</th>     <td>nonrobust</td>    <th>  LLR p-value:       </th>   <td> 0.000</td>   \n",
       "</tr>\n",
       "</table>\n",
       "<table class=\"simpletable\">\n",
       "<tr>\n",
       "         <td></td>            <th>coef</th>     <th>std err</th>      <th>z</th>      <th>P>|z|</th>  <th>[0.025</th>    <th>0.975]</th>  \n",
       "</tr>\n",
       "<tr>\n",
       "  <th>user_level_id</th>   <td>    0.1264</td> <td>    0.002</td> <td>   72.930</td> <td> 0.000</td> <td>    0.123</td> <td>    0.130</td>\n",
       "</tr>\n",
       "<tr>\n",
       "  <th>vip_flag</th>        <td>   -0.1325</td> <td>    0.005</td> <td>  -24.528</td> <td> 0.000</td> <td>   -0.143</td> <td>   -0.122</td>\n",
       "</tr>\n",
       "<tr>\n",
       "  <th>new_user_flag</th>   <td>    0.0219</td> <td>    0.007</td> <td>    3.039</td> <td> 0.002</td> <td>    0.008</td> <td>    0.036</td>\n",
       "</tr>\n",
       "<tr>\n",
       "  <th>lesson_duration</th> <td>-1.913e-05</td> <td> 2.21e-07</td> <td>  -86.639</td> <td> 0.000</td> <td>-1.96e-05</td> <td>-1.87e-05</td>\n",
       "</tr>\n",
       "<tr>\n",
       "  <th>level_match</th>     <td>    0.2489</td> <td>    0.004</td> <td>   55.733</td> <td> 0.000</td> <td>    0.240</td> <td>    0.258</td>\n",
       "</tr>\n",
       "<tr>\n",
       "  <th>欧美剧集</th>            <td>   -0.4833</td> <td>    0.011</td> <td>  -42.136</td> <td> 0.000</td> <td>   -0.506</td> <td>   -0.461</td>\n",
       "</tr>\n",
       "<tr>\n",
       "  <th>经典动画</th>            <td>   -0.3704</td> <td>    0.007</td> <td>  -51.958</td> <td> 0.000</td> <td>   -0.384</td> <td>   -0.356</td>\n",
       "</tr>\n",
       "<tr>\n",
       "  <th>名人演讲</th>            <td>   -0.3899</td> <td>    0.008</td> <td>  -49.037</td> <td> 0.000</td> <td>   -0.406</td> <td>   -0.374</td>\n",
       "</tr>\n",
       "<tr>\n",
       "  <th>海外电影</th>            <td>   -0.4691</td> <td>    0.013</td> <td>  -35.376</td> <td> 0.000</td> <td>   -0.495</td> <td>   -0.443</td>\n",
       "</tr>\n",
       "<tr>\n",
       "  <th>未知</th>              <td>   -1.0436</td> <td>    0.592</td> <td>   -1.764</td> <td> 0.078</td> <td>   -2.203</td> <td>    0.116</td>\n",
       "</tr>\n",
       "</table>"
      ],
      "text/plain": [
       "<class 'statsmodels.iolib.summary.Summary'>\n",
       "\"\"\"\n",
       "                           Logit Regression Results                           \n",
       "==============================================================================\n",
       "Dep. Variable:             start_flag   No. Observations:               897176\n",
       "Model:                          Logit   Df Residuals:                   897166\n",
       "Method:                           MLE   Df Model:                            9\n",
       "Date:                Thu, 18 Mar 2021   Pseudo R-squ.:                 0.01511\n",
       "Time:                        19:07:28   Log-Likelihood:            -5.8108e+05\n",
       "converged:                       True   LL-Null:                   -5.9000e+05\n",
       "Covariance Type:            nonrobust   LLR p-value:                     0.000\n",
       "===================================================================================\n",
       "                      coef    std err          z      P>|z|      [0.025      0.975]\n",
       "-----------------------------------------------------------------------------------\n",
       "user_level_id       0.1264      0.002     72.930      0.000       0.123       0.130\n",
       "vip_flag           -0.1325      0.005    -24.528      0.000      -0.143      -0.122\n",
       "new_user_flag       0.0219      0.007      3.039      0.002       0.008       0.036\n",
       "lesson_duration -1.913e-05   2.21e-07    -86.639      0.000   -1.96e-05   -1.87e-05\n",
       "level_match         0.2489      0.004     55.733      0.000       0.240       0.258\n",
       "欧美剧集               -0.4833      0.011    -42.136      0.000      -0.506      -0.461\n",
       "经典动画               -0.3704      0.007    -51.958      0.000      -0.384      -0.356\n",
       "名人演讲               -0.3899      0.008    -49.037      0.000      -0.406      -0.374\n",
       "海外电影               -0.4691      0.013    -35.376      0.000      -0.495      -0.443\n",
       "未知                 -1.0436      0.592     -1.764      0.078      -2.203       0.116\n",
       "===================================================================================\n",
       "\"\"\""
      ]
     },
     "execution_count": 166,
     "metadata": {},
     "output_type": "execute_result"
    }
   ],
   "source": [
    "x = new_data[x_var + dummy_var]\n",
    "y = new_data[y_var]\n",
    "\n",
    "# model_difficulty = LogisticRegression(solver='liblinear', random_state=0).fit(x, y)\n",
    "model = sm.Logit(y, x)\n",
    "result_difficulty =  model.fit(method='newton')\n",
    "result_difficulty.summary()\n"
   ]
  },
  {
   "cell_type": "markdown",
   "id": "intermediate-contrast",
   "metadata": {
    "cell_id": 93
   },
   "source": [
    "## 变量排序 - XGB"
   ]
  },
  {
   "cell_type": "markdown",
   "id": "statutory-concentration",
   "metadata": {
    "cell_id": 90
   },
   "source": [
    "#### 难度探究  \n",
    "##### 作品预览 -> 完成"
   ]
  },
  {
   "cell_type": "code",
   "execution_count": 209,
   "id": "dental-cartridge",
   "metadata": {
    "cell_id": 83
   },
   "outputs": [
    {
     "data": {
      "text/plain": [
       "Text(0.5, 1.0, 'Variable importance for preview -> finish')"
      ]
     },
     "execution_count": 209,
     "metadata": {},
     "output_type": "execute_result"
    },
    {
     "data": {
      "image/png": "[encoded data removed]",
      "text/plain": [
       "<Figure size 1080x360 with 1 Axes>"
      ]
     },
     "metadata": {
      "needs_background": "light"
     },
     "output_type": "display_data"
    }
   ],
   "source": [
    "x = new_data[x_var + dummy_var]\n",
    "y = new_data[y_var]\n",
    "\n",
    "model = XGBRegressor()\n",
    "model.fit(x, y)\n",
    "\n",
    "importance = model.feature_importances_\n",
    "\n",
    "list_arrays = [np.array(x_var + dummy_var), importance]\n",
    "df_imp = pd.DataFrame(list_arrays)\n",
    "plt.figure(figsize=(15, 5))\n",
    "plt.bar(df_imp.iloc[0], df_imp.iloc[1])\n",
    "plt.title('Variable importance for preview -> finish')\n"
   ]
  },
  {
   "cell_type": "markdown",
   "id": "metallic-portland",
   "metadata": {
    "cell_id": 95
   },
   "source": [
    "#### 吸引力探究\n",
    "##### 作品预览 -> 开始配音"
   ]
  },
  {
   "cell_type": "code",
   "execution_count": 211,
   "id": "bronze-dominant",
   "metadata": {
    "cell_id": 76
   },
   "outputs": [
    {
     "data": {
      "text/plain": [
       "Text(0.5, 1.0, 'Variable importance for preview -> start')"
      ]
     },
     "execution_count": 211,
     "metadata": {},
     "output_type": "execute_result"
    },
    {
     "data": {
      "image/png": "[encoded data removed]",
      "text/plain": [
       "<Figure size 1080x360 with 1 Axes>"
      ]
     },
     "metadata": {
      "needs_background": "light"
     },
     "output_type": "display_data"
    }
   ],
   "source": [
    "x = new_data[x_var + dummy_var]\n",
    "y = new_data[y_var]\n",
    "\n",
    "model = XGBRegressor()\n",
    "model.fit(x, y)\n",
    "\n",
    "importance = model.feature_importances_\n",
    "\n",
    "list_arrays = [np.array(x_var + dummy_var), importance]\n",
    "df_imp = pd.DataFrame(list_arrays)\n",
    "plt.figure(figsize=(15, 5))\n",
    "plt.bar(df_imp.iloc[0], df_imp.iloc[1])\n",
    "plt.title('Variable importance for preview -> start')\n"
   ]
  }
 ],
 "metadata": {
  "kernelspec": {
   "display_name": "Python 3",
   "language": "python",
   "name": "python3"
  },
  "language_info": {
   "codemirror_mode": {
    "name": "ipython",
    "version": 3
   },
   "file_extension": ".py",
   "mimetype": "text/x-python",
   "name": "python",
   "nbconvert_exporter": "python",
   "pygments_lexer": "ipython3",
   "version": "3.7.9"
  },
  "max_cell_id": 98
 },
 "nbformat": 4,
 "nbformat_minor": 5
}
