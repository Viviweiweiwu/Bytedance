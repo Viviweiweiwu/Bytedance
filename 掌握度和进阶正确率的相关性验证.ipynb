{
 "cells": [
  {
   "cell_type": "code",
   "execution_count": 1,
   "metadata": {
    "cell_id": 1
   },
   "outputs": [],
   "source": [
    "import pandas as pd\n",
    "import numpy as np\n",
    "import matplotlib.pyplot as plt\n",
    "from scipy import stats\n",
    "\n",
    "np.set_printoptions(suppress=True)"
   ]
  },
  {
   "cell_type": "markdown",
   "metadata": {
    "cell_id": 2
   },
   "source": [
    "# 整体大盘相关性"
   ]
  },
  {
   "cell_type": "code",
   "execution_count": 2,
   "metadata": {
    "cell_id": 3
   },
   "outputs": [
    {
     "data": {
      "text/html": [
       "<div>\n",
       "<style scoped>\n",
       "    .dataframe tbody tr th:only-of-type {\n",
       "        vertical-align: middle;\n",
       "    }\n",
       "\n",
       "    .dataframe tbody tr th {\n",
       "        vertical-align: top;\n",
       "    }\n",
       "\n",
       "    .dataframe thead th {\n",
       "        text-align: right;\n",
       "    }\n",
       "</style>\n",
       "<table border=\"1\" class=\"dataframe\">\n",
       "  <thead>\n",
       "    <tr style=\"text-align: right;\">\n",
       "      <th></th>\n",
       "      <th>kp_id</th>\n",
       "      <th>question_cnt</th>\n",
       "      <th>correct_cnt</th>\n",
       "      <th>mastery_degree</th>\n",
       "    </tr>\n",
       "  </thead>\n",
       "  <tbody>\n",
       "    <tr>\n",
       "      <th>0</th>\n",
       "      <td>6811316203278139661</td>\n",
       "      <td>308</td>\n",
       "      <td>202</td>\n",
       "      <td>75.123377</td>\n",
       "    </tr>\n",
       "    <tr>\n",
       "      <th>1</th>\n",
       "      <td>6838454156403949831</td>\n",
       "      <td>495</td>\n",
       "      <td>476</td>\n",
       "      <td>88.539394</td>\n",
       "    </tr>\n",
       "    <tr>\n",
       "      <th>2</th>\n",
       "      <td>6811363145387409677</td>\n",
       "      <td>307</td>\n",
       "      <td>245</td>\n",
       "      <td>86.469055</td>\n",
       "    </tr>\n",
       "    <tr>\n",
       "      <th>3</th>\n",
       "      <td>6811316312472584456</td>\n",
       "      <td>865</td>\n",
       "      <td>785</td>\n",
       "      <td>83.359538</td>\n",
       "    </tr>\n",
       "    <tr>\n",
       "      <th>4</th>\n",
       "      <td>6811316341430026503</td>\n",
       "      <td>465</td>\n",
       "      <td>412</td>\n",
       "      <td>82.453763</td>\n",
       "    </tr>\n",
       "  </tbody>\n",
       "</table>\n",
       "</div>"
      ],
      "text/plain": [
       "                 kp_id  question_cnt  correct_cnt  mastery_degree\n",
       "0  6811316203278139661           308          202       75.123377\n",
       "1  6838454156403949831           495          476       88.539394\n",
       "2  6811363145387409677           307          245       86.469055\n",
       "3  6811316312472584456           865          785       83.359538\n",
       "4  6811316341430026503           465          412       82.453763"
      ]
     },
     "execution_count": 2,
     "metadata": {},
     "output_type": "execute_result"
    }
   ],
   "source": [
    "all_data = pd.read_csv('./32029117-自适应难度分析-编辑框5-查询4.csv', encoding = 'gb18030')\n",
    "all_data.head()"
   ]
  },
  {
   "cell_type": "code",
   "execution_count": 9,
   "metadata": {
    "cell_id": 4
   },
   "outputs": [],
   "source": [
    "data = all_data"
   ]
  },
  {
   "cell_type": "code",
   "execution_count": 10,
   "metadata": {
    "cell_id": 5
   },
   "outputs": [
    {
     "data": {
      "text/plain": [
       "Text(0, 0.5, 'Correct Rate for Level Test')"
      ]
     },
     "execution_count": 10,
     "metadata": {},
     "output_type": "execute_result"
    },
    {
     "data": {
      "image/png": "[encoded data removed]",
      "text/plain": [
       "<Figure size 432x288 with 1 Axes>"
      ]
     },
     "metadata": {
      "needs_background": "light"
     },
     "output_type": "display_data"
    }
   ],
   "source": [
    "plt.plot(data.mastery_degree, data.correct_cnt / data.question_cnt, 'o')\n",
    "plt.xlabel('Mastery Degree')\n",
    "plt.ylabel('Correct Rate for Level Test')"
   ]
  },
  {
   "cell_type": "code",
   "execution_count": 6,
   "metadata": {
    "cell_id": 6
   },
   "outputs": [
    {
     "data": {
      "text/plain": [
       "array([[1.        , 0.15551308],\n",
       "       [0.15551308, 1.        ]])"
      ]
     },
     "execution_count": 6,
     "metadata": {},
     "output_type": "execute_result"
    }
   ],
   "source": [
    "np.corrcoef(data.mastery_degree, data.correct_cnt / data.question_cnt)"
   ]
  },
  {
   "cell_type": "code",
   "execution_count": 11,
   "metadata": {
    "cell_id": 7
   },
   "outputs": [
    {
     "data": {
      "text/plain": [
       "Text(0, 0.5, 'Correct Rate for Level Test')"
      ]
     },
     "execution_count": 11,
     "metadata": {},
     "output_type": "execute_result"
    },
    {
     "data": {
      "image/png": "[encoded data removed]",
      "text/plain": [
       "<Figure size 432x288 with 1 Axes>"
      ]
     },
     "metadata": {
      "needs_background": "light"
     },
     "output_type": "display_data"
    }
   ],
   "source": [
    "data = all_data[all_data.mastery_degree >= 40]\n",
    "plt.plot(data.mastery_degree, data.correct_cnt / data.question_cnt, 'o')\n",
    "plt.xlabel('Mastery Degree')\n",
    "plt.ylabel('Correct Rate for Level Test')"
   ]
  },
  {
   "cell_type": "code",
   "execution_count": 13,
   "metadata": {
    "cell_id": 8
   },
   "outputs": [
    {
     "data": {
      "text/plain": [
       "array([[1.        , 0.31734019],\n",
       "       [0.31734019, 1.        ]])"
      ]
     },
     "execution_count": 13,
     "metadata": {},
     "output_type": "execute_result"
    }
   ],
   "source": [
    "np.corrcoef(data.mastery_degree, data.correct_cnt / data.question_cnt)"
   ]
  },
  {
   "cell_type": "markdown",
   "metadata": {
    "cell_id": 9
   },
   "source": [
    "# 分知识点看相关性"
   ]
  },
  {
   "cell_type": "code",
   "execution_count": 28,
   "metadata": {
    "cell_id": 10
   },
   "outputs": [
    {
     "data": {
      "text/html": [
       "<div>\n",
       "<style scoped>\n",
       "    .dataframe tbody tr th:only-of-type {\n",
       "        vertical-align: middle;\n",
       "    }\n",
       "\n",
       "    .dataframe tbody tr th {\n",
       "        vertical-align: top;\n",
       "    }\n",
       "\n",
       "    .dataframe thead th {\n",
       "        text-align: right;\n",
       "    }\n",
       "</style>\n",
       "<table border=\"1\" class=\"dataframe\">\n",
       "  <thead>\n",
       "    <tr style=\"text-align: right;\">\n",
       "      <th></th>\n",
       "      <th>point_name</th>\n",
       "      <th>kp_id</th>\n",
       "      <th>user_id</th>\n",
       "      <th>create_time</th>\n",
       "      <th>question_cnt</th>\n",
       "      <th>correct_cnt</th>\n",
       "      <th>mastery_degree</th>\n",
       "      <th>correct_yn</th>\n",
       "      <th>rk</th>\n",
       "      <th>mastery_degree_gt80</th>\n",
       "    </tr>\n",
       "  </thead>\n",
       "  <tbody>\n",
       "    <tr>\n",
       "      <th>0</th>\n",
       "      <td>in + 年份/月份/季节</td>\n",
       "      <td>6824460575624429837</td>\n",
       "      <td>3676377582404424</td>\n",
       "      <td>1601383124</td>\n",
       "      <td>1</td>\n",
       "      <td>1</td>\n",
       "      <td>59</td>\n",
       "      <td>1</td>\n",
       "      <td>1</td>\n",
       "      <td>0.0</td>\n",
       "    </tr>\n",
       "    <tr>\n",
       "      <th>1</th>\n",
       "      <td>in + 年份/月份/季节</td>\n",
       "      <td>6824460575624429837</td>\n",
       "      <td>3588417885309544</td>\n",
       "      <td>1601104974</td>\n",
       "      <td>1</td>\n",
       "      <td>0</td>\n",
       "      <td>73</td>\n",
       "      <td>0</td>\n",
       "      <td>1</td>\n",
       "      <td>0.0</td>\n",
       "    </tr>\n",
       "    <tr>\n",
       "      <th>2</th>\n",
       "      <td>in + 年份/月份/季节</td>\n",
       "      <td>6824460575624429837</td>\n",
       "      <td>3254168965363341</td>\n",
       "      <td>1601709254</td>\n",
       "      <td>1</td>\n",
       "      <td>1</td>\n",
       "      <td>75</td>\n",
       "      <td>1</td>\n",
       "      <td>1</td>\n",
       "      <td>0.0</td>\n",
       "    </tr>\n",
       "    <tr>\n",
       "      <th>3</th>\n",
       "      <td>student</td>\n",
       "      <td>6862565679971729671</td>\n",
       "      <td>2884747293891454</td>\n",
       "      <td>1604761042</td>\n",
       "      <td>1</td>\n",
       "      <td>0</td>\n",
       "      <td>0</td>\n",
       "      <td>0</td>\n",
       "      <td>1</td>\n",
       "      <td>0.0</td>\n",
       "    </tr>\n",
       "    <tr>\n",
       "      <th>4</th>\n",
       "      <td>表达不确定</td>\n",
       "      <td>6838453935078965517</td>\n",
       "      <td>3359714421262440</td>\n",
       "      <td>1600946497</td>\n",
       "      <td>1</td>\n",
       "      <td>1</td>\n",
       "      <td>90</td>\n",
       "      <td>1</td>\n",
       "      <td>1</td>\n",
       "      <td>1.0</td>\n",
       "    </tr>\n",
       "  </tbody>\n",
       "</table>\n",
       "</div>"
      ],
      "text/plain": [
       "      point_name                kp_id           user_id  create_time  \\\n",
       "0  in + 年份/月份/季节  6824460575624429837  3676377582404424   1601383124   \n",
       "1  in + 年份/月份/季节  6824460575624429837  3588417885309544   1601104974   \n",
       "2  in + 年份/月份/季节  6824460575624429837  3254168965363341   1601709254   \n",
       "3        student  6862565679971729671  2884747293891454   1604761042   \n",
       "4          表达不确定  6838453935078965517  3359714421262440   1600946497   \n",
       "\n",
       "   question_cnt  correct_cnt  mastery_degree  correct_yn  rk  \\\n",
       "0             1            1              59           1   1   \n",
       "1             1            0              73           0   1   \n",
       "2             1            1              75           1   1   \n",
       "3             1            0               0           0   1   \n",
       "4             1            1              90           1   1   \n",
       "\n",
       "   mastery_degree_gt80  \n",
       "0                  0.0  \n",
       "1                  0.0  \n",
       "2                  0.0  \n",
       "3                  0.0  \n",
       "4                  1.0  "
      ]
     },
     "execution_count": 28,
     "metadata": {},
     "output_type": "execute_result"
    }
   ],
   "source": [
    "kp_data = pd.read_csv('./32072960-自适应难度分析-掌握度与进阶测试正确率-查询7.csv', encoding = 'gb18030')\n",
    "kp_data.loc[(kp_data['mastery_degree'] >= 80), 'mastery_degree_gt80'] = 1\n",
    "kp_data.loc[(kp_data['mastery_degree'] < 80), 'mastery_degree_gt80'] = 0\n",
    "\n",
    "kp_data.head()"
   ]
  },
  {
   "cell_type": "markdown",
   "metadata": {
    "cell_id": 37
   },
   "source": []
  },
  {
   "cell_type": "code",
   "execution_count": 29,
   "metadata": {
    "cell_id": 11
   },
   "outputs": [],
   "source": [
    "kp_list = kp_data.kp_id.unique()\n",
    "kp_summary = pd.DataFrame(columns = [\"kp_id\", \"kp_name\",\"correct_user_cnt\", \"wrong_user_cnt\", \"master_degree_diff\", \"min_sample\", \"p_value\", \"mastery_degree_gt80_perc\"])"
   ]
  },
  {
   "cell_type": "code",
   "execution_count": 30,
   "metadata": {
    "cell_id": 12
   },
   "outputs": [
    {
     "name": "stderr",
     "output_type": "stream",
     "text": [
      "/opt/conda/lib/python3.7/site-packages/numpy/core/fromnumeric.py:3622: RuntimeWarning: Degrees of freedom <= 0 for slice\n",
      "  **kwargs)\n",
      "/opt/conda/lib/python3.7/site-packages/numpy/core/_methods.py:226: RuntimeWarning: invalid value encountered in double_scalars\n",
      "  ret = ret.dtype.type(ret / rcount)\n"
     ]
    }
   ],
   "source": [
    "for i in range(0,len(kp_list)):\n",
    "    kp_id = kp_list[i]\n",
    "    kp_data_s = kp_data[kp_data.kp_id == kp_id]\n",
    "    kp_correct = kp_data_s[kp_data_s.correct_yn == 1].mastery_degree\n",
    "    kp_wrong = kp_data_s[kp_data_s.correct_yn == 0].mastery_degree\n",
    "    \n",
    "    kp_name = kp_data_s.point_name.unique()\n",
    "    correct_user_cnt = len(kp_correct)\n",
    "    wrong_user_cnt = len(kp_wrong)\n",
    "    md = kp_correct.mean() - kp_wrong.mean()\n",
    "    min_sample = min(len(kp_correct), len(kp_wrong))\n",
    "    p_value = stats.ttest_ind(kp_correct, kp_wrong, equal_var = False).pvalue\n",
    "    md_gt_80 = sum(kp_data_s.mastery_degree_gt80)/len(kp_data_s)\n",
    "    kp_summary = kp_summary.append({'kp_id': kp_id, 'kp_name': kp_name, 'correct_user_cnt': correct_user_cnt, 'wrong_user_cnt': wrong_user_cnt, 'master_degree_diff': md, 'min_sample' : min_sample, 'p_value': p_value, 'mastery_degree_gt80_perc' : md_gt_80}, ignore_index = True)\n"
   ]
  },
  {
   "cell_type": "code",
   "execution_count": 31,
   "metadata": {
    "cell_id": 13
   },
   "outputs": [],
   "source": [
    "kp_summary.loc[(kp_summary['min_sample'] >= 30), 'enough_sample_yn'] = 'Y'\n",
    "kp_summary.loc[(kp_summary['min_sample'] < 30), 'enough_sample_yn'] = 'N'\n",
    "\n",
    "kp_summary.loc[(kp_summary['p_value'] <= 0.05), 'sig_diff_yn'] = 'Y'\n",
    "kp_summary.loc[(kp_summary['p_value'] > 0.05), 'sig_diff_yn'] = 'N'\n",
    "\n",
    "kp_summary.loc[(kp_summary['master_degree_diff'] > 0), 'greater_md'] = 'Y'\n",
    "kp_summary.loc[(kp_summary['master_degree_diff'] <= 0), 'greater_md'] = 'N'\n"
   ]
  },
  {
   "cell_type": "code",
   "execution_count": 38,
   "metadata": {
    "cell_id": 14
   },
   "outputs": [],
   "source": [
    "kp_summary.loc[(kp_summary['mastery_degree_gt80_perc'] >= 0.9), 'mastery_degree_gt80_perc_flag'] = 'High_gt_90p'\n",
    "kp_summary.loc[(kp_summary['mastery_degree_gt80_perc'] < 0.9) & (kp_summary['mastery_degree_gt80_perc'] > 0.7), 'mastery_degree_gt80_perc_flag'] = 'Mid_70p_90p'"
   ]
  },
  {
   "cell_type": "code",
   "execution_count": 39,
   "metadata": {
    "cell_id": 15
   },
   "outputs": [
    {
     "data": {
      "text/plain": [
       "mastery_degree_gt80_perc_flag\n",
       "High    137\n",
       "Low     125\n",
       "dtype: int64"
      ]
     },
     "execution_count": 39,
     "metadata": {},
     "output_type": "execute_result"
    }
   ],
   "source": [
    "kp_summary.groupby(['mastery_degree_gt80_perc_flag']).size()"
   ]
  },
  {
   "cell_type": "code",
   "execution_count": 40,
   "metadata": {
    "cell_id": 16
   },
   "outputs": [
    {
     "data": {
      "text/plain": [
       "enough_sample_yn  sig_diff_yn  mastery_degree_gt80_perc_flag\n",
       "N                 N            High                             37\n",
       "                               Low                              19\n",
       "                  Y            High                             11\n",
       "                               Low                              16\n",
       "Y                 N            High                             45\n",
       "                               Low                              40\n",
       "                  Y            High                             42\n",
       "                               Low                              46\n",
       "dtype: int64"
      ]
     },
     "execution_count": 40,
     "metadata": {},
     "output_type": "execute_result"
    }
   ],
   "source": [
    "kp_summary.groupby(['enough_sample_yn', 'sig_diff_yn', 'mastery_degree_gt80_perc_flag']).size()"
   ]
  },
  {
   "cell_type": "code",
   "execution_count": 184,
   "metadata": {
    "cell_id": 17
   },
   "outputs": [],
   "source": [
    "kp_summary['kp_id2'] = kp_summary['kp_id'].apply(str) + '\\t'"
   ]
  },
  {
   "cell_type": "code",
   "execution_count": 34,
   "metadata": {
    "cell_id": 18
   },
   "outputs": [
    {
     "data": {
      "text/html": [
       "<div>\n",
       "<style scoped>\n",
       "    .dataframe tbody tr th:only-of-type {\n",
       "        vertical-align: middle;\n",
       "    }\n",
       "\n",
       "    .dataframe tbody tr th {\n",
       "        vertical-align: top;\n",
       "    }\n",
       "\n",
       "    .dataframe thead th {\n",
       "        text-align: right;\n",
       "    }\n",
       "</style>\n",
       "<table border=\"1\" class=\"dataframe\">\n",
       "  <thead>\n",
       "    <tr style=\"text-align: right;\">\n",
       "      <th></th>\n",
       "      <th>kp_id</th>\n",
       "      <th>kp_name</th>\n",
       "      <th>correct_user_cnt</th>\n",
       "      <th>wrong_user_cnt</th>\n",
       "      <th>master_degree_diff</th>\n",
       "      <th>min_sample</th>\n",
       "      <th>p_value</th>\n",
       "      <th>mastery_degree_gt80_perc</th>\n",
       "      <th>enough_sample_yn</th>\n",
       "      <th>sig_diff_yn</th>\n",
       "      <th>greater_md</th>\n",
       "    </tr>\n",
       "  </thead>\n",
       "  <tbody>\n",
       "    <tr>\n",
       "      <th>253</th>\n",
       "      <td>6811316347327234312</td>\n",
       "      <td>[supermarket]</td>\n",
       "      <td>164</td>\n",
       "      <td>53</td>\n",
       "      <td>-0.229291</td>\n",
       "      <td>53</td>\n",
       "      <td>0.877189</td>\n",
       "      <td>0.000000</td>\n",
       "      <td>Y</td>\n",
       "      <td>N</td>\n",
       "      <td>N</td>\n",
       "    </tr>\n",
       "    <tr>\n",
       "      <th>3</th>\n",
       "      <td>6811316326297010445</td>\n",
       "      <td>[seventeen]</td>\n",
       "      <td>359</td>\n",
       "      <td>75</td>\n",
       "      <td>0.000000</td>\n",
       "      <td>75</td>\n",
       "      <td>NaN</td>\n",
       "      <td>0.000000</td>\n",
       "      <td>Y</td>\n",
       "      <td>NaN</td>\n",
       "      <td>N</td>\n",
       "    </tr>\n",
       "    <tr>\n",
       "      <th>69</th>\n",
       "      <td>6811316286883168519</td>\n",
       "      <td>[nan]</td>\n",
       "      <td>63</td>\n",
       "      <td>33</td>\n",
       "      <td>0.000000</td>\n",
       "      <td>33</td>\n",
       "      <td>NaN</td>\n",
       "      <td>0.000000</td>\n",
       "      <td>Y</td>\n",
       "      <td>NaN</td>\n",
       "      <td>N</td>\n",
       "    </tr>\n",
       "    <tr>\n",
       "      <th>33</th>\n",
       "      <td>6811362964549959949</td>\n",
       "      <td>[不定冠词]</td>\n",
       "      <td>6</td>\n",
       "      <td>0</td>\n",
       "      <td>NaN</td>\n",
       "      <td>0</td>\n",
       "      <td>NaN</td>\n",
       "      <td>0.000000</td>\n",
       "      <td>N</td>\n",
       "      <td>NaN</td>\n",
       "      <td>NaN</td>\n",
       "    </tr>\n",
       "    <tr>\n",
       "      <th>10</th>\n",
       "      <td>6811363101888299272</td>\n",
       "      <td>[寻求帮助]</td>\n",
       "      <td>319</td>\n",
       "      <td>42</td>\n",
       "      <td>-2.546499</td>\n",
       "      <td>42</td>\n",
       "      <td>0.670996</td>\n",
       "      <td>0.155125</td>\n",
       "      <td>Y</td>\n",
       "      <td>N</td>\n",
       "      <td>N</td>\n",
       "    </tr>\n",
       "    <tr>\n",
       "      <th>...</th>\n",
       "      <td>...</td>\n",
       "      <td>...</td>\n",
       "      <td>...</td>\n",
       "      <td>...</td>\n",
       "      <td>...</td>\n",
       "      <td>...</td>\n",
       "      <td>...</td>\n",
       "      <td>...</td>\n",
       "      <td>...</td>\n",
       "      <td>...</td>\n",
       "      <td>...</td>\n",
       "    </tr>\n",
       "    <tr>\n",
       "      <th>22</th>\n",
       "      <td>6853811145828991245</td>\n",
       "      <td>[If you were in my shoes, ...]</td>\n",
       "      <td>101</td>\n",
       "      <td>59</td>\n",
       "      <td>5.448397</td>\n",
       "      <td>59</td>\n",
       "      <td>0.098987</td>\n",
       "      <td>0.943750</td>\n",
       "      <td>Y</td>\n",
       "      <td>N</td>\n",
       "      <td>Y</td>\n",
       "    </tr>\n",
       "    <tr>\n",
       "      <th>217</th>\n",
       "      <td>6811316313860899079</td>\n",
       "      <td>[kiss]</td>\n",
       "      <td>476</td>\n",
       "      <td>78</td>\n",
       "      <td>-3.587266</td>\n",
       "      <td>78</td>\n",
       "      <td>0.028129</td>\n",
       "      <td>0.944043</td>\n",
       "      <td>Y</td>\n",
       "      <td>Y</td>\n",
       "      <td>N</td>\n",
       "    </tr>\n",
       "    <tr>\n",
       "      <th>120</th>\n",
       "      <td>6850723940617191693</td>\n",
       "      <td>[settle down]</td>\n",
       "      <td>146</td>\n",
       "      <td>12</td>\n",
       "      <td>-1.795662</td>\n",
       "      <td>12</td>\n",
       "      <td>0.509942</td>\n",
       "      <td>0.949367</td>\n",
       "      <td>N</td>\n",
       "      <td>N</td>\n",
       "      <td>N</td>\n",
       "    </tr>\n",
       "    <tr>\n",
       "      <th>152</th>\n",
       "      <td>6811316354382037255</td>\n",
       "      <td>[fish]</td>\n",
       "      <td>117</td>\n",
       "      <td>5</td>\n",
       "      <td>17.456410</td>\n",
       "      <td>5</td>\n",
       "      <td>0.119503</td>\n",
       "      <td>0.975410</td>\n",
       "      <td>N</td>\n",
       "      <td>N</td>\n",
       "      <td>Y</td>\n",
       "    </tr>\n",
       "    <tr>\n",
       "      <th>211</th>\n",
       "      <td>6811316274677711112</td>\n",
       "      <td>[oven]</td>\n",
       "      <td>5</td>\n",
       "      <td>0</td>\n",
       "      <td>NaN</td>\n",
       "      <td>0</td>\n",
       "      <td>NaN</td>\n",
       "      <td>1.000000</td>\n",
       "      <td>N</td>\n",
       "      <td>NaN</td>\n",
       "      <td>NaN</td>\n",
       "    </tr>\n",
       "  </tbody>\n",
       "</table>\n",
       "<p>262 rows × 11 columns</p>\n",
       "</div>"
      ],
      "text/plain": [
       "                   kp_id                         kp_name correct_user_cnt  \\\n",
       "253  6811316347327234312                   [supermarket]              164   \n",
       "3    6811316326297010445                     [seventeen]              359   \n",
       "69   6811316286883168519                           [nan]               63   \n",
       "33   6811362964549959949                          [不定冠词]                6   \n",
       "10   6811363101888299272                          [寻求帮助]              319   \n",
       "..                   ...                             ...              ...   \n",
       "22   6853811145828991245  [If you were in my shoes, ...]              101   \n",
       "217  6811316313860899079                          [kiss]              476   \n",
       "120  6850723940617191693                   [settle down]              146   \n",
       "152  6811316354382037255                          [fish]              117   \n",
       "211  6811316274677711112                          [oven]                5   \n",
       "\n",
       "    wrong_user_cnt  master_degree_diff min_sample   p_value  \\\n",
       "253             53           -0.229291         53  0.877189   \n",
       "3               75            0.000000         75       NaN   \n",
       "69              33            0.000000         33       NaN   \n",
       "33               0                 NaN          0       NaN   \n",
       "10              42           -2.546499         42  0.670996   \n",
       "..             ...                 ...        ...       ...   \n",
       "22              59            5.448397         59  0.098987   \n",
       "217             78           -3.587266         78  0.028129   \n",
       "120             12           -1.795662         12  0.509942   \n",
       "152              5           17.456410          5  0.119503   \n",
       "211              0                 NaN          0       NaN   \n",
       "\n",
       "     mastery_degree_gt80_perc enough_sample_yn sig_diff_yn greater_md  \n",
       "253                  0.000000                Y           N          N  \n",
       "3                    0.000000                Y         NaN          N  \n",
       "69                   0.000000                Y         NaN          N  \n",
       "33                   0.000000                N         NaN        NaN  \n",
       "10                   0.155125                Y           N          N  \n",
       "..                        ...              ...         ...        ...  \n",
       "22                   0.943750                Y           N          Y  \n",
       "217                  0.944043                Y           Y          N  \n",
       "120                  0.949367                N           N          N  \n",
       "152                  0.975410                N           N          Y  \n",
       "211                  1.000000                N         NaN        NaN  \n",
       "\n",
       "[262 rows x 11 columns]"
      ]
     },
     "execution_count": 34,
     "metadata": {},
     "output_type": "execute_result"
    }
   ],
   "source": [
    "kp_summary.sort_values(by=['mastery_degree_gt80_perc'])"
   ]
  },
  {
   "cell_type": "code",
   "execution_count": 170,
   "metadata": {
    "cell_id": 19
   },
   "outputs": [],
   "source": [
    "kp_summary.to_csv(r'./mastery_dist.csv', encoding='utf_8_sig')"
   ]
  },
  {
   "cell_type": "code",
   "execution_count": 164,
   "metadata": {
    "cell_id": 20
   },
   "outputs": [
    {
     "data": {
      "text/plain": [
       "kp_id                object\n",
       "kp_name              object\n",
       "correct_user_cnt     object\n",
       "wrong_user_cnt       object\n",
       "min_sample           object\n",
       "p_value             float64\n",
       "enough_sample_yn     object\n",
       "sig_diff_yn          object\n",
       "kp_id2               object\n",
       "dtype: object"
      ]
     },
     "execution_count": 164,
     "metadata": {},
     "output_type": "execute_result"
    }
   ],
   "source": [
    "kp_summary.dtypes"
   ]
  },
  {
   "cell_type": "markdown",
   "metadata": {
    "cell_id": 27
   },
   "source": [
    "# 分不同维度 - 难度，掌握度分布，是否是锚点题"
   ]
  },
  {
   "cell_type": "code",
   "execution_count": 2,
   "metadata": {
    "cell_id": 28
   },
   "outputs": [
    {
     "data": {
      "text/html": [
       "<div>\n",
       "<style scoped>\n",
       "    .dataframe tbody tr th:only-of-type {\n",
       "        vertical-align: middle;\n",
       "    }\n",
       "\n",
       "    .dataframe tbody tr th {\n",
       "        vertical-align: top;\n",
       "    }\n",
       "\n",
       "    .dataframe thead th {\n",
       "        text-align: right;\n",
       "    }\n",
       "</style>\n",
       "<table border=\"1\" class=\"dataframe\">\n",
       "  <thead>\n",
       "    <tr style=\"text-align: right;\">\n",
       "      <th></th>\n",
       "      <th>point_name</th>\n",
       "      <th>kp_id</th>\n",
       "      <th>user_id</th>\n",
       "      <th>create_time</th>\n",
       "      <th>question_cnt</th>\n",
       "      <th>correct_cnt</th>\n",
       "      <th>mastery_degree</th>\n",
       "      <th>correct_yn</th>\n",
       "      <th>rk</th>\n",
       "      <th>exercise_id</th>\n",
       "      <th>ac_exe_yn</th>\n",
       "      <th>difficulty</th>\n",
       "      <th>mastery_degree_gt80</th>\n",
       "    </tr>\n",
       "  </thead>\n",
       "  <tbody>\n",
       "    <tr>\n",
       "      <th>0</th>\n",
       "      <td>football</td>\n",
       "      <td>6811316253047718157</td>\n",
       "      <td>53881777650</td>\n",
       "      <td>1598755580</td>\n",
       "      <td>1</td>\n",
       "      <td>1</td>\n",
       "      <td>96</td>\n",
       "      <td>1</td>\n",
       "      <td>1</td>\n",
       "      <td>NaN</td>\n",
       "      <td>0</td>\n",
       "      <td>NaN</td>\n",
       "      <td>1.0</td>\n",
       "    </tr>\n",
       "    <tr>\n",
       "      <th>1</th>\n",
       "      <td>football</td>\n",
       "      <td>6811316253047718157</td>\n",
       "      <td>87308878686</td>\n",
       "      <td>1597466901</td>\n",
       "      <td>1</td>\n",
       "      <td>1</td>\n",
       "      <td>96</td>\n",
       "      <td>1</td>\n",
       "      <td>1</td>\n",
       "      <td>NaN</td>\n",
       "      <td>0</td>\n",
       "      <td>NaN</td>\n",
       "      <td>1.0</td>\n",
       "    </tr>\n",
       "    <tr>\n",
       "      <th>2</th>\n",
       "      <td>football</td>\n",
       "      <td>6811316253047718157</td>\n",
       "      <td>102849189067</td>\n",
       "      <td>1594352716</td>\n",
       "      <td>1</td>\n",
       "      <td>1</td>\n",
       "      <td>88</td>\n",
       "      <td>1</td>\n",
       "      <td>1</td>\n",
       "      <td>NaN</td>\n",
       "      <td>0</td>\n",
       "      <td>NaN</td>\n",
       "      <td>1.0</td>\n",
       "    </tr>\n",
       "    <tr>\n",
       "      <th>3</th>\n",
       "      <td>football</td>\n",
       "      <td>6811316253047718157</td>\n",
       "      <td>103585847816</td>\n",
       "      <td>1594380655</td>\n",
       "      <td>1</td>\n",
       "      <td>1</td>\n",
       "      <td>93</td>\n",
       "      <td>1</td>\n",
       "      <td>1</td>\n",
       "      <td>NaN</td>\n",
       "      <td>0</td>\n",
       "      <td>NaN</td>\n",
       "      <td>1.0</td>\n",
       "    </tr>\n",
       "    <tr>\n",
       "      <th>4</th>\n",
       "      <td>football</td>\n",
       "      <td>6811316253047718157</td>\n",
       "      <td>104401002059</td>\n",
       "      <td>1600219658</td>\n",
       "      <td>1</td>\n",
       "      <td>1</td>\n",
       "      <td>81</td>\n",
       "      <td>1</td>\n",
       "      <td>1</td>\n",
       "      <td>NaN</td>\n",
       "      <td>0</td>\n",
       "      <td>NaN</td>\n",
       "      <td>1.0</td>\n",
       "    </tr>\n",
       "  </tbody>\n",
       "</table>\n",
       "</div>"
      ],
      "text/plain": [
       "  point_name                kp_id       user_id  create_time  question_cnt  \\\n",
       "0   football  6811316253047718157   53881777650   1598755580             1   \n",
       "1   football  6811316253047718157   87308878686   1597466901             1   \n",
       "2   football  6811316253047718157  102849189067   1594352716             1   \n",
       "3   football  6811316253047718157  103585847816   1594380655             1   \n",
       "4   football  6811316253047718157  104401002059   1600219658             1   \n",
       "\n",
       "   correct_cnt  mastery_degree  correct_yn  rk  exercise_id  ac_exe_yn  \\\n",
       "0            1              96           1   1          NaN          0   \n",
       "1            1              96           1   1          NaN          0   \n",
       "2            1              88           1   1          NaN          0   \n",
       "3            1              93           1   1          NaN          0   \n",
       "4            1              81           1   1          NaN          0   \n",
       "\n",
       "   difficulty  mastery_degree_gt80  \n",
       "0         NaN                  1.0  \n",
       "1         NaN                  1.0  \n",
       "2         NaN                  1.0  \n",
       "3         NaN                  1.0  \n",
       "4         NaN                  1.0  "
      ]
     },
     "execution_count": 2,
     "metadata": {},
     "output_type": "execute_result"
    }
   ],
   "source": [
    "kp_data = pd.read_csv('/home/tiger/archived-data/aeolus-data/20201122/20/32742451-自适应难度分析-编辑框6-查询9.csv', encoding = 'gb18030')\n",
    "kp_data.loc[(kp_data['mastery_degree'] >= 80), 'mastery_degree_gt80'] = 1\n",
    "kp_data.loc[(kp_data['mastery_degree'] < 80), 'mastery_degree_gt80'] = 0\n",
    "\n",
    "kp_data.head()"
   ]
  },
  {
   "cell_type": "code",
   "execution_count": 4,
   "metadata": {
    "cell_id": 29
   },
   "outputs": [
    {
     "name": "stderr",
     "output_type": "stream",
     "text": [
      "/opt/conda/lib/python3.7/site-packages/numpy/core/fromnumeric.py:3622: RuntimeWarning: Degrees of freedom <= 0 for slice\n",
      "  **kwargs)\n",
      "/opt/conda/lib/python3.7/site-packages/numpy/core/_methods.py:226: RuntimeWarning: invalid value encountered in double_scalars\n",
      "  ret = ret.dtype.type(ret / rcount)\n"
     ]
    },
    {
     "data": {
      "text/plain": [
       "enough_sample_yn  sig_diff_yn  greater_md\n",
       "N                 N            N             14\n",
       "                               Y             42\n",
       "                  Y            N              7\n",
       "                               Y             20\n",
       "Y                 N            N             13\n",
       "                               Y             71\n",
       "                  Y            N              2\n",
       "                               Y             87\n",
       "dtype: int64"
      ]
     },
     "execution_count": 4,
     "metadata": {},
     "output_type": "execute_result"
    }
   ],
   "source": [
    "kp_list = kp_data.kp_id.unique()\n",
    "kp_summary = pd.DataFrame(columns = [\"kp_id\", \"kp_name\", \"exercise_id\", \"ac_exe_yn\", \"difficulty\", \"correct_user_cnt\", \"wrong_user_cnt\", \"master_degree_diff\", \"min_sample\", \"p_value\", \"mastery_degree_gt80_perc\", \"mastery_degree_gt80_perc_range\"])\n",
    "\n",
    "for i in range(0,len(kp_list)):\n",
    "    kp_id = kp_list[i]\n",
    "    kp_data_s = kp_data[kp_data.kp_id == kp_id]\n",
    "    kp_correct = kp_data_s[kp_data_s.correct_yn == 1].mastery_degree\n",
    "    kp_wrong = kp_data_s[kp_data_s.correct_yn == 0].mastery_degree\n",
    "    \n",
    "    kp_name = kp_data_s.point_name.unique()\n",
    "    exercise_id = min(kp_data_s.exercise_id.unique())\n",
    "    ac_exe_yn = max(kp_data_s.ac_exe_yn.unique())\n",
    "    difficulty = max(kp_data_s.difficulty.unique())\n",
    "    correct_user_cnt = len(kp_correct)\n",
    "    wrong_user_cnt = len(kp_wrong)\n",
    "    md = kp_correct.mean() - kp_wrong.mean()\n",
    "    min_sample = min(len(kp_correct), len(kp_wrong))\n",
    "    p_value = stats.ttest_ind(kp_correct, kp_wrong, equal_var = False).pvalue\n",
    "    md_gt_80 = sum(kp_data_s.mastery_degree_gt80)/len(kp_data_s)\n",
    "    md_gt_80_range = \"L\" if md_gt_80 < 0.7 else \"H\" if md_gt_80>0.9 else \"M\"\n",
    "    kp_summary = kp_summary.append({'kp_id': kp_id, 'kp_name': kp_name, 'exercise_id': exercise_id, 'ac_exe_yn':ac_exe_yn, 'difficulty':difficulty, 'correct_user_cnt': correct_user_cnt, 'wrong_user_cnt': wrong_user_cnt, 'master_degree_diff': md, 'min_sample' : min_sample, 'p_value': p_value, 'mastery_degree_gt80_perc' : md_gt_80 ,'mastery_degree_gt80_perc_range' : md_gt_80_range}, ignore_index = True)\n",
    "\n",
    "kp_summary.loc[(kp_summary['min_sample'] >= 30), 'enough_sample_yn'] = 'Y'\n",
    "kp_summary.loc[(kp_summary['min_sample'] < 30), 'enough_sample_yn'] = 'N'\n",
    "\n",
    "kp_summary.loc[(kp_summary['p_value'] <= 0.05), 'sig_diff_yn'] = 'Y'\n",
    "kp_summary.loc[(kp_summary['p_value'] > 0.05), 'sig_diff_yn'] = 'N'\n",
    "\n",
    "kp_summary.loc[(kp_summary['master_degree_diff'] > 0), 'greater_md'] = 'Y'\n",
    "kp_summary.loc[(kp_summary['master_degree_diff'] <= 0), 'greater_md'] = 'N'\n",
    "\n",
    "kp_summary.groupby(['enough_sample_yn', 'sig_diff_yn', 'greater_md']).size()"
   ]
  },
  {
   "cell_type": "code",
   "execution_count": 5,
   "metadata": {
    "cell_id": 30
   },
   "outputs": [
    {
     "data": {
      "text/html": [
       "<div>\n",
       "<style scoped>\n",
       "    .dataframe tbody tr th:only-of-type {\n",
       "        vertical-align: middle;\n",
       "    }\n",
       "\n",
       "    .dataframe tbody tr th {\n",
       "        vertical-align: top;\n",
       "    }\n",
       "\n",
       "    .dataframe thead th {\n",
       "        text-align: right;\n",
       "    }\n",
       "</style>\n",
       "<table border=\"1\" class=\"dataframe\">\n",
       "  <thead>\n",
       "    <tr style=\"text-align: right;\">\n",
       "      <th></th>\n",
       "      <th>kp_id</th>\n",
       "      <th>kp_name</th>\n",
       "      <th>exercise_id</th>\n",
       "      <th>ac_exe_yn</th>\n",
       "      <th>difficulty</th>\n",
       "      <th>correct_user_cnt</th>\n",
       "      <th>wrong_user_cnt</th>\n",
       "      <th>master_degree_diff</th>\n",
       "      <th>min_sample</th>\n",
       "      <th>p_value</th>\n",
       "      <th>mastery_degree_gt80_perc</th>\n",
       "      <th>mastery_degree_gt80_perc_range</th>\n",
       "      <th>enough_sample_yn</th>\n",
       "      <th>sig_diff_yn</th>\n",
       "      <th>greater_md</th>\n",
       "    </tr>\n",
       "  </thead>\n",
       "  <tbody>\n",
       "    <tr>\n",
       "      <th>0</th>\n",
       "      <td>6811316253047718157</td>\n",
       "      <td>[football]</td>\n",
       "      <td>NaN</td>\n",
       "      <td>0</td>\n",
       "      <td>NaN</td>\n",
       "      <td>204</td>\n",
       "      <td>12</td>\n",
       "      <td>5.887255</td>\n",
       "      <td>12</td>\n",
       "      <td>0.235596</td>\n",
       "      <td>0.935185</td>\n",
       "      <td>H</td>\n",
       "      <td>N</td>\n",
       "      <td>N</td>\n",
       "      <td>Y</td>\n",
       "    </tr>\n",
       "    <tr>\n",
       "      <th>1</th>\n",
       "      <td>6811316299864490247</td>\n",
       "      <td>[double room]</td>\n",
       "      <td>79115.0</td>\n",
       "      <td>0</td>\n",
       "      <td>50.0</td>\n",
       "      <td>285</td>\n",
       "      <td>50</td>\n",
       "      <td>1.949825</td>\n",
       "      <td>50</td>\n",
       "      <td>0.534609</td>\n",
       "      <td>0.907463</td>\n",
       "      <td>H</td>\n",
       "      <td>Y</td>\n",
       "      <td>N</td>\n",
       "      <td>Y</td>\n",
       "    </tr>\n",
       "    <tr>\n",
       "      <th>2</th>\n",
       "      <td>6811316303370977550</td>\n",
       "      <td>[seldom]</td>\n",
       "      <td>NaN</td>\n",
       "      <td>0</td>\n",
       "      <td>NaN</td>\n",
       "      <td>196</td>\n",
       "      <td>17</td>\n",
       "      <td>12.510804</td>\n",
       "      <td>17</td>\n",
       "      <td>0.006866</td>\n",
       "      <td>0.779343</td>\n",
       "      <td>M</td>\n",
       "      <td>N</td>\n",
       "      <td>Y</td>\n",
       "      <td>Y</td>\n",
       "    </tr>\n",
       "    <tr>\n",
       "      <th>3</th>\n",
       "      <td>6811316330654908680</td>\n",
       "      <td>[start a business]</td>\n",
       "      <td>88263.0</td>\n",
       "      <td>0</td>\n",
       "      <td>50.0</td>\n",
       "      <td>231</td>\n",
       "      <td>174</td>\n",
       "      <td>1.319525</td>\n",
       "      <td>174</td>\n",
       "      <td>0.516774</td>\n",
       "      <td>0.898765</td>\n",
       "      <td>M</td>\n",
       "      <td>Y</td>\n",
       "      <td>N</td>\n",
       "      <td>Y</td>\n",
       "    </tr>\n",
       "    <tr>\n",
       "      <th>4</th>\n",
       "      <td>6811316349374087431</td>\n",
       "      <td>[pharmacy]</td>\n",
       "      <td>79113.0</td>\n",
       "      <td>0</td>\n",
       "      <td>30.0</td>\n",
       "      <td>421</td>\n",
       "      <td>26</td>\n",
       "      <td>1.346611</td>\n",
       "      <td>26</td>\n",
       "      <td>0.751771</td>\n",
       "      <td>0.894855</td>\n",
       "      <td>M</td>\n",
       "      <td>N</td>\n",
       "      <td>N</td>\n",
       "      <td>Y</td>\n",
       "    </tr>\n",
       "  </tbody>\n",
       "</table>\n",
       "</div>"
      ],
      "text/plain": [
       "                 kp_id             kp_name  exercise_id ac_exe_yn  difficulty  \\\n",
       "0  6811316253047718157          [football]          NaN         0         NaN   \n",
       "1  6811316299864490247       [double room]      79115.0         0        50.0   \n",
       "2  6811316303370977550            [seldom]          NaN         0         NaN   \n",
       "3  6811316330654908680  [start a business]      88263.0         0        50.0   \n",
       "4  6811316349374087431          [pharmacy]      79113.0         0        30.0   \n",
       "\n",
       "  correct_user_cnt wrong_user_cnt  master_degree_diff min_sample   p_value  \\\n",
       "0              204             12            5.887255         12  0.235596   \n",
       "1              285             50            1.949825         50  0.534609   \n",
       "2              196             17           12.510804         17  0.006866   \n",
       "3              231            174            1.319525        174  0.516774   \n",
       "4              421             26            1.346611         26  0.751771   \n",
       "\n",
       "   mastery_degree_gt80_perc mastery_degree_gt80_perc_range enough_sample_yn  \\\n",
       "0                  0.935185                              H                N   \n",
       "1                  0.907463                              H                Y   \n",
       "2                  0.779343                              M                N   \n",
       "3                  0.898765                              M                Y   \n",
       "4                  0.894855                              M                N   \n",
       "\n",
       "  sig_diff_yn greater_md  \n",
       "0           N          Y  \n",
       "1           N          Y  \n",
       "2           Y          Y  \n",
       "3           N          Y  \n",
       "4           N          Y  "
      ]
     },
     "execution_count": 5,
     "metadata": {},
     "output_type": "execute_result"
    }
   ],
   "source": [
    "kp_summary.head()"
   ]
  },
  {
   "cell_type": "code",
   "execution_count": 7,
   "metadata": {
    "cell_id": 31
   },
   "outputs": [
    {
     "data": {
      "text/plain": [
       "enough_sample_yn  sig_diff_yn  mastery_degree_gt80_perc_range\n",
       "N                 N            H                                 17\n",
       "                               L                                  6\n",
       "                               M                                 33\n",
       "                  Y            H                                  8\n",
       "                               L                                  3\n",
       "                               M                                 16\n",
       "Y                 N            H                                 22\n",
       "                               L                                 11\n",
       "                               M                                 51\n",
       "                  Y            H                                  7\n",
       "                               L                                 12\n",
       "                               M                                 70\n",
       "dtype: int64"
      ]
     },
     "execution_count": 7,
     "metadata": {},
     "output_type": "execute_result"
    }
   ],
   "source": [
    "kp_summary.groupby(['enough_sample_yn', 'sig_diff_yn', 'mastery_degree_gt80_perc_range']).size()"
   ]
  },
  {
   "cell_type": "code",
   "execution_count": 8,
   "metadata": {
    "cell_id": 32
   },
   "outputs": [
    {
     "data": {
      "text/plain": [
       "enough_sample_yn  sig_diff_yn  difficulty\n",
       "N                 N            10.0           8\n",
       "                               20.0          22\n",
       "                               30.0           6\n",
       "                               50.0           2\n",
       "                  Y            10.0           2\n",
       "                               20.0           3\n",
       "                               30.0           3\n",
       "                               40.0           2\n",
       "Y                 N            10.0           7\n",
       "                               20.0          45\n",
       "                               30.0          12\n",
       "                               40.0           3\n",
       "                               50.0           9\n",
       "                  Y            10.0           5\n",
       "                               20.0          38\n",
       "                               30.0          12\n",
       "                               40.0           7\n",
       "                               50.0          12\n",
       "dtype: int64"
      ]
     },
     "execution_count": 8,
     "metadata": {},
     "output_type": "execute_result"
    }
   ],
   "source": [
    "kp_summary.groupby(['enough_sample_yn', 'sig_diff_yn', 'difficulty']).size()"
   ]
  },
  {
   "cell_type": "code",
   "execution_count": 76,
   "metadata": {
    "cell_id": 33
   },
   "outputs": [
    {
     "data": {
      "text/plain": [
       "enough_sample_yn  ac_exe_yn  sig_diff_yn\n",
       "N                 0          N              54\n",
       "                             Y              26\n",
       "                  1          N               2\n",
       "                             Y               1\n",
       "Y                 0          N              75\n",
       "                             Y              81\n",
       "                  1          N               9\n",
       "                             Y               8\n",
       "dtype: int64"
      ]
     },
     "execution_count": 76,
     "metadata": {},
     "output_type": "execute_result"
    }
   ],
   "source": [
    "kp_summary.groupby(['enough_sample_yn', 'ac_exe_yn', 'sig_diff_yn']).size()"
   ]
  },
  {
   "cell_type": "code",
   "execution_count": 77,
   "metadata": {
    "cell_id": 34
   },
   "outputs": [
    {
     "data": {
      "text/html": [
       "<div>\n",
       "<style scoped>\n",
       "    .dataframe tbody tr th:only-of-type {\n",
       "        vertical-align: middle;\n",
       "    }\n",
       "\n",
       "    .dataframe tbody tr th {\n",
       "        vertical-align: top;\n",
       "    }\n",
       "\n",
       "    .dataframe thead th {\n",
       "        text-align: right;\n",
       "    }\n",
       "</style>\n",
       "<table border=\"1\" class=\"dataframe\">\n",
       "  <thead>\n",
       "    <tr style=\"text-align: right;\">\n",
       "      <th></th>\n",
       "      <th>kp_id</th>\n",
       "      <th>kp_name</th>\n",
       "      <th>ac_exe_yn</th>\n",
       "      <th>difficulty</th>\n",
       "      <th>correct_user_cnt</th>\n",
       "      <th>wrong_user_cnt</th>\n",
       "      <th>master_degree_diff</th>\n",
       "      <th>min_sample</th>\n",
       "      <th>p_value</th>\n",
       "      <th>mastery_degree_gt80_perc</th>\n",
       "      <th>enough_sample_yn</th>\n",
       "      <th>sig_diff_yn</th>\n",
       "      <th>greater_md</th>\n",
       "    </tr>\n",
       "  </thead>\n",
       "  <tbody>\n",
       "    <tr>\n",
       "      <th>0</th>\n",
       "      <td>6811316253047718157</td>\n",
       "      <td>[football]</td>\n",
       "      <td>0</td>\n",
       "      <td>NaN</td>\n",
       "      <td>204</td>\n",
       "      <td>12</td>\n",
       "      <td>5.887255</td>\n",
       "      <td>12</td>\n",
       "      <td>0.235596</td>\n",
       "      <td>H</td>\n",
       "      <td>N</td>\n",
       "      <td>N</td>\n",
       "      <td>Y</td>\n",
       "    </tr>\n",
       "    <tr>\n",
       "      <th>147</th>\n",
       "      <td>6811363154321211662</td>\n",
       "      <td>[点餐]</td>\n",
       "      <td>0</td>\n",
       "      <td>30.0</td>\n",
       "      <td>679</td>\n",
       "      <td>264</td>\n",
       "      <td>1.572555</td>\n",
       "      <td>264</td>\n",
       "      <td>0.255532</td>\n",
       "      <td>H</td>\n",
       "      <td>Y</td>\n",
       "      <td>N</td>\n",
       "      <td>Y</td>\n",
       "    </tr>\n",
       "    <tr>\n",
       "      <th>148</th>\n",
       "      <td>6839950976565150000</td>\n",
       "      <td>[set]</td>\n",
       "      <td>0</td>\n",
       "      <td>20.0</td>\n",
       "      <td>596</td>\n",
       "      <td>26</td>\n",
       "      <td>0.239804</td>\n",
       "      <td>26</td>\n",
       "      <td>0.930430</td>\n",
       "      <td>H</td>\n",
       "      <td>N</td>\n",
       "      <td>N</td>\n",
       "      <td>Y</td>\n",
       "    </tr>\n",
       "    <tr>\n",
       "      <th>150</th>\n",
       "      <td>6845216941410386183</td>\n",
       "      <td>[I'm curious whether...]</td>\n",
       "      <td>0</td>\n",
       "      <td>20.0</td>\n",
       "      <td>287</td>\n",
       "      <td>327</td>\n",
       "      <td>3.363904</td>\n",
       "      <td>287</td>\n",
       "      <td>0.047527</td>\n",
       "      <td>H</td>\n",
       "      <td>Y</td>\n",
       "      <td>Y</td>\n",
       "      <td>Y</td>\n",
       "    </tr>\n",
       "    <tr>\n",
       "      <th>151</th>\n",
       "      <td>6846165669919080711</td>\n",
       "      <td>[I wasn't expecting...]</td>\n",
       "      <td>0</td>\n",
       "      <td>20.0</td>\n",
       "      <td>255</td>\n",
       "      <td>367</td>\n",
       "      <td>2.617396</td>\n",
       "      <td>255</td>\n",
       "      <td>0.131797</td>\n",
       "      <td>H</td>\n",
       "      <td>Y</td>\n",
       "      <td>N</td>\n",
       "      <td>Y</td>\n",
       "    </tr>\n",
       "    <tr>\n",
       "      <th>...</th>\n",
       "      <td>...</td>\n",
       "      <td>...</td>\n",
       "      <td>...</td>\n",
       "      <td>...</td>\n",
       "      <td>...</td>\n",
       "      <td>...</td>\n",
       "      <td>...</td>\n",
       "      <td>...</td>\n",
       "      <td>...</td>\n",
       "      <td>...</td>\n",
       "      <td>...</td>\n",
       "      <td>...</td>\n",
       "      <td>...</td>\n",
       "    </tr>\n",
       "    <tr>\n",
       "      <th>48</th>\n",
       "      <td>6845207594047439118</td>\n",
       "      <td>[hiking]</td>\n",
       "      <td>0</td>\n",
       "      <td>10.0</td>\n",
       "      <td>427</td>\n",
       "      <td>13</td>\n",
       "      <td>-4.015673</td>\n",
       "      <td>13</td>\n",
       "      <td>0.085240</td>\n",
       "      <td>M</td>\n",
       "      <td>N</td>\n",
       "      <td>N</td>\n",
       "      <td>N</td>\n",
       "    </tr>\n",
       "    <tr>\n",
       "      <th>70</th>\n",
       "      <td>6811363134025023751</td>\n",
       "      <td>[寻求酒店服务的问答]</td>\n",
       "      <td>0</td>\n",
       "      <td>NaN</td>\n",
       "      <td>198</td>\n",
       "      <td>22</td>\n",
       "      <td>16.297980</td>\n",
       "      <td>22</td>\n",
       "      <td>0.025141</td>\n",
       "      <td>M</td>\n",
       "      <td>N</td>\n",
       "      <td>Y</td>\n",
       "      <td>Y</td>\n",
       "    </tr>\n",
       "    <tr>\n",
       "      <th>23</th>\n",
       "      <td>6849649268735656205</td>\n",
       "      <td>[regret (not) doing sth]</td>\n",
       "      <td>0</td>\n",
       "      <td>50.0</td>\n",
       "      <td>214</td>\n",
       "      <td>51</td>\n",
       "      <td>11.499175</td>\n",
       "      <td>51</td>\n",
       "      <td>0.017760</td>\n",
       "      <td>M</td>\n",
       "      <td>Y</td>\n",
       "      <td>Y</td>\n",
       "      <td>Y</td>\n",
       "    </tr>\n",
       "    <tr>\n",
       "      <th>36</th>\n",
       "      <td>6811316321175732494</td>\n",
       "      <td>[trousers]</td>\n",
       "      <td>0</td>\n",
       "      <td>20.0</td>\n",
       "      <td>452</td>\n",
       "      <td>276</td>\n",
       "      <td>4.314608</td>\n",
       "      <td>276</td>\n",
       "      <td>0.011737</td>\n",
       "      <td>M</td>\n",
       "      <td>Y</td>\n",
       "      <td>Y</td>\n",
       "      <td>Y</td>\n",
       "    </tr>\n",
       "    <tr>\n",
       "      <th>185</th>\n",
       "      <td>6811316358819676423</td>\n",
       "      <td>[June]</td>\n",
       "      <td>0</td>\n",
       "      <td>NaN</td>\n",
       "      <td>192</td>\n",
       "      <td>27</td>\n",
       "      <td>8.054977</td>\n",
       "      <td>27</td>\n",
       "      <td>0.088966</td>\n",
       "      <td>M</td>\n",
       "      <td>N</td>\n",
       "      <td>N</td>\n",
       "      <td>Y</td>\n",
       "    </tr>\n",
       "  </tbody>\n",
       "</table>\n",
       "<p>261 rows × 13 columns</p>\n",
       "</div>"
      ],
      "text/plain": [
       "                   kp_id                   kp_name ac_exe_yn  difficulty  \\\n",
       "0    6811316253047718157                [football]         0         NaN   \n",
       "147  6811363154321211662                      [点餐]         0        30.0   \n",
       "148  6839950976565150000                     [set]         0        20.0   \n",
       "150  6845216941410386183  [I'm curious whether...]         0        20.0   \n",
       "151  6846165669919080711   [I wasn't expecting...]         0        20.0   \n",
       "..                   ...                       ...       ...         ...   \n",
       "48   6845207594047439118                  [hiking]         0        10.0   \n",
       "70   6811363134025023751               [寻求酒店服务的问答]         0         NaN   \n",
       "23   6849649268735656205  [regret (not) doing sth]         0        50.0   \n",
       "36   6811316321175732494                [trousers]         0        20.0   \n",
       "185  6811316358819676423                    [June]         0         NaN   \n",
       "\n",
       "    correct_user_cnt wrong_user_cnt  master_degree_diff min_sample   p_value  \\\n",
       "0                204             12            5.887255         12  0.235596   \n",
       "147              679            264            1.572555        264  0.255532   \n",
       "148              596             26            0.239804         26  0.930430   \n",
       "150              287            327            3.363904        287  0.047527   \n",
       "151              255            367            2.617396        255  0.131797   \n",
       "..               ...            ...                 ...        ...       ...   \n",
       "48               427             13           -4.015673         13  0.085240   \n",
       "70               198             22           16.297980         22  0.025141   \n",
       "23               214             51           11.499175         51  0.017760   \n",
       "36               452            276            4.314608        276  0.011737   \n",
       "185              192             27            8.054977         27  0.088966   \n",
       "\n",
       "    mastery_degree_gt80_perc enough_sample_yn sig_diff_yn greater_md  \n",
       "0                          H                N           N          Y  \n",
       "147                        H                Y           N          Y  \n",
       "148                        H                N           N          Y  \n",
       "150                        H                Y           Y          Y  \n",
       "151                        H                Y           N          Y  \n",
       "..                       ...              ...         ...        ...  \n",
       "48                         M                N           N          N  \n",
       "70                         M                N           Y          Y  \n",
       "23                         M                Y           Y          Y  \n",
       "36                         M                Y           Y          Y  \n",
       "185                        M                N           N          Y  \n",
       "\n",
       "[261 rows x 13 columns]"
      ]
     },
     "execution_count": 77,
     "metadata": {},
     "output_type": "execute_result"
    }
   ],
   "source": [
    "kp_summary.sort_values(by=['mastery_degree_gt80_perc'])"
   ]
  },
  {
   "cell_type": "code",
   "execution_count": 10,
   "metadata": {
    "cell_id": 35
   },
   "outputs": [],
   "source": [
    "kp_summary['kp_id2'] = kp_summary['kp_id'].apply(str) + '\\t'\n",
    "kp_summary.to_csv(r'./mastery_dist.csv', encoding='utf_8_sig')"
   ]
  },
  {
   "cell_type": "code",
   "execution_count": null,
   "metadata": {
    "cell_id": 36
   },
   "outputs": [],
   "source": []
  }
 ],
 "metadata": {
  "kernelspec": {
   "display_name": "Python 3",
   "language": "python",
   "name": "python3"
  },
  "language_info": {
   "codemirror_mode": {
    "name": "ipython",
    "version": 3
   },
   "file_extension": ".py",
   "mimetype": "text/x-python",
   "name": "python",
   "nbconvert_exporter": "python",
   "pygments_lexer": "ipython3",
   "version": "3.7.12"
  },
  "max_cell_id": 39
 },
 "nbformat": 4,
 "nbformat_minor": 4
}
