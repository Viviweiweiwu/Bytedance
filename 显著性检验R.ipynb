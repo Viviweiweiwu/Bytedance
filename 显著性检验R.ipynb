{
 "cells": [
  {
   "cell_type": "code",
   "execution_count": 1,
   "metadata": {
    "cell_id": 2
   },
   "outputs": [
    {
     "data": {
      "text/plain": [
       "\n",
       "\t2-sample test for equality of proportions with continuity correction\n",
       "\n",
       "data:  c(success_a, success_b) out of c(size_a, size_b)\n",
       "X-squared = 51.733, df = 1, p-value = 6.357e-13\n",
       "alternative hypothesis: two.sided\n",
       "95 percent confidence interval:\n",
       " -0.04427706 -0.02572294\n",
       "sample estimates:\n",
       "prop 1 prop 2 \n",
       " 0.019  0.054 \n"
      ]
     },
     "metadata": {},
     "output_type": "display_data"
    }
   ],
   "source": [
    "size_a = 2869\n",
    "success_a = 0.019*size_a\n",
    "size_b = 3545\n",
    "success_b = 0.054*size_b\n",
    "prop.test(x = c(success_a, success_b), n = c(size_a, size_b))"
   ]
  },
  {
   "cell_type": "code",
   "execution_count": 5,
   "metadata": {
    "cell_id": 31
   },
   "outputs": [
    {
     "data": {
      "text/plain": [
       "\n",
       "\t2-sample test for equality of proportions with continuity correction\n",
       "\n",
       "data:  c(success_a, success_b) out of c(size_a, size_b)\n",
       "X-squared = 7.3797, df = 1, p-value = 0.006597\n",
       "alternative hypothesis: two.sided\n",
       "95 percent confidence interval:\n",
       " -0.046098712 -0.007501288\n",
       "sample estimates:\n",
       "prop 1 prop 2 \n",
       "0.1701 0.1969 \n"
      ]
     },
     "metadata": {},
     "output_type": "display_data"
    }
   ],
   "source": [
    "size_a = 2869\n",
    "success_a = 0.1701*size_a\n",
    "size_b = 3545\n",
    "success_b = 0.1969*size_b\n",
    "prop.test(x = c(success_a, success_b), n = c(size_a, size_b))"
   ]
  },
  {
   "cell_type": "code",
   "execution_count": 5,
   "metadata": {
    "cell_id": 29
   },
   "outputs": [
    {
     "data": {
      "text/plain": [
       "\n",
       "\t2-sample test for equality of proportions with continuity correction\n",
       "\n",
       "data:  c(success_a, success_b) out of c(size_a, size_b)\n",
       "X-squared = 16.196, df = 1, p-value = 5.712e-05\n",
       "alternative hypothesis: two.sided\n",
       "95 percent confidence interval:\n",
       " 0.02914744 0.08745370\n",
       "sample estimates:\n",
       "   prop 1    prop 2 \n",
       "0.9581465 0.8998459 \n"
      ]
     },
     "metadata": {},
     "output_type": "display_data"
    }
   ],
   "source": [
    "size_a = 669\n",
    "success_a = 641\n",
    "size_b = 649\n",
    "success_b = 584\n",
    "prop.test(x = c(success_a, success_b), n = c(size_a, size_b))"
   ]
  },
  {
   "cell_type": "code",
   "execution_count": 5,
   "metadata": {
    "cell_id": 1
   },
   "outputs": [
    {
     "data": {
      "text/plain": [
       "\n",
       "\t2-sample test for equality of proportions with continuity correction\n",
       "\n",
       "data:  c(success_a, success_b) out of c(size_a, size_b)\n",
       "X-squared = 106.52, df = 1, p-value < 2.2e-16\n",
       "alternative hypothesis: two.sided\n",
       "95 percent confidence interval:\n",
       " -0.04963983 -0.03376017\n",
       "sample estimates:\n",
       "prop 1 prop 2 \n",
       "0.5941 0.6358 \n"
      ]
     },
     "metadata": {},
     "output_type": "display_data"
    }
   ],
   "source": [
    "prop.test(x = c(success_a, success_b), n = c(size_a, size_b))"
   ]
  },
  {
   "cell_type": "code",
   "execution_count": 5,
   "metadata": {
    "cell_id": 27
   },
   "outputs": [
    {
     "data": {
      "text/plain": [
       "\n",
       "\t2-sample test for equality of proportions with continuity correction\n",
       "\n",
       "data:  c(success_a, success_b) out of c(size_a, size_b)\n",
       "X-squared = 0.27276, df = 1, p-value = 0.6015\n",
       "alternative hypothesis: two.sided\n",
       "95 percent confidence interval:\n",
       " -0.00322257  0.00182257\n",
       "sample estimates:\n",
       "prop 1 prop 2 \n",
       "0.0213 0.0220 \n"
      ]
     },
     "metadata": {},
     "output_type": "display_data"
    }
   ],
   "source": [
    "size_a = 26371\n",
    "success_a = 0.0213*size_a\n",
    "size_b = 26350\n",
    "success_b = 0.0220*size_b\n",
    "prop.test(x = c(success_a, success_b), n = c(size_a, size_b))"
   ]
  },
  {
   "cell_type": "code",
   "execution_count": 4,
   "metadata": {
    "cell_id": 28
   },
   "outputs": [
    {
     "data": {
      "text/plain": [
       "\n",
       "\t2-sample test for equality of proportions with continuity correction\n",
       "\n",
       "data:  c(success_a, success_b) out of c(size_a, size_b)\n",
       "X-squared = 0.40603, df = 1, p-value = 0.524\n",
       "alternative hypothesis: two.sided\n",
       "95 percent confidence interval:\n",
       " -0.002732052  0.005532052\n",
       "sample estimates:\n",
       "prop 1 prop 2 \n",
       "0.0268 0.0254 \n"
      ]
     },
     "metadata": {},
     "output_type": "display_data"
    }
   ],
   "source": [
    "size_a = 11912\n",
    "success_a = 0.0268*size_a\n",
    "size_b = 11922\n",
    "success_b = 0.0254*size_b\n",
    "prop.test(x = c(success_a, success_b), n = c(size_a, size_b))"
   ]
  },
  {
   "cell_type": "code",
   "execution_count": 4,
   "metadata": {
    "cell_id": 4
   },
   "outputs": [
    {
     "data": {
      "text/plain": [
       "\n",
       "\t2-sample test for equality of proportions with continuity correction\n",
       "\n",
       "data:  c(success_a, success_b) out of c(size_a, size_b)\n",
       "X-squared = 106.52, df = 1, p-value < 2.2e-16\n",
       "alternative hypothesis: two.sided\n",
       "95 percent confidence interval:\n",
       " -0.04963983 -0.03376017\n",
       "sample estimates:\n",
       "prop 1 prop 2 \n",
       "0.5941 0.6358 \n"
      ]
     },
     "metadata": {},
     "output_type": "display_data"
    }
   ],
   "source": [
    "size_a = 29011\n",
    "success_a = 0.5941*size_a\n",
    "size_b = 29103\n",
    "success_b = 0.6358*size_b\n",
    "prop.test(x = c(success_a, success_b), n = c(size_a, size_b))"
   ]
  },
  {
   "cell_type": "code",
   "execution_count": 6,
   "metadata": {
    "cell_id": 5
   },
   "outputs": [
    {
     "data": {
      "text/plain": [
       "\n",
       "\t2-sample test for equality of proportions with continuity correction\n",
       "\n",
       "data:  c(success_a, success_b) out of c(size_a, size_b)\n",
       "X-squared = 21.859, df = 1, p-value = 2.934e-06\n",
       "alternative hypothesis: two.sided\n",
       "95 percent confidence interval:\n",
       " 0.01124893 0.02755107\n",
       "sample estimates:\n",
       "prop 1 prop 2 \n",
       "0.5370 0.5176 \n"
      ]
     },
     "metadata": {},
     "output_type": "display_data"
    }
   ],
   "source": [
    "size_a = 29011\n",
    "success_a = 0.5370*size_a\n",
    "size_b = 29103\n",
    "success_b = 0.5176*size_b\n",
    "prop.test(x = c(success_a, success_b), n = c(size_a, size_b))"
   ]
  },
  {
   "cell_type": "code",
   "execution_count": 7,
   "metadata": {
    "cell_id": 6
   },
   "outputs": [
    {
     "data": {
      "text/plain": [
       "\n",
       "\t2-sample test for equality of proportions with continuity correction\n",
       "\n",
       "data:  c(success_a, success_b) out of c(size_a, size_b)\n",
       "X-squared = 0.47898, df = 1, p-value = 0.4889\n",
       "alternative hypothesis: two.sided\n",
       "95 percent confidence interval:\n",
       " -0.007984131  0.003784131\n",
       "sample estimates:\n",
       "prop 1 prop 2 \n",
       "0.8462 0.8483 \n"
      ]
     },
     "metadata": {},
     "output_type": "display_data"
    }
   ],
   "source": [
    "size_a = 29011\n",
    "success_a = 0.8462*size_a\n",
    "size_b = 29103\n",
    "success_b = 0.8483*size_b\n",
    "prop.test(x = c(success_a, success_b), n = c(size_a, size_b))"
   ]
  },
  {
   "cell_type": "code",
   "execution_count": 9,
   "metadata": {
    "cell_id": 7
   },
   "outputs": [
    {
     "data": {
      "text/plain": [
       "\n",
       "\t2-sample test for equality of proportions with continuity correction\n",
       "\n",
       "data:  c(success_a, success_b) out of c(size_a, size_b)\n",
       "X-squared = 1599.8, df = 1, p-value < 2.2e-16\n",
       "alternative hypothesis: two.sided\n",
       "95 percent confidence interval:\n",
       " -0.169233 -0.153567\n",
       "sample estimates:\n",
       "prop 1 prop 2 \n",
       "0.5355 0.6969 \n"
      ]
     },
     "metadata": {},
     "output_type": "display_data"
    }
   ],
   "source": [
    "size_a = 29011\n",
    "success_a = 0.5355*size_a\n",
    "size_b = 29103\n",
    "success_b = 0.6969*size_b\n",
    "prop.test(x = c(success_a, success_b), n = c(size_a, size_b))"
   ]
  },
  {
   "cell_type": "code",
   "execution_count": 10,
   "metadata": {
    "cell_id": 8
   },
   "outputs": [
    {
     "data": {
      "text/plain": [
       "\n",
       "\t2-sample test for equality of proportions with continuity correction\n",
       "\n",
       "data:  c(success_a, success_b) out of c(size_a, size_b)\n",
       "X-squared = 891.41, df = 1, p-value < 2.2e-16\n",
       "alternative hypothesis: two.sided\n",
       "95 percent confidence interval:\n",
       " 0.1155167 0.1316833\n",
       "sample estimates:\n",
       "prop 1 prop 2 \n",
       "0.5958 0.4722 \n"
      ]
     },
     "metadata": {},
     "output_type": "display_data"
    }
   ],
   "source": [
    "size_a = 29011\n",
    "success_a = 0.5958*size_a\n",
    "size_b = 29103\n",
    "success_b = 0.4722*size_b\n",
    "prop.test(x = c(success_a, success_b), n = c(size_a, size_b))"
   ]
  },
  {
   "cell_type": "code",
   "execution_count": 11,
   "metadata": {
    "cell_id": 9
   },
   "outputs": [
    {
     "data": {
      "text/plain": [
       "\n",
       "\t2-sample test for equality of proportions with continuity correction\n",
       "\n",
       "data:  c(success_a, success_b) out of c(size_a, size_b)\n",
       "X-squared = 1.1843, df = 1, p-value = 0.2765\n",
       "alternative hypothesis: two.sided\n",
       "95 percent confidence interval:\n",
       " -0.008095218  0.002295218\n",
       "sample estimates:\n",
       "prop 1 prop 2 \n",
       "0.1122 0.1151 \n"
      ]
     },
     "metadata": {},
     "output_type": "display_data"
    }
   ],
   "source": [
    "size_a = 29011\n",
    "success_a = 0.1122*size_a\n",
    "size_b = 29103\n",
    "success_b = 0.1151*size_b\n",
    "prop.test(x = c(success_a, success_b), n = c(size_a, size_b))"
   ]
  },
  {
   "cell_type": "code",
   "execution_count": 12,
   "metadata": {
    "cell_id": 10
   },
   "outputs": [
    {
     "data": {
      "text/plain": [
       "\n",
       "\t2-sample test for equality of proportions with continuity correction\n",
       "\n",
       "data:  c(success_a, success_b) out of c(size_a, size_b)\n",
       "X-squared = 2.8264, df = 1, p-value = 0.09273\n",
       "alternative hypothesis: two.sided\n",
       "95 percent confidence interval:\n",
       " -0.030937139  0.002337139\n",
       "sample estimates:\n",
       "prop 1 prop 2 \n",
       "0.2739 0.2882 \n"
      ]
     },
     "metadata": {},
     "output_type": "display_data"
    }
   ],
   "source": [
    "size_a = 5658\n",
    "success_a = 0.2739*size_a\n",
    "size_b = 5795\n",
    "success_b = 0.2882*size_b\n",
    "prop.test(x = c(success_a, success_b), n = c(size_a, size_b))"
   ]
  },
  {
   "cell_type": "code",
   "execution_count": 16,
   "metadata": {
    "cell_id": 11
   },
   "outputs": [
    {
     "data": {
      "text/plain": [
       "\n",
       "\t2-sample test for equality of proportions with continuity correction\n",
       "\n",
       "data:  c(success_a, success_b) out of c(size_a, size_b)\n",
       "X-squared = 18.013, df = 1, p-value = 2.195e-05\n",
       "alternative hypothesis: two.sided\n",
       "95 percent confidence interval:\n",
       " -0.05578005 -0.02041995\n",
       "sample estimates:\n",
       "prop 1 prop 2 \n",
       "0.6270 0.6651 \n"
      ]
     },
     "metadata": {},
     "output_type": "display_data"
    }
   ],
   "source": [
    "size_a = 5658\n",
    "success_a = 0.6270*size_a\n",
    "size_b = 5795\n",
    "success_b = 0.6651*size_b\n",
    "prop.test(x = c(success_a, success_b), n = c(size_a, size_b))"
   ]
  },
  {
   "cell_type": "code",
   "execution_count": 17,
   "metadata": {
    "cell_id": 12
   },
   "outputs": [
    {
     "data": {
      "text/plain": [
       "\n",
       "\t2-sample test for equality of proportions with continuity correction\n",
       "\n",
       "data:  c(success_a, success_b) out of c(size_a, size_b)\n",
       "X-squared = 2.5512, df = 1, p-value = 0.1102\n",
       "alternative hypothesis: two.sided\n",
       "95 percent confidence interval:\n",
       " -0.0002893661  0.0028893661\n",
       "sample estimates:\n",
       "prop 1 prop 2 \n",
       "0.0137 0.0124 \n"
      ]
     },
     "metadata": {},
     "output_type": "display_data"
    }
   ],
   "source": [
    "size_a = 40527\n",
    "success_a = 0.0137*size_a\n",
    "size_b = 40303\n",
    "success_b = 0.0124*size_b\n",
    "prop.test(x = c(success_a, success_b), n = c(size_a, size_b))"
   ]
  },
  {
   "cell_type": "code",
   "execution_count": 21,
   "metadata": {
    "cell_id": 13
   },
   "outputs": [
    {
     "data": {
      "text/plain": [
       "\n",
       "\t2-sample test for equality of proportions with continuity correction\n",
       "\n",
       "data:  c(success_a, success_b) out of c(size_a, size_b)\n",
       "X-squared = 21.708, df = 1, p-value = 3.175e-06\n",
       "alternative hypothesis: two.sided\n",
       "95 percent confidence interval:\n",
       " 0.009429768 0.023170232\n",
       "sample estimates:\n",
       "prop 1 prop 2 \n",
       "0.4496 0.4333 \n"
      ]
     },
     "metadata": {},
     "output_type": "display_data"
    }
   ],
   "source": [
    "size_a = 40527\n",
    "success_a = 0.4496*size_a\n",
    "size_b = 40303\n",
    "success_b = 0.4333*size_b\n",
    "prop.test(x = c(success_a, success_b), n = c(size_a, size_b))"
   ]
  },
  {
   "cell_type": "code",
   "execution_count": 1,
   "metadata": {
    "cell_id": 14
   },
   "outputs": [
    {
     "data": {
      "text/plain": [
       "\n",
       "\t2-sample test for equality of proportions with continuity correction\n",
       "\n",
       "data:  c(success_a, success_b) out of c(size_a, size_b)\n",
       "X-squared = 1.2262, df = 1, p-value = 0.2681\n",
       "alternative hypothesis: two.sided\n",
       "95 percent confidence interval:\n",
       " -0.0005185461  0.0021185461\n",
       "sample estimates:\n",
       "prop 1 prop 2 \n",
       "0.0039 0.0031 \n"
      ]
     },
     "metadata": {},
     "output_type": "display_data"
    }
   ],
   "source": [
    "size_a = 24806\n",
    "success_a = 0.0039*size_a\n",
    "size_b = 12128\n",
    "success_b = 0.0031*size_b\n",
    "prop.test(x = c(success_a, success_b), n = c(size_a, size_b))"
   ]
  },
  {
   "cell_type": "code",
   "execution_count": 2,
   "metadata": {
    "cell_id": 15
   },
   "outputs": [
    {
     "data": {
      "text/plain": [
       "\n",
       "\t2-sample test for equality of proportions with continuity correction\n",
       "\n",
       "data:  c(success_a, success_b) out of c(size_a, size_b)\n",
       "X-squared = 0.00094906, df = 1, p-value = 0.9754\n",
       "alternative hypothesis: two.sided\n",
       "95 percent confidence interval:\n",
       " -0.00241501  0.00261501\n",
       "sample estimates:\n",
       "prop 1 prop 2 \n",
       "0.0130 0.0129 \n"
      ]
     },
     "metadata": {},
     "output_type": "display_data"
    }
   ],
   "source": [
    "size_a = 24806\n",
    "success_a = 0.0130*size_a\n",
    "size_b = 12128\n",
    "success_b = 0.0129*size_b\n",
    "prop.test(x = c(success_a, success_b), n = c(size_a, size_b))"
   ]
  },
  {
   "cell_type": "code",
   "execution_count": 3,
   "metadata": {
    "cell_id": 16
   },
   "outputs": [
    {
     "data": {
      "text/plain": [
       "\n",
       "\t2-sample test for equality of proportions with continuity correction\n",
       "\n",
       "data:  c(success_a, success_b) out of c(size_a, size_b)\n",
       "X-squared = 52.318, df = 1, p-value = 4.719e-13\n",
       "alternative hypothesis: two.sided\n",
       "95 percent confidence interval:\n",
       " -0.01137721 -0.00602279\n",
       "sample estimates:\n",
       "prop 1 prop 2 \n",
       "0.0089 0.0176 \n"
      ]
     },
     "metadata": {},
     "output_type": "display_data"
    }
   ],
   "source": [
    "size_a = 24806\n",
    "success_a = 0.0089*size_a\n",
    "size_b = 12128\n",
    "success_b = 0.0176*size_b\n",
    "prop.test(x = c(success_a, success_b), n = c(size_a, size_b))"
   ]
  },
  {
   "cell_type": "code",
   "execution_count": 4,
   "metadata": {
    "cell_id": 17
   },
   "outputs": [
    {
     "data": {
      "text/plain": [
       "\n",
       "\t2-sample test for equality of proportions with continuity correction\n",
       "\n",
       "data:  c(success_a, success_b) out of c(size_a, size_b)\n",
       "X-squared = 1.1494, df = 1, p-value = 0.2837\n",
       "alternative hypothesis: two.sided\n",
       "95 percent confidence interval:\n",
       " -0.001431209  0.005031209\n",
       "sample estimates:\n",
       "prop 1 prop 2 \n",
       "0.0399 0.0381 \n"
      ]
     },
     "metadata": {},
     "output_type": "display_data"
    }
   ],
   "source": [
    "size_a = 48166\n",
    "success_a = 0.0399*size_a\n",
    "size_b = 19675\n",
    "success_b = 0.0381*size_b\n",
    "prop.test(x = c(success_a, success_b), n = c(size_a, size_b))"
   ]
  },
  {
   "cell_type": "code",
   "execution_count": 5,
   "metadata": {
    "cell_id": 18
   },
   "outputs": [
    {
     "data": {
      "text/plain": [
       "\n",
       "\t2-sample test for equality of proportions with continuity correction\n",
       "\n",
       "data:  c(success_a, success_b) out of c(size_a, size_b)\n",
       "X-squared = 0.0040747, df = 1, p-value = 0.9491\n",
       "alternative hypothesis: two.sided\n",
       "95 percent confidence interval:\n",
       " -0.005279458  0.004879458\n",
       "sample estimates:\n",
       "prop 1 prop 2 \n",
       "0.1030 0.1032 \n"
      ]
     },
     "metadata": {},
     "output_type": "display_data"
    }
   ],
   "source": [
    "size_a = 48166\n",
    "success_a = 0.1030*size_a\n",
    "size_b = 19675\n",
    "success_b = 0.1032*size_b\n",
    "prop.test(x = c(success_a, success_b), n = c(size_a, size_b))"
   ]
  },
  {
   "cell_type": "code",
   "execution_count": 6,
   "metadata": {
    "cell_id": 19
   },
   "outputs": [
    {
     "data": {
      "text/plain": [
       "\n",
       "\t2-sample test for equality of proportions with continuity correction\n",
       "\n",
       "data:  c(success_a, success_b) out of c(size_a, size_b)\n",
       "X-squared = 77.622, df = 1, p-value < 2.2e-16\n",
       "alternative hypothesis: two.sided\n",
       "95 percent confidence interval:\n",
       " -0.03806014 -0.02393986\n",
       "sample estimates:\n",
       "prop 1 prop 2 \n",
       "0.2127 0.2437 \n"
      ]
     },
     "metadata": {},
     "output_type": "display_data"
    }
   ],
   "source": [
    "size_a = 48166\n",
    "success_a = 0.2127*size_a\n",
    "size_b = 19675\n",
    "success_b = 0.2437*size_b\n",
    "prop.test(x = c(success_a, success_b), n = c(size_a, size_b))"
   ]
  },
  {
   "cell_type": "code",
   "execution_count": 2,
   "metadata": {
    "cell_id": 20
   },
   "outputs": [
    {
     "data": {
      "text/plain": [
       "\n",
       "\t2-sample test for equality of proportions with continuity correction\n",
       "\n",
       "data:  c(success_a, success_b) out of c(size_a, size_b)\n",
       "X-squared = 3.223, df = 1, p-value = 0.07261\n",
       "alternative hypothesis: two.sided\n",
       "95 percent confidence interval:\n",
       " -0.000189139  0.004389139\n",
       "sample estimates:\n",
       "prop 1 prop 2 \n",
       "0.0212 0.0191 \n"
      ]
     },
     "metadata": {},
     "output_type": "display_data"
    }
   ],
   "source": [
    "size_a = 29907\n",
    "success_a = 0.0212*size_a\n",
    "size_b = 29711\n",
    "success_b = 0.0191*size_b\n",
    "prop.test(x = c(success_a, success_b), n = c(size_a, size_b))"
   ]
  },
  {
   "cell_type": "code",
   "execution_count": 1,
   "metadata": {
    "cell_id": 21
   },
   "outputs": [
    {
     "data": {
      "text/plain": [
       "\n",
       "\t2-sample test for equality of proportions with continuity correction\n",
       "\n",
       "data:  c(success_a, success_b) out of c(size_a, size_b)\n",
       "X-squared = 1.9432, df = 1, p-value = 0.1633\n",
       "alternative hypothesis: two.sided\n",
       "95 percent confidence interval:\n",
       " -0.004533654  0.027533654\n",
       "sample estimates:\n",
       "prop 1 prop 2 \n",
       "0.1385 0.1270 \n"
      ]
     },
     "metadata": {},
     "output_type": "display_data"
    }
   ],
   "source": [
    "size_a = 3680\n",
    "success_a = 0.1385*size_a\n",
    "size_b = 3446\n",
    "success_b = 0.1270*size_b\n",
    "prop.test(x = c(success_a, success_b), n = c(size_a, size_b))"
   ]
  },
  {
   "cell_type": "code",
   "execution_count": 2,
   "metadata": {
    "cell_id": 22
   },
   "outputs": [
    {
     "data": {
      "text/plain": [
       "\n",
       "\t2-sample test for equality of proportions with continuity correction\n",
       "\n",
       "data:  c(success_a, success_b) out of c(size_a, size_b)\n",
       "X-squared = 0.76213, df = 1, p-value = 0.3827\n",
       "alternative hypothesis: two.sided\n",
       "95 percent confidence interval:\n",
       " -0.00804357  0.02144357\n",
       "sample estimates:\n",
       "prop 1 prop 2 \n",
       "0.1354 0.1287 \n"
      ]
     },
     "metadata": {},
     "output_type": "display_data"
    }
   ],
   "source": [
    "size_a = 4189\n",
    "success_a = 0.1354*size_a\n",
    "size_b = 4181\n",
    "success_b = 0.1287*size_b\n",
    "prop.test(x = c(success_a, success_b), n = c(size_a, size_b))"
   ]
  },
  {
   "cell_type": "code",
   "execution_count": 3,
   "metadata": {
    "cell_id": 23
   },
   "outputs": [
    {
     "data": {
      "text/plain": [
       "\n",
       "\t2-sample test for equality of proportions with continuity correction\n",
       "\n",
       "data:  c(success_a, success_b) out of c(size_a, size_b)\n",
       "X-squared = 0.029556, df = 1, p-value = 0.8635\n",
       "alternative hypothesis: two.sided\n",
       "95 percent confidence interval:\n",
       " -0.003581227  0.002981227\n",
       "sample estimates:\n",
       "prop 1 prop 2 \n",
       "0.1178 0.1181 \n"
      ]
     },
     "metadata": {},
     "output_type": "display_data"
    }
   ],
   "source": [
    "size_a = 75096\n",
    "success_a = 0.1178*size_a\n",
    "size_b = 74605\n",
    "success_b = 0.1181*size_b\n",
    "prop.test(x = c(success_a, success_b), n = c(size_a, size_b))"
   ]
  },
  {
   "cell_type": "code",
   "execution_count": 4,
   "metadata": {
    "cell_id": 24
   },
   "outputs": [
    {
     "data": {
      "text/plain": [
       "\n",
       "\t2-sample test for equality of proportions with continuity correction\n",
       "\n",
       "data:  c(success_a, success_b) out of c(size_a, size_b)\n",
       "X-squared = 11.107, df = 1, p-value = 0.0008598\n",
       "alternative hypothesis: two.sided\n",
       "95 percent confidence interval:\n",
       " -0.012233732 -0.003166268\n",
       "sample estimates:\n",
       "prop 1 prop 2 \n",
       "0.2705 0.2782 \n"
      ]
     },
     "metadata": {},
     "output_type": "display_data"
    }
   ],
   "source": [
    "size_a = 75096\n",
    "success_a = 0.2705*size_a\n",
    "size_b = 74605\n",
    "success_b = 0.2782*size_b\n",
    "prop.test(x = c(success_a, success_b), n = c(size_a, size_b))"
   ]
  },
  {
   "cell_type": "code",
   "execution_count": 5,
   "metadata": {
    "cell_id": 25
   },
   "outputs": [
    {
     "data": {
      "text/plain": [
       "\n",
       "\t2-sample test for equality of proportions with continuity correction\n",
       "\n",
       "data:  c(success_a, success_b) out of c(size_a, size_b)\n",
       "X-squared = 9.9577, df = 1, p-value = 0.001602\n",
       "alternative hypothesis: two.sided\n",
       "95 percent confidence interval:\n",
       " 0.0008666914 0.0037333086\n",
       "sample estimates:\n",
       "prop 1 prop 2 \n",
       "0.0212 0.0189 \n"
      ]
     },
     "metadata": {},
     "output_type": "display_data"
    }
   ],
   "source": [
    "size_a = 75096\n",
    "success_a = 0.0212*size_a\n",
    "size_b = 74605\n",
    "success_b = 0.0189*size_b\n",
    "prop.test(x = c(success_a, success_b), n = c(size_a, size_b))"
   ]
  },
  {
   "cell_type": "code",
   "execution_count": 5,
   "metadata": {
    "cell_id": 26
   },
   "outputs": [
    {
     "data": {
      "text/html": [
       "18"
      ],
      "text/latex": [
       "18"
      ],
      "text/markdown": [
       "18"
      ],
      "text/plain": [
       "[1] 18"
      ]
     },
     "metadata": {},
     "output_type": "display_data"
    }
   ],
   "source": [
    "100404/5578"
   ]
  },
  {
   "cell_type": "code",
   "execution_count": null,
   "metadata": {
    "cell_id": 30
   },
   "outputs": [],
   "source": []
  }
 ],
 "metadata": {
  "kernelspec": {
   "display_name": "R",
   "language": "R",
   "name": "ir"
  },
  "language_info": {
   "codemirror_mode": "r",
   "file_extension": ".r",
   "mimetype": "text/x-r-source",
   "name": "R",
   "pygments_lexer": "r",
   "version": "4.0.3"
  },
  "max_cell_id": 32
 },
 "nbformat": 4,
 "nbformat_minor": 4
}
