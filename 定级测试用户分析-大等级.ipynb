{
 "cells": [
  {
   "cell_type": "code",
   "execution_count": 3,
   "metadata": {
    "cell_id": 1
   },
   "outputs": [],
   "source": [
    "from pytqs import tqs\n",
    "import pandas as pd\n",
    "import numpy as np\n",
    "import matplotlib.pyplot as plt\n",
    "from scipy import stats\n",
    "from matplotlib.ticker import PercentFormatter\n",
    "from sklearn import neighbors\n",
    "from sklearn.metrics import precision_recall_curve\n",
    "from sklearn.metrics import classification_report\n",
    "from sklearn.model_selection import train_test_split\n",
    "from sklearn import metrics\n",
    "import time\n",
    "from sklearn.linear_model import LogisticRegression\n",
    "import operator\n",
    "import math\n",
    "import pickle"
   ]
  },
  {
   "cell_type": "markdown",
   "metadata": {
    "cell_id": 17
   },
   "source": [
    "# 聚类"
   ]
  },
  {
   "cell_type": "markdown",
   "metadata": {
    "cell_id": 18
   },
   "source": [
    "已完成测试的用户"
   ]
  },
  {
   "cell_type": "code",
   "execution_count": 4,
   "metadata": {
    "cell_id": 19
   },
   "outputs": [
    {
     "data": {
      "text/html": [
       "<div>\n",
       "<style scoped>\n",
       "    .dataframe tbody tr th:only-of-type {\n",
       "        vertical-align: middle;\n",
       "    }\n",
       "\n",
       "    .dataframe tbody tr th {\n",
       "        vertical-align: top;\n",
       "    }\n",
       "\n",
       "    .dataframe thead th {\n",
       "        text-align: right;\n",
       "    }\n",
       "</style>\n",
       "<table border=\"1\" class=\"dataframe\">\n",
       "  <thead>\n",
       "    <tr style=\"text-align: right;\">\n",
       "      <th></th>\n",
       "      <th>user_id</th>\n",
       "      <th>finished</th>\n",
       "      <th>milestone_id</th>\n",
       "      <th>ttl_exe</th>\n",
       "      <th>A0_V_correct_rate</th>\n",
       "      <th>A1_V_correct_rate</th>\n",
       "      <th>A2_V_correct_rate</th>\n",
       "      <th>B1_V_correct_rate</th>\n",
       "      <th>B2_V_correct_rate</th>\n",
       "      <th>C1_V_correct_rate</th>\n",
       "      <th>...</th>\n",
       "      <th>B2_G_correct_rate</th>\n",
       "      <th>C1_G_correct_rate</th>\n",
       "      <th>C2_G_correct_rate</th>\n",
       "      <th>A0_L_correct_rate</th>\n",
       "      <th>A1_L_correct_rate</th>\n",
       "      <th>A2_L_correct_rate</th>\n",
       "      <th>B1_L_correct_rate</th>\n",
       "      <th>B2_L_correct_rate</th>\n",
       "      <th>C1_L_correct_rate</th>\n",
       "      <th>C2_L_correct_rate</th>\n",
       "    </tr>\n",
       "  </thead>\n",
       "  <tbody>\n",
       "    <tr>\n",
       "      <th>0</th>\n",
       "      <td>6.153319e+14</td>\n",
       "      <td>1.0</td>\n",
       "      <td>21030.0</td>\n",
       "      <td>22</td>\n",
       "      <td>NaN</td>\n",
       "      <td>NaN</td>\n",
       "      <td>NaN</td>\n",
       "      <td>NaN</td>\n",
       "      <td>0.0000</td>\n",
       "      <td>NaN</td>\n",
       "      <td>...</td>\n",
       "      <td>NaN</td>\n",
       "      <td>NaN</td>\n",
       "      <td>NaN</td>\n",
       "      <td>NaN</td>\n",
       "      <td>NaN</td>\n",
       "      <td>NaN</td>\n",
       "      <td>NaN</td>\n",
       "      <td>NaN</td>\n",
       "      <td>NaN</td>\n",
       "      <td>NaN</td>\n",
       "    </tr>\n",
       "    <tr>\n",
       "      <th>1</th>\n",
       "      <td>1.160730e+15</td>\n",
       "      <td>1.0</td>\n",
       "      <td>22010.0</td>\n",
       "      <td>26</td>\n",
       "      <td>NaN</td>\n",
       "      <td>1.0</td>\n",
       "      <td>1.0000</td>\n",
       "      <td>1.0</td>\n",
       "      <td>0.3333</td>\n",
       "      <td>0.0</td>\n",
       "      <td>...</td>\n",
       "      <td>0.3333</td>\n",
       "      <td>NaN</td>\n",
       "      <td>NaN</td>\n",
       "      <td>0.6667</td>\n",
       "      <td>0.3333</td>\n",
       "      <td>0.0</td>\n",
       "      <td>0.0</td>\n",
       "      <td>NaN</td>\n",
       "      <td>NaN</td>\n",
       "      <td>NaN</td>\n",
       "    </tr>\n",
       "    <tr>\n",
       "      <th>2</th>\n",
       "      <td>1.684042e+15</td>\n",
       "      <td>1.0</td>\n",
       "      <td>21030.0</td>\n",
       "      <td>19</td>\n",
       "      <td>1.0</td>\n",
       "      <td>NaN</td>\n",
       "      <td>NaN</td>\n",
       "      <td>NaN</td>\n",
       "      <td>NaN</td>\n",
       "      <td>NaN</td>\n",
       "      <td>...</td>\n",
       "      <td>NaN</td>\n",
       "      <td>NaN</td>\n",
       "      <td>NaN</td>\n",
       "      <td>1.0000</td>\n",
       "      <td>NaN</td>\n",
       "      <td>NaN</td>\n",
       "      <td>NaN</td>\n",
       "      <td>NaN</td>\n",
       "      <td>NaN</td>\n",
       "      <td>NaN</td>\n",
       "    </tr>\n",
       "    <tr>\n",
       "      <th>3</th>\n",
       "      <td>4.111808e+15</td>\n",
       "      <td>1.0</td>\n",
       "      <td>21010.0</td>\n",
       "      <td>20</td>\n",
       "      <td>NaN</td>\n",
       "      <td>1.0</td>\n",
       "      <td>0.3333</td>\n",
       "      <td>0.0</td>\n",
       "      <td>NaN</td>\n",
       "      <td>NaN</td>\n",
       "      <td>...</td>\n",
       "      <td>NaN</td>\n",
       "      <td>NaN</td>\n",
       "      <td>NaN</td>\n",
       "      <td>1.0000</td>\n",
       "      <td>0.0000</td>\n",
       "      <td>NaN</td>\n",
       "      <td>NaN</td>\n",
       "      <td>NaN</td>\n",
       "      <td>NaN</td>\n",
       "      <td>NaN</td>\n",
       "    </tr>\n",
       "    <tr>\n",
       "      <th>4</th>\n",
       "      <td>3.430103e+15</td>\n",
       "      <td>0.0</td>\n",
       "      <td>0.0</td>\n",
       "      <td>6</td>\n",
       "      <td>0.0</td>\n",
       "      <td>NaN</td>\n",
       "      <td>NaN</td>\n",
       "      <td>NaN</td>\n",
       "      <td>NaN</td>\n",
       "      <td>NaN</td>\n",
       "      <td>...</td>\n",
       "      <td>NaN</td>\n",
       "      <td>NaN</td>\n",
       "      <td>NaN</td>\n",
       "      <td>0.0000</td>\n",
       "      <td>NaN</td>\n",
       "      <td>NaN</td>\n",
       "      <td>NaN</td>\n",
       "      <td>NaN</td>\n",
       "      <td>NaN</td>\n",
       "      <td>NaN</td>\n",
       "    </tr>\n",
       "  </tbody>\n",
       "</table>\n",
       "<p>5 rows × 25 columns</p>\n",
       "</div>"
      ],
      "text/plain": [
       "        user_id  finished  milestone_id  ttl_exe  A0_V_correct_rate  \\\n",
       "0  6.153319e+14       1.0       21030.0       22                NaN   \n",
       "1  1.160730e+15       1.0       22010.0       26                NaN   \n",
       "2  1.684042e+15       1.0       21030.0       19                1.0   \n",
       "3  4.111808e+15       1.0       21010.0       20                NaN   \n",
       "4  3.430103e+15       0.0           0.0        6                0.0   \n",
       "\n",
       "   A1_V_correct_rate  A2_V_correct_rate  B1_V_correct_rate  B2_V_correct_rate  \\\n",
       "0                NaN                NaN                NaN             0.0000   \n",
       "1                1.0             1.0000                1.0             0.3333   \n",
       "2                NaN                NaN                NaN                NaN   \n",
       "3                1.0             0.3333                0.0                NaN   \n",
       "4                NaN                NaN                NaN                NaN   \n",
       "\n",
       "   C1_V_correct_rate  ...  B2_G_correct_rate  C1_G_correct_rate  \\\n",
       "0                NaN  ...                NaN                NaN   \n",
       "1                0.0  ...             0.3333                NaN   \n",
       "2                NaN  ...                NaN                NaN   \n",
       "3                NaN  ...                NaN                NaN   \n",
       "4                NaN  ...                NaN                NaN   \n",
       "\n",
       "   C2_G_correct_rate  A0_L_correct_rate  A1_L_correct_rate  A2_L_correct_rate  \\\n",
       "0                NaN                NaN                NaN                NaN   \n",
       "1                NaN             0.6667             0.3333                0.0   \n",
       "2                NaN             1.0000                NaN                NaN   \n",
       "3                NaN             1.0000             0.0000                NaN   \n",
       "4                NaN             0.0000                NaN                NaN   \n",
       "\n",
       "   B1_L_correct_rate  B2_L_correct_rate  C1_L_correct_rate  C2_L_correct_rate  \n",
       "0                NaN                NaN                NaN                NaN  \n",
       "1                0.0                NaN                NaN                NaN  \n",
       "2                NaN                NaN                NaN                NaN  \n",
       "3                NaN                NaN                NaN                NaN  \n",
       "4                NaN                NaN                NaN                NaN  \n",
       "\n",
       "[5 rows x 25 columns]"
      ]
     },
     "execution_count": 4,
     "metadata": {},
     "output_type": "execute_result"
    }
   ],
   "source": [
    "model_data = pd.read_csv('/home/tiger/archived-data/aeolus-data/20201222/15/34665529-定级测试信息利用-编辑框5-查询1.csv', encoding = 'gb18030')\n",
    "# model_data.iloc[:, 1] = model_data.iloc[:, 1].fillna('unfilled')\n",
    "model_data.head()"
   ]
  },
  {
   "cell_type": "code",
   "execution_count": 5,
   "metadata": {
    "cell_id": 97
   },
   "outputs": [
    {
     "data": {
      "text/plain": [
       "401639"
      ]
     },
     "execution_count": 5,
     "metadata": {},
     "output_type": "execute_result"
    }
   ],
   "source": [
    "len(model_data)"
   ]
  },
  {
   "cell_type": "code",
   "execution_count": 6,
   "metadata": {
    "cell_id": 95
   },
   "outputs": [
    {
     "data": {
      "text/html": [
       "<div>\n",
       "<style scoped>\n",
       "    .dataframe tbody tr th:only-of-type {\n",
       "        vertical-align: middle;\n",
       "    }\n",
       "\n",
       "    .dataframe tbody tr th {\n",
       "        vertical-align: top;\n",
       "    }\n",
       "\n",
       "    .dataframe thead th {\n",
       "        text-align: right;\n",
       "    }\n",
       "</style>\n",
       "<table border=\"1\" class=\"dataframe\">\n",
       "  <thead>\n",
       "    <tr style=\"text-align: right;\">\n",
       "      <th></th>\n",
       "      <th>user_id</th>\n",
       "      <th>finished</th>\n",
       "      <th>milestone_id</th>\n",
       "      <th>ttl_exe</th>\n",
       "      <th>A0_V_correct_rate</th>\n",
       "      <th>A1_V_correct_rate</th>\n",
       "      <th>A2_V_correct_rate</th>\n",
       "      <th>B1_V_correct_rate</th>\n",
       "      <th>B2_V_correct_rate</th>\n",
       "      <th>C1_V_correct_rate</th>\n",
       "      <th>...</th>\n",
       "      <th>B2_G_correct_rate</th>\n",
       "      <th>C1_G_correct_rate</th>\n",
       "      <th>C2_G_correct_rate</th>\n",
       "      <th>A0_L_correct_rate</th>\n",
       "      <th>A1_L_correct_rate</th>\n",
       "      <th>A2_L_correct_rate</th>\n",
       "      <th>B1_L_correct_rate</th>\n",
       "      <th>B2_L_correct_rate</th>\n",
       "      <th>C1_L_correct_rate</th>\n",
       "      <th>C2_L_correct_rate</th>\n",
       "    </tr>\n",
       "  </thead>\n",
       "  <tbody>\n",
       "    <tr>\n",
       "      <th>0</th>\n",
       "      <td>6.153319e+14</td>\n",
       "      <td>1.0</td>\n",
       "      <td>21030.0</td>\n",
       "      <td>22</td>\n",
       "      <td>NaN</td>\n",
       "      <td>NaN</td>\n",
       "      <td>NaN</td>\n",
       "      <td>NaN</td>\n",
       "      <td>0.0000</td>\n",
       "      <td>NaN</td>\n",
       "      <td>...</td>\n",
       "      <td>NaN</td>\n",
       "      <td>NaN</td>\n",
       "      <td>NaN</td>\n",
       "      <td>NaN</td>\n",
       "      <td>NaN</td>\n",
       "      <td>NaN</td>\n",
       "      <td>NaN</td>\n",
       "      <td>NaN</td>\n",
       "      <td>NaN</td>\n",
       "      <td>NaN</td>\n",
       "    </tr>\n",
       "    <tr>\n",
       "      <th>1</th>\n",
       "      <td>1.160730e+15</td>\n",
       "      <td>1.0</td>\n",
       "      <td>22010.0</td>\n",
       "      <td>26</td>\n",
       "      <td>NaN</td>\n",
       "      <td>1.0</td>\n",
       "      <td>1.0000</td>\n",
       "      <td>1.0</td>\n",
       "      <td>0.3333</td>\n",
       "      <td>0.0</td>\n",
       "      <td>...</td>\n",
       "      <td>0.3333</td>\n",
       "      <td>NaN</td>\n",
       "      <td>NaN</td>\n",
       "      <td>0.6667</td>\n",
       "      <td>0.3333</td>\n",
       "      <td>0.0</td>\n",
       "      <td>0.0</td>\n",
       "      <td>NaN</td>\n",
       "      <td>NaN</td>\n",
       "      <td>NaN</td>\n",
       "    </tr>\n",
       "    <tr>\n",
       "      <th>2</th>\n",
       "      <td>1.684042e+15</td>\n",
       "      <td>1.0</td>\n",
       "      <td>21030.0</td>\n",
       "      <td>19</td>\n",
       "      <td>1.0</td>\n",
       "      <td>NaN</td>\n",
       "      <td>NaN</td>\n",
       "      <td>NaN</td>\n",
       "      <td>NaN</td>\n",
       "      <td>NaN</td>\n",
       "      <td>...</td>\n",
       "      <td>NaN</td>\n",
       "      <td>NaN</td>\n",
       "      <td>NaN</td>\n",
       "      <td>1.0000</td>\n",
       "      <td>NaN</td>\n",
       "      <td>NaN</td>\n",
       "      <td>NaN</td>\n",
       "      <td>NaN</td>\n",
       "      <td>NaN</td>\n",
       "      <td>NaN</td>\n",
       "    </tr>\n",
       "    <tr>\n",
       "      <th>3</th>\n",
       "      <td>4.111808e+15</td>\n",
       "      <td>1.0</td>\n",
       "      <td>21010.0</td>\n",
       "      <td>20</td>\n",
       "      <td>NaN</td>\n",
       "      <td>1.0</td>\n",
       "      <td>0.3333</td>\n",
       "      <td>0.0</td>\n",
       "      <td>NaN</td>\n",
       "      <td>NaN</td>\n",
       "      <td>...</td>\n",
       "      <td>NaN</td>\n",
       "      <td>NaN</td>\n",
       "      <td>NaN</td>\n",
       "      <td>1.0000</td>\n",
       "      <td>0.0000</td>\n",
       "      <td>NaN</td>\n",
       "      <td>NaN</td>\n",
       "      <td>NaN</td>\n",
       "      <td>NaN</td>\n",
       "      <td>NaN</td>\n",
       "    </tr>\n",
       "    <tr>\n",
       "      <th>4</th>\n",
       "      <td>3.430103e+15</td>\n",
       "      <td>0.0</td>\n",
       "      <td>0.0</td>\n",
       "      <td>6</td>\n",
       "      <td>0.0</td>\n",
       "      <td>NaN</td>\n",
       "      <td>NaN</td>\n",
       "      <td>NaN</td>\n",
       "      <td>NaN</td>\n",
       "      <td>NaN</td>\n",
       "      <td>...</td>\n",
       "      <td>NaN</td>\n",
       "      <td>NaN</td>\n",
       "      <td>NaN</td>\n",
       "      <td>0.0000</td>\n",
       "      <td>NaN</td>\n",
       "      <td>NaN</td>\n",
       "      <td>NaN</td>\n",
       "      <td>NaN</td>\n",
       "      <td>NaN</td>\n",
       "      <td>NaN</td>\n",
       "    </tr>\n",
       "  </tbody>\n",
       "</table>\n",
       "<p>5 rows × 25 columns</p>\n",
       "</div>"
      ],
      "text/plain": [
       "        user_id  finished  milestone_id  ttl_exe  A0_V_correct_rate  \\\n",
       "0  6.153319e+14       1.0       21030.0       22                NaN   \n",
       "1  1.160730e+15       1.0       22010.0       26                NaN   \n",
       "2  1.684042e+15       1.0       21030.0       19                1.0   \n",
       "3  4.111808e+15       1.0       21010.0       20                NaN   \n",
       "4  3.430103e+15       0.0           0.0        6                0.0   \n",
       "\n",
       "   A1_V_correct_rate  A2_V_correct_rate  B1_V_correct_rate  B2_V_correct_rate  \\\n",
       "0                NaN                NaN                NaN             0.0000   \n",
       "1                1.0             1.0000                1.0             0.3333   \n",
       "2                NaN                NaN                NaN                NaN   \n",
       "3                1.0             0.3333                0.0                NaN   \n",
       "4                NaN                NaN                NaN                NaN   \n",
       "\n",
       "   C1_V_correct_rate  ...  B2_G_correct_rate  C1_G_correct_rate  \\\n",
       "0                NaN  ...                NaN                NaN   \n",
       "1                0.0  ...             0.3333                NaN   \n",
       "2                NaN  ...                NaN                NaN   \n",
       "3                NaN  ...                NaN                NaN   \n",
       "4                NaN  ...                NaN                NaN   \n",
       "\n",
       "   C2_G_correct_rate  A0_L_correct_rate  A1_L_correct_rate  A2_L_correct_rate  \\\n",
       "0                NaN                NaN                NaN                NaN   \n",
       "1                NaN             0.6667             0.3333                0.0   \n",
       "2                NaN             1.0000                NaN                NaN   \n",
       "3                NaN             1.0000             0.0000                NaN   \n",
       "4                NaN             0.0000                NaN                NaN   \n",
       "\n",
       "   B1_L_correct_rate  B2_L_correct_rate  C1_L_correct_rate  C2_L_correct_rate  \n",
       "0                NaN                NaN                NaN                NaN  \n",
       "1                0.0                NaN                NaN                NaN  \n",
       "2                NaN                NaN                NaN                NaN  \n",
       "3                NaN                NaN                NaN                NaN  \n",
       "4                NaN                NaN                NaN                NaN  \n",
       "\n",
       "[5 rows x 25 columns]"
      ]
     },
     "execution_count": 6,
     "metadata": {},
     "output_type": "execute_result"
    }
   ],
   "source": [
    "# dummy = pd.get_dummies(model_data['edu'])\n",
    "# dummy.head()\n",
    "model_data.head()"
   ]
  },
  {
   "cell_type": "code",
   "execution_count": 7,
   "metadata": {
    "cell_id": 96
   },
   "outputs": [
    {
     "data": {
      "text/plain": [
       "Index(['user_id', 'finished', 'milestone_id', 'ttl_exe', 'A0_V_correct_rate',\n",
       "       'A1_V_correct_rate', 'A2_V_correct_rate', 'B1_V_correct_rate',\n",
       "       'B2_V_correct_rate', 'C1_V_correct_rate', 'C2_V_correct_rate',\n",
       "       'A0_G_correct_rate', 'A1_G_correct_rate', 'A2_G_correct_rate',\n",
       "       'B1_G_correct_rate', 'B2_G_correct_rate', 'C1_G_correct_rate',\n",
       "       'C2_G_correct_rate', 'A0_L_correct_rate', 'A1_L_correct_rate',\n",
       "       'A2_L_correct_rate', 'B1_L_correct_rate', 'B2_L_correct_rate',\n",
       "       'C1_L_correct_rate', 'C2_L_correct_rate'],\n",
       "      dtype='object')"
      ]
     },
     "execution_count": 7,
     "metadata": {},
     "output_type": "execute_result"
    }
   ],
   "source": [
    "# new_data = pd.concat([model_data, dummy], axis = 1)\n",
    "new_data = model_data\n",
    "new_data.columns"
   ]
  },
  {
   "cell_type": "code",
   "execution_count": 8,
   "metadata": {
    "cell_id": 20
   },
   "outputs": [
    {
     "name": "stderr",
     "output_type": "stream",
     "text": [
      "/opt/conda/lib/python3.7/site-packages/pandas/core/indexing.py:1717: SettingWithCopyWarning: \n",
      "A value is trying to be set on a copy of a slice from a DataFrame.\n",
      "Try using .loc[row_indexer,col_indexer] = value instead\n",
      "\n",
      "See the caveats in the documentation: https://pandas.pydata.org/pandas-docs/stable/user_guide/indexing.html#returning-a-view-versus-a-copy\n",
      "  isetter(loc, v)\n"
     ]
    },
    {
     "data": {
      "text/html": [
       "<div>\n",
       "<style scoped>\n",
       "    .dataframe tbody tr th:only-of-type {\n",
       "        vertical-align: middle;\n",
       "    }\n",
       "\n",
       "    .dataframe tbody tr th {\n",
       "        vertical-align: top;\n",
       "    }\n",
       "\n",
       "    .dataframe thead th {\n",
       "        text-align: right;\n",
       "    }\n",
       "</style>\n",
       "<table border=\"1\" class=\"dataframe\">\n",
       "  <thead>\n",
       "    <tr style=\"text-align: right;\">\n",
       "      <th></th>\n",
       "      <th>A0_V_correct_rate</th>\n",
       "      <th>A1_V_correct_rate</th>\n",
       "      <th>A2_V_correct_rate</th>\n",
       "      <th>B1_V_correct_rate</th>\n",
       "      <th>B2_V_correct_rate</th>\n",
       "      <th>C1_V_correct_rate</th>\n",
       "      <th>C2_V_correct_rate</th>\n",
       "      <th>A0_G_correct_rate</th>\n",
       "      <th>A1_G_correct_rate</th>\n",
       "      <th>A2_G_correct_rate</th>\n",
       "      <th>...</th>\n",
       "      <th>B2_G_correct_rate</th>\n",
       "      <th>C1_G_correct_rate</th>\n",
       "      <th>C2_G_correct_rate</th>\n",
       "      <th>A0_L_correct_rate</th>\n",
       "      <th>A1_L_correct_rate</th>\n",
       "      <th>A2_L_correct_rate</th>\n",
       "      <th>B1_L_correct_rate</th>\n",
       "      <th>B2_L_correct_rate</th>\n",
       "      <th>C1_L_correct_rate</th>\n",
       "      <th>C2_L_correct_rate</th>\n",
       "    </tr>\n",
       "  </thead>\n",
       "  <tbody>\n",
       "    <tr>\n",
       "      <th>0</th>\n",
       "      <td>-1.0</td>\n",
       "      <td>-1.0</td>\n",
       "      <td>-1.0000</td>\n",
       "      <td>-1.0</td>\n",
       "      <td>0.0000</td>\n",
       "      <td>-1.0</td>\n",
       "      <td>-1.0</td>\n",
       "      <td>-1.0</td>\n",
       "      <td>-1.0000</td>\n",
       "      <td>-1.0000</td>\n",
       "      <td>...</td>\n",
       "      <td>-1.0000</td>\n",
       "      <td>-1.0</td>\n",
       "      <td>-1.0</td>\n",
       "      <td>-1.0000</td>\n",
       "      <td>-1.0000</td>\n",
       "      <td>-1.0</td>\n",
       "      <td>-1.0</td>\n",
       "      <td>-1.0</td>\n",
       "      <td>-1.0</td>\n",
       "      <td>-1.0</td>\n",
       "    </tr>\n",
       "    <tr>\n",
       "      <th>1</th>\n",
       "      <td>-1.0</td>\n",
       "      <td>1.0</td>\n",
       "      <td>1.0000</td>\n",
       "      <td>1.0</td>\n",
       "      <td>0.3333</td>\n",
       "      <td>0.0</td>\n",
       "      <td>-1.0</td>\n",
       "      <td>-1.0</td>\n",
       "      <td>-1.0000</td>\n",
       "      <td>1.0000</td>\n",
       "      <td>...</td>\n",
       "      <td>0.3333</td>\n",
       "      <td>-1.0</td>\n",
       "      <td>-1.0</td>\n",
       "      <td>0.6667</td>\n",
       "      <td>0.3333</td>\n",
       "      <td>0.0</td>\n",
       "      <td>0.0</td>\n",
       "      <td>-1.0</td>\n",
       "      <td>-1.0</td>\n",
       "      <td>-1.0</td>\n",
       "    </tr>\n",
       "    <tr>\n",
       "      <th>2</th>\n",
       "      <td>1.0</td>\n",
       "      <td>-1.0</td>\n",
       "      <td>-1.0000</td>\n",
       "      <td>-1.0</td>\n",
       "      <td>-1.0000</td>\n",
       "      <td>-1.0</td>\n",
       "      <td>-1.0</td>\n",
       "      <td>-1.0</td>\n",
       "      <td>-1.0000</td>\n",
       "      <td>-1.0000</td>\n",
       "      <td>...</td>\n",
       "      <td>-1.0000</td>\n",
       "      <td>-1.0</td>\n",
       "      <td>-1.0</td>\n",
       "      <td>1.0000</td>\n",
       "      <td>-1.0000</td>\n",
       "      <td>-1.0</td>\n",
       "      <td>-1.0</td>\n",
       "      <td>-1.0</td>\n",
       "      <td>-1.0</td>\n",
       "      <td>-1.0</td>\n",
       "    </tr>\n",
       "    <tr>\n",
       "      <th>3</th>\n",
       "      <td>-1.0</td>\n",
       "      <td>1.0</td>\n",
       "      <td>0.3333</td>\n",
       "      <td>0.0</td>\n",
       "      <td>-1.0000</td>\n",
       "      <td>-1.0</td>\n",
       "      <td>-1.0</td>\n",
       "      <td>-1.0</td>\n",
       "      <td>0.6667</td>\n",
       "      <td>0.6667</td>\n",
       "      <td>...</td>\n",
       "      <td>-1.0000</td>\n",
       "      <td>-1.0</td>\n",
       "      <td>-1.0</td>\n",
       "      <td>1.0000</td>\n",
       "      <td>0.0000</td>\n",
       "      <td>-1.0</td>\n",
       "      <td>-1.0</td>\n",
       "      <td>-1.0</td>\n",
       "      <td>-1.0</td>\n",
       "      <td>-1.0</td>\n",
       "    </tr>\n",
       "    <tr>\n",
       "      <th>6</th>\n",
       "      <td>1.0</td>\n",
       "      <td>-1.0</td>\n",
       "      <td>-1.0000</td>\n",
       "      <td>-1.0</td>\n",
       "      <td>-1.0000</td>\n",
       "      <td>-1.0</td>\n",
       "      <td>-1.0</td>\n",
       "      <td>-1.0</td>\n",
       "      <td>-1.0000</td>\n",
       "      <td>-1.0000</td>\n",
       "      <td>...</td>\n",
       "      <td>-1.0000</td>\n",
       "      <td>-1.0</td>\n",
       "      <td>-1.0</td>\n",
       "      <td>0.5000</td>\n",
       "      <td>-1.0000</td>\n",
       "      <td>-1.0</td>\n",
       "      <td>-1.0</td>\n",
       "      <td>-1.0</td>\n",
       "      <td>-1.0</td>\n",
       "      <td>-1.0</td>\n",
       "    </tr>\n",
       "  </tbody>\n",
       "</table>\n",
       "<p>5 rows × 21 columns</p>\n",
       "</div>"
      ],
      "text/plain": [
       "   A0_V_correct_rate  A1_V_correct_rate  A2_V_correct_rate  B1_V_correct_rate  \\\n",
       "0               -1.0               -1.0            -1.0000               -1.0   \n",
       "1               -1.0                1.0             1.0000                1.0   \n",
       "2                1.0               -1.0            -1.0000               -1.0   \n",
       "3               -1.0                1.0             0.3333                0.0   \n",
       "6                1.0               -1.0            -1.0000               -1.0   \n",
       "\n",
       "   B2_V_correct_rate  C1_V_correct_rate  C2_V_correct_rate  A0_G_correct_rate  \\\n",
       "0             0.0000               -1.0               -1.0               -1.0   \n",
       "1             0.3333                0.0               -1.0               -1.0   \n",
       "2            -1.0000               -1.0               -1.0               -1.0   \n",
       "3            -1.0000               -1.0               -1.0               -1.0   \n",
       "6            -1.0000               -1.0               -1.0               -1.0   \n",
       "\n",
       "   A1_G_correct_rate  A2_G_correct_rate  ...  B2_G_correct_rate  \\\n",
       "0            -1.0000            -1.0000  ...            -1.0000   \n",
       "1            -1.0000             1.0000  ...             0.3333   \n",
       "2            -1.0000            -1.0000  ...            -1.0000   \n",
       "3             0.6667             0.6667  ...            -1.0000   \n",
       "6            -1.0000            -1.0000  ...            -1.0000   \n",
       "\n",
       "   C1_G_correct_rate  C2_G_correct_rate  A0_L_correct_rate  A1_L_correct_rate  \\\n",
       "0               -1.0               -1.0            -1.0000            -1.0000   \n",
       "1               -1.0               -1.0             0.6667             0.3333   \n",
       "2               -1.0               -1.0             1.0000            -1.0000   \n",
       "3               -1.0               -1.0             1.0000             0.0000   \n",
       "6               -1.0               -1.0             0.5000            -1.0000   \n",
       "\n",
       "   A2_L_correct_rate  B1_L_correct_rate  B2_L_correct_rate  C1_L_correct_rate  \\\n",
       "0               -1.0               -1.0               -1.0               -1.0   \n",
       "1                0.0                0.0               -1.0               -1.0   \n",
       "2               -1.0               -1.0               -1.0               -1.0   \n",
       "3               -1.0               -1.0               -1.0               -1.0   \n",
       "6               -1.0               -1.0               -1.0               -1.0   \n",
       "\n",
       "   C2_L_correct_rate  \n",
       "0               -1.0  \n",
       "1               -1.0  \n",
       "2               -1.0  \n",
       "3               -1.0  \n",
       "6               -1.0  \n",
       "\n",
       "[5 rows x 21 columns]"
      ]
     },
     "execution_count": 8,
     "metadata": {},
     "output_type": "execute_result"
    }
   ],
   "source": [
    "f_data = new_data[new_data.finished == 1.0]\n",
    "\n",
    "f_data.iloc[:, np.r_[4:25]] = f_data.iloc[:, np.r_[4:25]].fillna(-1)\n",
    "f_data.iloc[:, np.r_[4:25]].head()"
   ]
  },
  {
   "cell_type": "code",
   "execution_count": 38,
   "metadata": {
    "cell_id": 150
   },
   "outputs": [
    {
     "data": {
      "text/plain": [
       "milestone_id\n",
       "21010.0    119605\n",
       "21020.0     34129\n",
       "21030.0     23080\n",
       "22010.0     34147\n",
       "22020.0     19189\n",
       "22030.0     16129\n",
       "23010.0     35453\n",
       "23020.0      3010\n",
       "23030.0     12477\n",
       "24000.0      9666\n",
       "25000.0       682\n",
       "26000.0        80\n",
       "dtype: int64"
      ]
     },
     "execution_count": 38,
     "metadata": {},
     "output_type": "execute_result"
    }
   ],
   "source": [
    "f_data.groupby('milestone_id').size()"
   ]
  },
  {
   "cell_type": "code",
   "execution_count": 9,
   "metadata": {
    "cell_id": 98
   },
   "outputs": [],
   "source": [
    "x = f_data.iloc[:, np.r_[4:25]]\n",
    "y = f_data[['milestone_id']]\n",
    "\n",
    "x_train, x_test, y_train, y_test = train_test_split(x, y, test_size = 0.3, random_state=11)"
   ]
  },
  {
   "cell_type": "markdown",
   "metadata": {
    "cell_id": 78
   },
   "source": [
    "KNN"
   ]
  },
  {
   "cell_type": "code",
   "execution_count": 52,
   "metadata": {
    "cell_id": 21
   },
   "outputs": [
    {
     "name": "stderr",
     "output_type": "stream",
     "text": [
      "/opt/conda/lib/python3.7/site-packages/ipykernel_launcher.py:2: DataConversionWarning: A column-vector y was passed when a 1d array was expected. Please change the shape of y to (n_samples, ), for example using ravel().\n",
      "  \n"
     ]
    },
    {
     "data": {
      "text/plain": [
       "KNeighborsClassifier(algorithm='kd_tree', n_neighbors=15)"
      ]
     },
     "execution_count": 52,
     "metadata": {},
     "output_type": "execute_result"
    }
   ],
   "source": [
    "knn = neighbors.KNeighborsClassifier(algorithm='kd_tree',  n_neighbors = 15)\n",
    "knn.fit(x_train, y_train)"
   ]
  },
  {
   "cell_type": "code",
   "execution_count": 106,
   "metadata": {
    "cell_id": 73
   },
   "outputs": [
    {
     "name": "stdout",
     "output_type": "stream",
     "text": [
      "Accuracy: 0.6868570298074387\n",
      "0.008572979114578255\n"
     ]
    }
   ],
   "source": [
    "start = time.time()\n",
    "y_pred = knn.predict(x_test)\n",
    "print(\"Accuracy:\",metrics.accuracy_score(y_test, y_pred))\n",
    "end = time.time()\n",
    "print((end - start)/len(y_pred))"
   ]
  },
  {
   "cell_type": "markdown",
   "metadata": {
    "cell_id": 80
   },
   "source": [
    "Linear Regression"
   ]
  },
  {
   "cell_type": "code",
   "execution_count": 10,
   "metadata": {
    "cell_id": 84
   },
   "outputs": [
    {
     "name": "stderr",
     "output_type": "stream",
     "text": [
      "/opt/conda/lib/python3.7/site-packages/sklearn/utils/validation.py:72: DataConversionWarning: A column-vector y was passed when a 1d array was expected. Please change the shape of y to (n_samples, ), for example using ravel().\n",
      "  return f(**kwargs)\n",
      "/opt/conda/lib/python3.7/site-packages/sklearn/linear_model/_logistic.py:764: ConvergenceWarning: lbfgs failed to converge (status=1):\n",
      "STOP: TOTAL NO. of ITERATIONS REACHED LIMIT.\n",
      "\n",
      "Increase the number of iterations (max_iter) or scale the data as shown in:\n",
      "    https://scikit-learn.org/stable/modules/preprocessing.html\n",
      "Please also refer to the documentation for alternative solver options:\n",
      "    https://scikit-learn.org/stable/modules/linear_model.html#logistic-regression\n",
      "  extra_warning_msg=_LOGISTIC_SOLVER_CONVERGENCE_MSG)\n",
      "/opt/conda/lib/python3.7/site-packages/sklearn/linear_model/_logistic.py:764: ConvergenceWarning: lbfgs failed to converge (status=1):\n",
      "STOP: TOTAL NO. of ITERATIONS REACHED LIMIT.\n",
      "\n",
      "Increase the number of iterations (max_iter) or scale the data as shown in:\n",
      "    https://scikit-learn.org/stable/modules/preprocessing.html\n",
      "Please also refer to the documentation for alternative solver options:\n",
      "    https://scikit-learn.org/stable/modules/linear_model.html#logistic-regression\n",
      "  extra_warning_msg=_LOGISTIC_SOLVER_CONVERGENCE_MSG)\n",
      "/opt/conda/lib/python3.7/site-packages/sklearn/linear_model/_logistic.py:764: ConvergenceWarning: lbfgs failed to converge (status=1):\n",
      "STOP: TOTAL NO. of ITERATIONS REACHED LIMIT.\n",
      "\n",
      "Increase the number of iterations (max_iter) or scale the data as shown in:\n",
      "    https://scikit-learn.org/stable/modules/preprocessing.html\n",
      "Please also refer to the documentation for alternative solver options:\n",
      "    https://scikit-learn.org/stable/modules/linear_model.html#logistic-regression\n",
      "  extra_warning_msg=_LOGISTIC_SOLVER_CONVERGENCE_MSG)\n",
      "/opt/conda/lib/python3.7/site-packages/sklearn/linear_model/_logistic.py:764: ConvergenceWarning: lbfgs failed to converge (status=1):\n",
      "STOP: TOTAL NO. of ITERATIONS REACHED LIMIT.\n",
      "\n",
      "Increase the number of iterations (max_iter) or scale the data as shown in:\n",
      "    https://scikit-learn.org/stable/modules/preprocessing.html\n",
      "Please also refer to the documentation for alternative solver options:\n",
      "    https://scikit-learn.org/stable/modules/linear_model.html#logistic-regression\n",
      "  extra_warning_msg=_LOGISTIC_SOLVER_CONVERGENCE_MSG)\n",
      "/opt/conda/lib/python3.7/site-packages/sklearn/linear_model/_logistic.py:764: ConvergenceWarning: lbfgs failed to converge (status=1):\n",
      "STOP: TOTAL NO. of ITERATIONS REACHED LIMIT.\n",
      "\n",
      "Increase the number of iterations (max_iter) or scale the data as shown in:\n",
      "    https://scikit-learn.org/stable/modules/preprocessing.html\n",
      "Please also refer to the documentation for alternative solver options:\n",
      "    https://scikit-learn.org/stable/modules/linear_model.html#logistic-regression\n",
      "  extra_warning_msg=_LOGISTIC_SOLVER_CONVERGENCE_MSG)\n"
     ]
    },
    {
     "name": "stdout",
     "output_type": "stream",
     "text": [
      "Accuracy: 0.5731296386586489\n",
      "4.587985110622592e-07\n"
     ]
    }
   ],
   "source": [
    "lm = LogisticRegression(random_state=0, solver='lbfgs', multi_class='ovr').fit(x_train, y_train)\n",
    "\n",
    "start = time.time()\n",
    "y_pred = lm.predict(x_test)\n",
    "print(\"Accuracy:\",metrics.accuracy_score(y_test, y_pred))\n",
    "end = time.time()\n",
    "print((end - start)/len(y_pred))"
   ]
  },
  {
   "cell_type": "code",
   "execution_count": 11,
   "metadata": {
    "cell_id": 147
   },
   "outputs": [
    {
     "data": {
      "text/plain": [
       "-0.12307692307692318"
      ]
     },
     "execution_count": 11,
     "metadata": {},
     "output_type": "execute_result"
    }
   ],
   "source": [
    "(0.57-0.65)/0.65"
   ]
  },
  {
   "cell_type": "code",
   "execution_count": 12,
   "metadata": {
    "cell_id": 141
   },
   "outputs": [],
   "source": [
    "# save parameter\n",
    "coef = pd.DataFrame(lm.coef_, columns = x_test.columns)\n",
    "intercept = pd.DataFrame(lm.intercept_, columns = ['intercept'])\n",
    "\n",
    "parameter = pd.concat([intercept, coef], axis=1)\n",
    "parameter.to_csv(r'./logistic_parameter.csv', encoding='utf_8_sig')"
   ]
  },
  {
   "cell_type": "code",
   "execution_count": 36,
   "metadata": {
    "cell_id": 149
   },
   "outputs": [
    {
     "data": {
      "text/html": [
       "<div>\n",
       "<style scoped>\n",
       "    .dataframe tbody tr th:only-of-type {\n",
       "        vertical-align: middle;\n",
       "    }\n",
       "\n",
       "    .dataframe tbody tr th {\n",
       "        vertical-align: top;\n",
       "    }\n",
       "\n",
       "    .dataframe thead th {\n",
       "        text-align: right;\n",
       "    }\n",
       "</style>\n",
       "<table border=\"1\" class=\"dataframe\">\n",
       "  <thead>\n",
       "    <tr style=\"text-align: right;\">\n",
       "      <th></th>\n",
       "      <th>intercept</th>\n",
       "      <th>A0_V_correct_rate</th>\n",
       "      <th>A1_V_correct_rate</th>\n",
       "      <th>A2_V_correct_rate</th>\n",
       "      <th>B1_V_correct_rate</th>\n",
       "      <th>B2_V_correct_rate</th>\n",
       "      <th>C1_V_correct_rate</th>\n",
       "      <th>C2_V_correct_rate</th>\n",
       "      <th>A0_G_correct_rate</th>\n",
       "      <th>A1_G_correct_rate</th>\n",
       "      <th>...</th>\n",
       "      <th>B2_G_correct_rate</th>\n",
       "      <th>C1_G_correct_rate</th>\n",
       "      <th>C2_G_correct_rate</th>\n",
       "      <th>A0_L_correct_rate</th>\n",
       "      <th>A1_L_correct_rate</th>\n",
       "      <th>A2_L_correct_rate</th>\n",
       "      <th>B1_L_correct_rate</th>\n",
       "      <th>B2_L_correct_rate</th>\n",
       "      <th>C1_L_correct_rate</th>\n",
       "      <th>C2_L_correct_rate</th>\n",
       "    </tr>\n",
       "  </thead>\n",
       "  <tbody>\n",
       "    <tr>\n",
       "      <th>0</th>\n",
       "      <td>-2.379669</td>\n",
       "      <td>1.041146</td>\n",
       "      <td>6.224346</td>\n",
       "      <td>-4.814325</td>\n",
       "      <td>1.008713</td>\n",
       "      <td>-2.253395</td>\n",
       "      <td>-0.612394</td>\n",
       "      <td>0.672493</td>\n",
       "      <td>2.219963</td>\n",
       "      <td>-1.395255</td>\n",
       "      <td>...</td>\n",
       "      <td>-2.255612</td>\n",
       "      <td>2.219963</td>\n",
       "      <td>2.219963</td>\n",
       "      <td>0.797576</td>\n",
       "      <td>-1.514920</td>\n",
       "      <td>-1.698722</td>\n",
       "      <td>-0.119777</td>\n",
       "      <td>-2.991462</td>\n",
       "      <td>0.935041</td>\n",
       "      <td>-0.399557</td>\n",
       "    </tr>\n",
       "    <tr>\n",
       "      <th>1</th>\n",
       "      <td>-1.299363</td>\n",
       "      <td>-0.457906</td>\n",
       "      <td>-1.256065</td>\n",
       "      <td>0.899716</td>\n",
       "      <td>-0.384003</td>\n",
       "      <td>-0.366170</td>\n",
       "      <td>-0.734272</td>\n",
       "      <td>-0.365238</td>\n",
       "      <td>1.215565</td>\n",
       "      <td>0.765225</td>\n",
       "      <td>...</td>\n",
       "      <td>-0.765987</td>\n",
       "      <td>1.215565</td>\n",
       "      <td>1.215565</td>\n",
       "      <td>0.409693</td>\n",
       "      <td>0.290069</td>\n",
       "      <td>0.387594</td>\n",
       "      <td>-0.528294</td>\n",
       "      <td>-0.502272</td>\n",
       "      <td>-0.160111</td>\n",
       "      <td>-0.232479</td>\n",
       "    </tr>\n",
       "    <tr>\n",
       "      <th>2</th>\n",
       "      <td>-1.116740</td>\n",
       "      <td>-0.587887</td>\n",
       "      <td>-1.241944</td>\n",
       "      <td>0.207058</td>\n",
       "      <td>0.014960</td>\n",
       "      <td>0.312462</td>\n",
       "      <td>-0.490678</td>\n",
       "      <td>-0.293371</td>\n",
       "      <td>1.080035</td>\n",
       "      <td>0.699014</td>\n",
       "      <td>...</td>\n",
       "      <td>0.200767</td>\n",
       "      <td>1.080035</td>\n",
       "      <td>1.080035</td>\n",
       "      <td>0.246281</td>\n",
       "      <td>0.418438</td>\n",
       "      <td>0.308738</td>\n",
       "      <td>-0.798631</td>\n",
       "      <td>-1.355159</td>\n",
       "      <td>0.028158</td>\n",
       "      <td>-0.392157</td>\n",
       "    </tr>\n",
       "    <tr>\n",
       "      <th>3</th>\n",
       "      <td>-1.030193</td>\n",
       "      <td>-0.701642</td>\n",
       "      <td>-1.223614</td>\n",
       "      <td>0.099308</td>\n",
       "      <td>0.077806</td>\n",
       "      <td>0.276616</td>\n",
       "      <td>-0.527862</td>\n",
       "      <td>-0.605608</td>\n",
       "      <td>1.013862</td>\n",
       "      <td>0.036679</td>\n",
       "      <td>...</td>\n",
       "      <td>-0.081798</td>\n",
       "      <td>1.013862</td>\n",
       "      <td>1.013862</td>\n",
       "      <td>-0.118643</td>\n",
       "      <td>0.889311</td>\n",
       "      <td>0.254349</td>\n",
       "      <td>-0.225214</td>\n",
       "      <td>-0.142966</td>\n",
       "      <td>-0.943343</td>\n",
       "      <td>-0.273285</td>\n",
       "    </tr>\n",
       "    <tr>\n",
       "      <th>4</th>\n",
       "      <td>-3.985036</td>\n",
       "      <td>-0.511934</td>\n",
       "      <td>-0.630273</td>\n",
       "      <td>0.091545</td>\n",
       "      <td>-0.238578</td>\n",
       "      <td>0.455208</td>\n",
       "      <td>-0.268039</td>\n",
       "      <td>-0.378378</td>\n",
       "      <td>0.007886</td>\n",
       "      <td>0.131574</td>\n",
       "      <td>...</td>\n",
       "      <td>0.241026</td>\n",
       "      <td>0.007886</td>\n",
       "      <td>0.007886</td>\n",
       "      <td>-0.333348</td>\n",
       "      <td>0.287053</td>\n",
       "      <td>0.290867</td>\n",
       "      <td>0.332072</td>\n",
       "      <td>0.197682</td>\n",
       "      <td>-0.954833</td>\n",
       "      <td>-0.420906</td>\n",
       "    </tr>\n",
       "    <tr>\n",
       "      <th>5</th>\n",
       "      <td>-4.327814</td>\n",
       "      <td>-0.544299</td>\n",
       "      <td>-0.653985</td>\n",
       "      <td>0.313334</td>\n",
       "      <td>-0.393240</td>\n",
       "      <td>0.424767</td>\n",
       "      <td>-0.376588</td>\n",
       "      <td>-0.253581</td>\n",
       "      <td>0.002087</td>\n",
       "      <td>-0.256719</td>\n",
       "      <td>...</td>\n",
       "      <td>0.644487</td>\n",
       "      <td>0.002087</td>\n",
       "      <td>0.002087</td>\n",
       "      <td>-0.472257</td>\n",
       "      <td>0.009580</td>\n",
       "      <td>0.800518</td>\n",
       "      <td>0.085956</td>\n",
       "      <td>0.131833</td>\n",
       "      <td>-0.791064</td>\n",
       "      <td>-0.298661</td>\n",
       "    </tr>\n",
       "    <tr>\n",
       "      <th>6</th>\n",
       "      <td>-4.237244</td>\n",
       "      <td>-0.360251</td>\n",
       "      <td>-0.521110</td>\n",
       "      <td>0.140490</td>\n",
       "      <td>-0.203283</td>\n",
       "      <td>0.913694</td>\n",
       "      <td>-0.029982</td>\n",
       "      <td>-0.687955</td>\n",
       "      <td>0.066475</td>\n",
       "      <td>-0.434624</td>\n",
       "      <td>...</td>\n",
       "      <td>0.744684</td>\n",
       "      <td>0.066475</td>\n",
       "      <td>0.066475</td>\n",
       "      <td>-0.780652</td>\n",
       "      <td>-0.052468</td>\n",
       "      <td>1.389923</td>\n",
       "      <td>-0.472035</td>\n",
       "      <td>1.069421</td>\n",
       "      <td>-0.840102</td>\n",
       "      <td>-0.738197</td>\n",
       "    </tr>\n",
       "    <tr>\n",
       "      <th>7</th>\n",
       "      <td>-5.579797</td>\n",
       "      <td>-0.244717</td>\n",
       "      <td>-0.192209</td>\n",
       "      <td>0.062766</td>\n",
       "      <td>0.460714</td>\n",
       "      <td>0.626682</td>\n",
       "      <td>-0.385543</td>\n",
       "      <td>-0.029926</td>\n",
       "      <td>-0.000096</td>\n",
       "      <td>-0.144810</td>\n",
       "      <td>...</td>\n",
       "      <td>0.096386</td>\n",
       "      <td>-0.000096</td>\n",
       "      <td>-0.000096</td>\n",
       "      <td>-0.939963</td>\n",
       "      <td>-0.162999</td>\n",
       "      <td>0.486488</td>\n",
       "      <td>0.608878</td>\n",
       "      <td>1.696970</td>\n",
       "      <td>-0.621932</td>\n",
       "      <td>-0.514268</td>\n",
       "    </tr>\n",
       "    <tr>\n",
       "      <th>8</th>\n",
       "      <td>-5.185507</td>\n",
       "      <td>-0.022609</td>\n",
       "      <td>-0.181695</td>\n",
       "      <td>0.290217</td>\n",
       "      <td>0.155996</td>\n",
       "      <td>1.697022</td>\n",
       "      <td>0.091728</td>\n",
       "      <td>0.153063</td>\n",
       "      <td>-0.002232</td>\n",
       "      <td>-0.381016</td>\n",
       "      <td>...</td>\n",
       "      <td>0.805774</td>\n",
       "      <td>-0.002232</td>\n",
       "      <td>-0.002232</td>\n",
       "      <td>-0.951884</td>\n",
       "      <td>-0.410078</td>\n",
       "      <td>0.443700</td>\n",
       "      <td>1.348809</td>\n",
       "      <td>2.057487</td>\n",
       "      <td>-0.076943</td>\n",
       "      <td>0.085232</td>\n",
       "    </tr>\n",
       "    <tr>\n",
       "      <th>9</th>\n",
       "      <td>-5.872471</td>\n",
       "      <td>-0.278064</td>\n",
       "      <td>-0.015998</td>\n",
       "      <td>-0.365968</td>\n",
       "      <td>0.334570</td>\n",
       "      <td>2.062037</td>\n",
       "      <td>0.678301</td>\n",
       "      <td>-0.270161</td>\n",
       "      <td>-0.000024</td>\n",
       "      <td>-0.124506</td>\n",
       "      <td>...</td>\n",
       "      <td>0.577308</td>\n",
       "      <td>-0.000024</td>\n",
       "      <td>-0.000024</td>\n",
       "      <td>-1.314799</td>\n",
       "      <td>-0.740413</td>\n",
       "      <td>-0.673515</td>\n",
       "      <td>0.356332</td>\n",
       "      <td>1.751534</td>\n",
       "      <td>-0.054108</td>\n",
       "      <td>0.048426</td>\n",
       "    </tr>\n",
       "    <tr>\n",
       "      <th>10</th>\n",
       "      <td>-12.735741</td>\n",
       "      <td>-0.468829</td>\n",
       "      <td>-0.407635</td>\n",
       "      <td>-0.466532</td>\n",
       "      <td>-0.580861</td>\n",
       "      <td>0.152001</td>\n",
       "      <td>2.543478</td>\n",
       "      <td>1.252871</td>\n",
       "      <td>0.071793</td>\n",
       "      <td>-0.136615</td>\n",
       "      <td>...</td>\n",
       "      <td>0.942637</td>\n",
       "      <td>0.071793</td>\n",
       "      <td>0.071793</td>\n",
       "      <td>-1.882827</td>\n",
       "      <td>-0.129208</td>\n",
       "      <td>-0.100260</td>\n",
       "      <td>-0.284251</td>\n",
       "      <td>1.597919</td>\n",
       "      <td>0.062067</td>\n",
       "      <td>0.293052</td>\n",
       "    </tr>\n",
       "    <tr>\n",
       "      <th>11</th>\n",
       "      <td>-14.898231</td>\n",
       "      <td>-0.779868</td>\n",
       "      <td>-0.320551</td>\n",
       "      <td>-0.364762</td>\n",
       "      <td>-0.439202</td>\n",
       "      <td>0.455501</td>\n",
       "      <td>1.252020</td>\n",
       "      <td>3.590498</td>\n",
       "      <td>0.000111</td>\n",
       "      <td>-0.016113</td>\n",
       "      <td>...</td>\n",
       "      <td>2.389810</td>\n",
       "      <td>0.000111</td>\n",
       "      <td>0.000111</td>\n",
       "      <td>-0.457138</td>\n",
       "      <td>-0.005173</td>\n",
       "      <td>-0.038596</td>\n",
       "      <td>-0.172462</td>\n",
       "      <td>1.012250</td>\n",
       "      <td>1.751464</td>\n",
       "      <td>0.702483</td>\n",
       "    </tr>\n",
       "  </tbody>\n",
       "</table>\n",
       "<p>12 rows × 22 columns</p>\n",
       "</div>"
      ],
      "text/plain": [
       "    intercept  A0_V_correct_rate  A1_V_correct_rate  A2_V_correct_rate  \\\n",
       "0   -2.379669           1.041146           6.224346          -4.814325   \n",
       "1   -1.299363          -0.457906          -1.256065           0.899716   \n",
       "2   -1.116740          -0.587887          -1.241944           0.207058   \n",
       "3   -1.030193          -0.701642          -1.223614           0.099308   \n",
       "4   -3.985036          -0.511934          -0.630273           0.091545   \n",
       "5   -4.327814          -0.544299          -0.653985           0.313334   \n",
       "6   -4.237244          -0.360251          -0.521110           0.140490   \n",
       "7   -5.579797          -0.244717          -0.192209           0.062766   \n",
       "8   -5.185507          -0.022609          -0.181695           0.290217   \n",
       "9   -5.872471          -0.278064          -0.015998          -0.365968   \n",
       "10 -12.735741          -0.468829          -0.407635          -0.466532   \n",
       "11 -14.898231          -0.779868          -0.320551          -0.364762   \n",
       "\n",
       "    B1_V_correct_rate  B2_V_correct_rate  C1_V_correct_rate  \\\n",
       "0            1.008713          -2.253395          -0.612394   \n",
       "1           -0.384003          -0.366170          -0.734272   \n",
       "2            0.014960           0.312462          -0.490678   \n",
       "3            0.077806           0.276616          -0.527862   \n",
       "4           -0.238578           0.455208          -0.268039   \n",
       "5           -0.393240           0.424767          -0.376588   \n",
       "6           -0.203283           0.913694          -0.029982   \n",
       "7            0.460714           0.626682          -0.385543   \n",
       "8            0.155996           1.697022           0.091728   \n",
       "9            0.334570           2.062037           0.678301   \n",
       "10          -0.580861           0.152001           2.543478   \n",
       "11          -0.439202           0.455501           1.252020   \n",
       "\n",
       "    C2_V_correct_rate  A0_G_correct_rate  A1_G_correct_rate  ...  \\\n",
       "0            0.672493           2.219963          -1.395255  ...   \n",
       "1           -0.365238           1.215565           0.765225  ...   \n",
       "2           -0.293371           1.080035           0.699014  ...   \n",
       "3           -0.605608           1.013862           0.036679  ...   \n",
       "4           -0.378378           0.007886           0.131574  ...   \n",
       "5           -0.253581           0.002087          -0.256719  ...   \n",
       "6           -0.687955           0.066475          -0.434624  ...   \n",
       "7           -0.029926          -0.000096          -0.144810  ...   \n",
       "8            0.153063          -0.002232          -0.381016  ...   \n",
       "9           -0.270161          -0.000024          -0.124506  ...   \n",
       "10           1.252871           0.071793          -0.136615  ...   \n",
       "11           3.590498           0.000111          -0.016113  ...   \n",
       "\n",
       "    B2_G_correct_rate  C1_G_correct_rate  C2_G_correct_rate  \\\n",
       "0           -2.255612           2.219963           2.219963   \n",
       "1           -0.765987           1.215565           1.215565   \n",
       "2            0.200767           1.080035           1.080035   \n",
       "3           -0.081798           1.013862           1.013862   \n",
       "4            0.241026           0.007886           0.007886   \n",
       "5            0.644487           0.002087           0.002087   \n",
       "6            0.744684           0.066475           0.066475   \n",
       "7            0.096386          -0.000096          -0.000096   \n",
       "8            0.805774          -0.002232          -0.002232   \n",
       "9            0.577308          -0.000024          -0.000024   \n",
       "10           0.942637           0.071793           0.071793   \n",
       "11           2.389810           0.000111           0.000111   \n",
       "\n",
       "    A0_L_correct_rate  A1_L_correct_rate  A2_L_correct_rate  \\\n",
       "0            0.797576          -1.514920          -1.698722   \n",
       "1            0.409693           0.290069           0.387594   \n",
       "2            0.246281           0.418438           0.308738   \n",
       "3           -0.118643           0.889311           0.254349   \n",
       "4           -0.333348           0.287053           0.290867   \n",
       "5           -0.472257           0.009580           0.800518   \n",
       "6           -0.780652          -0.052468           1.389923   \n",
       "7           -0.939963          -0.162999           0.486488   \n",
       "8           -0.951884          -0.410078           0.443700   \n",
       "9           -1.314799          -0.740413          -0.673515   \n",
       "10          -1.882827          -0.129208          -0.100260   \n",
       "11          -0.457138          -0.005173          -0.038596   \n",
       "\n",
       "    B1_L_correct_rate  B2_L_correct_rate  C1_L_correct_rate  C2_L_correct_rate  \n",
       "0           -0.119777          -2.991462           0.935041          -0.399557  \n",
       "1           -0.528294          -0.502272          -0.160111          -0.232479  \n",
       "2           -0.798631          -1.355159           0.028158          -0.392157  \n",
       "3           -0.225214          -0.142966          -0.943343          -0.273285  \n",
       "4            0.332072           0.197682          -0.954833          -0.420906  \n",
       "5            0.085956           0.131833          -0.791064          -0.298661  \n",
       "6           -0.472035           1.069421          -0.840102          -0.738197  \n",
       "7            0.608878           1.696970          -0.621932          -0.514268  \n",
       "8            1.348809           2.057487          -0.076943           0.085232  \n",
       "9            0.356332           1.751534          -0.054108           0.048426  \n",
       "10          -0.284251           1.597919           0.062067           0.293052  \n",
       "11          -0.172462           1.012250           1.751464           0.702483  \n",
       "\n",
       "[12 rows x 22 columns]"
      ]
     },
     "execution_count": 36,
     "metadata": {},
     "output_type": "execute_result"
    }
   ],
   "source": [
    "parameter"
   ]
  },
  {
   "cell_type": "code",
   "execution_count": 80,
   "metadata": {
    "cell_id": 144
   },
   "outputs": [],
   "source": [
    "# lm.predict(x_test.head(1))"
   ]
  },
  {
   "cell_type": "code",
   "execution_count": 13,
   "metadata": {
    "cell_id": 138
   },
   "outputs": [],
   "source": [
    "# save test data\n",
    "# x_test.to_csv(r'./x_test.csv', encoding='utf_8_sig')"
   ]
  },
  {
   "cell_type": "code",
   "execution_count": 14,
   "metadata": {
    "cell_id": 130
   },
   "outputs": [
    {
     "name": "stderr",
     "output_type": "stream",
     "text": [
      "/opt/conda/lib/python3.7/site-packages/ipykernel_launcher.py:3: SettingWithCopyWarning: \n",
      "A value is trying to be set on a copy of a slice from a DataFrame.\n",
      "Try using .loc[row_indexer,col_indexer] = value instead\n",
      "\n",
      "See the caveats in the documentation: https://pandas.pydata.org/pandas-docs/stable/user_guide/indexing.html#returning-a-view-versus-a-copy\n",
      "  This is separate from the ipykernel package so we can avoid doing imports until\n"
     ]
    }
   ],
   "source": [
    "# save vallidate data\n",
    "\n",
    "x_test['new_index'] = range(0, len(x_test))\n",
    "x_test.index = x_test['new_index'] \n",
    "\n",
    "y_pred = pd.DataFrame(y_pred)\n",
    "y_pred.columns =['new_mile_stone'] \n",
    "\n",
    "validate_data = pd.concat([x_test, y_pred], axis=1)\n",
    "validate_data.to_csv(r'./logistic_model_validate.csv', encoding='utf_8_sig')"
   ]
  },
  {
   "cell_type": "code",
   "execution_count": 15,
   "metadata": {
    "cell_id": 90
   },
   "outputs": [
    {
     "data": {
      "text/plain": [
       "{21010.0: 35823,\n",
       " 21020.0: 10319,\n",
       " 21030.0: 6958,\n",
       " 22010.0: 10170,\n",
       " 22020.0: 5755,\n",
       " 22030.0: 4808,\n",
       " 23010.0: 10695,\n",
       " 23020.0: 902,\n",
       " 23030.0: 3718,\n",
       " 24000.0: 2923,\n",
       " 25000.0: 200,\n",
       " 26000.0: 24}"
      ]
     },
     "execution_count": 15,
     "metadata": {},
     "output_type": "execute_result"
    }
   ],
   "source": [
    "unique, counts = np.unique(y_test, return_counts=True)\n",
    "dict(zip(unique, counts))"
   ]
  },
  {
   "cell_type": "code",
   "execution_count": 18,
   "metadata": {
    "cell_id": 91
   },
   "outputs": [],
   "source": [
    "# 21010/len(y_test)"
   ]
  },
  {
   "cell_type": "markdown",
   "metadata": {
    "cell_id": 22
   },
   "source": [
    "未完成测试的用户"
   ]
  },
  {
   "cell_type": "code",
   "execution_count": 19,
   "metadata": {
    "cell_id": 23
   },
   "outputs": [
    {
     "name": "stderr",
     "output_type": "stream",
     "text": [
      "/opt/conda/lib/python3.7/site-packages/pandas/core/frame.py:3065: SettingWithCopyWarning: \n",
      "A value is trying to be set on a copy of a slice from a DataFrame.\n",
      "Try using .loc[row_indexer,col_indexer] = value instead\n",
      "\n",
      "See the caveats in the documentation: https://pandas.pydata.org/pandas-docs/stable/user_guide/indexing.html#returning-a-view-versus-a-copy\n",
      "  self[k1] = value[k2]\n"
     ]
    }
   ],
   "source": [
    "uf_data = model_data[model_data.finished == 0.0]\n",
    "uf_data[uf_data.columns[4:25]] = uf_data[uf_data.columns[4:25]].fillna(-1)\n",
    "\n",
    "x_train = f_data[f_data.columns[4:25]]\n",
    "y_train = f_data[['milestone_id']]\n",
    "\n",
    "x_test = uf_data[uf_data.columns[4:25]]\n",
    "y_test = uf_data[['milestone_id']]\n",
    "\n",
    "\n",
    "# knn = neighbors.KNeighborsClassifier(algorithm='kd_tree',  n_neighbors = 15)\n",
    "# knn.fit(x_train, y_train)\n",
    "\n",
    "y_pred = lm.predict(x_test)"
   ]
  },
  {
   "cell_type": "code",
   "execution_count": 20,
   "metadata": {
    "cell_id": 24
   },
   "outputs": [
    {
     "data": {
      "text/plain": [
       "array([21010., 21010., 21010., ..., 22010., 21010., 21010.])"
      ]
     },
     "execution_count": 20,
     "metadata": {},
     "output_type": "execute_result"
    }
   ],
   "source": [
    "y_pred"
   ]
  },
  {
   "cell_type": "code",
   "execution_count": 21,
   "metadata": {
    "cell_id": 25
   },
   "outputs": [
    {
     "data": {
      "text/plain": [
       "93991"
      ]
     },
     "execution_count": 21,
     "metadata": {},
     "output_type": "execute_result"
    }
   ],
   "source": [
    "len(y_pred)"
   ]
  },
  {
   "cell_type": "code",
   "execution_count": 22,
   "metadata": {
    "cell_id": 26
   },
   "outputs": [
    {
     "data": {
      "text/plain": [
       "{21010.0: 69682,\n",
       " 21020.0: 1507,\n",
       " 21030.0: 1852,\n",
       " 22010.0: 8613,\n",
       " 22020.0: 118,\n",
       " 22030.0: 165,\n",
       " 23010.0: 10441,\n",
       " 23020.0: 30,\n",
       " 23030.0: 744,\n",
       " 24000.0: 834,\n",
       " 25000.0: 5}"
      ]
     },
     "execution_count": 22,
     "metadata": {},
     "output_type": "execute_result"
    }
   ],
   "source": [
    "unique, counts = np.unique(y_pred, return_counts=True)\n",
    "dict(zip(unique, counts))"
   ]
  },
  {
   "cell_type": "code",
   "execution_count": 23,
   "metadata": {
    "cell_id": 27
   },
   "outputs": [
    {
     "data": {
      "text/html": [
       "<div>\n",
       "<style scoped>\n",
       "    .dataframe tbody tr th:only-of-type {\n",
       "        vertical-align: middle;\n",
       "    }\n",
       "\n",
       "    .dataframe tbody tr th {\n",
       "        vertical-align: top;\n",
       "    }\n",
       "\n",
       "    .dataframe thead th {\n",
       "        text-align: right;\n",
       "    }\n",
       "</style>\n",
       "<table border=\"1\" class=\"dataframe\">\n",
       "  <thead>\n",
       "    <tr style=\"text-align: right;\">\n",
       "      <th></th>\n",
       "      <th>user_id</th>\n",
       "      <th>finished</th>\n",
       "      <th>milestone_id</th>\n",
       "      <th>ttl_exe</th>\n",
       "      <th>A0_V_correct_rate</th>\n",
       "      <th>A1_V_correct_rate</th>\n",
       "      <th>A2_V_correct_rate</th>\n",
       "      <th>B1_V_correct_rate</th>\n",
       "      <th>B2_V_correct_rate</th>\n",
       "      <th>C1_V_correct_rate</th>\n",
       "      <th>...</th>\n",
       "      <th>B2_G_correct_rate</th>\n",
       "      <th>C1_G_correct_rate</th>\n",
       "      <th>C2_G_correct_rate</th>\n",
       "      <th>A0_L_correct_rate</th>\n",
       "      <th>A1_L_correct_rate</th>\n",
       "      <th>A2_L_correct_rate</th>\n",
       "      <th>B1_L_correct_rate</th>\n",
       "      <th>B2_L_correct_rate</th>\n",
       "      <th>C1_L_correct_rate</th>\n",
       "      <th>C2_L_correct_rate</th>\n",
       "    </tr>\n",
       "  </thead>\n",
       "  <tbody>\n",
       "    <tr>\n",
       "      <th>4</th>\n",
       "      <td>3.430103e+15</td>\n",
       "      <td>0.0</td>\n",
       "      <td>0.0</td>\n",
       "      <td>6</td>\n",
       "      <td>0.0</td>\n",
       "      <td>-1.0</td>\n",
       "      <td>-1.0</td>\n",
       "      <td>-1.0</td>\n",
       "      <td>-1.0</td>\n",
       "      <td>-1.0</td>\n",
       "      <td>...</td>\n",
       "      <td>-1.0</td>\n",
       "      <td>-1.0</td>\n",
       "      <td>-1.0</td>\n",
       "      <td>0.0</td>\n",
       "      <td>-1.0</td>\n",
       "      <td>-1.0</td>\n",
       "      <td>-1.0</td>\n",
       "      <td>-1.0</td>\n",
       "      <td>-1.0</td>\n",
       "      <td>-1.0</td>\n",
       "    </tr>\n",
       "    <tr>\n",
       "      <th>5</th>\n",
       "      <td>3.043080e+15</td>\n",
       "      <td>0.0</td>\n",
       "      <td>0.0</td>\n",
       "      <td>4</td>\n",
       "      <td>1.0</td>\n",
       "      <td>-1.0</td>\n",
       "      <td>-1.0</td>\n",
       "      <td>-1.0</td>\n",
       "      <td>-1.0</td>\n",
       "      <td>-1.0</td>\n",
       "      <td>...</td>\n",
       "      <td>-1.0</td>\n",
       "      <td>-1.0</td>\n",
       "      <td>-1.0</td>\n",
       "      <td>-1.0</td>\n",
       "      <td>-1.0</td>\n",
       "      <td>-1.0</td>\n",
       "      <td>-1.0</td>\n",
       "      <td>-1.0</td>\n",
       "      <td>-1.0</td>\n",
       "      <td>-1.0</td>\n",
       "    </tr>\n",
       "    <tr>\n",
       "      <th>15</th>\n",
       "      <td>3.254192e+15</td>\n",
       "      <td>0.0</td>\n",
       "      <td>0.0</td>\n",
       "      <td>7</td>\n",
       "      <td>0.0</td>\n",
       "      <td>-1.0</td>\n",
       "      <td>-1.0</td>\n",
       "      <td>-1.0</td>\n",
       "      <td>-1.0</td>\n",
       "      <td>-1.0</td>\n",
       "      <td>...</td>\n",
       "      <td>-1.0</td>\n",
       "      <td>-1.0</td>\n",
       "      <td>-1.0</td>\n",
       "      <td>0.0</td>\n",
       "      <td>-1.0</td>\n",
       "      <td>-1.0</td>\n",
       "      <td>-1.0</td>\n",
       "      <td>-1.0</td>\n",
       "      <td>-1.0</td>\n",
       "      <td>-1.0</td>\n",
       "    </tr>\n",
       "    <tr>\n",
       "      <th>21</th>\n",
       "      <td>2.849554e+15</td>\n",
       "      <td>0.0</td>\n",
       "      <td>0.0</td>\n",
       "      <td>1</td>\n",
       "      <td>-1.0</td>\n",
       "      <td>-1.0</td>\n",
       "      <td>-1.0</td>\n",
       "      <td>-1.0</td>\n",
       "      <td>-1.0</td>\n",
       "      <td>-1.0</td>\n",
       "      <td>...</td>\n",
       "      <td>-1.0</td>\n",
       "      <td>-1.0</td>\n",
       "      <td>-1.0</td>\n",
       "      <td>-1.0</td>\n",
       "      <td>-1.0</td>\n",
       "      <td>-1.0</td>\n",
       "      <td>-1.0</td>\n",
       "      <td>-1.0</td>\n",
       "      <td>-1.0</td>\n",
       "      <td>-1.0</td>\n",
       "    </tr>\n",
       "    <tr>\n",
       "      <th>26</th>\n",
       "      <td>9.847973e+14</td>\n",
       "      <td>0.0</td>\n",
       "      <td>0.0</td>\n",
       "      <td>9</td>\n",
       "      <td>1.0</td>\n",
       "      <td>-1.0</td>\n",
       "      <td>-1.0</td>\n",
       "      <td>-1.0</td>\n",
       "      <td>-1.0</td>\n",
       "      <td>-1.0</td>\n",
       "      <td>...</td>\n",
       "      <td>-1.0</td>\n",
       "      <td>-1.0</td>\n",
       "      <td>-1.0</td>\n",
       "      <td>1.0</td>\n",
       "      <td>-1.0</td>\n",
       "      <td>-1.0</td>\n",
       "      <td>-1.0</td>\n",
       "      <td>-1.0</td>\n",
       "      <td>-1.0</td>\n",
       "      <td>-1.0</td>\n",
       "    </tr>\n",
       "  </tbody>\n",
       "</table>\n",
       "<p>5 rows × 25 columns</p>\n",
       "</div>"
      ],
      "text/plain": [
       "         user_id  finished  milestone_id  ttl_exe  A0_V_correct_rate  \\\n",
       "4   3.430103e+15       0.0           0.0        6                0.0   \n",
       "5   3.043080e+15       0.0           0.0        4                1.0   \n",
       "15  3.254192e+15       0.0           0.0        7                0.0   \n",
       "21  2.849554e+15       0.0           0.0        1               -1.0   \n",
       "26  9.847973e+14       0.0           0.0        9                1.0   \n",
       "\n",
       "    A1_V_correct_rate  A2_V_correct_rate  B1_V_correct_rate  \\\n",
       "4                -1.0               -1.0               -1.0   \n",
       "5                -1.0               -1.0               -1.0   \n",
       "15               -1.0               -1.0               -1.0   \n",
       "21               -1.0               -1.0               -1.0   \n",
       "26               -1.0               -1.0               -1.0   \n",
       "\n",
       "    B2_V_correct_rate  C1_V_correct_rate  ...  B2_G_correct_rate  \\\n",
       "4                -1.0               -1.0  ...               -1.0   \n",
       "5                -1.0               -1.0  ...               -1.0   \n",
       "15               -1.0               -1.0  ...               -1.0   \n",
       "21               -1.0               -1.0  ...               -1.0   \n",
       "26               -1.0               -1.0  ...               -1.0   \n",
       "\n",
       "    C1_G_correct_rate  C2_G_correct_rate  A0_L_correct_rate  \\\n",
       "4                -1.0               -1.0                0.0   \n",
       "5                -1.0               -1.0               -1.0   \n",
       "15               -1.0               -1.0                0.0   \n",
       "21               -1.0               -1.0               -1.0   \n",
       "26               -1.0               -1.0                1.0   \n",
       "\n",
       "    A1_L_correct_rate  A2_L_correct_rate  B1_L_correct_rate  \\\n",
       "4                -1.0               -1.0               -1.0   \n",
       "5                -1.0               -1.0               -1.0   \n",
       "15               -1.0               -1.0               -1.0   \n",
       "21               -1.0               -1.0               -1.0   \n",
       "26               -1.0               -1.0               -1.0   \n",
       "\n",
       "    B2_L_correct_rate  C1_L_correct_rate  C2_L_correct_rate  \n",
       "4                -1.0               -1.0               -1.0  \n",
       "5                -1.0               -1.0               -1.0  \n",
       "15               -1.0               -1.0               -1.0  \n",
       "21               -1.0               -1.0               -1.0  \n",
       "26               -1.0               -1.0               -1.0  \n",
       "\n",
       "[5 rows x 25 columns]"
      ]
     },
     "execution_count": 23,
     "metadata": {},
     "output_type": "execute_result"
    }
   ],
   "source": [
    "uf_data.head()"
   ]
  },
  {
   "cell_type": "code",
   "execution_count": 24,
   "metadata": {
    "cell_id": 28
   },
   "outputs": [
    {
     "name": "stderr",
     "output_type": "stream",
     "text": [
      "/opt/conda/lib/python3.7/site-packages/ipykernel_launcher.py:2: SettingWithCopyWarning: \n",
      "A value is trying to be set on a copy of a slice from a DataFrame.\n",
      "Try using .loc[row_indexer,col_indexer] = value instead\n",
      "\n",
      "See the caveats in the documentation: https://pandas.pydata.org/pandas-docs/stable/user_guide/indexing.html#returning-a-view-versus-a-copy\n",
      "  \n"
     ]
    },
    {
     "data": {
      "text/html": [
       "<div>\n",
       "<style scoped>\n",
       "    .dataframe tbody tr th:only-of-type {\n",
       "        vertical-align: middle;\n",
       "    }\n",
       "\n",
       "    .dataframe tbody tr th {\n",
       "        vertical-align: top;\n",
       "    }\n",
       "\n",
       "    .dataframe thead th {\n",
       "        text-align: right;\n",
       "    }\n",
       "</style>\n",
       "<table border=\"1\" class=\"dataframe\">\n",
       "  <thead>\n",
       "    <tr style=\"text-align: right;\">\n",
       "      <th></th>\n",
       "      <th>user_id</th>\n",
       "      <th>ttl_exe</th>\n",
       "      <th>new_index</th>\n",
       "    </tr>\n",
       "    <tr>\n",
       "      <th>new_index</th>\n",
       "      <th></th>\n",
       "      <th></th>\n",
       "      <th></th>\n",
       "    </tr>\n",
       "  </thead>\n",
       "  <tbody>\n",
       "    <tr>\n",
       "      <th>0</th>\n",
       "      <td>3.430103e+15</td>\n",
       "      <td>6</td>\n",
       "      <td>0</td>\n",
       "    </tr>\n",
       "    <tr>\n",
       "      <th>1</th>\n",
       "      <td>3.043080e+15</td>\n",
       "      <td>4</td>\n",
       "      <td>1</td>\n",
       "    </tr>\n",
       "    <tr>\n",
       "      <th>2</th>\n",
       "      <td>3.254192e+15</td>\n",
       "      <td>7</td>\n",
       "      <td>2</td>\n",
       "    </tr>\n",
       "    <tr>\n",
       "      <th>3</th>\n",
       "      <td>2.849554e+15</td>\n",
       "      <td>1</td>\n",
       "      <td>3</td>\n",
       "    </tr>\n",
       "    <tr>\n",
       "      <th>4</th>\n",
       "      <td>9.847973e+14</td>\n",
       "      <td>9</td>\n",
       "      <td>4</td>\n",
       "    </tr>\n",
       "    <tr>\n",
       "      <th>...</th>\n",
       "      <td>...</td>\n",
       "      <td>...</td>\n",
       "      <td>...</td>\n",
       "    </tr>\n",
       "    <tr>\n",
       "      <th>93986</th>\n",
       "      <td>3.078259e+15</td>\n",
       "      <td>1</td>\n",
       "      <td>93986</td>\n",
       "    </tr>\n",
       "    <tr>\n",
       "      <th>93987</th>\n",
       "      <td>2.198637e+15</td>\n",
       "      <td>7</td>\n",
       "      <td>93987</td>\n",
       "    </tr>\n",
       "    <tr>\n",
       "      <th>93988</th>\n",
       "      <td>3.465273e+15</td>\n",
       "      <td>15</td>\n",
       "      <td>93988</td>\n",
       "    </tr>\n",
       "    <tr>\n",
       "      <th>93989</th>\n",
       "      <td>3.676408e+15</td>\n",
       "      <td>5</td>\n",
       "      <td>93989</td>\n",
       "    </tr>\n",
       "    <tr>\n",
       "      <th>93990</th>\n",
       "      <td>8.000672e+14</td>\n",
       "      <td>6</td>\n",
       "      <td>93990</td>\n",
       "    </tr>\n",
       "  </tbody>\n",
       "</table>\n",
       "<p>93991 rows × 3 columns</p>\n",
       "</div>"
      ],
      "text/plain": [
       "                user_id  ttl_exe  new_index\n",
       "new_index                                  \n",
       "0          3.430103e+15        6          0\n",
       "1          3.043080e+15        4          1\n",
       "2          3.254192e+15        7          2\n",
       "3          2.849554e+15        1          3\n",
       "4          9.847973e+14        9          4\n",
       "...                 ...      ...        ...\n",
       "93986      3.078259e+15        1      93986\n",
       "93987      2.198637e+15        7      93987\n",
       "93988      3.465273e+15       15      93988\n",
       "93989      3.676408e+15        5      93989\n",
       "93990      8.000672e+14        6      93990\n",
       "\n",
       "[93991 rows x 3 columns]"
      ]
     },
     "execution_count": 24,
     "metadata": {},
     "output_type": "execute_result"
    }
   ],
   "source": [
    "df1 = uf_data[[\"user_id\", \"ttl_exe\"]]\n",
    "df1['new_index'] = range(0, len(df1))\n",
    "df1.index = df1['new_index'] \n",
    "df1"
   ]
  },
  {
   "cell_type": "code",
   "execution_count": 25,
   "metadata": {
    "cell_id": 29
   },
   "outputs": [
    {
     "data": {
      "text/html": [
       "<div>\n",
       "<style scoped>\n",
       "    .dataframe tbody tr th:only-of-type {\n",
       "        vertical-align: middle;\n",
       "    }\n",
       "\n",
       "    .dataframe tbody tr th {\n",
       "        vertical-align: top;\n",
       "    }\n",
       "\n",
       "    .dataframe thead th {\n",
       "        text-align: right;\n",
       "    }\n",
       "</style>\n",
       "<table border=\"1\" class=\"dataframe\">\n",
       "  <thead>\n",
       "    <tr style=\"text-align: right;\">\n",
       "      <th></th>\n",
       "      <th>new_mile_stone</th>\n",
       "    </tr>\n",
       "  </thead>\n",
       "  <tbody>\n",
       "    <tr>\n",
       "      <th>0</th>\n",
       "      <td>21010.0</td>\n",
       "    </tr>\n",
       "    <tr>\n",
       "      <th>1</th>\n",
       "      <td>21010.0</td>\n",
       "    </tr>\n",
       "    <tr>\n",
       "      <th>2</th>\n",
       "      <td>21010.0</td>\n",
       "    </tr>\n",
       "    <tr>\n",
       "      <th>3</th>\n",
       "      <td>21010.0</td>\n",
       "    </tr>\n",
       "    <tr>\n",
       "      <th>4</th>\n",
       "      <td>21010.0</td>\n",
       "    </tr>\n",
       "    <tr>\n",
       "      <th>...</th>\n",
       "      <td>...</td>\n",
       "    </tr>\n",
       "    <tr>\n",
       "      <th>93986</th>\n",
       "      <td>21010.0</td>\n",
       "    </tr>\n",
       "    <tr>\n",
       "      <th>93987</th>\n",
       "      <td>21010.0</td>\n",
       "    </tr>\n",
       "    <tr>\n",
       "      <th>93988</th>\n",
       "      <td>22010.0</td>\n",
       "    </tr>\n",
       "    <tr>\n",
       "      <th>93989</th>\n",
       "      <td>21010.0</td>\n",
       "    </tr>\n",
       "    <tr>\n",
       "      <th>93990</th>\n",
       "      <td>21010.0</td>\n",
       "    </tr>\n",
       "  </tbody>\n",
       "</table>\n",
       "<p>93991 rows × 1 columns</p>\n",
       "</div>"
      ],
      "text/plain": [
       "       new_mile_stone\n",
       "0             21010.0\n",
       "1             21010.0\n",
       "2             21010.0\n",
       "3             21010.0\n",
       "4             21010.0\n",
       "...               ...\n",
       "93986         21010.0\n",
       "93987         21010.0\n",
       "93988         22010.0\n",
       "93989         21010.0\n",
       "93990         21010.0\n",
       "\n",
       "[93991 rows x 1 columns]"
      ]
     },
     "execution_count": 25,
     "metadata": {},
     "output_type": "execute_result"
    }
   ],
   "source": [
    "df2 = pd.DataFrame(y_pred)\n",
    "df2.columns =['new_mile_stone'] \n",
    "df2"
   ]
  },
  {
   "cell_type": "code",
   "execution_count": 26,
   "metadata": {
    "cell_id": 31
   },
   "outputs": [
    {
     "data": {
      "text/html": [
       "<div>\n",
       "<style scoped>\n",
       "    .dataframe tbody tr th:only-of-type {\n",
       "        vertical-align: middle;\n",
       "    }\n",
       "\n",
       "    .dataframe tbody tr th {\n",
       "        vertical-align: top;\n",
       "    }\n",
       "\n",
       "    .dataframe thead th {\n",
       "        text-align: right;\n",
       "    }\n",
       "</style>\n",
       "<table border=\"1\" class=\"dataframe\">\n",
       "  <thead>\n",
       "    <tr style=\"text-align: right;\">\n",
       "      <th></th>\n",
       "      <th>user_id</th>\n",
       "      <th>ttl_exe</th>\n",
       "      <th>new_index</th>\n",
       "      <th>new_mile_stone</th>\n",
       "    </tr>\n",
       "  </thead>\n",
       "  <tbody>\n",
       "    <tr>\n",
       "      <th>0</th>\n",
       "      <td>3.430103e+15</td>\n",
       "      <td>6</td>\n",
       "      <td>0</td>\n",
       "      <td>21010.0</td>\n",
       "    </tr>\n",
       "    <tr>\n",
       "      <th>1</th>\n",
       "      <td>3.043080e+15</td>\n",
       "      <td>4</td>\n",
       "      <td>1</td>\n",
       "      <td>21010.0</td>\n",
       "    </tr>\n",
       "    <tr>\n",
       "      <th>2</th>\n",
       "      <td>3.254192e+15</td>\n",
       "      <td>7</td>\n",
       "      <td>2</td>\n",
       "      <td>21010.0</td>\n",
       "    </tr>\n",
       "    <tr>\n",
       "      <th>3</th>\n",
       "      <td>2.849554e+15</td>\n",
       "      <td>1</td>\n",
       "      <td>3</td>\n",
       "      <td>21010.0</td>\n",
       "    </tr>\n",
       "    <tr>\n",
       "      <th>4</th>\n",
       "      <td>9.847973e+14</td>\n",
       "      <td>9</td>\n",
       "      <td>4</td>\n",
       "      <td>21010.0</td>\n",
       "    </tr>\n",
       "  </tbody>\n",
       "</table>\n",
       "</div>"
      ],
      "text/plain": [
       "        user_id  ttl_exe  new_index  new_mile_stone\n",
       "0  3.430103e+15        6          0         21010.0\n",
       "1  3.043080e+15        4          1         21010.0\n",
       "2  3.254192e+15        7          2         21010.0\n",
       "3  2.849554e+15        1          3         21010.0\n",
       "4  9.847973e+14        9          4         21010.0"
      ]
     },
     "execution_count": 26,
     "metadata": {},
     "output_type": "execute_result"
    }
   ],
   "source": [
    "new_df = pd.concat([df1, df2], axis=1)\n",
    "new_df.head()"
   ]
  },
  {
   "cell_type": "markdown",
   "metadata": {
    "cell_id": 30
   },
   "source": [
    "# 新等级和默认等级对比"
   ]
  },
  {
   "cell_type": "code",
   "execution_count": 29,
   "metadata": {
    "cell_id": 148
   },
   "outputs": [
    {
     "data": {
      "text/html": [
       "<div>\n",
       "<style scoped>\n",
       "    .dataframe tbody tr th:only-of-type {\n",
       "        vertical-align: middle;\n",
       "    }\n",
       "\n",
       "    .dataframe tbody tr th {\n",
       "        vertical-align: top;\n",
       "    }\n",
       "\n",
       "    .dataframe thead th {\n",
       "        text-align: right;\n",
       "    }\n",
       "</style>\n",
       "<table border=\"1\" class=\"dataframe\">\n",
       "  <thead>\n",
       "    <tr style=\"text-align: right;\">\n",
       "      <th></th>\n",
       "      <th>user_id</th>\n",
       "      <th>feedback_answer_new</th>\n",
       "      <th>is_default_level</th>\n",
       "      <th>lesson_level</th>\n",
       "      <th>role</th>\n",
       "    </tr>\n",
       "  </thead>\n",
       "  <tbody>\n",
       "    <tr>\n",
       "      <th>3</th>\n",
       "      <td>4432853049825111</td>\n",
       "      <td>401</td>\n",
       "      <td>1.0</td>\n",
       "      <td>A1中</td>\n",
       "      <td>上班族</td>\n",
       "    </tr>\n",
       "    <tr>\n",
       "      <th>4</th>\n",
       "      <td>3025484090719454</td>\n",
       "      <td>401</td>\n",
       "      <td>0.0</td>\n",
       "      <td>A1初</td>\n",
       "      <td>中小学生</td>\n",
       "    </tr>\n",
       "    <tr>\n",
       "      <th>7</th>\n",
       "      <td>4362485978366104</td>\n",
       "      <td>401</td>\n",
       "      <td>0.0</td>\n",
       "      <td>A1初</td>\n",
       "      <td>中小学生</td>\n",
       "    </tr>\n",
       "    <tr>\n",
       "      <th>12</th>\n",
       "      <td>2937527789947293</td>\n",
       "      <td>401</td>\n",
       "      <td>1.0</td>\n",
       "      <td>A1中</td>\n",
       "      <td>NaN</td>\n",
       "    </tr>\n",
       "    <tr>\n",
       "      <th>16</th>\n",
       "      <td>3078254632895918</td>\n",
       "      <td>402</td>\n",
       "      <td>0.0</td>\n",
       "      <td>A2中</td>\n",
       "      <td>大学生</td>\n",
       "    </tr>\n",
       "  </tbody>\n",
       "</table>\n",
       "</div>"
      ],
      "text/plain": [
       "             user_id feedback_answer_new  is_default_level lesson_level  role\n",
       "3   4432853049825111                 401               1.0          A1中   上班族\n",
       "4   3025484090719454                 401               0.0          A1初  中小学生\n",
       "7   4362485978366104                 401               0.0          A1初  中小学生\n",
       "12  2937527789947293                 401               1.0          A1中   NaN\n",
       "16  3078254632895918                 402               0.0          A2中   大学生"
      ]
     },
     "execution_count": 29,
     "metadata": {},
     "output_type": "execute_result"
    }
   ],
   "source": [
    "fdk_data = pd.read_csv('/home/tiger/archived-data/aeolus-data/20201117/14/31687312-用户行为日志分析-挽留弹窗用户分析-查询25.csv', encoding = 'gb18030')\n",
    "# fdk_data.head()\n",
    "\n",
    "fdk_user = fdk_data[[\"user_id\", \"feedback_answer_new\", \"is_default_level\", \"lesson_level\", \"role\"]]\n",
    "fdk_user = fdk_user.loc[(fdk_user[\"feedback_answer_new\"] == \"401\") | (fdk_user[\"feedback_answer_new\"] == \"402\")]\n",
    "fdk_user.head()"
   ]
  },
  {
   "cell_type": "code",
   "execution_count": 30,
   "metadata": {
    "cell_id": 32
   },
   "outputs": [
    {
     "name": "stderr",
     "output_type": "stream",
     "text": [
      "/opt/conda/lib/python3.7/site-packages/pandas/core/indexing.py:1596: SettingWithCopyWarning: \n",
      "A value is trying to be set on a copy of a slice from a DataFrame.\n",
      "Try using .loc[row_indexer,col_indexer] = value instead\n",
      "\n",
      "See the caveats in the documentation: https://pandas.pydata.org/pandas-docs/stable/user_guide/indexing.html#returning-a-view-versus-a-copy\n",
      "  self.obj[key] = _infer_fill_value(value)\n",
      "/opt/conda/lib/python3.7/site-packages/pandas/core/indexing.py:1765: SettingWithCopyWarning: \n",
      "A value is trying to be set on a copy of a slice from a DataFrame.\n",
      "Try using .loc[row_indexer,col_indexer] = value instead\n",
      "\n",
      "See the caveats in the documentation: https://pandas.pydata.org/pandas-docs/stable/user_guide/indexing.html#returning-a-view-versus-a-copy\n",
      "  isetter(loc, value)\n"
     ]
    },
    {
     "data": {
      "text/plain": [
       "feedback\n",
       "太简单了     588\n",
       "太难了     1178\n",
       "dtype: int64"
      ]
     },
     "execution_count": 30,
     "metadata": {},
     "output_type": "execute_result"
    }
   ],
   "source": [
    "def_user_all = fdk_user[(fdk_user.is_default_level == 1.0)]\n",
    "def_user_all.loc[(def_user_all['feedback_answer_new'] == \"401\"), 'feedback'] = '太难了'\n",
    "def_user_all.loc[(def_user_all['feedback_answer_new'] == \"402\"), 'feedback'] = '太简单了'\n",
    "def_user_all.groupby(['feedback']).size()"
   ]
  },
  {
   "cell_type": "code",
   "execution_count": 31,
   "metadata": {
    "cell_id": 67
   },
   "outputs": [
    {
     "data": {
      "text/html": [
       "<div>\n",
       "<style scoped>\n",
       "    .dataframe tbody tr th:only-of-type {\n",
       "        vertical-align: middle;\n",
       "    }\n",
       "\n",
       "    .dataframe tbody tr th {\n",
       "        vertical-align: top;\n",
       "    }\n",
       "\n",
       "    .dataframe thead th {\n",
       "        text-align: right;\n",
       "    }\n",
       "</style>\n",
       "<table border=\"1\" class=\"dataframe\">\n",
       "  <thead>\n",
       "    <tr style=\"text-align: right;\">\n",
       "      <th></th>\n",
       "      <th>user_id</th>\n",
       "      <th>ttl_exe</th>\n",
       "      <th>new_index</th>\n",
       "      <th>new_mile_stone</th>\n",
       "    </tr>\n",
       "  </thead>\n",
       "  <tbody>\n",
       "    <tr>\n",
       "      <th>0</th>\n",
       "      <td>3.430103e+15</td>\n",
       "      <td>6</td>\n",
       "      <td>0</td>\n",
       "      <td>21010.0</td>\n",
       "    </tr>\n",
       "    <tr>\n",
       "      <th>1</th>\n",
       "      <td>3.043080e+15</td>\n",
       "      <td>4</td>\n",
       "      <td>1</td>\n",
       "      <td>21010.0</td>\n",
       "    </tr>\n",
       "    <tr>\n",
       "      <th>2</th>\n",
       "      <td>3.254192e+15</td>\n",
       "      <td>7</td>\n",
       "      <td>2</td>\n",
       "      <td>21010.0</td>\n",
       "    </tr>\n",
       "    <tr>\n",
       "      <th>3</th>\n",
       "      <td>2.849554e+15</td>\n",
       "      <td>1</td>\n",
       "      <td>3</td>\n",
       "      <td>21010.0</td>\n",
       "    </tr>\n",
       "    <tr>\n",
       "      <th>4</th>\n",
       "      <td>9.847973e+14</td>\n",
       "      <td>9</td>\n",
       "      <td>4</td>\n",
       "      <td>21010.0</td>\n",
       "    </tr>\n",
       "  </tbody>\n",
       "</table>\n",
       "</div>"
      ],
      "text/plain": [
       "        user_id  ttl_exe  new_index  new_mile_stone\n",
       "0  3.430103e+15        6          0         21010.0\n",
       "1  3.043080e+15        4          1         21010.0\n",
       "2  3.254192e+15        7          2         21010.0\n",
       "3  2.849554e+15        1          3         21010.0\n",
       "4  9.847973e+14        9          4         21010.0"
      ]
     },
     "execution_count": 31,
     "metadata": {},
     "output_type": "execute_result"
    }
   ],
   "source": [
    "new_df.head()"
   ]
  },
  {
   "cell_type": "code",
   "execution_count": 32,
   "metadata": {
    "cell_id": 33
   },
   "outputs": [
    {
     "data": {
      "text/html": [
       "<div>\n",
       "<style scoped>\n",
       "    .dataframe tbody tr th:only-of-type {\n",
       "        vertical-align: middle;\n",
       "    }\n",
       "\n",
       "    .dataframe tbody tr th {\n",
       "        vertical-align: top;\n",
       "    }\n",
       "\n",
       "    .dataframe thead th {\n",
       "        text-align: right;\n",
       "    }\n",
       "</style>\n",
       "<table border=\"1\" class=\"dataframe\">\n",
       "  <thead>\n",
       "    <tr style=\"text-align: right;\">\n",
       "      <th></th>\n",
       "      <th>user_id</th>\n",
       "      <th>feedback_answer_new</th>\n",
       "      <th>is_default_level</th>\n",
       "      <th>lesson_level</th>\n",
       "      <th>role</th>\n",
       "      <th>feedback</th>\n",
       "      <th>ttl_exe</th>\n",
       "      <th>new_index</th>\n",
       "      <th>new_mile_stone</th>\n",
       "    </tr>\n",
       "  </thead>\n",
       "  <tbody>\n",
       "    <tr>\n",
       "      <th>0</th>\n",
       "      <td>3430103318019351</td>\n",
       "      <td>NaN</td>\n",
       "      <td>NaN</td>\n",
       "      <td>NaN</td>\n",
       "      <td>NaN</td>\n",
       "      <td>NaN</td>\n",
       "      <td>6</td>\n",
       "      <td>0</td>\n",
       "      <td>21010.0</td>\n",
       "    </tr>\n",
       "    <tr>\n",
       "      <th>1</th>\n",
       "      <td>3043079722116622</td>\n",
       "      <td>NaN</td>\n",
       "      <td>NaN</td>\n",
       "      <td>NaN</td>\n",
       "      <td>NaN</td>\n",
       "      <td>NaN</td>\n",
       "      <td>4</td>\n",
       "      <td>1</td>\n",
       "      <td>21010.0</td>\n",
       "    </tr>\n",
       "    <tr>\n",
       "      <th>2</th>\n",
       "      <td>3254192456604205</td>\n",
       "      <td>NaN</td>\n",
       "      <td>NaN</td>\n",
       "      <td>NaN</td>\n",
       "      <td>NaN</td>\n",
       "      <td>NaN</td>\n",
       "      <td>7</td>\n",
       "      <td>2</td>\n",
       "      <td>21010.0</td>\n",
       "    </tr>\n",
       "    <tr>\n",
       "      <th>3</th>\n",
       "      <td>2849554127664551</td>\n",
       "      <td>NaN</td>\n",
       "      <td>NaN</td>\n",
       "      <td>NaN</td>\n",
       "      <td>NaN</td>\n",
       "      <td>NaN</td>\n",
       "      <td>1</td>\n",
       "      <td>3</td>\n",
       "      <td>21010.0</td>\n",
       "    </tr>\n",
       "    <tr>\n",
       "      <th>4</th>\n",
       "      <td>984797323210264</td>\n",
       "      <td>NaN</td>\n",
       "      <td>NaN</td>\n",
       "      <td>NaN</td>\n",
       "      <td>NaN</td>\n",
       "      <td>NaN</td>\n",
       "      <td>9</td>\n",
       "      <td>4</td>\n",
       "      <td>21010.0</td>\n",
       "    </tr>\n",
       "  </tbody>\n",
       "</table>\n",
       "</div>"
      ],
      "text/plain": [
       "            user_id feedback_answer_new  is_default_level lesson_level role  \\\n",
       "0  3430103318019351                 NaN               NaN          NaN  NaN   \n",
       "1  3043079722116622                 NaN               NaN          NaN  NaN   \n",
       "2  3254192456604205                 NaN               NaN          NaN  NaN   \n",
       "3  2849554127664551                 NaN               NaN          NaN  NaN   \n",
       "4   984797323210264                 NaN               NaN          NaN  NaN   \n",
       "\n",
       "  feedback  ttl_exe  new_index  new_mile_stone  \n",
       "0      NaN        6          0         21010.0  \n",
       "1      NaN        4          1         21010.0  \n",
       "2      NaN        7          2         21010.0  \n",
       "3      NaN        1          3         21010.0  \n",
       "4      NaN        9          4         21010.0  "
      ]
     },
     "execution_count": 32,
     "metadata": {},
     "output_type": "execute_result"
    }
   ],
   "source": [
    "result = pd.merge(def_user_all, new_df, 'right' , on ='user_id')\n",
    "result.head()"
   ]
  },
  {
   "cell_type": "code",
   "execution_count": 33,
   "metadata": {
    "cell_id": 34
   },
   "outputs": [
    {
     "data": {
      "text/plain": [
       "93991"
      ]
     },
     "execution_count": 33,
     "metadata": {},
     "output_type": "execute_result"
    }
   ],
   "source": [
    "len(new_df)"
   ]
  },
  {
   "cell_type": "code",
   "execution_count": 34,
   "metadata": {
    "cell_id": 35
   },
   "outputs": [
    {
     "data": {
      "text/plain": [
       "94006"
      ]
     },
     "execution_count": 34,
     "metadata": {},
     "output_type": "execute_result"
    }
   ],
   "source": [
    "len(result)"
   ]
  },
  {
   "cell_type": "code",
   "execution_count": 35,
   "metadata": {
    "cell_id": 68
   },
   "outputs": [
    {
     "data": {
      "text/plain": [
       "new_mile_stone  feedback\n",
       "21010.0         太简单了         99\n",
       "                太难了         764\n",
       "21020.0         太简单了          3\n",
       "                太难了           1\n",
       "21030.0         太简单了          5\n",
       "                太难了           3\n",
       "22010.0         太简单了         20\n",
       "                太难了          14\n",
       "23010.0         太简单了         46\n",
       "                太难了          11\n",
       "23030.0         太简单了          8\n",
       "dtype: int64"
      ]
     },
     "execution_count": 35,
     "metadata": {},
     "output_type": "execute_result"
    }
   ],
   "source": [
    "result.groupby(['new_mile_stone' ,'feedback']).size()"
   ]
  },
  {
   "cell_type": "code",
   "execution_count": 86,
   "metadata": {
    "cell_id": 69
   },
   "outputs": [
    {
     "data": {
      "text/plain": [
       "0.014544360298911681"
      ]
     },
     "execution_count": 86,
     "metadata": {},
     "output_type": "execute_result"
    }
   ],
   "source": [
    "(159+711)/( 59817)"
   ]
  },
  {
   "cell_type": "code",
   "execution_count": 87,
   "metadata": {
    "cell_id": 70
   },
   "outputs": [
    {
     "data": {
      "text/plain": [
       "0.0026581072270424797"
      ]
     },
     "execution_count": 87,
     "metadata": {},
     "output_type": "execute_result"
    }
   ],
   "source": [
    "(159)/(59817)"
   ]
  },
  {
   "cell_type": "code",
   "execution_count": 88,
   "metadata": {
    "cell_id": 71
   },
   "outputs": [
    {
     "data": {
      "text/plain": [
       "0.011886253071869201"
      ]
     },
     "execution_count": 88,
     "metadata": {},
     "output_type": "execute_result"
    }
   ],
   "source": [
    "(711)/(59817)"
   ]
  },
  {
   "cell_type": "code",
   "execution_count": 89,
   "metadata": {
    "cell_id": 72
   },
   "outputs": [
    {
     "data": {
      "text/plain": [
       "0.9854556397010883"
      ]
     },
     "execution_count": 89,
     "metadata": {},
     "output_type": "execute_result"
    }
   ],
   "source": [
    "(59817 - 711-159)/(59817)"
   ]
  },
  {
   "cell_type": "code",
   "execution_count": 228,
   "metadata": {
    "cell_id": 36
   },
   "outputs": [],
   "source": [
    "result.to_csv(r'./mile_stone_result.csv', encoding='utf_8_sig')"
   ]
  }
 ],
 "metadata": {
  "kernelspec": {
   "display_name": "Python 3",
   "language": "python",
   "name": "python3"
  },
  "language_info": {
   "codemirror_mode": {
    "name": "ipython",
    "version": 3
   },
   "file_extension": ".py",
   "mimetype": "text/x-python",
   "name": "python",
   "nbconvert_exporter": "python",
   "pygments_lexer": "ipython3",
   "version": "3.7.9"
  },
  "max_cell_id": 151
 },
 "nbformat": 4,
 "nbformat_minor": 4
}
